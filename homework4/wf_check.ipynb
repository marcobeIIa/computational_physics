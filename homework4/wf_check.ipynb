{
 "cells": [
  {
   "cell_type": "code",
   "execution_count": 220,
   "metadata": {
    "lines_to_next_cell": 2
   },
   "outputs": [
    {
     "data": {
      "text/plain": [
       "<matplotlib.legend.Legend at 0x12484cb90>"
      ]
     },
     "execution_count": 220,
     "metadata": {},
     "output_type": "execute_result"
    },
    {
     "data": {
      "image/png": "[encoded data removed]",
      "text/plain": [
       "<Figure size 640x480 with 1 Axes>"
      ]
     },
     "metadata": {},
     "output_type": "display_data"
    }
   ],
   "source": [
    "import kinetic_energy as kin\n",
    "import numpy as np\n",
    "import phi\n",
    "import importlib\n",
    "from functools import partial\n",
    "import matplotlib.pyplot as plt\n",
    "N_test = 3  \n",
    "importlib.reload(kin)\n",
    "N_test = 5\n",
    "sigma = 1\n",
    "box_size=1\n",
    "mb_lusva_normalisation = (sigma**2*np.pi)**(1/2)\n",
    "#totla wf's\n",
    "wavefunction = phi.functchoicejastrow(N_test)\n",
    "wf_mb = partial(kin.total_wf, N=N_test, N_up= N_test//2, sigma = sigma, b_par = phi.jauu, b_orth = phi.jbuu)\n",
    "\n",
    "m=-1\n",
    "single_particle_wf = phi.single_wf_choice(m)\n",
    "s_p_wf_mb = partial(kin.single_particle_wf, m=m, sigma = sigma)\n",
    "\n",
    "wf_value_lusva= np.zeros(100)\n",
    "wf_value_mb= np.zeros(100)\n",
    "\n",
    "r_test = np.random.uniform(-1, 1, size=(2,))\n",
    "for i in range(100):\n",
    "    r_test= r_test + i/200  # Example positions for testing  \n",
    "    wf_value_lusva[i] = single_particle_wf(r_test[0],r_test[1],b=sigma)/mb_lusva_normalisation #we use different normalisation but single-particle wf are compatible\n",
    "    wf_value_mb[i] = s_p_wf_mb(r=r_test)\n",
    "plt.plot(wf_value_lusva, label='Lusva Wavefunction')    \n",
    "plt.plot(wf_value_mb, label='MB Wavefunction')\n",
    "plt.legend()"
   ]
  },
  {
   "cell_type": "code",
   "execution_count": 221,
   "metadata": {
    "lines_to_next_cell": 2
   },
   "outputs": [
    {
     "name": "stdout",
     "output_type": "stream",
     "text": [
      "spins are par 1\n"
     ]
    },
    {
     "ename": "UnboundLocalError",
     "evalue": "cannot access local variable 'jastrow_log' where it is not associated with a value",
     "output_type": "error",
     "traceback": [
      "\u001b[31m---------------------------------------------------------------------------\u001b[39m",
      "\u001b[31mUnboundLocalError\u001b[39m                         Traceback (most recent call last)",
      "\u001b[36mCell\u001b[39m\u001b[36m \u001b[39m\u001b[32mIn[221]\u001b[39m\u001b[32m, line 31\u001b[39m\n\u001b[32m     29\u001b[39m         wf_value_lusva[i] = slater_lusva(R_test, sigma)/mb_lusva_normalisation**N\n\u001b[32m     30\u001b[39m \u001b[38;5;66;03m#    wf_value_mb[i] = slater_mb(R_test_T)\u001b[39;00m\n\u001b[32m---> \u001b[39m\u001b[32m31\u001b[39m     phi,slat_up,slat_down = \u001b[43mwf_mb\u001b[49m\u001b[43m(\u001b[49m\u001b[43mR\u001b[49m\u001b[43m=\u001b[49m\u001b[43mR_test_T\u001b[49m\u001b[43m)\u001b[49m\n\u001b[32m     32\u001b[39m     wf_value_mb[i]= slat_up*slat_down\n\u001b[32m     33\u001b[39m plt.plot(wf_value_lusva, label=\u001b[33m'\u001b[39m\u001b[33mLusva Wavefunction\u001b[39m\u001b[33m'\u001b[39m)    \n",
      "\u001b[36mFile \u001b[39m\u001b[32m~/uni/2_computational/computational_physics/homework4/kinetic_energy.py:242\u001b[39m, in \u001b[36mtotal_wf\u001b[39m\u001b[34m(N, N_up, R, sigma, b_par, b_orth, use_chi, return_A)\u001b[39m\n\u001b[32m    240\u001b[39m          bij = b_ij(spin_alignment, b_par, b_orth)\n\u001b[32m    241\u001b[39m          aij = a_ij(spin_alignment)\n\u001b[32m--> \u001b[39m\u001b[32m242\u001b[39m          \u001b[43mjastrow_log\u001b[49m += aij * r_ij / (\u001b[32m1\u001b[39m + bij * r_ij)\n\u001b[32m    243\u001b[39m  jastrow_factor = np.exp(jastrow_log)\n\u001b[32m    244\u001b[39m \u001b[38;5;66;03m# print(\"full jastrow mb\",jastrow_factor)\u001b[39;00m\n",
      "\u001b[31mUnboundLocalError\u001b[39m: cannot access local variable 'jastrow_log' where it is not associated with a value"
     ]
    }
   ],
   "source": [
    "#slaters\n",
    "N = 6\n",
    "slater_lusva = phi.functchoice(N)\n",
    "\n",
    "#mb\n",
    "from functools import partial\n",
    "phi0 =  partial(kin.single_particle_wf, m=0, sigma = sigma)\n",
    "phi_plus =  partial(kin.single_particle_wf, m=1, sigma = sigma)\n",
    "phi_minus =  partial(kin.single_particle_wf, m=-1, sigma = sigma)\n",
    "\n",
    "N_up = kin.N_up_choice(N)\n",
    "slater_up = partial(kin.slater_det, M = N_up, phi1 = phi0, phi2= phi_plus, phi3 = phi_minus, return_A = False)\n",
    "slater_down = partial(kin.slater_det, M = N-N_up, phi1 = phi0, phi2= phi_plus, phi3 = phi_minus, return_A = False)\n",
    "slater_mb = lambda R: slater_up(R=R[:N_up]) * slater_down(R=R[N_up:])\n",
    "\n",
    "wf_mb = partial(kin.total_wf, N=N, N_up= kin.N_up_choice(N), sigma = sigma, b_par = phi.jbuu, b_orth = phi.jbud,return_A=False)\n",
    "\n",
    "\n",
    "wf_value_lusva= np.zeros(100)\n",
    "wf_value_mb= np.zeros(100)\n",
    "R_test = np.random.uniform(0, box_size, size=(2,N))\n",
    "\n",
    "for i in range(100):\n",
    "    R_test[1][N-1] = R_test[1][N-1] + i/200  # Example positions for testing  \n",
    "    R_test_T = R_test.T\n",
    "    if N == 1:\n",
    "        wf_value_lusva[i] = slater_lusva(R_test[0],R_test[1], sigma)/mb_lusva_normalisation\n",
    "    else:\n",
    "        wf_value_lusva[i] = slater_lusva(R_test, sigma)/mb_lusva_normalisation**N\n",
    "#    wf_value_mb[i] = slater_mb(R_test_T)\n",
    "    phi,slat_up,slat_down = wf_mb(R=R_test_T)\n",
    "    wf_value_mb[i]= slat_up*slat_down\n",
    "plt.plot(wf_value_lusva, label='Lusva Wavefunction')    \n",
    "plt.plot(wf_value_mb, label='MB Wavefunction', linestyle='--')\n",
    "plt.legend()"
   ]
  },
  {
   "cell_type": "code",
   "execution_count": 223,
   "metadata": {},
   "outputs": [
    {
     "name": "stdout",
     "output_type": "stream",
     "text": [
      "spins are par 1\n"
     ]
    },
    {
     "name": "stderr",
     "output_type": "stream",
     "text": [
      "/Users/bellamarco01/uni/2_computational/computational_physics/homework4/kinetic_energy.py:455: SyntaxWarning: invalid escape sequence '\\s'\n",
      "  - laplacian : float, estimate of \\sum_i \\nabla^2_i Psi(R)\n"
     ]
    },
    {
     "ename": "UnboundLocalError",
     "evalue": "cannot access local variable 'jastrow_log' where it is not associated with a value",
     "output_type": "error",
     "traceback": [
      "\u001b[31m---------------------------------------------------------------------------\u001b[39m",
      "\u001b[31mUnboundLocalError\u001b[39m                         Traceback (most recent call last)",
      "\u001b[36mCell\u001b[39m\u001b[36m \u001b[39m\u001b[32mIn[223]\u001b[39m\u001b[32m, line 16\u001b[39m\n\u001b[32m     14\u001b[39m     R_test_T = R_test.T\n\u001b[32m     15\u001b[39m     tot_wf_value_lusva[i] = wavefunction(R_test, sigma)/mb_lusva_normalisation**N\n\u001b[32m---> \u001b[39m\u001b[32m16\u001b[39m     tot_wf_value_mb[i] =\u001b[43mwf_mb\u001b[49m\u001b[43m(\u001b[49m\u001b[43mR\u001b[49m\u001b[43m=\u001b[49m\u001b[43mR_test_T\u001b[49m\u001b[43m)\u001b[49m[\u001b[32m0\u001b[39m]\n\u001b[32m     17\u001b[39m plt.plot(tot_wf_value_lusva, label=\u001b[33m'\u001b[39m\u001b[33mLusva Wavefunction\u001b[39m\u001b[33m'\u001b[39m)    \n\u001b[32m     18\u001b[39m plt.plot(tot_wf_value_mb, label=\u001b[33m'\u001b[39m\u001b[33mMB Wavefunction\u001b[39m\u001b[33m'\u001b[39m, linestyle=\u001b[33m'\u001b[39m\u001b[33m--\u001b[39m\u001b[33m'\u001b[39m)\n",
      "\u001b[36mFile \u001b[39m\u001b[32m~/uni/2_computational/computational_physics/homework4/kinetic_energy.py:242\u001b[39m, in \u001b[36mtotal_wf\u001b[39m\u001b[34m(N, N_up, R, sigma, b_par, b_orth, use_chi, return_A)\u001b[39m\n\u001b[32m    240\u001b[39m          bij = b_ij(spin_alignment, b_par, b_orth)\n\u001b[32m    241\u001b[39m          aij = a_ij(spin_alignment)\n\u001b[32m--> \u001b[39m\u001b[32m242\u001b[39m          \u001b[43mjastrow_log\u001b[49m += aij * r_ij / (\u001b[32m1\u001b[39m + bij * r_ij)\n\u001b[32m    243\u001b[39m  jastrow_factor = np.exp(jastrow_log)\n\u001b[32m    244\u001b[39m \u001b[38;5;66;03m# print(\"full jastrow mb\",jastrow_factor)\u001b[39;00m\n",
      "\u001b[31mUnboundLocalError\u001b[39m: cannot access local variable 'jastrow_log' where it is not associated with a value"
     ]
    }
   ],
   "source": [
    "import importlib\n",
    "\n",
    "importlib.reload(kin)\n",
    "importlib.reload(phi)\n",
    "N = 3\n",
    "tot_wf_value_lusva= np.zeros(100)\n",
    "tot_wf_value_mb= np.zeros(100)\n",
    "wavefunction = phi.functchoicejastrow(N)\n",
    "wf_mb = partial(kin.total_wf, N=N, N_up= kin.N_up_choice(N), sigma = sigma, b_par = phi.jbuu, b_orth = phi.jbud)\n",
    "R_test = np.random.uniform(0, box_size*2, size=(2,N))\n",
    "n_sample=100\n",
    "for i in range(n_sample):\n",
    "    R_test[1][N-1] = R_test[1][N-1] + i/(5*n_sample) # Example positions for testing  \n",
    "    R_test_T = R_test.T\n",
    "    tot_wf_value_lusva[i] = wavefunction(R_test, sigma)/mb_lusva_normalisation**N\n",
    "    tot_wf_value_mb[i] =wf_mb(R=R_test_T)[0]\n",
    "plt.plot(tot_wf_value_lusva, label='Lusva Wavefunction')    \n",
    "plt.plot(tot_wf_value_mb, label='MB Wavefunction', linestyle='--')\n",
    "plt.legend()"
   ]
  },
  {
   "cell_type": "code",
   "execution_count": null,
   "metadata": {},
   "outputs": [],
   "source": []
  }
 ],
 "metadata": {
  "jupytext": {
   "formats": "ipynb,py:percent"
  },
  "kernelspec": {
   "display_name": "Python 3",
   "language": "python",
   "name": "python3"
  },
  "language_info": {
   "codemirror_mode": {
    "name": "ipython",
    "version": 3
   },
   "file_extension": ".py",
   "mimetype": "text/x-python",
   "name": "python",
   "nbconvert_exporter": "python",
   "pygments_lexer": "ipython3",
   "version": "3.13.5"
  }
 },
 "nbformat": 4,
 "nbformat_minor": 2
}
