{
 "cells": [
  {
   "cell_type": "code",
   "execution_count": 5,
   "metadata": {
    "lines_to_next_cell": 2
   },
   "outputs": [
    {
     "name": "stderr",
     "output_type": "stream",
     "text": [
      "Matplotlib is building the font cache; this may take a moment.\n"
     ]
    }
   ],
   "source": [
    "import numpy as np\n",
    "import scipy\n",
    "import sys\n",
    "import math\n",
    "import scipy.special\n",
    "import scipy.constants as const\n",
    "from math import factorial\n",
    "from scipy.special import hermite\n",
    "import matplotlib.pyplot as plt\n",
    "import random"
   ]
  },
  {
   "cell_type": "markdown",
   "id": "4bef1d3a",
   "metadata": {},
   "source": [
    "In order to find the values of $\\alpha$ that satisfy the cusp condition we notice that\n",
    "$$\\lim_{r_{ij}\\rightarrow 0}\\frac{H\\Psi}{\\Psi}<\\infty$$\n",
    "where $H=H_0+V$ ,is equivalent to \n",
    "$$\\lim_{r_{ij}\\rightarrow 0}\\frac{\\Psi'}{\\Psi}=\\frac{1}{2}r_{ij}V$$\n",
    "having\n",
    "$$V=\\frac{1}{2}\\omega^2r_i^2+\\frac{1}{r_{ij}}$$\n",
    "Substituting in this condition the Jastrow function for antiparallel spins and Jastrow function multiplied by $r$ fo parallel spins we find \n",
    "$$\\alpha_{\\uparrow\\downarrow}=\\frac{1}{2}$$\n",
    "$$\\alpha_{\\uparrow\\uparrow}=\\frac{1}{4}$$\n",
    "\n",
    "\n",
    "\n",
    "\n",
    "Since we are interested in the cases up to $N=6$ let us consider only the lower energy states in analitycal form, using the notation $\\phi_{nlm}$\n",
    "$$\\phi_{000}=\\frac{1}{\\sqrt{\\pi\\sigma^2}}e^{\\frac{r^2}{2\\sigma^2}}$$ \n",
    "$$\\phi_{01-1}=\\frac{1}{\\sqrt{\\pi\\sigma^2}}e^{\\frac{r^2}{2\\sigma^2}}\\left(\\frac{r}{\\sigma}\\right)e^{-i\\varphi}$$ \n",
    "$$\\phi_{011}=\\frac{1}{\\sqrt{\\pi\\sigma^2}}e^{\\frac{r^2}{2\\sigma^2}}\\left(\\frac{r}{\\sigma}\\right)e^{i\\varphi}$$ \n",
    "Now we can write \n",
    "$$e^{i\\varphi}=cos\\varphi+isin\\varphi=\\frac{x}{\\sqrt{x^2+y^2}}+i\\frac{y}{\\sqrt{x^2+y^2}}$$\n",
    "$$e^{-i\\varphi}=cos\\varphi-isin\\varphi=\\frac{x}{\\sqrt{x^2+y^2}}-i\\frac{y}{\\sqrt{x^2+y^2}}$$\n",
    "And so we find\n",
    "$$\\phi_{000}=\\frac{1}{\\sqrt{\\pi\\sigma^2}}e^{\\frac{x^2+y^2}{2\\sigma^2}}$$ \n",
    "$$\\phi_{01-1}=\\frac{1}{\\sqrt{\\pi\\sigma^2}}e^{\\frac{x^2+y^2}{2\\sigma^2}}\\left(\\frac{\\sqrt{x^2+y^2}}{\\sigma}\\right)\\left(\\frac{x}{\\sqrt{x^2+y^2}}-i\\frac{y}{\\sqrt{x^2+y^2}}\\right)=\\frac{1}{\\sqrt{\\pi\\sigma^2}}e^{\\frac{x^2+y^2}{2\\sigma^2}}\\left(\\frac{1}{\\sigma}\\right)\\left(x-iy\\right)$$ \n",
    "$$\\phi_{011}=\\frac{1}{\\sqrt{\\pi\\sigma^2}}e^{\\frac{x^2+y^2}{2\\sigma^2}}\\left(\\frac{\\sqrt{x^2+y^2}}{\\sigma}\\right)\\left(\\frac{x}{\\sqrt{x^2+y^2}}+i\\frac{y}{\\sqrt{x^2+y^2}}\\right)=\\frac{1}{\\sqrt{\\pi\\sigma^2}}e^{\\frac{x^2+y^2}{2\\sigma^2}}\\left(\\frac{1}{\\sigma}\\right)\\left(x+iy\\right)$$ \n",
    "\n",
    "In the end we can construct two new orbitals, namely\n",
    "$$\\chi_+=\\frac{\\phi_{011}+\\phi_{01-1}}{2}=\\frac{1}{\\sqrt{\\pi\\sigma^2}}e^{\\frac{x^2+y^2}{2\\sigma^2}}x$$\n",
    "$$\\chi_-=\\frac{\\phi_{011}-\\phi_{01-1}}{2i}=\\frac{1}{\\sqrt{\\pi\\sigma^2}}e^{\\frac{x^2+y^2}{2\\sigma^2}}y$$"
   ]
  },
  {
   "cell_type": "code",
   "execution_count": null,
   "id": "4b1fbea2",
   "metadata": {},
   "outputs": [],
   "source": [
    "N=6\n",
    "omega=1"
   ]
  },
  {
   "cell_type": "code",
   "execution_count": null,
   "id": "d6fd0b21",
   "metadata": {},
   "outputs": [],
   "source": [
    "def Slaterdet(N,s,x1,y1,x2,y2,x3,y3,phi,chip,chim):\n",
    "    A = [[(1/math.factorial(N))*phi(x1,y1,s), (1/math.factorial(N))*chip(x1,y1,s), (1/math.factorial(N))*chim(x1,y1,s)], \n",
    "         [(1/math.factorial(N))*phi(x2,y2,s), (1/math.factorial(N))*chip(x2,y2,s), (1/math.factorial(N))*chim(x2,y2,s)],\n",
    "         [(1/math.factorial(N))*phi(x3,y3,s), (1/math.factorial(N))*chip(x3,y3,s), (1/math.factorial(N))*chim(x3,y3,s)]] \n",
    "    return np.linalg.det(A)"
   ]
  },
  {
   "cell_type": "code",
   "execution_count": null,
   "id": "92053194",
   "metadata": {},
   "outputs": [],
   "source": [
    "def Slaterinv(N,s,x1,y1,x2,y2,x3,y3,phi,chip,chim):\n",
    "    A = [[(1/math.factorial(N))*phi(x1,y1,s), (1/math.factorial(N))*chip(x1,y1,s), (1/math.factorial(N))*chim(x1,y1,s)], \n",
    "         [(1/math.factorial(N))*phi(x2,y2,s), (1/math.factorial(N))*chip(x2,y2,s), (1/math.factorial(N))*chim(x2,y2,s)],\n",
    "         [(1/math.factorial(N))*phi(x3,y3,s), (1/math.factorial(N))*chip(x3,y3,s), (1/math.factorial(N))*chim(x3,y3,s)]] \n",
    "    \n",
    "    return np.linalg.inv(A)\n",
    "\n",
    "%%ctorial(N))*phi0(r[0],r[1],s), (1/math.factorial(N))*chip(r[0],r[1],s)], \n",
    "            [(1/math.factorial(N))*phi0(r[2],r[3],s), (1/math.factorial(N))*chip(r[2],r[3],s)]]\n",
    "        return np.linalg.det(A)*phi0(r[4],r[6],s)\n",
    "    elif N==4:\n",
    "        A= [[(1/math.factorial(N))*phi0(r[0],r[1],s), (1/math.factorial(N))*chip(r[0],r[1],s)], \n",
    "            [(1/math.factorial(N))*phi0(r[2],r[3],s), (1/math.factorial(N))*chip(r[2],r[3],s)]]\n",
    "        B= [[(1/math.factorial(N))*phi0(r[4],r[5],s), (1/math.factorial(N))*chip(r[4],r[5],s)], \n",
    "            [(1/math.factorial(N))*phi0(r[6],r[7],s), (1/math.factorial(N))*chip(r[6],r[7],s)]]\n",
    "        return np.linalg.det(A)*np.linalg.det(B)\n",
    "    elif N==5:\n",
    "        A = [[(1/math.factorial(N))*phi0(r[0],r[1],s), (1/math.factorial(N))*chip(r[0],r[1],s), (1/math.factorial(N))*chim(r[0],r[1],s)], \n",
    "             [(1/math.factorial(N))*phi0(r[2],r[3],s), (1/math.factorial(N))*chip(r[2],r[3],s), (1/math.factorial(N))*chim(r[2],r[3],s)],\n",
    "             [(1/math.factorial(N))*phi0(r[4],r[5],s), (1/math.factorial(N))*chip(r[4],r[5],s), (1/math.factorial(N))*chim(r[4],r[5],s)]]\n",
    "        B= [[(1/math.factorial(N))*phi0(r[6],r[7],s), (1/math.factorial(N))*chip(r[6],r[7],s)], \n",
    "            [(1/math.factorial(N))*phi0(r[8],r[9],s), (1/math.factorial(N))*chip(r[8],r[9],s)]]\n",
    "        return np.linalg.det(A)*np.linalg.det(B)\n",
    "    elif N==6:\n",
    "        A = [[(1/math.factorial(N))*phi0(r[0],r[1],s), (1/math.factorial(N))*chip(r[0],r[1],s), (1/math.factorial(N))*chim(r[0],r[1],s)], \n",
    "             [(1/math.factorial(N))*phi0(r[2],r[3],s), (1/math.factorial(N))*chip(r[2],r[3],s), (1/math.factorial(N))*chim(r[2],r[3],s)],\n",
    "             [(1/math.factorial(N))*phi0(r[4],r[5],s), (1/math.factorial(N))*chip(r[4],r[5],s), (1/math.factorial(N))*chim(r[4],r[5],s)]]\n",
    "        B = [[(1/math.factorial(N))*phi0(r[6],r[7],s), (1/math.factorial(N))*chip(r[6],r[7],s), (1/math.factorial(N))*chim(r[6],r[7],s)], \n",
    "             [(1/math.factorial(N))*phi0(r[8],r[9],s), (1/math.factorial(N))*chip(r[8],r[9],s), (1/math.factorial(N))*chim(r[8],r[9],s)],\n",
    "             [(1/math.factorial(N))*phi0(r[10],r[11],s), (1/math.factorial(N))*chip(r[10],r[11],s), (1/math.factorial(N))*chim(r[10],r[11],s)]]\n",
    "        return np.linalg.det(A)*np.linalg.det(B)\n",
    "        \n"
   ]
  },
  {
   "cell_type": "code",
   "execution_count": null,
   "id": "fb40b8fe",
   "metadata": {},
   "outputs": [],
   "source": [
    "#Metropolis\n",
    "def Metropolis(r,N, delta, psi, s,phi0,chip,chim,counter, acc):\n",
    "    rn=r\n",
    "    a=random.uniform(0,1)\n",
    "    b=random.randint(0,2*N-1)\n",
    "    rn[b]= r[b]+delta*(a-0.5)\n",
    "    p=psi(phi0,chip,chim,N,r,s)**2/psi(phi0,chip,chim,N,r,s)**2\n",
    "    if p>1:\n",
    "        r[b]= rn[b]\n",
    "        acc+=1\n",
    "    else:\n",
    "        xi=random.uniform(0,1)\n",
    "        if p>xi:\n",
    "            r[b]= rn[b]\n",
    "            acc+=1\n",
    "\n",
    "    counter+=1\n",
    "    return r, acc, counter"
   ]
  },
  {
   "cell_type": "code",
   "execution_count": null,
   "id": "9beb9f00",
   "metadata": {},
   "outputs": [],
   "source": [
    "def adjust_delta(delta, acceptance_rate):\n",
    "    if acceptance_rate > 0.6:\n",
    "        delta *= 1.1  # Increase delta by 10%\n",
    "    elif acceptance_rate < 0.4:\n",
    "        delta *= 0.9  # Decrease delta by 10%\n",
    "    return delta\n",
    "\n",
    "def phi0(x, y, s):\n",
    "    return (1/np.sqrt(np.pi*s**2))*math.exp((x**2+y**2)/(2*s**2))\n",
    "\n",
    "def chiplus(x, y, s):\n",
    "    return (1/np.sqrt(np.pi*s**2))*math.exp((x**2+y**2)/(2*s**2))*x\n",
    "\n",
    "def chiminus(x, y, s):\n",
    "    return (1/np.sqrt(np.pi*s**2))*math.exp((x**2+y**2)/(2*s**2))*y\n",
    "\n",
    "def delta_choice(r,N,delta,s,N_delta,counter):\n",
    "  acc_rate=1\n",
    "  while acc_rate>0.6 or acc_rate<0.4:\n",
    "    acc,counter=0,0\n",
    "    for i in range(N_delta):\n",
    "      x0, acc,counter = Metropolis(r,N, delta, psi, s,phi0,chiplus,chiminus,counter, acc)\n",
    "    acc_rate=acc/counter\n",
    "    delta = adjust_delta(delta, acc_rate)\n",
    "    print(delta)\n",
    "\n",
    "  return delta"
   ]
  },
  {
   "cell_type": "code",
   "execution_count": null,
   "id": "b1e0a6e6",
   "metadata": {},
   "outputs": [],
   "source": [
    "acc, counter=0,0\n",
    "x0=random.uniform(0,1)\n",
    "delta=1\n",
    "passi=1000\n",
    "Neq=int(passi*1/50)\n",
    "N_delta=1000\n",
    "pos, acc_list=[],[]\n",
    "s=1\n",
    "r=np.zeros(12)\n",
    "for i in range(len(r)):\n",
    "    r[i]=random.uniform(0,7)\n",
    "    \n",
    "N=2"
   ]
  },
  {
   "cell_type": "code",
   "execution_count": null,
   "id": "93bc73ba",
   "metadata": {},
   "outputs": [],
   "source": [
    "delta = delta_choice(r,N,delta,s,N_delta,0)\n",
    "\n",
    "\n",
    "for i in range(passi):\n",
    "    x0, acc, counter = Metropolis(r,N, delta, psi, s,phi0,chiplus,chiminus,counter, acc)\n",
    "    pos.append(x0)\n",
    "    acc_list.append(acc/counter)\n",
    "\n"
   ]
  },
  {
   "cell_type": "code",
   "execution_count": null,
   "id": "504dee58",
   "metadata": {},
   "outputs": [],
   "source": [
    "plt.plot(np.array(range(passi)),acc_list)\n",
    "plt.title('Acceptance rate')"
   ]
  },
  {
   "cell_type": "code",
   "execution_count": null,
   "id": "2aebe106",
   "metadata": {},
   "outputs": [],
   "source": []
  }
 ],
 "metadata": {
  "jupytext": {
   "formats": "ipynb,py:percent"
  },
  "kernelspec": {
   "display_name": "Python 3",
   "language": "python",
   "name": "python3"
  },
  "language_info": {
   "codemirror_mode": {
    "name": "ipython",
    "version": 3
   },
   "file_extension": ".py",
   "mimetype": "text/x-python",
   "name": "python",
   "nbconvert_exporter": "python",
   "pygments_lexer": "ipython3",
   "version": "3.13.5"
  }
 },
 "nbformat": 4,
 "nbformat_minor": 2
}
