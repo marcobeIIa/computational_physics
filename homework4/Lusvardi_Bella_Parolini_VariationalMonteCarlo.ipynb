{
 "cells": [
  {
   "cell_type": "code",
   "execution_count": 1,
   "metadata": {},
   "outputs": [
    {
     "name": "stdout",
     "output_type": "stream",
     "text": [
      "tiocfaidh ar la v5\n"
     ]
    }
   ],
   "source": [
    "import numpy as np\n",
    "import scipy\n",
    "import sys\n",
    "import math\n",
    "import scipy.special\n",
    "import scipy.constants as const\n",
    "from math import factorial\n",
    "from scipy.special import hermite\n",
    "import matplotlib.pyplot as plt\n",
    "import random\n",
    "\n",
    "print('tiocfaidh ar la v5')"
   ]
  },
  {
   "attachments": {},
   "cell_type": "markdown",
   "metadata": {},
   "source": [
    "In order to find the values of $\\alpha$ that satisfy the cusp condition we notice that\n",
    "$$lim_{r_{ij}\\rightarrow 0}\\frac{H\\Psi}{\\Psi}<\\infty$$\n",
    "where $H=H_0+V$ ,is equivalent to \n",
    "$$lim_{r_{ij}\\rightarrow 0}\\frac{\\Psi'}{\\Psi}=\\frac{1}{2}r_{ij}V$$\n",
    "having\n",
    "$$V=\\frac{1}{2}\\omega^2r_i^2+\\frac{1}{r_{ij}}$$\n",
    "Substituting in this condition the Jastrow function for antiparallel spins and Jastrow function multiplied by $r$ fo parallel spins we find \n",
    "$$\\alpha_{\\uparrow\\downarrow}=\\frac{1}{2}$$\n",
    "$$\\alpha_{\\uparrow\\uparrow}=\\frac{1}{4}$$\n",
    "\n",
    "\n",
    "\n",
    "\n",
    "Since we are interested in the cases up to $N=6$ let's consider only the lower eergy states in analitycal form, using the notation $\\phi_{nlm}$\n",
    "$$\\phi_{000}=\\frac{1}{\\sqrt{\\pi\\sigma^2}}e^{\\frac{r^2}{2\\sigma^2}}$$ \n",
    "$$\\phi_{01-1}=\\frac{1}{\\sqrt{\\pi\\sigma^2}}e^{\\frac{r^2}{2\\sigma^2}}\\left(\\frac{r}{\\sigma}\\right)e^{-i\\varphi}$$ \n",
    "$$\\phi_{011}=\\frac{1}{\\sqrt{\\pi\\sigma^2}}e^{\\frac{r^2}{2\\sigma^2}}\\left(\\frac{r}{\\sigma}\\right)e^{i\\varphi}$$ \n",
    "Now we can write \n",
    "$$e^{i\\varphi}=cos\\varphi+isin\\varphi=\\frac{x}{\\sqrt{x^2+y^2}}+i\\frac{y}{\\sqrt{x^2+y^2}}$$\n",
    "$$e^{-i\\varphi}=cos\\varphi-isin\\varphi=\\frac{x}{\\sqrt{x^2+y^2}}-i\\frac{y}{\\sqrt{x^2+y^2}}$$\n",
    "And so we find\n",
    "$$\\phi_{000}=\\frac{1}{\\sqrt{\\pi\\sigma^2}}e^{\\frac{x^2+y^2}{2\\sigma^2}}$$ \n",
    "$$\\phi_{01-1}=\\frac{1}{\\sqrt{\\pi\\sigma^2}}e^{\\frac{x^2+y^2}{2\\sigma^2}}\\left(\\frac{\\sqrt{x^2+y^2}}{\\sigma}\\right)\\left(\\frac{x}{\\sqrt{x^2+y^2}}-i\\frac{y}{\\sqrt{x^2+y^2}}\\right)=\\frac{1}{\\sqrt{\\pi\\sigma^2}}e^{\\frac{x^2+y^2}{2\\sigma^2}}\\left(\\frac{1}{\\sigma}\\right)\\left(x-iy\\right)$$ \n",
    "$$\\phi_{011}=\\frac{1}{\\sqrt{\\pi\\sigma^2}}e^{\\frac{x^2+y^2}{2\\sigma^2}}\\left(\\frac{\\sqrt{x^2+y^2}}{\\sigma}\\right)\\left(\\frac{x}{\\sqrt{x^2+y^2}}+i\\frac{y}{\\sqrt{x^2+y^2}}\\right)=\\frac{1}{\\sqrt{\\pi\\sigma^2}}e^{\\frac{x^2+y^2}{2\\sigma^2}}\\left(\\frac{1}{\\sigma}\\right)\\left(x+iy\\right)$$ \n",
    "\n",
    "In the end we can construct two new orbitals, namely\n",
    "$$\\chi_+=\\frac{\\phi_{011}+\\phi_{01-1}}{2}=\\frac{1}{\\sqrt{\\pi\\sigma^2}}e^{\\frac{x^2+y^2}{2\\sigma^2}}\\frac{x}{\\sigma}$$\n",
    "$$\\chi_-=\\frac{\\phi_{011}-\\phi_{01-1}}{2i}=\\frac{1}{\\sqrt{\\pi\\sigma^2}}e^{\\frac{x^2+y^2}{2\\sigma^2}}\\frac{y}{\\sigma}$$"
   ]
  },
  {
   "cell_type": "code",
   "execution_count": 2,
   "metadata": {},
   "outputs": [],
   "source": [
    "N=6\n",
    "omega=1"
   ]
  },
  {
   "cell_type": "code",
   "execution_count": 3,
   "metadata": {},
   "outputs": [],
   "source": [
    "def Slaterdet(N,s,x1,y1,x2,y2,x3,y3,phi,chip,chim):\n",
    "    A = [[(1/math.factorial(N))*phi(x1,y1,s), (1/math.factorial(N))*chip(x1,y1,s), (1/math.factorial(N))*chim(x1,y1,s)], \n",
    "         [(1/math.factorial(N))*phi(x2,y2,s), (1/math.factorial(N))*chip(x2,y2,s), (1/math.factorial(N))*chim(x2,y2,s)],\n",
    "         [(1/math.factorial(N))*phi(x3,y3,s), (1/math.factorial(N))*chip(x3,y3,s), (1/math.factorial(N))*chim(x3,y3,s)]] \n",
    "    return np.linalg.det(A)"
   ]
  },
  {
   "cell_type": "code",
   "execution_count": null,
   "metadata": {},
   "outputs": [],
   "source": []
  },
  {
   "cell_type": "code",
   "execution_count": 4,
   "metadata": {},
   "outputs": [],
   "source": [
    "def Slaterinv(N,s,x1,y1,x2,y2,x3,y3,phi,chip,chim):\n",
    "    A = [[(1/math.factorial(N))*phi(x1,y1,s), (1/math.factorial(N))*chip(x1,y1,s), (1/math.factorial(N))*chim(x1,y1,s)], \n",
    "         [(1/math.factorial(N))*phi(x2,y2,s), (1/math.factorial(N))*chip(x2,y2,s), (1/math.factorial(N))*chim(x2,y2,s)],\n",
    "         [(1/math.factorial(N))*phi(x3,y3,s), (1/math.factorial(N))*chip(x3,y3,s), (1/math.factorial(N))*chim(x3,y3,s)]] \n",
    "    \n",
    "    return np.linalg.inv(A)\n",
    "\n",
    "def safe_invert_matrix_mb(A, rcond=1e-15):\n",
    "    \"\"\"\n",
    "    Computes a pseudoinverse if A is near-singular.\n",
    "\n",
    "    Parameters:\n",
    "    - A : (N x N) NumPy array\n",
    "    - rcond : Regularization threshold\n",
    "\n",
    "    Returns:\n",
    "    - A_inv : Inverse or pseudoinverse of A\n",
    "    \"\"\"\n",
    "    try:\n",
    "        return np.linalg.inv(A)\n",
    "    except np.linalg.LinAlgError:\n",
    "        print(\"Matrix is singular or ill-conditioned. Using pseudoinverse.\")\n",
    "        return np.linalg.pinv(A, rcond=rcond)\n"
   ]
  },
  {
   "cell_type": "code",
   "execution_count": 5,
   "metadata": {},
   "outputs": [],
   "source": [
    "#Metropolis\n",
    "def Metropolis(x01,y01,x02,y02,x03,y03, delta, phi, chip, chim, s,counter, acc):\n",
    "    a1=random.uniform(0,1)\n",
    "    x1= x01+delta*(a1-0.5)\n",
    "    b1=random.uniform(0,1)\n",
    "    y1= y01+delta*(b1-0.5)\n",
    "    a2=random.uniform(0,1)\n",
    "    x2= x02+delta*(a2-0.5)\n",
    "    b2=random.uniform(0,1)\n",
    "    y2= y02+delta*(b2-0.5)\n",
    "    a3=random.uniform(0,1)\n",
    "    x3= x03+delta*(a3-0.5)\n",
    "    b3=random.uniform(0,1)\n",
    "    y3= y03+delta*(b3-0.5)\n",
    "    p=Slaterdet(N,s,x1,y1,x2,y2,x3,y3,phi,chip,chim)**2/Slaterdet(N,s,x01,y01,x02,y02,x03,y03,phi,chip,chim)**2\n",
    "    if p>1:\n",
    "        x01=x1\n",
    "        y01=y1\n",
    "        x02=x2\n",
    "        y02=y2\n",
    "        x03=x3\n",
    "        y03=y3\n",
    "        acc+=1\n",
    "    else:\n",
    "        xi=random.uniform(0,1)\n",
    "        if p>xi:\n",
    "            x01=x1\n",
    "            y01=y1\n",
    "            x02=x2\n",
    "            y02=y2\n",
    "            x03=x3\n",
    "            y03=y3\n",
    "            acc+=1\n",
    "\n",
    "    counter+=1\n",
    "    return x01,y01,x02,y02,x03,y03, acc, counter\n",
    "\n",
    "\n",
    "\n",
    "def adjust_delta(delta, acceptance_rate):\n",
    "    if acceptance_rate > 0.6:\n",
    "        delta *= 1.1  # Increase delta by 10%\n",
    "    elif acceptance_rate < 0.4:\n",
    "        delta *= 0.9  # Decrease delta by 10%\n",
    "    return delta\n",
    "\n",
    "\n",
    "def phi0(x, y, s):\n",
    "    return (1/np.sqrt(np.pi*s**2))*math.exp((x**2+y**2)/(2*s**2))\n",
    "\n",
    "def chiplus(x, y, s):\n",
    "    return (1/np.sqrt(np.pi*s**2))*math.exp((x**2+y**2)/(2*s**2))*x/s\n",
    "\n",
    "def chiminus(x, y, s):\n",
    "    return (1/np.sqrt(np.pi*s**2))*math.exp((x**2+y**2)/(2*s**2))*y/s\n",
    "\n",
    "def delta_choice(x01,y01,x02,y02,x03,y03,delta,s,N_delta,counter):\n",
    "  acc_rate=1\n",
    "  while acc_rate>0.6 or acc_rate<0.4:\n",
    "    acc,counter=0,0\n",
    "    for i in range(N_delta):\n",
    "      x01,y01,x02,y02,x03,y03, acc,counter = Metropolis(x01,y01,x02,y02,x03,y03, delta, phi0, chiplus,chiminus, s,counter, acc)\n",
    "    acc_rate=acc/counter\n",
    "    delta = adjust_delta(delta, acc_rate)\n",
    "\n",
    "  return delta"
   ]
  },
  {
   "cell_type": "markdown",
   "id": "4926af7e",
   "metadata": {
    "lines_to_next_cell": 2,
    "magic_args": "kinetic energy calculation"
   },
   "source": [
    "## kinetic energy calculation\n",
    "Using\n",
    "\\begin{align*}\n",
    "  \\nabla ^2 (fg) = \\left( \\nabla ^2 f    \\right) g + 2\\boldsymbol{\\nabla}f \\cdot \n",
    "  \\boldsymbol{\\nabla}g + f \\nabla ^2g\n",
    "\\end{align*}\n",
    "   The kinetic energy\n",
    "\\begin{align}\n",
    " \\nabla ^2 \\Psi &=  \\nabla ^2 \\left(F D_\\uparrow D_\\downarrow\\right)\n",
    "\\end{align}\n",
    "$$\n",
    "       \\nabla^2 \\Psi= \\sum_i \\left[   \\underbrace{\\left(\\nabla _i ^2F\\right)}_{\\text{1}}D_\\uparrow D_\\downarrow +\n",
    "       2\\underbrace{\\boldsymbol{\\nabla}_i F \\cdot  \\boldsymbol{\\nabla}_i (D_\\uparrow\n",
    "       D_\\downarrow)}_{\\text{2}} +\n",
    "       F(\n",
    "       \\underbrace{(\\nabla ^2_i D_\\uparrow) D_\\downarrow + D_\\uparrow \\nabla_i ^2\n",
    "       D_\\downarrow)}_{\\text{3}}\\right]\n",
    "$$\n",
    "The first term\n",
    "\\begin{align*}\n",
    "    (1) = \\prod_{i<j}\\left[\\frac{-2a_{ij}b_{ij}}{(1+b_{ij}r_{ij})^{3}} +\n",
    "    \\frac{a_{ij}^2}{(1+b_{ij}r_{ij})^{4}}+\n",
    "    \\frac{1}{r_{ij}}\\frac{a_{ij}}{(1+b_{ij}r_{ij})^2}\\right]e^{\\frac{a_{ij}r_{ij}}{1+b_{ij}r_{ij}}}\n",
    "\\end{align*}\n",
    "then \n",
    "\\begin{align*}\n",
    "    \\boldsymbol{\\nabla} F \\cdot \\boldsymbol{\\nabla} \\left(D_\\uparrow D_\\downarrow\\right)\n",
    "    &= 2\\prod_{i\\neq j}\\hat{\\textbf{x}}_{jk} \\frac{a_{ij}}{(1+b_{ij}r_{ij})^2} \\exp\\{...\\} \\cdot\n",
    "    \\boldsymbol{\\nabla}(D_\\uparrow D_\\downarrow)\n",
    "\\end{align*}\n",
    "and the gradient of Slater can be computed from known matrix calculus relations:\n",
    "\\begin{align*}\n",
    "\\frac{1}{\\left|D\\right|}\\boldsymbol{\\nabla}_i \\left|D(\\textbf{R})\\right|    &= \\sum _j\n",
    "\\boldsymbol{\\nabla}_i \\phi_j (\\textbf{r}_i) d_{ji}^{-1}(\\textbf{R})\\nonumber \\\\ \n",
    "\\frac{1}{\\left|D\\right|}\\nabla ^2_i \\left|D(\\textbf{R})\\right|    &= \\sum _j\n",
    "\\nabla^2_i \\phi_j (\\textbf{r}_i) d_{ji}^{-1}(\\textbf{R})\n",
    "\\end{align*}\n",
    "and the gradient of a single wavefunction\n",
    "\\begin{align*}\n",
    "    \\boldsymbol{\\nabla}_i \\phi_{000} (r_i)& = \\frac{\\textbf{r}_i}{\\sigma^2}\\phi_{000}\\nonumber \\\\ \n",
    "\\boldsymbol{\\nabla}_i \\phi_{01 \\pm } &= \\begin{bmatrix} x_i + \\sigma \\\\ y_i \\pm i\\sigma\n",
    "\\end{bmatrix} \\frac{1}{\\sigma^2} \\phi_{01 \\pm }\n",
    "\\end{align*}\n",
    "and the laplacians\n",
    "\\begin{align*}\n",
    "   \\nabla ^2 \\phi_{000} &= \\left(\\frac{2r}{\\sigma^2} +\n",
    "   \\left(\\frac{r}{\\sigma^2}\\right)^2\\right)\\phi_{000}\\nonumber \\\\ \n",
    "   \\nabla ^2 \\phi_{01 \\pm }&= \\frac{1}{\\sqrt{\\pi \\sigma^2}} \\frac{1}{\\sigma^3}\\left[2 +\n",
    "   \\frac{x}{\\sigma^2} \\left(1+\\frac{x}{\\sigma^2}\\right) + \\frac{y}{\\sigma^2}\\left(\\pm i +\n",
    "   \\frac{y}{\\sigma^2}\\right)\\right]e^{\\frac{x^2+y^2}{2\\sigma^2}}\n",
    "\\end{align*}\n"
   ]
  },
  {
   "cell_type": "code",
   "execution_count": 100,
   "metadata": {},
   "outputs": [
    {
     "name": "stdout",
     "output_type": "stream",
     "text": [
      "[148.4131591  445.23947731]\n",
      "slatergrad [706331.35091845 773236.29503567] [-0.04017096  0.02008548]\n",
      "slatergrad [706331.35091845 773236.29503567] [-0.04017096  0.02008548]\n",
      "2 0 run [[0.5554298]] [[0, 0, 0], [0, 1, 1], [0, 1, -1]] [[1.5   0.266]]\n"
     ]
    },
    {
     "name": "stderr",
     "output_type": "stream",
     "text": [
      "/Users/bellamarco01/uni/2_computational/computational_physics/homework4/kinetic_energy.py:401: SyntaxWarning: invalid escape sequence '\\s'\n",
      "  - laplacian : float, estimate of \\sum_i \\nabla^2_i Psi(R)\n",
      "/Users/bellamarco01/uni/2_computational/computational_physics/homework4/kinetic_energy.py:401: SyntaxWarning: invalid escape sequence '\\s'\n",
      "  - laplacian : float, estimate of \\sum_i \\nabla^2_i Psi(R)\n"
     ]
    },
    {
     "ename": "IndexError",
     "evalue": "index 2 is out of bounds for axis 0 with size 1",
     "output_type": "error",
     "traceback": [
      "\u001b[31m---------------------------------------------------------------------------\u001b[39m",
      "\u001b[31mIndexError\u001b[39m                                Traceback (most recent call last)",
      "\u001b[36mCell\u001b[39m\u001b[36m \u001b[39m\u001b[32mIn[100]\u001b[39m\u001b[32m, line 39\u001b[39m\n\u001b[32m     30\u001b[39m partial_wf = partial(kin.total_wf,\n\u001b[32m     31\u001b[39m                      N=N,\n\u001b[32m     32\u001b[39m                      N_up=N_up,\n\u001b[32m   (...)\u001b[39m\u001b[32m     36\u001b[39m                      use_chi=\u001b[38;5;28;01mTrue\u001b[39;00m,\n\u001b[32m     37\u001b[39m                      return_A=\u001b[38;5;28;01mTrue\u001b[39;00m)\n\u001b[32m     38\u001b[39m f = \u001b[38;5;28;01mlambda\u001b[39;00m r: partial_wf(R=r)[\u001b[32m0\u001b[39m]\n\u001b[32m---> \u001b[39m\u001b[32m39\u001b[39m kinetic_energy_mine = \u001b[43mkin\u001b[49m\u001b[43m.\u001b[49m\u001b[43mkinetic_energy_integrand\u001b[49m\u001b[43m(\u001b[49m\u001b[43mN\u001b[49m\u001b[43m,\u001b[49m\u001b[43m \u001b[49m\u001b[43mN_up\u001b[49m\u001b[43m,\u001b[49m\u001b[43mR\u001b[49m\u001b[43m,\u001b[49m\u001b[43m \u001b[49m\u001b[43msigma\u001b[49m\u001b[43m,\u001b[49m\u001b[43m \u001b[49m\u001b[43mb_par\u001b[49m\u001b[43m,\u001b[49m\u001b[43m \u001b[49m\u001b[43mb_orth\u001b[49m\u001b[43m,\u001b[49m\u001b[43m \u001b[49m\u001b[43momega\u001b[49m\u001b[43m,\u001b[49m\u001b[43m \u001b[49m\u001b[43muse_chi\u001b[49m\u001b[43m)\u001b[49m\n\u001b[32m     40\u001b[39m kinetic_energy_np = kin.numerical_laplacian_2D(f, R)\n\u001b[32m     41\u001b[39m \u001b[38;5;28mprint\u001b[39m(\u001b[33m\"\u001b[39m\u001b[33mKinetic energy (mine):\u001b[39m\u001b[33m\"\u001b[39m, kinetic_energy_mine)\n",
      "\u001b[36mFile \u001b[39m\u001b[32m~/uni/2_computational/computational_physics/homework4/kinetic_energy.py:373\u001b[39m, in \u001b[36mkinetic_energy_integrand\u001b[39m\u001b[34m(N, N_up, R, sigma, b_par, b_orth, omega, use_chi)\u001b[39m\n\u001b[32m    370\u001b[39m A_down_inv = safe_invert_matrix(A_down)\n\u001b[32m    372\u001b[39m laplacian_term_1 = det_up*det_down*jastrow_laplacian_fact\n\u001b[32m--> \u001b[39m\u001b[32m373\u001b[39m grad_grad_term = \u001b[43mgradient_gradient_term\u001b[49m\u001b[43m(\u001b[49m\u001b[43mN\u001b[49m\u001b[43m,\u001b[49m\u001b[43m \u001b[49m\u001b[43mN_up\u001b[49m\u001b[43m,\u001b[49m\u001b[43m \u001b[49m\u001b[43mR\u001b[49m\u001b[43m,\u001b[49m\n\u001b[32m    374\u001b[39m \u001b[43m                                            \u001b[49m\u001b[43mA_up_inv\u001b[49m\u001b[43m,\u001b[49m\u001b[43m \u001b[49m\u001b[43mA_down_inv\u001b[49m\u001b[43m,\u001b[49m\n\u001b[32m    375\u001b[39m \u001b[43m                                            \u001b[49m\u001b[43mdet_up\u001b[49m\u001b[43m,\u001b[49m\u001b[43m \u001b[49m\u001b[43mdet_down\u001b[49m\u001b[43m,\u001b[49m\n\u001b[32m    376\u001b[39m \u001b[43m                                            \u001b[49m\u001b[43mb_par\u001b[49m\u001b[43m,\u001b[49m\u001b[43m \u001b[49m\u001b[43mb_orth\u001b[49m\u001b[43m,\u001b[49m\u001b[43m \u001b[49m\u001b[43msigma\u001b[49m\u001b[43m,\u001b[49m\u001b[43m \u001b[49m\u001b[43muse_chi\u001b[49m\u001b[43m)\u001b[49m\n\u001b[32m    377\u001b[39m laplacian_term_2 = det_up*det_down*grad_grad_term\n\u001b[32m    378\u001b[39m slater_laplacian_up = slater_laplacian_term(N_up, R[:N_up], A_up_inv, sigma, omega)\n",
      "\u001b[36mFile \u001b[39m\u001b[32m~/uni/2_computational/computational_physics/homework4/kinetic_energy.py:303\u001b[39m, in \u001b[36mgradient_gradient_term\u001b[39m\u001b[34m(N, N_up, R, A_inv_up, A_inv_down, det_up, det_down, b_par, b_orth, sigma, use_chi)\u001b[39m\n\u001b[32m    301\u001b[39m     slater_grad = slater_gradient(N_up,R[:N_up],A_inv_up,i,det_up,sigma,use_chi) - slater_gradient(N_up,R[:N_up],A_inv_up,j,det_up,sigma,use_chi)\n\u001b[32m    302\u001b[39m \u001b[38;5;28;01melif\u001b[39;00m i < N_up \u001b[38;5;129;01mand\u001b[39;00m j >= N_up: \u001b[38;5;66;03m# i is up-spin particle, j is down\u001b[39;00m\n\u001b[32m--> \u001b[39m\u001b[32m303\u001b[39m     slater_grad = slater_gradient(N_up,R[:N_up],A_inv_up,i,det_up,sigma,use_chi) - \u001b[43mslater_gradient\u001b[49m\u001b[43m(\u001b[49m\u001b[43mN\u001b[49m\u001b[43m-\u001b[49m\u001b[43mN_up\u001b[49m\u001b[43m,\u001b[49m\u001b[43mR\u001b[49m\u001b[43m[\u001b[49m\u001b[43mN_up\u001b[49m\u001b[43m:\u001b[49m\u001b[43m]\u001b[49m\u001b[43m,\u001b[49m\u001b[43mA_inv_down\u001b[49m\u001b[43m,\u001b[49m\u001b[43mj\u001b[49m\u001b[43m,\u001b[49m\u001b[43mdet_down\u001b[49m\u001b[43m,\u001b[49m\u001b[43msigma\u001b[49m\u001b[43m,\u001b[49m\u001b[43muse_chi\u001b[49m\u001b[43m)\u001b[49m\n\u001b[32m    304\u001b[39m \u001b[38;5;28;01melif\u001b[39;00m i >= N_up \u001b[38;5;129;01mand\u001b[39;00m j >= N_up: \u001b[38;5;66;03m# i is down-spin particle, j is also\u001b[39;00m\n\u001b[32m    305\u001b[39m     slater_grad = slater_gradient(N-N_up,R[N_up:],A_inv_down,i,det_down,sigma,use_chi) - slater_gradient(N-N_up,R[N_up:],A_inv_down,j,det_down,sigma,use_chi)\n",
      "\u001b[36mFile \u001b[39m\u001b[32m~/uni/2_computational/computational_physics/homework4/kinetic_energy.py:262\u001b[39m, in \u001b[36mslater_gradient\u001b[39m\u001b[34m(M, R, A_inv, i, det, sigma, use_chi)\u001b[39m\n\u001b[32m    260\u001b[39m     \u001b[38;5;28;01mfor\u001b[39;00m j \u001b[38;5;129;01min\u001b[39;00m \u001b[38;5;28mrange\u001b[39m(M):\n\u001b[32m    261\u001b[39m         \u001b[38;5;28mprint\u001b[39m(i,j , \u001b[33m\"\u001b[39m\u001b[33mrun\u001b[39m\u001b[33m\"\u001b[39m, A_inv, alpha, R)\n\u001b[32m--> \u001b[39m\u001b[32m262\u001b[39m         out += \u001b[43mA_inv\u001b[49m\u001b[43m[\u001b[49m\u001b[43mi\u001b[49m\u001b[43m]\u001b[49m[j] * gradient_single_particle_wf(alpha[j][\u001b[32m2\u001b[39m], R[i], sigma,use_chi=use_chi)\n\u001b[32m    263\u001b[39m     out *= det\n\u001b[32m    264\u001b[39m \u001b[38;5;28;01melif\u001b[39;00m M==\u001b[32m2\u001b[39m: \u001b[38;5;66;03m# if we only have a particle in the degenerate states, we average out the expectation value!\u001b[39;00m\n",
      "\u001b[31mIndexError\u001b[39m: index 2 is out of bounds for axis 0 with size 1"
     ]
    }
   ],
   "source": [
    "import importlib\n",
    "import kinetic_energy as kin\n",
    "import numpy as np\n",
    "importlib.reload(kin)\n",
    "# Parameters\n",
    "N = 3\n",
    "N_up = 2\n",
    "sigma = 1\n",
    "b_par = 1\n",
    "b_orth = 1\n",
    "omega = 1\n",
    "use_chi = True\n",
    "\n",
    "# Define a grid of positions (e.g., 3 particles in 2D)\n",
    "R = np.array([\n",
    "    [1.0, 3.0],\n",
    "    [3.0, 2.0],\n",
    "    [1.5, 0.266]  # roughly equilateral triangle\n",
    "])\n",
    "from functools import partial\n",
    "phi0 =  partial(kin.single_particle_wf, m=0, sigma = sigma, use_chi = use_chi)\n",
    "phi_plus =  partial(kin.single_particle_wf, m=1, sigma = sigma, use_chi = use_chi)\n",
    "phi_minus =  partial(kin.single_particle_wf, m=-1, sigma = sigma, use_chi=use_chi)\n",
    "\n",
    "print(kin.gradient_phi([0,0,0], R[0], sigma))\n",
    "\n",
    "\n",
    "det_up = kin.slater_det(N_up,R[:N_up],phi0,phi_plus,phi_minus)\n",
    "wavefunction = kin.total_wf(N, N_up, R, sigma, b_par, b_orth, use_chi = use_chi, return_A=False)[0]\n",
    "partial_wf = partial(kin.total_wf,\n",
    "                     N=N,\n",
    "                     N_up=N_up,\n",
    "                     sigma=sigma,\n",
    "                     b_par=b_par,\n",
    "                     b_orth=b_orth,\n",
    "                     use_chi=True,\n",
    "                     return_A=True)\n",
    "f = lambda r: partial_wf(R=r)[0]\n",
    "kinetic_energy_mine = kin.kinetic_energy_integrand(N, N_up,R, sigma, b_par, b_orth, omega, use_chi)\n",
    "kinetic_energy_np = kin.numerical_laplacian_2D(f, R)\n",
    "print(\"Kinetic energy (mine):\", kinetic_energy_mine)\n",
    "print(\"Kinetic energy (numpy):\", kinetic_energy_np)"
   ]
  },
  {
   "cell_type": "code",
   "execution_count": 61,
   "metadata": {},
   "outputs": [
    {
     "ename": "NameError",
     "evalue": "name 'random' is not defined",
     "output_type": "error",
     "traceback": [
      "\u001b[31m---------------------------------------------------------------------------\u001b[39m",
      "\u001b[31mNameError\u001b[39m                                 Traceback (most recent call last)",
      "\u001b[36mCell\u001b[39m\u001b[36m \u001b[39m\u001b[32mIn[61]\u001b[39m\u001b[32m, line 2\u001b[39m\n\u001b[32m      1\u001b[39m acc, counter=\u001b[32m0\u001b[39m,\u001b[32m0\u001b[39m\n\u001b[32m----> \u001b[39m\u001b[32m2\u001b[39m x01=\u001b[43mrandom\u001b[49m.uniform(\u001b[32m0\u001b[39m,\u001b[32m1\u001b[39m)\n\u001b[32m      3\u001b[39m y01=random.uniform(\u001b[32m0\u001b[39m,\u001b[32m1\u001b[39m)\n\u001b[32m      4\u001b[39m x02=random.uniform(\u001b[32m0\u001b[39m,\u001b[32m1\u001b[39m)\n",
      "\u001b[31mNameError\u001b[39m: name 'random' is not defined"
     ]
    }
   ],
   "source": [
    "acc, counter=0,0\n",
    "x01=random.uniform(0,1)\n",
    "y01=random.uniform(0,1)\n",
    "x02=random.uniform(0,1)\n",
    "y02=random.uniform(0,1)\n",
    "x03=random.uniform(0,1)\n",
    "y03=random.uniform(0,1)\n",
    "delta=1\n",
    "passi=10\n",
    "Neq=int(passi*1/50)\n",
    "N_delta=10000\n",
    "pos, acc_list=[],[]\n",
    "s=1"
   ]
  },
  {
   "cell_type": "code",
   "execution_count": 7,
   "metadata": {},
   "outputs": [
    {
     "name": "stderr",
     "output_type": "stream",
     "text": [
      "/var/folders/ds/l5tt9lyx5pl1c9t1ytlzxb7w0000gn/T/ipykernel_1466/2157976611.py:15: RuntimeWarning: overflow encountered in scalar power\n",
      "  p=Slaterdet(N,s,x1,y1,x2,y2,x3,y3,phi,chip,chim)**2/Slaterdet(N,s,x01,y01,x02,y02,x03,y03,phi,chip,chim)**2\n",
      "/var/folders/ds/l5tt9lyx5pl1c9t1ytlzxb7w0000gn/T/ipykernel_1466/2157976611.py:15: RuntimeWarning: invalid value encountered in scalar divide\n",
      "  p=Slaterdet(N,s,x1,y1,x2,y2,x3,y3,phi,chip,chim)**2/Slaterdet(N,s,x01,y01,x02,y02,x03,y03,phi,chip,chim)**2\n"
     ]
    },
    {
     "ename": "KeyboardInterrupt",
     "evalue": "",
     "output_type": "error",
     "traceback": [
      "\u001b[31m---------------------------------------------------------------------------\u001b[39m",
      "\u001b[31mKeyboardInterrupt\u001b[39m                         Traceback (most recent call last)",
      "\u001b[36mCell\u001b[39m\u001b[36m \u001b[39m\u001b[32mIn[7]\u001b[39m\u001b[32m, line 1\u001b[39m\n\u001b[32m----> \u001b[39m\u001b[32m1\u001b[39m delta = \u001b[43mdelta_choice\u001b[49m\u001b[43m(\u001b[49m\u001b[43mx01\u001b[49m\u001b[43m,\u001b[49m\u001b[43my01\u001b[49m\u001b[43m,\u001b[49m\u001b[43mx02\u001b[49m\u001b[43m,\u001b[49m\u001b[43my02\u001b[49m\u001b[43m,\u001b[49m\u001b[43mx03\u001b[49m\u001b[43m,\u001b[49m\u001b[43my03\u001b[49m\u001b[43m,\u001b[49m\u001b[43mdelta\u001b[49m\u001b[43m,\u001b[49m\u001b[43ms\u001b[49m\u001b[43m,\u001b[49m\u001b[43mN_delta\u001b[49m\u001b[43m,\u001b[49m\u001b[43mcounter\u001b[49m\u001b[43m)\u001b[49m\n\u001b[32m      3\u001b[39m \u001b[38;5;28;01mfor\u001b[39;00m i \u001b[38;5;129;01min\u001b[39;00m \u001b[38;5;28mrange\u001b[39m(passi):\n\u001b[32m      4\u001b[39m     x01,y01,x02,y02,x03,y03, acc,counter = Metropolis(x01,y01,x02,y02,x03,y03, delta, phi0, chiplus,chiminus, s,counter, acc)\n",
      "\u001b[36mCell\u001b[39m\u001b[36m \u001b[39m\u001b[32mIn[5]\u001b[39m\u001b[32m, line 62\u001b[39m, in \u001b[36mdelta_choice\u001b[39m\u001b[34m(x01, y01, x02, y02, x03, y03, delta, s, N_delta, counter)\u001b[39m\n\u001b[32m     60\u001b[39m acc,counter=\u001b[32m0\u001b[39m,\u001b[32m0\u001b[39m\n\u001b[32m     61\u001b[39m \u001b[38;5;28;01mfor\u001b[39;00m i \u001b[38;5;129;01min\u001b[39;00m \u001b[38;5;28mrange\u001b[39m(N_delta):\n\u001b[32m---> \u001b[39m\u001b[32m62\u001b[39m   x01,y01,x02,y02,x03,y03, acc,counter = \u001b[43mMetropolis\u001b[49m\u001b[43m(\u001b[49m\u001b[43mx01\u001b[49m\u001b[43m,\u001b[49m\u001b[43my01\u001b[49m\u001b[43m,\u001b[49m\u001b[43mx02\u001b[49m\u001b[43m,\u001b[49m\u001b[43my02\u001b[49m\u001b[43m,\u001b[49m\u001b[43mx03\u001b[49m\u001b[43m,\u001b[49m\u001b[43my03\u001b[49m\u001b[43m,\u001b[49m\u001b[43m \u001b[49m\u001b[43mdelta\u001b[49m\u001b[43m,\u001b[49m\u001b[43m \u001b[49m\u001b[43mphi0\u001b[49m\u001b[43m,\u001b[49m\u001b[43m \u001b[49m\u001b[43mchiplus\u001b[49m\u001b[43m,\u001b[49m\u001b[43mchiminus\u001b[49m\u001b[43m,\u001b[49m\u001b[43m \u001b[49m\u001b[43ms\u001b[49m\u001b[43m,\u001b[49m\u001b[43mcounter\u001b[49m\u001b[43m,\u001b[49m\u001b[43m \u001b[49m\u001b[43macc\u001b[49m\u001b[43m)\u001b[49m\n\u001b[32m     63\u001b[39m acc_rate=acc/counter\n\u001b[32m     64\u001b[39m delta = adjust_delta(delta, acc_rate)\n",
      "\u001b[36mCell\u001b[39m\u001b[36m \u001b[39m\u001b[32mIn[5]\u001b[39m\u001b[32m, line 15\u001b[39m, in \u001b[36mMetropolis\u001b[39m\u001b[34m(x01, y01, x02, y02, x03, y03, delta, phi, chip, chim, s, counter, acc)\u001b[39m\n\u001b[32m     13\u001b[39m b3=random.uniform(\u001b[32m0\u001b[39m,\u001b[32m1\u001b[39m)\n\u001b[32m     14\u001b[39m y3= y03+delta*(b3-\u001b[32m0.5\u001b[39m)\n\u001b[32m---> \u001b[39m\u001b[32m15\u001b[39m p=\u001b[43mSlaterdet\u001b[49m\u001b[43m(\u001b[49m\u001b[43mN\u001b[49m\u001b[43m,\u001b[49m\u001b[43ms\u001b[49m\u001b[43m,\u001b[49m\u001b[43mx1\u001b[49m\u001b[43m,\u001b[49m\u001b[43my1\u001b[49m\u001b[43m,\u001b[49m\u001b[43mx2\u001b[49m\u001b[43m,\u001b[49m\u001b[43my2\u001b[49m\u001b[43m,\u001b[49m\u001b[43mx3\u001b[49m\u001b[43m,\u001b[49m\u001b[43my3\u001b[49m\u001b[43m,\u001b[49m\u001b[43mphi\u001b[49m\u001b[43m,\u001b[49m\u001b[43mchip\u001b[49m\u001b[43m,\u001b[49m\u001b[43mchim\u001b[49m\u001b[43m)\u001b[49m**\u001b[32m2\u001b[39m/Slaterdet(N,s,x01,y01,x02,y02,x03,y03,phi,chip,chim)**\u001b[32m2\u001b[39m\n\u001b[32m     16\u001b[39m \u001b[38;5;28;01mif\u001b[39;00m p>\u001b[32m1\u001b[39m:\n\u001b[32m     17\u001b[39m     x01=x1\n",
      "\u001b[36mCell\u001b[39m\u001b[36m \u001b[39m\u001b[32mIn[3]\u001b[39m\u001b[32m, line 5\u001b[39m, in \u001b[36mSlaterdet\u001b[39m\u001b[34m(N, s, x1, y1, x2, y2, x3, y3, phi, chip, chim)\u001b[39m\n\u001b[32m      1\u001b[39m \u001b[38;5;28;01mdef\u001b[39;00m\u001b[38;5;250m \u001b[39m\u001b[34mSlaterdet\u001b[39m(N,s,x1,y1,x2,y2,x3,y3,phi,chip,chim):\n\u001b[32m      2\u001b[39m     A = [[(\u001b[32m1\u001b[39m/math.factorial(N))*phi(x1,y1,s), (\u001b[32m1\u001b[39m/math.factorial(N))*chip(x1,y1,s), (\u001b[32m1\u001b[39m/math.factorial(N))*chim(x1,y1,s)], \n\u001b[32m      3\u001b[39m          [(\u001b[32m1\u001b[39m/math.factorial(N))*phi(x2,y2,s), (\u001b[32m1\u001b[39m/math.factorial(N))*chip(x2,y2,s), (\u001b[32m1\u001b[39m/math.factorial(N))*chim(x2,y2,s)],\n\u001b[32m      4\u001b[39m          [(\u001b[32m1\u001b[39m/math.factorial(N))*phi(x3,y3,s), (\u001b[32m1\u001b[39m/math.factorial(N))*chip(x3,y3,s), (\u001b[32m1\u001b[39m/math.factorial(N))*chim(x3,y3,s)]] \n\u001b[32m----> \u001b[39m\u001b[32m5\u001b[39m     \u001b[38;5;28;01mreturn\u001b[39;00m \u001b[43mnp\u001b[49m\u001b[43m.\u001b[49m\u001b[43mlinalg\u001b[49m\u001b[43m.\u001b[49m\u001b[43mdet\u001b[49m\u001b[43m(\u001b[49m\u001b[43mA\u001b[49m\u001b[43m)\u001b[49m\n",
      "\u001b[36mFile \u001b[39m\u001b[32m~/.pyenv/versions/3.13.5/lib/python3.13/site-packages/numpy/linalg/_linalg.py:2431\u001b[39m, in \u001b[36mdet\u001b[39m\u001b[34m(a)\u001b[39m\n\u001b[32m   2429\u001b[39m signature = \u001b[33m'\u001b[39m\u001b[33mD->D\u001b[39m\u001b[33m'\u001b[39m \u001b[38;5;28;01mif\u001b[39;00m isComplexType(t) \u001b[38;5;28;01melse\u001b[39;00m \u001b[33m'\u001b[39m\u001b[33md->d\u001b[39m\u001b[33m'\u001b[39m\n\u001b[32m   2430\u001b[39m r = _umath_linalg.det(a, signature=signature)\n\u001b[32m-> \u001b[39m\u001b[32m2431\u001b[39m r = \u001b[43mr\u001b[49m\u001b[43m.\u001b[49m\u001b[43mastype\u001b[49m\u001b[43m(\u001b[49m\u001b[43mresult_t\u001b[49m\u001b[43m,\u001b[49m\u001b[43m \u001b[49m\u001b[43mcopy\u001b[49m\u001b[43m=\u001b[49m\u001b[38;5;28;43;01mFalse\u001b[39;49;00m\u001b[43m)\u001b[49m\n\u001b[32m   2432\u001b[39m \u001b[38;5;28;01mreturn\u001b[39;00m r\n",
      "\u001b[31mKeyboardInterrupt\u001b[39m: "
     ]
    }
   ],
   "source": [
    "delta = delta_choice(x01,y01,x02,y02,x03,y03,delta,s,N_delta,counter)\n",
    "\n",
    "for i in range(passi):\n",
    "    x01,y01,x02,y02,x03,y03, acc,counter = Metropolis(x01,y01,x02,y02,x03,y03, delta, phi0, chiplus,chiminus, s,counter, acc)\n",
    "    #pos.append(x0)\n",
    "    acc_list.append(acc/counter)\n"
   ]
  }
 ],
 "metadata": {
  "jupytext": {
   "formats": "ipynb,py:light"
  },
  "kernelspec": {
   "display_name": "Python 3",
   "language": "python",
   "name": "python3"
  },
  "language_info": {
   "codemirror_mode": {
    "name": "ipython",
    "version": 3
   },
   "file_extension": ".py",
   "mimetype": "text/x-python",
   "name": "python",
   "nbconvert_exporter": "python",
   "pygments_lexer": "ipython3",
   "version": "3.13.5"
  }
 },
 "nbformat": 4,
 "nbformat_minor": 2
}
