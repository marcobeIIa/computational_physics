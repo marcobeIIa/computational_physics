{
 "cells": [
  {
   "cell_type": "code",
   "execution_count": 2,
   "metadata": {},
   "outputs": [],
   "source": [
    "import random\n",
    "import numpy as np\n",
    "import math\n",
    "import matplotlib.pyplot as plt\n",
    "import scipy\n",
    "import scipy.special"
   ]
  },
  {
   "cell_type": "code",
   "execution_count": 3,
   "metadata": {
    "lines_to_next_cell": 1
   },
   "outputs": [],
   "source": [
    "jaud=1/2  #aij in Jastrow if antiparallel\n",
    "jauu=1/4  #aij in Jastrow if parallel\n",
    "jbud=1  #bij in Jastrow if antiparallel\n",
    "jbuu=1  #bij in Jastrow if parallel"
   ]
  },
  {
   "cell_type": "code",
   "execution_count": 4,
   "metadata": {
    "lines_to_next_cell": 1
   },
   "outputs": [],
   "source": [
    "def Metropolisguess(r,delta):\n",
    "    rn=np.zeros((len(r),len(r[0])))\n",
    "    for i in range(len(r)):\n",
    "        for j in range(len(r[0])):\n",
    "            a=random.uniform(0,1)\n",
    "            rn[i][j]= r[i][j]+delta*(a-0.5)\n",
    "    return rn"
   ]
  },
  {
   "cell_type": "code",
   "execution_count": 5,
   "metadata": {
    "lines_to_next_cell": 1
   },
   "outputs": [],
   "source": [
    "#Metropolis\n",
    "def Metropolis(r,delta, psi, b,counter, acc):\n",
    "    rn = Metropolisguess(r,delta)\n",
    "    p=psi(rn,b)**2/psi(r,b)**2\n",
    "    if p>1:\n",
    "        r=rn\n",
    "        acc+=1\n",
    "    else:\n",
    "        xi=random.uniform(0,1)\n",
    "        if p>xi:\n",
    "            r=rn\n",
    "            acc+=1\n",
    "\n",
    "    counter+=1\n",
    "    return r,acc, counter"
   ]
  },
  {
   "cell_type": "code",
   "execution_count": 6,
   "metadata": {
    "lines_to_next_cell": 1
   },
   "outputs": [],
   "source": [
    "def adjust_delta(delta, acceptance_rate):\n",
    "    if acceptance_rate > 0.6:\n",
    "        delta *= 1.1  # Increase delta by 10%\n",
    "    elif acceptance_rate < 0.4:\n",
    "        delta *= 0.9  # Decrease delta by 10%\n",
    "    return delta"
   ]
  },
  {
   "cell_type": "code",
   "execution_count": 7,
   "metadata": {
    "lines_to_next_cell": 1
   },
   "outputs": [],
   "source": [
    "def psix(x, b):\n",
    "    return math.exp(-x**2/(2*b**2))\n",
    "\n",
    "def psiy(y, b):\n",
    "    return math.exp(-y**2/(2*b**2))\n",
    "\n",
    "def psi(x,y,b):\n",
    "    return psix(x,b)*psiy(y,b)\n",
    "\n",
    "def chip(x,y,b):\n",
    "    return x*psi(x,y,b)\n",
    "\n",
    "def chim(x,y,b):\n",
    "    return y*psi(x,y,b)\n",
    "\n",
    "def psi2(r,b):\n",
    "    return psi(r[0][0],r[1][0],b)*psi(r[0][1],r[1][1],b)\n",
    "\n",
    "def psi3(r,b):\n",
    "    A = [[psi(r[0][0],r[1][0],b),psi(r[0][1],r[1][1],b)], \n",
    "         [chip(r[0][0],r[1][0],b),chip(r[0][1],r[1][1],b)]]\n",
    "    return np.linalg.det(A)*psi(r[0][2],r[1][2],b)\n",
    "    \n",
    "def psi4(r,b):\n",
    "    A = [[psi(r[0][0],r[1][0],b),psi(r[0][1],r[1][1],b)], \n",
    "         [chip(r[0][0],r[1][0],b),chip(r[0][1],r[1][1],b)]]\n",
    "    B = [[psi(r[0][2],r[1][2],b),psi(r[0][3],r[1][3],b)], \n",
    "         [chip(r[0][2],r[1][2],b),chip(r[0][3],r[1][3],b)]]\n",
    "    return np.linalg.det(A)*np.linalg.det(B)\n",
    "\n",
    "def psi5(r,b):\n",
    "    A = [[psi(r[0][0],r[1][0],b),psi(r[0][1],r[1][1],b),psi(r[0][2],r[1][2],b)], \n",
    "         [chip(r[0][0],r[1][0],b),chip(r[0][1],r[1][1],b),chip(r[0][2],r[1][2],b)],\n",
    "         [chim(r[0][0],r[1][0],b),chim(r[0][1],r[1][1],b),chim(r[0][2],r[1][2],b)]]\n",
    "    B = [[psi(r[0][3],r[1][3],b),psi(r[0][4],r[1][4],b)], \n",
    "         [chip(r[0][3],r[1][3],b),chip(r[0][4],r[1][4],b)]]\n",
    "    return np.linalg.det(A)*np.linalg.det(B)\n",
    "\n",
    "def psi6(r,b):\n",
    "    A = [[psi(r[0][0],r[1][0],b),psi(r[0][1],r[1][1],b),psi(r[0][2],r[1][2],b)], \n",
    "         [chip(r[0][0],r[1][0],b),chip(r[0][1],r[1][1],b),chip(r[0][2],r[1][2],b)],\n",
    "         [chim(r[0][0],r[1][0],b),chim(r[0][1],r[1][1],b),chim(r[0][2],r[1][2],b)]]\n",
    "    B = [[psi(r[0][3],r[1][3],b),psi(r[0][4],r[1][4],b),psi(r[0][5],r[1][5],b)], \n",
    "         [chip(r[0][3],r[1][3],b),chip(r[0][4],r[1][4],b),chip(r[0][5],r[1][5],b)],\n",
    "         [chim(r[0][3],r[1][3],b),chim(r[0][4],r[1][4],b),chim(r[0][5],r[1][5],b)]]\n",
    "    return np.linalg.det(A)*np.linalg.det(B)\n",
    "\n",
    "def jastrowfunct(r,a,b):\n",
    "    return math.exp(a*r/(1+b*r))"
   ]
  },
  {
   "cell_type": "code",
   "execution_count": 8,
   "metadata": {
    "lines_to_next_cell": 1
   },
   "outputs": [],
   "source": [
    "def Jastrow(r,a,b):\n",
    "    j=1\n",
    "    for i in range(len(r)):\n",
    "        j*=jastrowfunct(r[i],a,b)\n",
    "    return j"
   ]
  },
  {
   "cell_type": "code",
   "execution_count": 9,
   "metadata": {
    "lines_to_next_cell": 1
   },
   "outputs": [],
   "source": [
    "def Jastrowpsi(r,b):\n",
    "    return psix(r[0][0],b)*psiy(r[1][0],b)\n",
    "\n",
    "def Jastrowpsi2(r,b):\n",
    "     part=2\n",
    "     xij=np.zeros(int(part*(part-1)/2))\n",
    "     yij=np.zeros(int(part*(part-1)/2))\n",
    "     k=0\n",
    "     for i in range(len(r[0])):\n",
    "          for j in range(i):\n",
    "               xij[k]=r[0][i]-r[0][j]\n",
    "               yij[k]=r[1][i]-r[1][j]\n",
    "               k+=1\n",
    "\n",
    "     rij=np.zeros(int(part*(part-1)/2))\n",
    "     for i in range(len(rij)):\n",
    "          rij[i]=np.sqrt(xij[i]**2+yij[i]**2)\n",
    "          \n",
    "          \n",
    "     return psi(r[0][0],r[1][0],b)*psi(r[0][1],r[1][1],b)*Jastrow(rij,jauu,jbuu)\n",
    "\n",
    "def Jastrowpsi3(r,b):\n",
    "     part=3\n",
    "     xij=np.zeros(int(part*(part-1)/2))\n",
    "     yij=np.zeros(int(part*(part-1)/2))\n",
    "     k=0\n",
    "     for i in range(len(r[0])):\n",
    "          for j in range(i):\n",
    "               xij[k]=r[0][i]-r[0][j]\n",
    "               yij[k]=r[1][i]-r[1][j]\n",
    "               k+=1\n",
    "\n",
    "     rij=np.zeros(int(part*(part-1)/2))\n",
    "     for i in range(len(rij)):\n",
    "          rij[i]=np.sqrt(xij[i]**2+yij[i]**2)\n",
    "     \n",
    "     A = [[psi(r[0][0],r[1][0],b),psi(r[0][1],r[1][1],b)], \n",
    "         [chip(r[0][0],r[1][0],b),chip(r[0][1],r[1][1],b)]]\n",
    "     \n",
    "     return np.linalg.det(A)*psi(r[0][2],r[1][2],b)*Jastrow(rij,jauu,jbuu)\n",
    "    \n",
    "def Jastrowpsi4(r,b):\n",
    "     part=4\n",
    "     xij=np.zeros(int(part*(part-1)/2))\n",
    "     yij=np.zeros(int(part*(part-1)/2))\n",
    "     k=0\n",
    "     for i in range(len(r[0])):\n",
    "          for j in range(i):\n",
    "               xij[k]=r[0][i]-r[0][j]\n",
    "               yij[k]=r[1][i]-r[1][j]\n",
    "               k+=1\n",
    "\n",
    "     rij=np.zeros(int(part*(part-1)/2))\n",
    "     for i in range(len(rij)):\n",
    "          rij[i]=np.sqrt(xij[i]**2+yij[i]**2)\n",
    "     A = [[psi(r[0][0],r[1][0],b),psi(r[0][1],r[1][1],b)], \n",
    "         [chip(r[0][0],r[1][0],b),chip(r[0][1],r[1][1],b)]]\n",
    "     B = [[psi(r[0][2],r[1][2],b),psi(r[0][3],r[1][3],b)], \n",
    "         [chip(r[0][2],r[1][2],b),chip(r[0][3],r[1][3],b)]]\n",
    "     return np.linalg.det(A)*np.linalg.det(B)*Jastrow(rij,jauu,jbuu)\n",
    "\n",
    "def Jastrowpsi5(r,b):\n",
    "     part=5\n",
    "     xij=np.zeros(int(part*(part-1)/2))\n",
    "     yij=np.zeros(int(part*(part-1)/2))\n",
    "     k=0\n",
    "     for i in range(len(r[0])):\n",
    "          for j in range(i):\n",
    "               xij[k]=r[0][i]-r[0][j]\n",
    "               yij[k]=r[1][i]-r[1][j]\n",
    "               k+=1\n",
    "\n",
    "     rij=np.zeros(int(part*(part-1)/2))\n",
    "     for i in range(len(rij)):\n",
    "          rij[i]=np.sqrt(xij[i]**2+yij[i]**2)\n",
    "     A = [[psi(r[0][0],r[1][0],b),psi(r[0][1],r[1][1],b),psi(r[0][2],r[1][2],b)], \n",
    "         [chip(r[0][0],r[1][0],b),chip(r[0][1],r[1][1],b),chip(r[0][2],r[1][2],b)],\n",
    "         [chim(r[0][0],r[1][0],b),chim(r[0][1],r[1][1],b),chim(r[0][2],r[1][2],b)]]\n",
    "     B = [[psi(r[0][3],r[1][3],b),psi(r[0][4],r[1][4],b)], \n",
    "         [chip(r[0][3],r[1][3],b),chip(r[0][4],r[1][4],b)]]\n",
    "     return np.linalg.det(A)*np.linalg.det(B)*Jastrow(rij,jauu,jbuu)\n",
    "\n",
    "def Jastrowpsi6(r,b):\n",
    "     part=6\n",
    "     xij=np.zeros(int(part*(part-1)/2))\n",
    "     yij=np.zeros(int(part*(part-1)/2))\n",
    "     k=0\n",
    "     for i in range(len(r[0])):\n",
    "          for j in range(i):\n",
    "               xij[k]=r[0][i]-r[0][j]\n",
    "               yij[k]=r[1][i]-r[1][j]\n",
    "               k+=1\n",
    "\n",
    "     rij=np.zeros(int(part*(part-1)/2))\n",
    "     for i in range(len(rij)):\n",
    "          rij[i]=np.sqrt(xij[i]**2+yij[i]**2)\n",
    "     A = [[psi(r[0][0],r[1][0],b),psi(r[0][1],r[1][1],b),psi(r[0][2],r[1][2],b)], \n",
    "         [chip(r[0][0],r[1][0],b),chip(r[0][1],r[1][1],b),chip(r[0][2],r[1][2],b)],\n",
    "         [chim(r[0][0],r[1][0],b),chim(r[0][1],r[1][1],b),chim(r[0][2],r[1][2],b)]]\n",
    "     B = [[psi(r[0][3],r[1][3],b),psi(r[0][4],r[1][4],b),psi(r[0][5],r[1][5],b)], \n",
    "         [chip(r[0][3],r[1][3],b),chip(r[0][4],r[1][4],b),chip(r[0][5],r[1][5],b)],\n",
    "         [chim(r[0][3],r[1][3],b),chim(r[0][4],r[1][4],b),chim(r[0][5],r[1][5],b)]]\n",
    "     return np.linalg.det(A)*np.linalg.det(B)*Jastrow(rij,jauu,jbuu)"
   ]
  },
  {
   "cell_type": "code",
   "execution_count": 10,
   "metadata": {
    "lines_to_next_cell": 1
   },
   "outputs": [],
   "source": [
    "def delta_choice(r,delta,b,N_delta,counter,psi):\n",
    "  acc_rate=1\n",
    "  while acc_rate>0.6 or acc_rate<0.4:\n",
    "    acc,counter=0,0\n",
    "    for i in range(N_delta):\n",
    "      r, acc,counter = Metropolis(r, delta, psi, b,counter, acc)\n",
    "    acc_rate=acc/counter\n",
    "    delta = adjust_delta(delta, acc_rate)\n",
    "\n",
    "  return delta"
   ]
  },
  {
   "cell_type": "code",
   "execution_count": 11,
   "metadata": {},
   "outputs": [],
   "source": [
    "def functchoice(n):\n",
    "    if n==1:\n",
    "        phi = psi\n",
    "    elif n==2:\n",
    "        phi = psi2\n",
    "    elif n==3:\n",
    "        phi = psi3\n",
    "    elif n==4:\n",
    "        phi = psi4\n",
    "    elif n==5:\n",
    "        phi = psi5\n",
    "    elif n==6:\n",
    "        phi = psi6\n",
    "    return phi"
   ]
  },
  {
   "cell_type": "code",
   "execution_count": 12,
   "metadata": {
    "lines_to_next_cell": 1
   },
   "outputs": [],
   "source": [
    "def functchoicejastrow(n):\n",
    "    if n==1:\n",
    "        phi = Jastrowpsi\n",
    "    elif n==2:\n",
    "        phi = Jastrowpsi2\n",
    "    elif n==3:\n",
    "        phi = Jastrowpsi3\n",
    "    elif n==4:\n",
    "        phi = Jastrowpsi4\n",
    "    elif n==5:\n",
    "        phi = Jastrowpsi5\n",
    "    elif n==6:\n",
    "        phi = Jastrowpsi6\n",
    "    return phi"
   ]
  },
  {
   "cell_type": "markdown",
   "metadata": {},
   "source": [
    "### POINT 3"
   ]
  },
  {
   "cell_type": "code",
   "execution_count": 96,
   "metadata": {},
   "outputs": [
    {
     "data": {
      "text/plain": [
       "<matplotlib.legend.Legend at 0x120933c50>"
      ]
     },
     "execution_count": 96,
     "metadata": {},
     "output_type": "execute_result"
    },
    {
     "data": {
      "image/png": "[encoded data removed]",
      "text/plain": [
       "<Figure size 640x480 with 1 Axes>"
      ]
     },
     "metadata": {},
     "output_type": "display_data"
    }
   ],
   "source": [
    "import kinetic_energy as kin\n",
    "import phi \n",
    "import numpy as np\n",
    "import importlib\n",
    "from functools import partial\n",
    "import matplotlib.pyplot as plt\n",
    "sigma = 1\n",
    "\n",
    "importlib.reload(kin)\n",
    "N_test = 5\n",
    "wavefunction = phi.functchoicejastrow(N_test)\n",
    "wf_mb = partial(kin.total_wf, N=N_test, N_up= N_test//2, sigma = sigma, b_par = phi.jauu, b_orth = phi.jbuu)\n",
    "box_size=1\n",
    "sigma = 1\n",
    "\n",
    "wf_value_lusva= np.zeros(100)\n",
    "wf_value_mb= np.zeros(100)\n",
    "R_test = np.random.uniform(0, box_size, size=(2,N_test))\n",
    "for i in range(100):\n",
    "    R_test[1][N_test-1] = R_test[1][N_test-1] + i/200  # Example positions for testing  \n",
    "    R_test_T = R_test.T\n",
    "    wf_value_lusva[i] = wavefunction(R_test, sigma)\n",
    "    wf_value_mb[i] =5* wf_mb(R=R_test_T)[0]\n",
    "plt.plot(wf_value_lusva, label='Lusva Wavefunction')    \n",
    "plt.plot(wf_value_mb, label='MB Wavefunction')\n",
    "plt.legend()\n",
    "#print(f\"Wavefunction value (Lusva): {wf_value_lusva}\")\n",
    "#print(f\"Wavefunction value (MB): {wf_value_mb}\")"
   ]
  },
  {
   "cell_type": "code",
   "execution_count": 44,
   "metadata": {
    "lines_to_next_cell": 2
   },
   "outputs": [
    {
     "name": "stdout",
     "output_type": "stream",
     "text": [
      "0.02107967515818654\n",
      "Time taken for wf_laplacian: 0.002107858657836914\n"
     ]
    }
   ],
   "source": [
    "# calculate to christ the kinetic energy in whicherver way \n",
    "from scipy.integrate import nquad\n",
    "from functools import partial\n",
    "\n",
    "wf_laplacian = lambda R: kin.wf_laplacian(R, wavefunction, sigma)\n",
    "#integrand = lambda x,y: wf_laplacian(x,y) * wavefunction(np.array([x, y]), sigma)\n",
    "\n",
    "# Wrapper for flat input of length 2N\n",
    "def integrand(*args):\n",
    "    R_flat = np.array(args)  # args is a flat tuple of length 2N\n",
    "    R = R_flat.reshape(2, N_test)\n",
    "    return wf_laplacian(R) * wavefunction(R, sigma)\n",
    "\n",
    "import time\n",
    "\n",
    "start_time = time.time()\n",
    "print(wf_laplacian(R_test))\n",
    "end_time = time.time()\n",
    "print(\"Time taken for wf_laplacian:\", end_time - start_time)\n",
    "# Now integrate over x in [-1,1], y in [-1,1]\n",
    "bounds = [(-1, 1) for _ in range(2 * N_test)]\n",
    "\n",
    "# Tighter tolerances = slower, Looser tolerances = faster\n",
    "#opts = {'epsabs': 1e-1, 'epsrel': 1e-1}  # Adjust these as needed\n",
    "\n",
    "#result, error = nquad(integrand, bounds, opts = [opts]*2*N_test)\n",
    "\n",
    "#print(\"Integral =\", result)\n",
    "#print(\"Estimated error =\", error)"
   ]
  },
  {
   "cell_type": "code",
   "execution_count": 48,
   "metadata": {},
   "outputs": [
    {
     "name": "stdout",
     "output_type": "stream",
     "text": [
      "Monte Carlo estimate: -2.095792 ± 2.986635\n"
     ]
    }
   ],
   "source": [
    "import numpy as np\n",
    "\n",
    "def monte_carlo_integrate(wf_laplacian, N, L=2.0, M=100_000, sigma=1.0):\n",
    "    \"\"\"\n",
    "    Monte Carlo integration of a 2N-dimensional function wf_laplacian(R),\n",
    "    where R is shaped (2, N), over [-L, L]^{2N}.\n",
    "\n",
    "    Args:\n",
    "        wf_laplacian: callable R -> float, where R.shape == (2, N)\n",
    "        N: number of particles\n",
    "        L: half-width of the integration box\n",
    "        M: number of Monte Carlo samples\n",
    "        sigma: passed to wf_laplacian via closure\n",
    "\n",
    "    Returns:\n",
    "        estimated integral value\n",
    "    \"\"\"\n",
    "\n",
    "    volume = (2 * L)**(2 * N)\n",
    "    samples = 2 * L * (np.random.rand(M, 2, N) - 0.5)  # Shape: (M, 2, N)\n",
    "    \n",
    "    values = np.array([wf_laplacian(R) for R in samples])\n",
    "    \n",
    "    mean = np.mean(values)\n",
    "    std_err = np.std(values) / np.sqrt(M)\n",
    "    \n",
    "    integral = volume * mean\n",
    "    error = volume * std_err\n",
    "\n",
    "    return integral, error\n",
    "\n",
    "N=3\n",
    "# Run MC integration\n",
    "I, err = monte_carlo_integrate(wf_laplacian, N, L=1.5, M=100_000)\n",
    "print(f\"Monte Carlo estimate: {I:.6f} ± {err:.6f}\")\n",
    "#Monte Carlo estimate: 5.813657 ± 2.973641\n",
    "#Monte Carlo estimate: 1.704294 ± 2.970737\n",
    "#Monte Carlo estimate: 1.488415 ± 2.965339\n",
    "\n"
   ]
  },
  {
   "attachments": {},
   "cell_type": "markdown",
   "metadata": {},
   "source": [
    "### POINT 4"
   ]
  },
  {
   "cell_type": "code",
   "execution_count": 232,
   "metadata": {
    "lines_to_next_cell": 2
   },
   "outputs": [],
   "source": [
    "b=1\n",
    "\n",
    "part = 2\n",
    "funct=functchoice(part)\n",
    "r = np.zeros((2,part))\n",
    "acc, counter=0,0\n",
    "for i in range(len(r)):\n",
    "    for j in range(len(r[0])):\n",
    "        r[i][j]=random.uniform(0,1)   #r[x o y][particella]\n",
    "        \n",
    "\n",
    "delta=1\n",
    "N=1000000\n",
    "Neq=int(N*1/50)\n",
    "N_delta=10000\n",
    "posx1,posy1,posx2,posy2, acc_list=[],[],[],[],[]"
   ]
  },
  {
   "cell_type": "code",
   "execution_count": 233,
   "metadata": {
    "lines_to_next_cell": 2
   },
   "outputs": [
    {
     "name": "stdout",
     "output_type": "stream",
     "text": [
      "b=1,Δ=1.331\n"
     ]
    }
   ],
   "source": [
    "delta = delta_choice(r,delta,b,N_delta,0,funct)\n",
    "\n",
    "for i in range(N):\n",
    "    r,acc, counter = Metropolis(r, delta, funct, b,counter, acc)\n",
    "    \n",
    "    posx1.append(r)\n",
    "\n",
    "    acc_list.append(acc/counter)\n",
    "\n",
    "\n",
    "print(f'b={b},\\u0394={round(delta,3)}')"
   ]
  },
  {
   "cell_type": "code",
   "execution_count": 234,
   "metadata": {},
   "outputs": [
    {
     "data": {
      "text/plain": [
       "Text(0.5, 1.0, 'Acceptance rate')"
      ]
     },
     "execution_count": 234,
     "metadata": {},
     "output_type": "execute_result"
    },
    {
     "data": {
      "image/png": "[encoded data removed]",
      "text/plain": [
       "<Figure size 640x480 with 1 Axes>"
      ]
     },
     "metadata": {},
     "output_type": "display_data"
    }
   ],
   "source": [
    "plt.plot(np.array(range(N)),acc_list)\n",
    "plt.title('Acceptance rate')"
   ]
  },
  {
   "attachments": {},
   "cell_type": "markdown",
   "metadata": {},
   "source": [
    "### POINT 5"
   ]
  },
  {
   "cell_type": "code",
   "execution_count": 235,
   "metadata": {},
   "outputs": [],
   "source": [
    "b=1\n",
    "\n",
    "\n",
    "\n",
    "part = 3\n",
    "\n",
    "r = np.zeros((2,part))\n",
    "acc, counter=0,0\n",
    "for i in range(len(r)):\n",
    "    for j in range(len(r[0])):\n",
    "        r[i][j]=random.uniform(0,1)   #r[x o y][particella]\n",
    "        \n",
    "\n",
    "funct=functchoicejastrow(part)\n",
    "\n",
    "\n",
    "\n",
    "acc, counter=0,0\n",
    "delta=1\n",
    "N=1000000\n",
    "Neq=int(N*1/50)\n",
    "N_delta=10000\n",
    "posx1,posy1,posx2,posy2, acc_list=[],[],[],[],[]"
   ]
  },
  {
   "cell_type": "code",
   "execution_count": 236,
   "metadata": {
    "lines_to_next_cell": 2
   },
   "outputs": [
    {
     "name": "stdout",
     "output_type": "stream",
     "text": [
      "b=1,Δ=1.1\n"
     ]
    }
   ],
   "source": [
    "delta = delta_choice(r,delta,b,N_delta,0,funct)\n",
    "\n",
    "for i in range(N):\n",
    "    r,acc, counter = Metropolis(r, delta, funct, b,counter, acc)\n",
    "    \n",
    "    posx1.append(r)\n",
    "\n",
    "    acc_list.append(acc/counter)\n",
    "\n",
    "\n",
    "print(f'b={b},\\u0394={round(delta,3)}')"
   ]
  },
  {
   "cell_type": "code",
   "execution_count": 237,
   "metadata": {
    "lines_to_next_cell": 3
   },
   "outputs": [
    {
     "data": {
      "text/plain": [
       "Text(0.5, 1.0, 'Acceptance rate')"
      ]
     },
     "execution_count": 237,
     "metadata": {},
     "output_type": "execute_result"
    },
    {
     "data": {
      "image/png": "[encoded data removed]",
      "text/plain": [
       "<Figure size 640x480 with 1 Axes>"
      ]
     },
     "metadata": {},
     "output_type": "display_data"
    }
   ],
   "source": [
    "plt.plot(np.array(range(N)),acc_list)\n",
    "plt.title('Acceptance rate')"
   ]
  }
 ],
 "metadata": {
  "jupytext": {
   "formats": "ipynb,py:percent"
  },
  "kernelspec": {
   "display_name": "Python 3",
   "language": "python",
   "name": "python3"
  },
  "language_info": {
   "codemirror_mode": {
    "name": "ipython",
    "version": 3
   },
   "file_extension": ".py",
   "mimetype": "text/x-python",
   "name": "python",
   "nbconvert_exporter": "python",
   "pygments_lexer": "ipython3",
   "version": "3.13.5"
  }
 },
 "nbformat": 4,
 "nbformat_minor": 2
}
