{
 "cells": [
  {
   "cell_type": "code",
   "execution_count": 221,
   "metadata": {},
   "outputs": [],
   "source": [
    "import random\n",
    "import numpy as np\n",
    "import math\n",
    "import matplotlib.pyplot as plt\n",
    "import scipy\n",
    "import scipy.special"
   ]
  },
  {
   "cell_type": "code",
   "execution_count": 222,
   "metadata": {
    "lines_to_next_cell": 1
   },
   "outputs": [],
   "source": [
    "jaud=1/2  #aij in Jastrow if antiparallel\n",
    "jauu=1/4  #aij in Jastrow if parallel\n",
    "jbud=1  #bij in Jastrow if antiparallel\n",
    "jbuu=1  #bij in Jastrow if parallel"
   ]
  },
  {
   "cell_type": "code",
   "execution_count": 223,
   "metadata": {
    "lines_to_next_cell": 1
   },
   "outputs": [],
   "source": [
    "def Metropolisguess(r,delta):\n",
    "    rn=np.zeros((len(r),len(r[0])))\n",
    "    for i in range(len(r)):\n",
    "        for j in range(len(r[0])):\n",
    "            a=random.uniform(0,1)\n",
    "            rn[i][j]= r[i][j]+delta*(a-0.5)\n",
    "    return rn"
   ]
  },
  {
   "cell_type": "code",
   "execution_count": 224,
   "metadata": {
    "lines_to_next_cell": 1
   },
   "outputs": [],
   "source": [
    "#Metropolis\n",
    "def Metropolis(r,delta, psi, b,counter, acc):\n",
    "    rn = Metropolisguess(r,delta)\n",
    "    p=psi(rn,b)**2/psi(r,b)**2\n",
    "    if p>1:\n",
    "        r=rn\n",
    "        acc+=1\n",
    "    else:\n",
    "        xi=random.uniform(0,1)\n",
    "        if p>xi:\n",
    "            r=rn\n",
    "            acc+=1\n",
    "\n",
    "    counter+=1\n",
    "    return r,acc, counter"
   ]
  },
  {
   "cell_type": "code",
   "execution_count": 225,
   "metadata": {
    "lines_to_next_cell": 1
   },
   "outputs": [],
   "source": [
    "def adjust_delta(delta, acceptance_rate):\n",
    "    if acceptance_rate > 0.6:\n",
    "        delta *= 1.1  # Increase delta by 10%\n",
    "    elif acceptance_rate < 0.4:\n",
    "        delta *= 0.9  # Decrease delta by 10%\n",
    "    return delta"
   ]
  },
  {
   "cell_type": "code",
   "execution_count": 226,
   "metadata": {
    "lines_to_next_cell": 1
   },
   "outputs": [],
   "source": [
    "def psix(x, b):\n",
    "    return math.exp(-x**2/(2*b**2))\n",
    "\n",
    "def psiy(y, b):\n",
    "    return math.exp(-y**2/(2*b**2))\n",
    "\n",
    "def psi(x,y,b):\n",
    "    return psix(x,b)*psiy(y,b)\n",
    "\n",
    "def chip(x,y,b):\n",
    "    return x*psi(x,y,b)\n",
    "\n",
    "def chim(x,y,b):\n",
    "    return y*psi(x,y,b)\n",
    "\n",
    "def psi2(r,b):\n",
    "    return psi(r[0][0],r[1][0],b)*psi(r[0][1],r[1][1],b)\n",
    "\n",
    "def psi3(r,b):\n",
    "    A = [[psi(r[0][0],r[1][0],b),psi(r[0][1],r[1][1],b)], \n",
    "         [chip(r[0][0],r[1][0],b),chip(r[0][1],r[1][1],b)]]\n",
    "    return np.linalg.det(A)*psi(r[0][2],r[1][2],b)\n",
    "    \n",
    "def psi4(r,b):\n",
    "    A = [[psi(r[0][0],r[1][0],b),psi(r[0][1],r[1][1],b)], \n",
    "         [chip(r[0][0],r[1][0],b),chip(r[0][1],r[1][1],b)]]\n",
    "    B = [[psi(r[0][2],r[1][2],b),psi(r[0][3],r[1][3],b)], \n",
    "         [chip(r[0][2],r[1][2],b),chip(r[0][3],r[1][3],b)]]\n",
    "    return np.linalg.det(A)*np.linalg.det(B)\n",
    "\n",
    "def psi5(r,b):\n",
    "    A = [[psi(r[0][0],r[1][0],b),psi(r[0][1],r[1][1],b),psi(r[0][2],r[1][2],b)], \n",
    "         [chip(r[0][0],r[1][0],b),chip(r[0][1],r[1][1],b),chip(r[0][2],r[1][2],b)],\n",
    "         [chim(r[0][0],r[1][0],b),chim(r[0][1],r[1][1],b),chim(r[0][2],r[1][2],b)]]\n",
    "    B = [[psi(r[0][3],r[1][3],b),psi(r[0][4],r[1][4],b)], \n",
    "         [chip(r[0][3],r[1][3],b),chip(r[0][4],r[1][4],b)]]\n",
    "    return np.linalg.det(A)*np.linalg.det(B)\n",
    "\n",
    "def psi6(r,b):\n",
    "    A = [[psi(r[0][0],r[1][0],b),psi(r[0][1],r[1][1],b),psi(r[0][2],r[1][2],b)], \n",
    "         [chip(r[0][0],r[1][0],b),chip(r[0][1],r[1][1],b),chip(r[0][2],r[1][2],b)],\n",
    "         [chim(r[0][0],r[1][0],b),chim(r[0][1],r[1][1],b),chim(r[0][2],r[1][2],b)]]\n",
    "    B = [[psi(r[0][3],r[1][3],b),psi(r[0][4],r[1][4],b),psi(r[0][5],r[1][5],b)], \n",
    "         [chip(r[0][3],r[1][3],b),chip(r[0][4],r[1][4],b),chip(r[0][5],r[1][5],b)],\n",
    "         [chim(r[0][3],r[1][3],b),chim(r[0][4],r[1][4],b),chim(r[0][5],r[1][5],b)]]\n",
    "    return np.linalg.det(A)*np.linalg.det(B)\n",
    "\n",
    "def jastrowfunct(r,a,b):\n",
    "    return math.exp(a*r/(1+b*r))"
   ]
  },
  {
   "cell_type": "code",
   "execution_count": 227,
   "metadata": {
    "lines_to_next_cell": 1
   },
   "outputs": [],
   "source": [
    "def Jastrow(r,a,b):\n",
    "    j=1\n",
    "    for i in range(len(r)):\n",
    "        j*=jastrowfunct(r[i],a,b)\n",
    "    return j"
   ]
  },
  {
   "cell_type": "code",
   "execution_count": 228,
   "metadata": {
    "lines_to_next_cell": 1
   },
   "outputs": [],
   "source": [
    "def Jastrowpsi(r,b):\n",
    "    return psix(r[0][0],b)*psiy(r[1][0],b)\n",
    "\n",
    "def Jastrowpsi2(r,b):\n",
    "     part=2\n",
    "     xij=np.zeros(int(part*(part-1)/2))\n",
    "     yij=np.zeros(int(part*(part-1)/2))\n",
    "     k=0\n",
    "     for i in range(len(r[0])):\n",
    "          for j in range(i):\n",
    "               xij[k]=r[0][i]-r[0][j]\n",
    "               yij[k]=r[1][i]-r[1][j]\n",
    "               k+=1\n",
    "\n",
    "     rij=np.zeros(int(part*(part-1)/2))\n",
    "     for i in range(len(rij)):\n",
    "          rij[i]=np.sqrt(xij[i]**2+yij[i]**2)\n",
    "          \n",
    "          \n",
    "     return psi(r[0][0],r[1][0],b)*psi(r[0][1],r[1][1],b)*Jastrow(rij,jauu,jbuu)\n",
    "\n",
    "def Jastrowpsi3(r,b):\n",
    "     part=3\n",
    "     xij=np.zeros(int(part*(part-1)/2))\n",
    "     yij=np.zeros(int(part*(part-1)/2))\n",
    "     k=0\n",
    "     for i in range(len(r[0])):\n",
    "          for j in range(i):\n",
    "               xij[k]=r[0][i]-r[0][j]\n",
    "               yij[k]=r[1][i]-r[1][j]\n",
    "               k+=1\n",
    "\n",
    "     rij=np.zeros(int(part*(part-1)/2))\n",
    "     for i in range(len(rij)):\n",
    "          rij[i]=np.sqrt(xij[i]**2+yij[i]**2)\n",
    "     \n",
    "     A = [[psi(r[0][0],r[1][0],b),psi(r[0][1],r[1][1],b)], \n",
    "         [chip(r[0][0],r[1][0],b),chip(r[0][1],r[1][1],b)]]\n",
    "     \n",
    "     return np.linalg.det(A)*psi(r[0][2],r[1][2],b)*Jastrow(rij,jauu,jbuu)\n",
    "    \n",
    "def Jastrowpsi4(r,b):\n",
    "     part=4\n",
    "     xij=np.zeros(int(part*(part-1)/2))\n",
    "     yij=np.zeros(int(part*(part-1)/2))\n",
    "     k=0\n",
    "     for i in range(len(r[0])):\n",
    "          for j in range(i):\n",
    "               xij[k]=r[0][i]-r[0][j]\n",
    "               yij[k]=r[1][i]-r[1][j]\n",
    "               k+=1\n",
    "\n",
    "     rij=np.zeros(int(part*(part-1)/2))\n",
    "     for i in range(len(rij)):\n",
    "          rij[i]=np.sqrt(xij[i]**2+yij[i]**2)\n",
    "     A = [[psi(r[0][0],r[1][0],b),psi(r[0][1],r[1][1],b)], \n",
    "         [chip(r[0][0],r[1][0],b),chip(r[0][1],r[1][1],b)]]\n",
    "     B = [[psi(r[0][2],r[1][2],b),psi(r[0][3],r[1][3],b)], \n",
    "         [chip(r[0][2],r[1][2],b),chip(r[0][3],r[1][3],b)]]\n",
    "     return np.linalg.det(A)*np.linalg.det(B)*Jastrow(rij,jauu,jbuu)\n",
    "\n",
    "def Jastrowpsi5(r,b):\n",
    "     part=5\n",
    "     xij=np.zeros(int(part*(part-1)/2))\n",
    "     yij=np.zeros(int(part*(part-1)/2))\n",
    "     k=0\n",
    "     for i in range(len(r[0])):\n",
    "          for j in range(i):\n",
    "               xij[k]=r[0][i]-r[0][j]\n",
    "               yij[k]=r[1][i]-r[1][j]\n",
    "               k+=1\n",
    "\n",
    "     rij=np.zeros(int(part*(part-1)/2))\n",
    "     for i in range(len(rij)):\n",
    "          rij[i]=np.sqrt(xij[i]**2+yij[i]**2)\n",
    "     A = [[psi(r[0][0],r[1][0],b),psi(r[0][1],r[1][1],b),psi(r[0][2],r[1][2],b)], \n",
    "         [chip(r[0][0],r[1][0],b),chip(r[0][1],r[1][1],b),chip(r[0][2],r[1][2],b)],\n",
    "         [chim(r[0][0],r[1][0],b),chim(r[0][1],r[1][1],b),chim(r[0][2],r[1][2],b)]]\n",
    "     B = [[psi(r[0][3],r[1][3],b),psi(r[0][4],r[1][4],b)], \n",
    "         [chip(r[0][3],r[1][3],b),chip(r[0][4],r[1][4],b)]]\n",
    "     return np.linalg.det(A)*np.linalg.det(B)*Jastrow(rij,jauu,jbuu)\n",
    "\n",
    "def Jastrowpsi6(r,b):\n",
    "     part=6\n",
    "     xij=np.zeros(int(part*(part-1)/2))\n",
    "     yij=np.zeros(int(part*(part-1)/2))\n",
    "     k=0\n",
    "     for i in range(len(r[0])):\n",
    "          for j in range(i):\n",
    "               xij[k]=r[0][i]-r[0][j]\n",
    "               yij[k]=r[1][i]-r[1][j]\n",
    "               k+=1\n",
    "\n",
    "     rij=np.zeros(int(part*(part-1)/2))\n",
    "     for i in range(len(rij)):\n",
    "          rij[i]=np.sqrt(xij[i]**2+yij[i]**2)\n",
    "     A = [[psi(r[0][0],r[1][0],b),psi(r[0][1],r[1][1],b),psi(r[0][2],r[1][2],b)], \n",
    "         [chip(r[0][0],r[1][0],b),chip(r[0][1],r[1][1],b),chip(r[0][2],r[1][2],b)],\n",
    "         [chim(r[0][0],r[1][0],b),chim(r[0][1],r[1][1],b),chim(r[0][2],r[1][2],b)]]\n",
    "     B = [[psi(r[0][3],r[1][3],b),psi(r[0][4],r[1][4],b),psi(r[0][5],r[1][5],b)], \n",
    "         [chip(r[0][3],r[1][3],b),chip(r[0][4],r[1][4],b),chip(r[0][5],r[1][5],b)],\n",
    "         [chim(r[0][3],r[1][3],b),chim(r[0][4],r[1][4],b),chim(r[0][5],r[1][5],b)]]\n",
    "     return np.linalg.det(A)*np.linalg.det(B)*Jastrow(rij,jauu,jbuu)"
   ]
  },
  {
   "cell_type": "code",
   "execution_count": 229,
   "metadata": {
    "lines_to_next_cell": 1
   },
   "outputs": [],
   "source": [
    "def delta_choice(r,delta,b,N_delta,counter,psi):\n",
    "  acc_rate=1\n",
    "  while acc_rate>0.6 or acc_rate<0.4:\n",
    "    acc,counter=0,0\n",
    "    for i in range(N_delta):\n",
    "      r, acc,counter = Metropolis(r, delta, psi, b,counter, acc)\n",
    "    acc_rate=acc/counter\n",
    "    delta = adjust_delta(delta, acc_rate)\n",
    "\n",
    "  return delta"
   ]
  },
  {
   "cell_type": "code",
   "execution_count": 230,
   "metadata": {},
   "outputs": [],
   "source": [
    "def functchoice(n):\n",
    "    if n==1:\n",
    "        phi = psi\n",
    "    elif n==2:\n",
    "        phi = psi2\n",
    "    elif n==3:\n",
    "        phi = psi3\n",
    "    elif n==4:\n",
    "        phi = psi4\n",
    "    elif n==5:\n",
    "        phi = psi5\n",
    "    elif n==6:\n",
    "        phi = psi6\n",
    "    return phi"
   ]
  },
  {
   "cell_type": "code",
   "execution_count": 231,
   "metadata": {
    "lines_to_next_cell": 1
   },
   "outputs": [],
   "source": [
    "def functchoicejastrow(n):\n",
    "    if n==1:\n",
    "        phi = Jastrowpsi\n",
    "    elif n==2:\n",
    "        phi = Jastrowpsi2\n",
    "    elif n==3:\n",
    "        phi = Jastrowpsi3\n",
    "    elif n==4:\n",
    "        phi = Jastrowpsi4\n",
    "    elif n==5:\n",
    "        phi = Jastrowpsi5\n",
    "    elif n==6:\n",
    "        phi = Jastrowpsi6\n",
    "    return phi"
   ]
  },
  {
   "cell_type": "markdown",
   "metadata": {},
   "source": [
    "### POINT 3"
   ]
  },
  {
   "cell_type": "code",
   "execution_count": 186,
   "metadata": {},
   "outputs": [],
   "source": [
    "import kinetic_energy as kin\n",
    "import phi \n",
    "import numpy as np\n",
    "import importlib\n",
    "\n",
    "importlib.reload(kin)\n",
    "N_test = 3\n",
    "wavefunction = phi.functchoicejastrow(N_test)\n",
    "box_size=2\n",
    "sigma = 1\n",
    "R = np.random.uniform(0, box_size, size=(2,N_test))\n",
    "R_T = R.T\n",
    "wf_value_lusva = wavefunction(R, sigma)"
   ]
  },
  {
   "cell_type": "code",
   "execution_count": 195,
   "metadata": {
    "lines_to_next_cell": 2
   },
   "outputs": [
    {
     "name": "stdout",
     "output_type": "stream",
     "text": [
      "0.008750056582074173\n"
     ]
    },
    {
     "name": "stderr",
     "output_type": "stream",
     "text": [
      "/Users/bellamarco01/.pyenv/versions/3.13.5/lib/python3.13/site-packages/scipy/integrate/_quadpack_py.py:1260: IntegrationWarning: The maximum number of subdivisions (50) has been achieved.\n",
      "  If increasing the limit yields no improvement it is advised to analyze \n",
      "  the integrand in order to determine the difficulties.  If the position of a \n",
      "  local difficulty can be determined (singularity, discontinuity) one will \n",
      "  probably gain from splitting up the interval and calling the integrator \n",
      "  on the subranges.  Perhaps a special-purpose integrator should be used.\n",
      "  quad_r = quad(f, low, high, args=args, full_output=self.full_output,\n"
     ]
    },
    {
     "ename": "KeyboardInterrupt",
     "evalue": "",
     "output_type": "error",
     "traceback": [
      "\u001b[31m---------------------------------------------------------------------------\u001b[39m",
      "\u001b[31mKeyboardInterrupt\u001b[39m                         Traceback (most recent call last)",
      "\u001b[36mCell\u001b[39m\u001b[36m \u001b[39m\u001b[32mIn[195]\u001b[39m\u001b[32m, line 17\u001b[39m\n\u001b[32m     15\u001b[39m \u001b[38;5;66;03m# Now integrate over x in [-1,1], y in [-1,1]\u001b[39;00m\n\u001b[32m     16\u001b[39m bounds = [(-\u001b[32m1\u001b[39m, \u001b[32m1\u001b[39m) \u001b[38;5;28;01mfor\u001b[39;00m _ \u001b[38;5;129;01min\u001b[39;00m \u001b[38;5;28mrange\u001b[39m(\u001b[32m2\u001b[39m * N_test)]\n\u001b[32m---> \u001b[39m\u001b[32m17\u001b[39m result, error = \u001b[43mnquad\u001b[49m\u001b[43m(\u001b[49m\u001b[43mintegrand\u001b[49m\u001b[43m,\u001b[49m\u001b[43m \u001b[49m\u001b[43mbounds\u001b[49m\u001b[43m)\u001b[49m\n\u001b[32m     19\u001b[39m \u001b[38;5;28mprint\u001b[39m(\u001b[33m\"\u001b[39m\u001b[33mIntegral =\u001b[39m\u001b[33m\"\u001b[39m, result)\n\u001b[32m     20\u001b[39m \u001b[38;5;28mprint\u001b[39m(\u001b[33m\"\u001b[39m\u001b[33mEstimated error =\u001b[39m\u001b[33m\"\u001b[39m, error)\n",
      "\u001b[36mFile \u001b[39m\u001b[32m~/.pyenv/versions/3.13.5/lib/python3.13/site-packages/scipy/integrate/_quadpack_py.py:1206\u001b[39m, in \u001b[36mnquad\u001b[39m\u001b[34m(func, ranges, args, opts, full_output)\u001b[39m\n\u001b[32m   1204\u001b[39m \u001b[38;5;28;01melse\u001b[39;00m:\n\u001b[32m   1205\u001b[39m     opts = [opt \u001b[38;5;28;01mif\u001b[39;00m \u001b[38;5;28mcallable\u001b[39m(opt) \u001b[38;5;28;01melse\u001b[39;00m _OptFunc(opt) \u001b[38;5;28;01mfor\u001b[39;00m opt \u001b[38;5;129;01min\u001b[39;00m opts]\n\u001b[32m-> \u001b[39m\u001b[32m1206\u001b[39m \u001b[38;5;28;01mreturn\u001b[39;00m \u001b[43m_NQuad\u001b[49m\u001b[43m(\u001b[49m\u001b[43mfunc\u001b[49m\u001b[43m,\u001b[49m\u001b[43m \u001b[49m\u001b[43mranges\u001b[49m\u001b[43m,\u001b[49m\u001b[43m \u001b[49m\u001b[43mopts\u001b[49m\u001b[43m,\u001b[49m\u001b[43m \u001b[49m\u001b[43mfull_output\u001b[49m\u001b[43m)\u001b[49m\u001b[43m.\u001b[49m\u001b[43mintegrate\u001b[49m\u001b[43m(\u001b[49m\u001b[43m*\u001b[49m\u001b[43margs\u001b[49m\u001b[43m)\u001b[49m\n",
      "\u001b[36mFile \u001b[39m\u001b[32m~/.pyenv/versions/3.13.5/lib/python3.13/site-packages/scipy/integrate/_quadpack_py.py:1260\u001b[39m, in \u001b[36m_NQuad.integrate\u001b[39m\u001b[34m(self, *args, **kwargs)\u001b[39m\n\u001b[32m   1258\u001b[39m \u001b[38;5;28;01melse\u001b[39;00m:\n\u001b[32m   1259\u001b[39m     f = partial(\u001b[38;5;28mself\u001b[39m.integrate, depth=depth+\u001b[32m1\u001b[39m)\n\u001b[32m-> \u001b[39m\u001b[32m1260\u001b[39m quad_r = \u001b[43mquad\u001b[49m\u001b[43m(\u001b[49m\u001b[43mf\u001b[49m\u001b[43m,\u001b[49m\u001b[43m \u001b[49m\u001b[43mlow\u001b[49m\u001b[43m,\u001b[49m\u001b[43m \u001b[49m\u001b[43mhigh\u001b[49m\u001b[43m,\u001b[49m\u001b[43m \u001b[49m\u001b[43margs\u001b[49m\u001b[43m=\u001b[49m\u001b[43margs\u001b[49m\u001b[43m,\u001b[49m\u001b[43m \u001b[49m\u001b[43mfull_output\u001b[49m\u001b[43m=\u001b[49m\u001b[38;5;28;43mself\u001b[39;49m\u001b[43m.\u001b[49m\u001b[43mfull_output\u001b[49m\u001b[43m,\u001b[49m\n\u001b[32m   1261\u001b[39m \u001b[43m              \u001b[49m\u001b[43m*\u001b[49m\u001b[43m*\u001b[49m\u001b[43mopt\u001b[49m\u001b[43m)\u001b[49m\n\u001b[32m   1262\u001b[39m value = quad_r[\u001b[32m0\u001b[39m]\n\u001b[32m   1263\u001b[39m abserr = quad_r[\u001b[32m1\u001b[39m]\n",
      "\u001b[36mFile \u001b[39m\u001b[32m~/.pyenv/versions/3.13.5/lib/python3.13/site-packages/scipy/integrate/_quadpack_py.py:459\u001b[39m, in \u001b[36mquad\u001b[39m\u001b[34m(func, a, b, args, full_output, epsabs, epsrel, limit, points, weight, wvar, wopts, maxp1, limlst, complex_func)\u001b[39m\n\u001b[32m    456\u001b[39m     \u001b[38;5;28;01mreturn\u001b[39;00m retval\n\u001b[32m    458\u001b[39m \u001b[38;5;28;01mif\u001b[39;00m weight \u001b[38;5;129;01mis\u001b[39;00m \u001b[38;5;28;01mNone\u001b[39;00m:\n\u001b[32m--> \u001b[39m\u001b[32m459\u001b[39m     retval = \u001b[43m_quad\u001b[49m\u001b[43m(\u001b[49m\u001b[43mfunc\u001b[49m\u001b[43m,\u001b[49m\u001b[43m \u001b[49m\u001b[43ma\u001b[49m\u001b[43m,\u001b[49m\u001b[43m \u001b[49m\u001b[43mb\u001b[49m\u001b[43m,\u001b[49m\u001b[43m \u001b[49m\u001b[43margs\u001b[49m\u001b[43m,\u001b[49m\u001b[43m \u001b[49m\u001b[43mfull_output\u001b[49m\u001b[43m,\u001b[49m\u001b[43m \u001b[49m\u001b[43mepsabs\u001b[49m\u001b[43m,\u001b[49m\u001b[43m \u001b[49m\u001b[43mepsrel\u001b[49m\u001b[43m,\u001b[49m\u001b[43m \u001b[49m\u001b[43mlimit\u001b[49m\u001b[43m,\u001b[49m\n\u001b[32m    460\u001b[39m \u001b[43m                   \u001b[49m\u001b[43mpoints\u001b[49m\u001b[43m)\u001b[49m\n\u001b[32m    461\u001b[39m \u001b[38;5;28;01melse\u001b[39;00m:\n\u001b[32m    462\u001b[39m     \u001b[38;5;28;01mif\u001b[39;00m points \u001b[38;5;129;01mis\u001b[39;00m \u001b[38;5;129;01mnot\u001b[39;00m \u001b[38;5;28;01mNone\u001b[39;00m:\n",
      "\u001b[36mFile \u001b[39m\u001b[32m~/.pyenv/versions/3.13.5/lib/python3.13/site-packages/scipy/integrate/_quadpack_py.py:606\u001b[39m, in \u001b[36m_quad\u001b[39m\u001b[34m(func, a, b, args, full_output, epsabs, epsrel, limit, points)\u001b[39m\n\u001b[32m    604\u001b[39m \u001b[38;5;28;01mif\u001b[39;00m points \u001b[38;5;129;01mis\u001b[39;00m \u001b[38;5;28;01mNone\u001b[39;00m:\n\u001b[32m    605\u001b[39m     \u001b[38;5;28;01mif\u001b[39;00m infbounds == \u001b[32m0\u001b[39m:\n\u001b[32m--> \u001b[39m\u001b[32m606\u001b[39m         \u001b[38;5;28;01mreturn\u001b[39;00m \u001b[43m_quadpack\u001b[49m\u001b[43m.\u001b[49m\u001b[43m_qagse\u001b[49m\u001b[43m(\u001b[49m\u001b[43mfunc\u001b[49m\u001b[43m,\u001b[49m\u001b[43ma\u001b[49m\u001b[43m,\u001b[49m\u001b[43mb\u001b[49m\u001b[43m,\u001b[49m\u001b[43margs\u001b[49m\u001b[43m,\u001b[49m\u001b[43mfull_output\u001b[49m\u001b[43m,\u001b[49m\u001b[43mepsabs\u001b[49m\u001b[43m,\u001b[49m\u001b[43mepsrel\u001b[49m\u001b[43m,\u001b[49m\u001b[43mlimit\u001b[49m\u001b[43m)\u001b[49m\n\u001b[32m    607\u001b[39m     \u001b[38;5;28;01melse\u001b[39;00m:\n\u001b[32m    608\u001b[39m         \u001b[38;5;28;01mreturn\u001b[39;00m _quadpack._qagie(func, bound, infbounds, args, full_output, \n\u001b[32m    609\u001b[39m                                 epsabs, epsrel, limit)\n",
      "\u001b[36mFile \u001b[39m\u001b[32m~/.pyenv/versions/3.13.5/lib/python3.13/site-packages/scipy/integrate/_quadpack_py.py:1260\u001b[39m, in \u001b[36m_NQuad.integrate\u001b[39m\u001b[34m(self, *args, **kwargs)\u001b[39m\n\u001b[32m   1258\u001b[39m \u001b[38;5;28;01melse\u001b[39;00m:\n\u001b[32m   1259\u001b[39m     f = partial(\u001b[38;5;28mself\u001b[39m.integrate, depth=depth+\u001b[32m1\u001b[39m)\n\u001b[32m-> \u001b[39m\u001b[32m1260\u001b[39m quad_r = \u001b[43mquad\u001b[49m\u001b[43m(\u001b[49m\u001b[43mf\u001b[49m\u001b[43m,\u001b[49m\u001b[43m \u001b[49m\u001b[43mlow\u001b[49m\u001b[43m,\u001b[49m\u001b[43m \u001b[49m\u001b[43mhigh\u001b[49m\u001b[43m,\u001b[49m\u001b[43m \u001b[49m\u001b[43margs\u001b[49m\u001b[43m=\u001b[49m\u001b[43margs\u001b[49m\u001b[43m,\u001b[49m\u001b[43m \u001b[49m\u001b[43mfull_output\u001b[49m\u001b[43m=\u001b[49m\u001b[38;5;28;43mself\u001b[39;49m\u001b[43m.\u001b[49m\u001b[43mfull_output\u001b[49m\u001b[43m,\u001b[49m\n\u001b[32m   1261\u001b[39m \u001b[43m              \u001b[49m\u001b[43m*\u001b[49m\u001b[43m*\u001b[49m\u001b[43mopt\u001b[49m\u001b[43m)\u001b[49m\n\u001b[32m   1262\u001b[39m value = quad_r[\u001b[32m0\u001b[39m]\n\u001b[32m   1263\u001b[39m abserr = quad_r[\u001b[32m1\u001b[39m]\n",
      "\u001b[36mFile \u001b[39m\u001b[32m~/.pyenv/versions/3.13.5/lib/python3.13/site-packages/scipy/integrate/_quadpack_py.py:459\u001b[39m, in \u001b[36mquad\u001b[39m\u001b[34m(func, a, b, args, full_output, epsabs, epsrel, limit, points, weight, wvar, wopts, maxp1, limlst, complex_func)\u001b[39m\n\u001b[32m    456\u001b[39m     \u001b[38;5;28;01mreturn\u001b[39;00m retval\n\u001b[32m    458\u001b[39m \u001b[38;5;28;01mif\u001b[39;00m weight \u001b[38;5;129;01mis\u001b[39;00m \u001b[38;5;28;01mNone\u001b[39;00m:\n\u001b[32m--> \u001b[39m\u001b[32m459\u001b[39m     retval = \u001b[43m_quad\u001b[49m\u001b[43m(\u001b[49m\u001b[43mfunc\u001b[49m\u001b[43m,\u001b[49m\u001b[43m \u001b[49m\u001b[43ma\u001b[49m\u001b[43m,\u001b[49m\u001b[43m \u001b[49m\u001b[43mb\u001b[49m\u001b[43m,\u001b[49m\u001b[43m \u001b[49m\u001b[43margs\u001b[49m\u001b[43m,\u001b[49m\u001b[43m \u001b[49m\u001b[43mfull_output\u001b[49m\u001b[43m,\u001b[49m\u001b[43m \u001b[49m\u001b[43mepsabs\u001b[49m\u001b[43m,\u001b[49m\u001b[43m \u001b[49m\u001b[43mepsrel\u001b[49m\u001b[43m,\u001b[49m\u001b[43m \u001b[49m\u001b[43mlimit\u001b[49m\u001b[43m,\u001b[49m\n\u001b[32m    460\u001b[39m \u001b[43m                   \u001b[49m\u001b[43mpoints\u001b[49m\u001b[43m)\u001b[49m\n\u001b[32m    461\u001b[39m \u001b[38;5;28;01melse\u001b[39;00m:\n\u001b[32m    462\u001b[39m     \u001b[38;5;28;01mif\u001b[39;00m points \u001b[38;5;129;01mis\u001b[39;00m \u001b[38;5;129;01mnot\u001b[39;00m \u001b[38;5;28;01mNone\u001b[39;00m:\n",
      "\u001b[36mFile \u001b[39m\u001b[32m~/.pyenv/versions/3.13.5/lib/python3.13/site-packages/scipy/integrate/_quadpack_py.py:606\u001b[39m, in \u001b[36m_quad\u001b[39m\u001b[34m(func, a, b, args, full_output, epsabs, epsrel, limit, points)\u001b[39m\n\u001b[32m    604\u001b[39m \u001b[38;5;28;01mif\u001b[39;00m points \u001b[38;5;129;01mis\u001b[39;00m \u001b[38;5;28;01mNone\u001b[39;00m:\n\u001b[32m    605\u001b[39m     \u001b[38;5;28;01mif\u001b[39;00m infbounds == \u001b[32m0\u001b[39m:\n\u001b[32m--> \u001b[39m\u001b[32m606\u001b[39m         \u001b[38;5;28;01mreturn\u001b[39;00m \u001b[43m_quadpack\u001b[49m\u001b[43m.\u001b[49m\u001b[43m_qagse\u001b[49m\u001b[43m(\u001b[49m\u001b[43mfunc\u001b[49m\u001b[43m,\u001b[49m\u001b[43ma\u001b[49m\u001b[43m,\u001b[49m\u001b[43mb\u001b[49m\u001b[43m,\u001b[49m\u001b[43margs\u001b[49m\u001b[43m,\u001b[49m\u001b[43mfull_output\u001b[49m\u001b[43m,\u001b[49m\u001b[43mepsabs\u001b[49m\u001b[43m,\u001b[49m\u001b[43mepsrel\u001b[49m\u001b[43m,\u001b[49m\u001b[43mlimit\u001b[49m\u001b[43m)\u001b[49m\n\u001b[32m    607\u001b[39m     \u001b[38;5;28;01melse\u001b[39;00m:\n\u001b[32m    608\u001b[39m         \u001b[38;5;28;01mreturn\u001b[39;00m _quadpack._qagie(func, bound, infbounds, args, full_output, \n\u001b[32m    609\u001b[39m                                 epsabs, epsrel, limit)\n",
      "    \u001b[31m[... skipping similar frames: _quad at line 606 (3 times), _NQuad.integrate at line 1260 (3 times), quad at line 459 (3 times)]\u001b[39m\n",
      "\u001b[36mFile \u001b[39m\u001b[32m~/.pyenv/versions/3.13.5/lib/python3.13/site-packages/scipy/integrate/_quadpack_py.py:1260\u001b[39m, in \u001b[36m_NQuad.integrate\u001b[39m\u001b[34m(self, *args, **kwargs)\u001b[39m\n\u001b[32m   1258\u001b[39m \u001b[38;5;28;01melse\u001b[39;00m:\n\u001b[32m   1259\u001b[39m     f = partial(\u001b[38;5;28mself\u001b[39m.integrate, depth=depth+\u001b[32m1\u001b[39m)\n\u001b[32m-> \u001b[39m\u001b[32m1260\u001b[39m quad_r = \u001b[43mquad\u001b[49m\u001b[43m(\u001b[49m\u001b[43mf\u001b[49m\u001b[43m,\u001b[49m\u001b[43m \u001b[49m\u001b[43mlow\u001b[49m\u001b[43m,\u001b[49m\u001b[43m \u001b[49m\u001b[43mhigh\u001b[49m\u001b[43m,\u001b[49m\u001b[43m \u001b[49m\u001b[43margs\u001b[49m\u001b[43m=\u001b[49m\u001b[43margs\u001b[49m\u001b[43m,\u001b[49m\u001b[43m \u001b[49m\u001b[43mfull_output\u001b[49m\u001b[43m=\u001b[49m\u001b[38;5;28;43mself\u001b[39;49m\u001b[43m.\u001b[49m\u001b[43mfull_output\u001b[49m\u001b[43m,\u001b[49m\n\u001b[32m   1261\u001b[39m \u001b[43m              \u001b[49m\u001b[43m*\u001b[49m\u001b[43m*\u001b[49m\u001b[43mopt\u001b[49m\u001b[43m)\u001b[49m\n\u001b[32m   1262\u001b[39m value = quad_r[\u001b[32m0\u001b[39m]\n\u001b[32m   1263\u001b[39m abserr = quad_r[\u001b[32m1\u001b[39m]\n",
      "\u001b[36mFile \u001b[39m\u001b[32m~/.pyenv/versions/3.13.5/lib/python3.13/site-packages/scipy/integrate/_quadpack_py.py:459\u001b[39m, in \u001b[36mquad\u001b[39m\u001b[34m(func, a, b, args, full_output, epsabs, epsrel, limit, points, weight, wvar, wopts, maxp1, limlst, complex_func)\u001b[39m\n\u001b[32m    456\u001b[39m     \u001b[38;5;28;01mreturn\u001b[39;00m retval\n\u001b[32m    458\u001b[39m \u001b[38;5;28;01mif\u001b[39;00m weight \u001b[38;5;129;01mis\u001b[39;00m \u001b[38;5;28;01mNone\u001b[39;00m:\n\u001b[32m--> \u001b[39m\u001b[32m459\u001b[39m     retval = \u001b[43m_quad\u001b[49m\u001b[43m(\u001b[49m\u001b[43mfunc\u001b[49m\u001b[43m,\u001b[49m\u001b[43m \u001b[49m\u001b[43ma\u001b[49m\u001b[43m,\u001b[49m\u001b[43m \u001b[49m\u001b[43mb\u001b[49m\u001b[43m,\u001b[49m\u001b[43m \u001b[49m\u001b[43margs\u001b[49m\u001b[43m,\u001b[49m\u001b[43m \u001b[49m\u001b[43mfull_output\u001b[49m\u001b[43m,\u001b[49m\u001b[43m \u001b[49m\u001b[43mepsabs\u001b[49m\u001b[43m,\u001b[49m\u001b[43m \u001b[49m\u001b[43mepsrel\u001b[49m\u001b[43m,\u001b[49m\u001b[43m \u001b[49m\u001b[43mlimit\u001b[49m\u001b[43m,\u001b[49m\n\u001b[32m    460\u001b[39m \u001b[43m                   \u001b[49m\u001b[43mpoints\u001b[49m\u001b[43m)\u001b[49m\n\u001b[32m    461\u001b[39m \u001b[38;5;28;01melse\u001b[39;00m:\n\u001b[32m    462\u001b[39m     \u001b[38;5;28;01mif\u001b[39;00m points \u001b[38;5;129;01mis\u001b[39;00m \u001b[38;5;129;01mnot\u001b[39;00m \u001b[38;5;28;01mNone\u001b[39;00m:\n",
      "\u001b[36mFile \u001b[39m\u001b[32m~/.pyenv/versions/3.13.5/lib/python3.13/site-packages/scipy/integrate/_quadpack_py.py:606\u001b[39m, in \u001b[36m_quad\u001b[39m\u001b[34m(func, a, b, args, full_output, epsabs, epsrel, limit, points)\u001b[39m\n\u001b[32m    604\u001b[39m \u001b[38;5;28;01mif\u001b[39;00m points \u001b[38;5;129;01mis\u001b[39;00m \u001b[38;5;28;01mNone\u001b[39;00m:\n\u001b[32m    605\u001b[39m     \u001b[38;5;28;01mif\u001b[39;00m infbounds == \u001b[32m0\u001b[39m:\n\u001b[32m--> \u001b[39m\u001b[32m606\u001b[39m         \u001b[38;5;28;01mreturn\u001b[39;00m \u001b[43m_quadpack\u001b[49m\u001b[43m.\u001b[49m\u001b[43m_qagse\u001b[49m\u001b[43m(\u001b[49m\u001b[43mfunc\u001b[49m\u001b[43m,\u001b[49m\u001b[43ma\u001b[49m\u001b[43m,\u001b[49m\u001b[43mb\u001b[49m\u001b[43m,\u001b[49m\u001b[43margs\u001b[49m\u001b[43m,\u001b[49m\u001b[43mfull_output\u001b[49m\u001b[43m,\u001b[49m\u001b[43mepsabs\u001b[49m\u001b[43m,\u001b[49m\u001b[43mepsrel\u001b[49m\u001b[43m,\u001b[49m\u001b[43mlimit\u001b[49m\u001b[43m)\u001b[49m\n\u001b[32m    607\u001b[39m     \u001b[38;5;28;01melse\u001b[39;00m:\n\u001b[32m    608\u001b[39m         \u001b[38;5;28;01mreturn\u001b[39;00m _quadpack._qagie(func, bound, infbounds, args, full_output, \n\u001b[32m    609\u001b[39m                                 epsabs, epsrel, limit)\n",
      "\u001b[36mCell\u001b[39m\u001b[36m \u001b[39m\u001b[32mIn[195]\u001b[39m\u001b[32m, line 12\u001b[39m, in \u001b[36mintegrand\u001b[39m\u001b[34m(*args)\u001b[39m\n\u001b[32m     10\u001b[39m R_flat = np.array(args)  \u001b[38;5;66;03m# args is a flat tuple of length 2N\u001b[39;00m\n\u001b[32m     11\u001b[39m R = R_flat.reshape(\u001b[32m2\u001b[39m, N_test)\n\u001b[32m---> \u001b[39m\u001b[32m12\u001b[39m \u001b[38;5;28;01mreturn\u001b[39;00m \u001b[43mwf_laplacian\u001b[49m\u001b[43m(\u001b[49m\u001b[43mR\u001b[49m\u001b[43m)\u001b[49m * wavefunction(R, sigma)\n",
      "\u001b[36mCell\u001b[39m\u001b[36m \u001b[39m\u001b[32mIn[195]\u001b[39m\u001b[32m, line 5\u001b[39m, in \u001b[36m<lambda>\u001b[39m\u001b[34m(R)\u001b[39m\n\u001b[32m      2\u001b[39m \u001b[38;5;28;01mfrom\u001b[39;00m\u001b[38;5;250m \u001b[39m\u001b[34;01mscipy\u001b[39;00m\u001b[34;01m.\u001b[39;00m\u001b[34;01mintegrate\u001b[39;00m\u001b[38;5;250m \u001b[39m\u001b[38;5;28;01mimport\u001b[39;00m nquad\n\u001b[32m      3\u001b[39m \u001b[38;5;28;01mfrom\u001b[39;00m\u001b[38;5;250m \u001b[39m\u001b[34;01mfunctools\u001b[39;00m\u001b[38;5;250m \u001b[39m\u001b[38;5;28;01mimport\u001b[39;00m partial\n\u001b[32m----> \u001b[39m\u001b[32m5\u001b[39m wf_laplacian = \u001b[38;5;28;01mlambda\u001b[39;00m R: \u001b[43mkin\u001b[49m\u001b[43m.\u001b[49m\u001b[43mwf_laplacian\u001b[49m\u001b[43m(\u001b[49m\u001b[43mR\u001b[49m\u001b[43m,\u001b[49m\u001b[43m \u001b[49m\u001b[43mwavefunction\u001b[49m\u001b[43m,\u001b[49m\u001b[43m \u001b[49m\u001b[43msigma\u001b[49m\u001b[43m)\u001b[49m\n\u001b[32m      6\u001b[39m \u001b[38;5;66;03m#integrand = lambda x,y: wf_laplacian(x,y) * wavefunction(np.array([x, y]), sigma)\u001b[39;00m\n\u001b[32m      7\u001b[39m \n\u001b[32m      8\u001b[39m \u001b[38;5;66;03m# Wrapper for flat input of length 2N\u001b[39;00m\n\u001b[32m      9\u001b[39m \u001b[38;5;28;01mdef\u001b[39;00m\u001b[38;5;250m \u001b[39m\u001b[34mintegrand\u001b[39m(*args):\n",
      "\u001b[36mFile \u001b[39m\u001b[32m~/uni/2_computational/computational_physics/homework4/kinetic_energy.py:415\u001b[39m, in \u001b[36mwf_laplacian\u001b[39m\u001b[34m(R, wavefunction, sigma, h)\u001b[39m\n\u001b[32m    412\u001b[39m dR = np.zeros_like(R)\n\u001b[32m    413\u001b[39m dR[mu, i] = h\n\u001b[32m--> \u001b[39m\u001b[32m415\u001b[39m plus = \u001b[43mwavefunction\u001b[49m\u001b[43m(\u001b[49m\u001b[43mR\u001b[49m\u001b[43m \u001b[49m\u001b[43m+\u001b[49m\u001b[43m \u001b[49m\u001b[43mdR\u001b[49m\u001b[43m,\u001b[49m\u001b[43m \u001b[49m\u001b[43msigma\u001b[49m\u001b[43m)\u001b[49m\n\u001b[32m    416\u001b[39m center = wavefunction(R, sigma)\n\u001b[32m    417\u001b[39m minus = wavefunction(R - dR, sigma)\n",
      "\u001b[36mFile \u001b[39m\u001b[32m~/uni/2_computational/computational_physics/homework4/phi.py:104\u001b[39m, in \u001b[36mJastrowpsi3\u001b[39m\u001b[34m(r, b)\u001b[39m\n\u001b[32m     99\u001b[39m      rij[i]=np.sqrt(xij[i]**\u001b[32m2\u001b[39m+yij[i]**\u001b[32m2\u001b[39m)\n\u001b[32m    101\u001b[39m A = [[psi(r[\u001b[32m0\u001b[39m][\u001b[32m0\u001b[39m],r[\u001b[32m1\u001b[39m][\u001b[32m0\u001b[39m],b),psi(r[\u001b[32m0\u001b[39m][\u001b[32m1\u001b[39m],r[\u001b[32m1\u001b[39m][\u001b[32m1\u001b[39m],b)], \n\u001b[32m    102\u001b[39m     [chip(r[\u001b[32m0\u001b[39m][\u001b[32m0\u001b[39m],r[\u001b[32m1\u001b[39m][\u001b[32m0\u001b[39m],b),chip(r[\u001b[32m0\u001b[39m][\u001b[32m1\u001b[39m],r[\u001b[32m1\u001b[39m][\u001b[32m1\u001b[39m],b)]]\n\u001b[32m--> \u001b[39m\u001b[32m104\u001b[39m \u001b[38;5;28;01mreturn\u001b[39;00m \u001b[43mnp\u001b[49m\u001b[43m.\u001b[49m\u001b[43mlinalg\u001b[49m\u001b[43m.\u001b[49m\u001b[43mdet\u001b[49m\u001b[43m(\u001b[49m\u001b[43mA\u001b[49m\u001b[43m)\u001b[49m*psi(r[\u001b[32m0\u001b[39m][\u001b[32m2\u001b[39m],r[\u001b[32m1\u001b[39m][\u001b[32m2\u001b[39m],b)*Jastrow(rij,jauu,jbuu)\n",
      "\u001b[36mFile \u001b[39m\u001b[32m~/.pyenv/versions/3.13.5/lib/python3.13/site-packages/numpy/linalg/_linalg.py:2430\u001b[39m, in \u001b[36mdet\u001b[39m\u001b[34m(a)\u001b[39m\n\u001b[32m   2428\u001b[39m t, result_t = _commonType(a)\n\u001b[32m   2429\u001b[39m signature = \u001b[33m'\u001b[39m\u001b[33mD->D\u001b[39m\u001b[33m'\u001b[39m \u001b[38;5;28;01mif\u001b[39;00m isComplexType(t) \u001b[38;5;28;01melse\u001b[39;00m \u001b[33m'\u001b[39m\u001b[33md->d\u001b[39m\u001b[33m'\u001b[39m\n\u001b[32m-> \u001b[39m\u001b[32m2430\u001b[39m r = \u001b[43m_umath_linalg\u001b[49m\u001b[43m.\u001b[49m\u001b[43mdet\u001b[49m\u001b[43m(\u001b[49m\u001b[43ma\u001b[49m\u001b[43m,\u001b[49m\u001b[43m \u001b[49m\u001b[43msignature\u001b[49m\u001b[43m=\u001b[49m\u001b[43msignature\u001b[49m\u001b[43m)\u001b[49m\n\u001b[32m   2431\u001b[39m r = r.astype(result_t, copy=\u001b[38;5;28;01mFalse\u001b[39;00m)\n\u001b[32m   2432\u001b[39m \u001b[38;5;28;01mreturn\u001b[39;00m r\n",
      "\u001b[31mKeyboardInterrupt\u001b[39m: "
     ]
    }
   ],
   "source": [
    "# calculate to christ the kinetic energy in whicherver way \n",
    "from scipy.integrate import nquad\n",
    "from functools import partial\n",
    "\n",
    "wf_laplacian = lambda R: kin.wf_laplacian(R, wavefunction, sigma)\n",
    "#integrand = lambda x,y: wf_laplacian(x,y) * wavefunction(np.array([x, y]), sigma)\n",
    "\n",
    "# Wrapper for flat input of length 2N\n",
    "def integrand(*args):\n",
    "    R_flat = np.array(args)  # args is a flat tuple of length 2N\n",
    "    R = R_flat.reshape(2, N_test)\n",
    "    return wf_laplacian(R) * wavefunction(R, sigma)\n",
    "\n",
    "print(wf_laplacian(R))\n",
    "# Now integrate over x in [-1,1], y in [-1,1]\n",
    "bounds = [(-1, 1) for _ in range(2 * N_test)]\n",
    "result, error = nquad(integrand, bounds)\n",
    "\n",
    "print(\"Integral =\", result)\n",
    "print(\"Estimated error =\", error)"
   ]
  },
  {
   "cell_type": "code",
   "execution_count": null,
   "metadata": {
    "lines_to_next_cell": 2
   },
   "outputs": [],
   "source": [
    "import numpy as np\n",
    "\n",
    "def monte_carlo_integrate(wf_laplacian, N, L=1.0, M=100_000, sigma=1.0):\n",
    "    \"\"\"\n",
    "    Monte Carlo integration of a 2N-dimensional function wf_laplacian(R),\n",
    "    where R is shaped (2, N), over [-L, L]^{2N}.\n",
    "\n",
    "    Args:\n",
    "        wf_laplacian: callable R -> float, where R.shape == (2, N)\n",
    "        N: number of particles\n",
    "        L: half-width of the integration box\n",
    "        M: number of Monte Carlo samples\n",
    "        sigma: passed to wf_laplacian via closure\n",
    "\n",
    "    Returns:\n",
    "        estimated integral value\n",
    "    \"\"\"\n",
    "\n",
    "    volume = (2 * L)**(2 * N)\n",
    "    samples = 2 * L * (np.random.rand(M, 2, N) - 0.5)  # Shape: (M, 2, N)\n",
    "    \n",
    "    values = np.array([wf_laplacian(R) for R in samples])\n",
    "    \n",
    "    mean = np.mean(values)\n",
    "    std_err = np.std(values) / np.sqrt(M)\n",
    "    \n",
    "    integral = volume * mean\n",
    "    error = volume * std_err\n",
    "\n",
    "    return integral, error\n",
    "\n",
    "N=3\n",
    "# Run MC integration\n",
    "I, err = monte_carlo_integrate(wf_laplacian, N, L=1.5, M=100_000)\n",
    "print(f\"Monte Carlo estimate: {I:.6f} ± {err:.6f}\")"
   ]
  },
  {
   "attachments": {},
   "cell_type": "markdown",
   "metadata": {},
   "source": [
    "### POINT 4"
   ]
  },
  {
   "cell_type": "code",
   "execution_count": 232,
   "metadata": {
    "lines_to_next_cell": 2
   },
   "outputs": [],
   "source": [
    "b=1\n",
    "\n",
    "part = 2\n",
    "funct=functchoice(part)\n",
    "r = np.zeros((2,part))\n",
    "acc, counter=0,0\n",
    "for i in range(len(r)):\n",
    "    for j in range(len(r[0])):\n",
    "        r[i][j]=random.uniform(0,1)   #r[x o y][particella]\n",
    "        \n",
    "\n",
    "delta=1\n",
    "N=1000000\n",
    "Neq=int(N*1/50)\n",
    "N_delta=10000\n",
    "posx1,posy1,posx2,posy2, acc_list=[],[],[],[],[]"
   ]
  },
  {
   "cell_type": "code",
   "execution_count": 233,
   "metadata": {
    "lines_to_next_cell": 2
   },
   "outputs": [
    {
     "name": "stdout",
     "output_type": "stream",
     "text": [
      "b=1,Δ=1.331\n"
     ]
    }
   ],
   "source": [
    "delta = delta_choice(r,delta,b,N_delta,0,funct)\n",
    "\n",
    "for i in range(N):\n",
    "    r,acc, counter = Metropolis(r, delta, funct, b,counter, acc)\n",
    "    \n",
    "    posx1.append(r)\n",
    "\n",
    "    acc_list.append(acc/counter)\n",
    "\n",
    "\n",
    "print(f'b={b},\\u0394={round(delta,3)}')"
   ]
  },
  {
   "cell_type": "code",
   "execution_count": 234,
   "metadata": {},
   "outputs": [
    {
     "data": {
      "text/plain": [
       "Text(0.5, 1.0, 'Acceptance rate')"
      ]
     },
     "execution_count": 234,
     "metadata": {},
     "output_type": "execute_result"
    },
    {
     "data": {
      "image/png": "[encoded data removed]",
      "text/plain": [
       "<Figure size 640x480 with 1 Axes>"
      ]
     },
     "metadata": {},
     "output_type": "display_data"
    }
   ],
   "source": [
    "plt.plot(np.array(range(N)),acc_list)\n",
    "plt.title('Acceptance rate')"
   ]
  },
  {
   "attachments": {},
   "cell_type": "markdown",
   "metadata": {},
   "source": [
    "### POINT 5"
   ]
  },
  {
   "cell_type": "code",
   "execution_count": 235,
   "metadata": {},
   "outputs": [],
   "source": [
    "b=1\n",
    "\n",
    "\n",
    "\n",
    "part = 3\n",
    "\n",
    "r = np.zeros((2,part))\n",
    "acc, counter=0,0\n",
    "for i in range(len(r)):\n",
    "    for j in range(len(r[0])):\n",
    "        r[i][j]=random.uniform(0,1)   #r[x o y][particella]\n",
    "        \n",
    "\n",
    "funct=functchoicejastrow(part)\n",
    "\n",
    "\n",
    "\n",
    "acc, counter=0,0\n",
    "delta=1\n",
    "N=1000000\n",
    "Neq=int(N*1/50)\n",
    "N_delta=10000\n",
    "posx1,posy1,posx2,posy2, acc_list=[],[],[],[],[]"
   ]
  },
  {
   "cell_type": "code",
   "execution_count": 236,
   "metadata": {
    "lines_to_next_cell": 2
   },
   "outputs": [
    {
     "name": "stdout",
     "output_type": "stream",
     "text": [
      "b=1,Δ=1.1\n"
     ]
    }
   ],
   "source": [
    "delta = delta_choice(r,delta,b,N_delta,0,funct)\n",
    "\n",
    "for i in range(N):\n",
    "    r,acc, counter = Metropolis(r, delta, funct, b,counter, acc)\n",
    "    \n",
    "    posx1.append(r)\n",
    "\n",
    "    acc_list.append(acc/counter)\n",
    "\n",
    "\n",
    "print(f'b={b},\\u0394={round(delta,3)}')"
   ]
  },
  {
   "cell_type": "code",
   "execution_count": 237,
   "metadata": {
    "lines_to_next_cell": 3
   },
   "outputs": [
    {
     "data": {
      "text/plain": [
       "Text(0.5, 1.0, 'Acceptance rate')"
      ]
     },
     "execution_count": 237,
     "metadata": {},
     "output_type": "execute_result"
    },
    {
     "data": {
      "image/png": "[encoded data removed]",
      "text/plain": [
       "<Figure size 640x480 with 1 Axes>"
      ]
     },
     "metadata": {},
     "output_type": "display_data"
    }
   ],
   "source": [
    "plt.plot(np.array(range(N)),acc_list)\n",
    "plt.title('Acceptance rate')"
   ]
  }
 ],
 "metadata": {
  "jupytext": {
   "formats": "ipynb,py:percent"
  },
  "kernelspec": {
   "display_name": "Python 3",
   "language": "python",
   "name": "python3"
  },
  "language_info": {
   "codemirror_mode": {
    "name": "ipython",
    "version": 3
   },
   "file_extension": ".py",
   "mimetype": "text/x-python",
   "name": "python",
   "nbconvert_exporter": "python",
   "pygments_lexer": "ipython3",
   "version": "3.13.5"
  }
 },
 "nbformat": 4,
 "nbformat_minor": 2
}
