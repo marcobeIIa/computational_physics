{
 "cells": [
  {
   "cell_type": "markdown",
   "metadata": {},
   "source": [
    "1. find the correct expression of the normalization constant in Eq. (8)"
   ]
  },
  {
   "cell_type": "code",
   "execution_count": 78,
   "metadata": {},
   "outputs": [],
   "source": [
    "import numpy as np\n",
    "import scipy\n",
    "import sys\n",
    "import scipy.special\n",
    "from math import factorial\n",
    "from scipy.special import hermite\n",
    "import matplotlib.pyplot as plt\n",
    "\n",
    "def norm_constant(n, nu):\n",
    "    '''\n",
    "    this function returns the normalisation constant for the n-th order radial wavefunction \n",
    "    '''\n",
    "    denom = 4*np.pi**(3/2) * 2**(2*n+1) / (2*nu)**0.5 * factorial(2*n+1)\n",
    "    return (2 / denom)**(1/2) #the factor sqrt 2 comes from hermites being even, and our given normalisation being between -inf and +inf\n",
    "\n",
    "def R_n(n,r,nu):\n",
    "    '''\n",
    "    this function returns the n-th order radial wf of eigenstates of 3d HO\n",
    "    '''\n",
    "    return norm_constant(n,nu)* np.exp(-nu*r**2)* hermite(2*n+1)((2*nu)**0.5*r) / r"
   ]
  },
  {
   "cell_type": "markdown",
   "metadata": {},
   "source": [
    "Check normalisation, change n1 and n2 to see if the radial wf's are orthonormal"
   ]
  },
  {
   "cell_type": "code",
   "execution_count": 79,
   "metadata": {},
   "outputs": [
    {
     "name": "stdout",
     "output_type": "stream",
     "text": [
      "The scalar product between the 5 wavefunction and the 5 wavefunction is 0.9947270635579459\n"
     ]
    }
   ],
   "source": [
    "n1 = 5\n",
    "n2 = 5\n",
    "nu = 1\n",
    "\n",
    "r = np.linspace(0.1, 10, 1000)\n",
    "\n",
    "R1 = [R_n(n1, r, nu) for r in r]\n",
    "R2 = [R_n(n2, r, nu) for r in r]\n",
    "\n",
    "integrand = [4*np.pi*r1 * r2 * r**2 for r1, r2, r in zip(R1, R2, r)]\n",
    "\n",
    "norm = np.trapz(integrand, r)\n",
    "print(\"The scalar product between the\",n1, \"wavefunction and the\", n2, \"wavefunction is\",norm)"
   ]
  },
  {
   "cell_type": "markdown",
   "metadata": {},
   "source": [
    "Matrix elements of the hamiltonian"
   ]
  },
  {
   "cell_type": "code",
   "execution_count": null,
   "metadata": {},
   "outputs": [],
   "source": [
    "dim = 10\n",
    "H = np.zeros[dim,dim]\n",
    "\n",
    "for i in range(dim):\n",
    "    for j in range(dim):\n",
    "        H\n",
    "        \n",
    "\n"
   ]
  }
 ],
 "metadata": {
  "kernelspec": {
   "display_name": "Python 3",
   "language": "python",
   "name": "python3"
  },
  "language_info": {
   "codemirror_mode": {
    "name": "ipython",
    "version": 3
   },
   "file_extension": ".py",
   "mimetype": "text/x-python",
   "name": "python",
   "nbconvert_exporter": "python",
   "pygments_lexer": "ipython3",
   "version": "3.7.1"
  }
 },
 "nbformat": 4,
 "nbformat_minor": 2
}
