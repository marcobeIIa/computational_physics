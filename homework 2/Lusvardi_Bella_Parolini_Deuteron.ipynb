{
 "cells": [
  {
   "cell_type": "markdown",
   "metadata": {},
   "source": [
    "1. find the correct expression of the normalization constant in Eq. (8)"
   ]
  },
  {
   "cell_type": "code",
   "execution_count": 161,
   "metadata": {},
   "outputs": [],
   "source": [
    "import numpy as np\n",
    "import scipy\n",
    "import sys\n",
    "import math\n",
    "import scipy.special\n",
    "import scipy.constants as const\n",
    "from math import factorial\n",
    "from scipy.special import hermite\n",
    "import matplotlib.pyplot as plt\n",
    "from scipy.linalg import eigh"
   ]
  },
  {
   "cell_type": "code",
   "execution_count": 162,
   "metadata": {},
   "outputs": [
    {
     "name": "stdout",
     "output_type": "stream",
     "text": [
      "41.58398182328096\n"
     ]
    }
   ],
   "source": [
    "#constants\n",
    "\n",
    "v_0R = 200 #Mev\n",
    "v_0t = 178 #Mev\n",
    "v_0s = 91.85 #Mev\n",
    "\n",
    "k_R = 1.487 #fm^-2 should we change in A?\n",
    "k_t = 0.639 #fm^-2\n",
    "k_s = 0.465 #fm^-2\n",
    "\n",
    "# - Radial wavefunction parameters\n",
    "nu = [1/8] #fm^-2\n",
    "n_max = 20 #maximum value of the order of the radial part of the wavefunction\n",
    "\n",
    "m_p = 938.272 # mass of proton in MeV/c^2\n",
    "m_n = 939.565 # mass of neutron in MeV/c^2\n",
    "m_e = 0.511 # mass of electron in MeV/c^2\n",
    "mu = m_p*m_n/(m_p+m_n) #reduced mass in amu\n",
    "\n",
    "#h_bar_Js = const.hbar #hbar in Js\n",
    "#h_bar = h_bar_Js / (1.6e-19) # hbar in eVs\n",
    "#c=const.c\n",
    "\n",
    "\n",
    "#a = 1e-3 * h_bar**2 *(c*1e10)**2/(2*mu) #1e-3 for conversion meV, eV -> meV - 1e-10 for conversion m -> Å\n",
    "\n",
    "h_bar_Js = const.hbar #hbar in Js\n",
    "h_bar = h_bar_Js / (1.6e-19) # hbar in eVs\n",
    "c=const.c\n",
    "\n",
    "h_bar_c = h_bar * c * 1e9 # hbar*c in MeV*fm\n",
    "\n",
    "a = h_bar_c**2 / (2*mu) #MeVfm^2\n",
    "\n",
    "print(a) #MeVfm^2"
   ]
  },
  {
   "cell_type": "markdown",
   "metadata": {},
   "source": [
    "Normalizing our space states $\\psi_j(\\mathbf{r})$, namely $\\int d\\mathbf{r} |\\psi_j(\\mathbf{r})|^2=1$ we obtain the analytical expression for $\\tilde{N_n}$:\n",
    "$$\n",
    "\\tilde{N}_n= \\dfrac{(2\\nu)^{1/4}}{2\\pi^{3/4}\\sqrt{(2n+1)!}}2^{-n}\n",
    "$$."
   ]
  },
  {
   "cell_type": "code",
   "execution_count": 163,
   "metadata": {},
   "outputs": [],
   "source": [
    "\n",
    "def norm_constant(n,nu):\n",
    "    '''\n",
    "    this function returns the normalisation constant for the n-th order radial wavefunction \n",
    "    '''\n",
    "    return np.sqrt(np.sqrt(2*nu) * 2**(-2*n)/(4*np.pi**(3/2) * factorial(2*n+1)))\n",
    "\n",
    "def R_n(n,r,nu):\n",
    "    '''\n",
    "    this function returns the n-th order radial wf of eigenstates of 3d HO\n",
    "    '''\n",
    "    return norm_constant(n,nu)* np.exp(-nu*r**2)* hermite(2*n+1)((2*nu)**0.5*r) / r\n",
    "\n",
    "# Function that show graphically the elements of the matrix\n",
    "def draw_matrix(matrix):\n",
    "    plt.imshow(matrix, cmap='viridis', interpolation='nearest')\n",
    "    plt.colorbar()\n",
    "    plt.show()"
   ]
  },
  {
   "cell_type": "markdown",
   "metadata": {},
   "source": [
    "Check normalisation, change n1 and n2 to see if the radial wf's are orthonormal"
   ]
  },
  {
   "cell_type": "code",
   "execution_count": 164,
   "metadata": {},
   "outputs": [
    {
     "name": "stdout",
     "output_type": "stream",
     "text": [
      "The scalar product between the 10 wavefunction and the 10 wavefunction is 0.9933554521160066\n"
     ]
    }
   ],
   "source": [
    "n1 = 10\n",
    "n2 = 10\n",
    "nu = 1\n",
    "\n",
    "r = np.linspace(0.1, 10, 1000)\n",
    "\n",
    "R1 = [R_n(n1, r, nu) for r in r]\n",
    "R2 = [R_n(n2, r, nu) for r in r]\n",
    "\n",
    "integrand = [4*np.pi*r1 * r2 * r**2 for r1, r2, r in zip(R1, R2, r)]\n",
    "\n",
    "norm = np.trapz(integrand, r)\n",
    "print(\"The scalar product between the\",n1, \"wavefunction and the\", n2, \"wavefunction is\",norm)"
   ]
  },
  {
   "cell_type": "markdown",
   "metadata": {},
   "source": [
    "## Matrix elements"
   ]
  },
  {
   "cell_type": "markdown",
   "metadata": {},
   "source": [
    "## Working on spin-isospin"
   ]
  },
  {
   "cell_type": "markdown",
   "metadata": {},
   "source": [
    "The four possible states of spin-isospin $\\Phi_j (\\sigma_1,\\tau_1,\\sigma_2, \\tau_2)$ of our system are \n",
    "\n",
    "\\begin{align*}\n",
    "|\\Phi_A \\rangle &= \\frac{1}{\\sqrt{2}} \\left( \\ket{\\uparrow \\uparrow \\uparrow \\downarrow} - \\ket{\\uparrow \\downarrow \\uparrow \\uparrow} \\right) \\\\\n",
    "|\\Phi_B \\rangle &= \\frac{1}{\\sqrt{2}} \\left( \\ket{\\uparrow \\uparrow \\downarrow \\downarrow} - \\ket{\\downarrow \\downarrow \\uparrow \\uparrow} \\right) \\\\\n",
    "|\\Phi_C \\rangle &= \\frac{1}{\\sqrt{2}} \\left( \\ket{\\downarrow \\uparrow \\downarrow \\downarrow} - \\ket{\\downarrow \\downarrow \\downarrow \\uparrow} \\right) \\\\\n",
    "|\\Phi_D \\rangle &= \\frac{1}{\\sqrt{2}} \\left( \\ket{\\downarrow \\uparrow \\uparrow \\downarrow} - \\ket{\\uparrow \\downarrow \\downarrow \\uparrow} \\right)\n",
    "\\end{align*}"
   ]
  },
  {
   "cell_type": "code",
   "execution_count": 165,
   "metadata": {},
   "outputs": [],
   "source": [
    "#DEFINING THE STATES\n",
    "up = 1\n",
    "down = -1\n",
    "prefactor = 1 / np.sqrt(2)\n",
    "# A = (|↑↑↑↓⟩ − |↑↓↑↑⟩)\n",
    "A = [ ((up, up, up, down), prefactor), ((up, down, up, up), -prefactor) ]\n",
    "\n",
    "# B = (|↑↑↓↓⟩ − |↓↓↑↑⟩)\n",
    "B = [ ((up, up, down, down), prefactor), ((down, down, up, up), -prefactor) ]\n",
    "\n",
    "# C = (|↓↑↓↓⟩ − |↓↓↓↑⟩)\n",
    "C = [ ((down, up, down, down), prefactor), ((down, down, down, up), -prefactor) ]\n",
    "\n",
    "# D = (|↓↑↑↓⟩ − |↑↓↓↑⟩)\n",
    "D = [ ((down, up, up, down), prefactor), ((up, down, down, up), -prefactor)] \n"
   ]
  },
  {
   "cell_type": "markdown",
   "metadata": {},
   "source": [
    "Spin-isopsin functions to evaluate 4x4 potential matrix"
   ]
  },
  {
   "cell_type": "code",
   "execution_count": 166,
   "metadata": {},
   "outputs": [],
   "source": [
    "# Compute inner product between two spin states\n",
    "\n",
    "def inner_product(state1, state2):\n",
    "    total = 0\n",
    "    for (s1, c1) in state1: #represent full basis states: s1 = (down, up, down, down) for example\n",
    "        for (s2, c2) in state2:\n",
    "                S1 = tuple(x for x in s1)  # multiply the coefficients with the spin states\n",
    "                S2 = tuple(x for x in s2)  # multiply the coefficients with the spin states\n",
    "                if S1 == S2:\n",
    "                    total += c1 * c2\n",
    "                    #print(total)\n",
    "    return total\n",
    "\n",
    "\n",
    "#check if it works\n",
    "#print(\"Inner product is\",inner_product(B,B))\n",
    "\n",
    "def spin_exchange(state):\n",
    "    exchanged_state = []\n",
    "    for spin, coeff in state:\n",
    "        a, b, c, d = spin  # Unpack the original spin tuple (safe and clean)\n",
    "        new_spin = (c, b, a, d)  # Swap the first three elements\n",
    "        exchanged_state.append((new_spin, coeff))\n",
    "    return exchanged_state\n",
    "\n",
    "#print(\"Inner product is\",inner_product(B,spin_exchange(D)))\n",
    "\n",
    "def V_R(r):\n",
    "    return v_0R * np.exp(-k_R*r**2) # MeV\n",
    "\n",
    "def V_t(r):\n",
    "    return v_0t * np.exp(-k_t*r**2) # MeV\n",
    "\n",
    "def V_s(r):\n",
    "    return v_0s * np.exp(-k_s*r**2) # MeV\n",
    "\n",
    "\n",
    "def V_matrix_elements(state1, state2, r):\n",
    "    '''\n",
    "    This function returns the potential energy between two states at a distance r.\n",
    "    '''\n",
    "    # Apply spin exchange to state2\n",
    "    exchanged_state2 = spin_exchange(state2)\n",
    "    \n",
    "    # Compute the two potential terms (you may need to adjust this depending on the context)\n",
    "    V_t_value = V_t(r)\n",
    "    V_s_value = V_s(r)\n",
    "    \n",
    "    Vij =  inner_product(state1,state2)\n",
    "    Vij_P = inner_product(state1, exchanged_state2)\n",
    "\n",
    "    return (0.5 * (Vij + Vij_P) * V_t_value + 0.5 * (Vij - Vij_P) * V_s_value) \n",
    "\n",
    "#r = 1.0  # radial distance in fm\n",
    "#print(\"The potential energy between A and B is\", V_matrix_elements(B,D,r))\n",
    "\n",
    "def V_matrix_elements_str(state1, state2):\n",
    "    \"\"\"\n",
    "    Returns the potential matrix element ⟨state1|V|state2⟩ as a string,\n",
    "    using symbolic expressions for V_t(r) and V_s(r) which will help us to built gauss-hermite integral's coefficients.\n",
    "    \"\"\"\n",
    "    # Apply spin exchange\n",
    "    exchanged_state2 = spin_exchange(state2)\n",
    "\n",
    "    # Inner products (assumed numeric)\n",
    "    Vij   = inner_product(state1, state2)\n",
    "    Vij_P = inner_product(state1, exchanged_state2)\n",
    "\n",
    "    # Build symbolic string\n",
    "    term_t = f\"(0.5*({Vij} + {Vij_P}))*V_t(r)\"\n",
    "    term_s = f\"(0.5*({Vij} - {Vij_P}))*V_s(r)\"\n",
    "\n",
    "    return f\"{term_t} + {term_s}\""
   ]
  },
  {
   "cell_type": "markdown",
   "metadata": {},
   "source": [
    "Showing results"
   ]
  },
  {
   "cell_type": "code",
   "execution_count": 167,
   "metadata": {},
   "outputs": [
    {
     "name": "stdout",
     "output_type": "stream",
     "text": [
      "Matrix elements ⟨X|V(r)|Y⟩ with r = 1.0 fm\n",
      "\n",
      "⟨A|V|A⟩ =  93.9520 MeV\n",
      "⟨A|V|B⟩ =  0.0000 MeV\n",
      "⟨A|V|C⟩ =  0.0000 MeV\n",
      "⟨A|V|D⟩ =  0.0000 MeV\n",
      "\n",
      "⟨B|V|A⟩ =  0.0000 MeV\n",
      "⟨B|V|B⟩ =  75.8231 MeV\n",
      "⟨B|V|C⟩ =  0.0000 MeV\n",
      "⟨B|V|D⟩ =  18.1289 MeV\n",
      "\n",
      "⟨C|V|A⟩ =  0.0000 MeV\n",
      "⟨C|V|B⟩ =  0.0000 MeV\n",
      "⟨C|V|C⟩ =  93.9520 MeV\n",
      "⟨C|V|D⟩ =  0.0000 MeV\n",
      "\n",
      "⟨D|V|A⟩ =  0.0000 MeV\n",
      "⟨D|V|B⟩ =  18.1289 MeV\n",
      "⟨D|V|C⟩ =  0.0000 MeV\n",
      "⟨D|V|D⟩ =  75.8231 MeV\n",
      "\n"
     ]
    }
   ],
   "source": [
    "states = [A, B, C, D]\n",
    "labels = [\"A\", \"B\", \"C\", \"D\"]\n",
    "\n",
    "r = 1.0  # radial distance in fm\n",
    "\n",
    "# Compute the full matrix\n",
    "matrix = np.zeros((4, 4))\n",
    "\n",
    "for i, state_i in enumerate(states):\n",
    "    for j, state_j in enumerate(states):\n",
    "        matrix[i, j] = V_matrix_elements(state_i, state_j,r)\n",
    "\n",
    "# Display results nicely\n",
    "print(\"Matrix elements ⟨X|V(r)|Y⟩ with r =\", r, \"fm\\n\")\n",
    "for i in range(4):\n",
    "    for j in range(4):\n",
    "        print(f\"⟨{labels[i]}|V|{labels[j]}⟩ = {matrix[i,j]: .4f} MeV\")\n",
    "    print()"
   ]
  },
  {
   "cell_type": "code",
   "execution_count": 168,
   "metadata": {},
   "outputs": [
    {
     "data": {
      "image/png": "[encoded data removed]",
      "text/plain": [
       "<Figure size 640x480 with 2 Axes>"
      ]
     },
     "metadata": {},
     "output_type": "display_data"
    }
   ],
   "source": [
    "# Drawing of the Potential matrix\n",
    "draw_matrix(matrix)"
   ]
  },
  {
   "cell_type": "markdown",
   "metadata": {},
   "source": [
    "By looking how the operator $\\hat{P}^{\\sigma}$ acts on our states:\n",
    "$$\n",
    " \\hat{P}^{\\sigma}|\\phi_A \\rangle = \\hat{P}^{\\sigma} \\frac{1}{\\sqrt{2}}(|\\uparrow \\uparrow \\uparrow \\downarrow \\rangle - |\\uparrow \\downarrow \\uparrow \\uparrow  \\rangle) = \\frac{1}{\\sqrt{2}}(|\\uparrow \\uparrow \\uparrow \\downarrow \\rangle - |\\uparrow \\downarrow \\uparrow \\uparrow  \\rangle) = |\\phi_A \\rangle\n",
    "$$\n",
    "$$\n",
    " \\hat{P}^{\\sigma}|\\phi_B \\rangle =  |\\phi_D \\rangle\n",
    "$$\n",
    "$$\n",
    " \\hat{P}^{\\sigma}|\\phi_C \\rangle =  |\\phi_C \\rangle\n",
    "$$\n",
    "$$\n",
    " \\hat{P}^{\\sigma}|\\phi_D \\rangle =  |\\phi_B \\rangle\n",
    "$$\n",
    "we see the code working well as we expect only B and D states to be coupled by the potential."
   ]
  },
  {
   "cell_type": "markdown",
   "metadata": {},
   "source": [
    "To evaluate the matrix elements of the operator \n",
    "$$\n",
    "\\hat{V}=V_{R}(r)+\\frac{1}{2}(1+\\hat{P}^{\\sigma})V_t(r)+\\frac{1}{2}(1-\\hat{P}^{\\sigma})V_s(r)\n",
    "$$\n",
    "on the full Hilbert space we have to first act with spin-isospin states and then integrate over the radial coordiante. \n",
    "$$\n",
    "\\langle mj |\\hat{V} |ni \\rangle =\n",
    "$$\n",
    "$$\n",
    "\\tilde{N}_m(\\nu) \\tilde{N}_n(\\nu) \\delta_{j,i} \\left[ \\int_{0}^{\\infty} dr v_{0r}e^{-(2 \\nu + k_R)r^2} H_{2n+1}(\\sqrt{2 \\nu} r) H_{2m+1}(\\sqrt{2 \\nu} r) + \\int_{0}^{\\infty} dr v_{0t}e^{-(2 \\nu + k_T)r^2} H_{2n+1}(\\sqrt{2 \\nu} r) H_{2m+1}(\\sqrt{2 \\nu} r) \\right]\n",
    "$$\n",
    "This integrals involve a product between Hermite polynomials times a gaussian, to solve them we use the Gauss-Hermite quadrature. By changing variable $((2 \\nu + k)r^2)=x^2$ we get the general form \n",
    "$$\n",
    "I=\\frac{1}{2 \\sqrt{2 \\nu + k}} \\int_{-\\infty}^{\\infty} dx  \\ v \\ e^{-x^2} H_{2n+1}\\left(x\\sqrt{\\frac{2 \\nu}{2 \\nu + k}}\\right) H_{2m+1}\\left(x\\sqrt{\\frac{2 \\nu}{2 \\nu + k}}\\right)\n",
    "$$\n",
    "The Gauss-Hermite quadrature states that\n",
    "$$\n",
    "I\\simeq \\frac{v}{2\\sqrt{2\\nu +k}}\\Sigma _{i=1} ^n w_i \\cdot H_{2n+1}\\left(x_i\\sqrt{\\frac{2 \\nu}{2 \\nu + k}}\\right)\\cdot H_{2m+1}\\left(x_i\\sqrt{\\frac{2 \\nu}{2 \\nu + k}}\\right),\n",
    "$$\n",
    "where $n$ is the number of points sampled used, $w_i= \\frac{2^{n-1}n!\\sqrt{\\pi}}{n^2 [H_{n-1}(x_i)]^2}$ and $x_i$ are the points of quadrature (controls accuracy; more = better)."
   ]
  },
  {
   "cell_type": "code",
   "execution_count": 169,
   "metadata": {},
   "outputs": [],
   "source": [
    "# Quadrature integrals\n",
    "def gauss_hermite_integration(func, n,k,i,j,nu):\n",
    "    # nodes and weights for the gaussian quadrature\n",
    "    nodes, weights = np.polynomial.hermite.hermgauss(n)\n",
    "\n",
    "    # evaluate the function in the nodes and do the sum\n",
    "    integral = np.sum(weights * func(nodes,k,i,j,nu))\n",
    "\n",
    "    return integral\n",
    "\n",
    "# Function to quadrature\n",
    "def Hermite_product(x,k,i,j,nu):\n",
    "  \"\"\"product of hermite polinomyals of order 2i+1 and 2j+1 evaluated in x*(expression that depends on nu and k), k depends on V_t or V_s\"\"\"\n",
    "  return hermite(2*i+1)(x*np.sqrt(2*nu/(2*nu+k)))*hermite(2*j+1)(x*np.sqrt(2*nu/(2*nu+k)))\n",
    "\n",
    "# Function that show graphically the elements of the matrix\n",
    "def draw_matrix(matrix):\n",
    "    plt.imshow(matrix, cmap='viridis', interpolation='nearest')\n",
    "    plt.colorbar()\n",
    "    plt.show()\n"
   ]
  },
  {
   "cell_type": "markdown",
   "metadata": {},
   "source": [
    "The following code section will help us evaluating the contributes of the radial potential after the smashing of spin-isospins states."
   ]
  },
  {
   "cell_type": "code",
   "execution_count": 170,
   "metadata": {},
   "outputs": [
    {
     "name": "stdout",
     "output_type": "stream",
     "text": [
      "Matrix elements ⟨X|V(r)|Y⟩\n",
      "\n",
      "⟨A|V|A⟩ = (0.5*(0.9999999999999998 + 0.9999999999999998))*V_t(r) + (0.5*(0.9999999999999998 - 0.9999999999999998))*V_s(r)\n",
      "⟨A|V|B⟩ = (0.5*(0 + 0))*V_t(r) + (0.5*(0 - 0))*V_s(r)\n",
      "⟨A|V|C⟩ = (0.5*(0 + 0))*V_t(r) + (0.5*(0 - 0))*V_s(r)\n",
      "⟨A|V|D⟩ = (0.5*(0 + 0))*V_t(r) + (0.5*(0 - 0))*V_s(r)\n",
      "\n",
      "⟨B|V|A⟩ = (0.5*(0 + 0))*V_t(r) + (0.5*(0 - 0))*V_s(r)\n",
      "⟨B|V|B⟩ = (0.5*(0.9999999999999998 + 0))*V_t(r) + (0.5*(0.9999999999999998 - 0))*V_s(r)\n",
      "⟨B|V|C⟩ = (0.5*(0 + 0))*V_t(r) + (0.5*(0 - 0))*V_s(r)\n",
      "⟨B|V|D⟩ = (0.5*(0 + 0.9999999999999998))*V_t(r) + (0.5*(0 - 0.9999999999999998))*V_s(r)\n",
      "\n",
      "⟨C|V|A⟩ = (0.5*(0 + 0))*V_t(r) + (0.5*(0 - 0))*V_s(r)\n",
      "⟨C|V|B⟩ = (0.5*(0 + 0))*V_t(r) + (0.5*(0 - 0))*V_s(r)\n",
      "⟨C|V|C⟩ = (0.5*(0.9999999999999998 + 0.9999999999999998))*V_t(r) + (0.5*(0.9999999999999998 - 0.9999999999999998))*V_s(r)\n",
      "⟨C|V|D⟩ = (0.5*(0 + 0))*V_t(r) + (0.5*(0 - 0))*V_s(r)\n",
      "\n",
      "⟨D|V|A⟩ = (0.5*(0 + 0))*V_t(r) + (0.5*(0 - 0))*V_s(r)\n",
      "⟨D|V|B⟩ = (0.5*(0 + 0.9999999999999998))*V_t(r) + (0.5*(0 - 0.9999999999999998))*V_s(r)\n",
      "⟨D|V|C⟩ = (0.5*(0 + 0))*V_t(r) + (0.5*(0 - 0))*V_s(r)\n",
      "⟨D|V|D⟩ = (0.5*(0.9999999999999998 + 0))*V_t(r) + (0.5*(0.9999999999999998 - 0))*V_s(r)\n",
      "\n"
     ]
    }
   ],
   "source": [
    "states = [A, B, C, D]\n",
    "labels = [\"A\", \"B\", \"C\", \"D\"]\n",
    "\n",
    "matrix = np.zeros((4, 4), dtype=object)\n",
    "\n",
    "for i, state_i in enumerate(states):\n",
    "    for j, state_j in enumerate(states):\n",
    "        matrix[i, j] = V_matrix_elements_str(state_i, state_j)\n",
    "\n",
    "print(f\"Matrix elements ⟨X|V(r)|Y⟩\\n\")\n",
    "\n",
    "for i in range(4):\n",
    "    for j in range(4):\n",
    "        print(f\"⟨{labels[i]}|V|{labels[j]}⟩ = {matrix[i, j]}\")\n",
    "    print()"
   ]
  },
  {
   "cell_type": "code",
   "execution_count": 171,
   "metadata": {},
   "outputs": [],
   "source": [
    "# Potential Matrix\n",
    "\n",
    "V_matrix = np.zeros((n_max*4, n_max*4))\n",
    "\n",
    "nu = [1/8] #fm^-2 #I need to copy it here otherwise it doesn't work :)\n",
    "\n",
    "# Allocation of the values in the matrix\n",
    "for n in range(n_max):\n",
    "  for m in range(n_max):\n",
    "    N_nu_n = norm_constant(n,nu[0])\n",
    "    N_nu_m = norm_constant(m,nu[0])\n",
    "    const = N_nu_n*N_nu_m\n",
    "    n_nodes = 2*(2*n+1+2*m+1) #2*(the sum of the order of the Hermite polynomial)\n",
    "    for k in range(4):\n",
    "      if k==0 or k==2:\n",
    "        int1 = v_0R/(2*np.sqrt(2*nu[0]+k_R))*gauss_hermite_integration(Hermite_product, n_nodes,k_R,n,m,nu[0])\n",
    "        int2 = -v_0t/(2*np.sqrt(2*nu[0]+k_t))*gauss_hermite_integration(Hermite_product, n_nodes,k_t,n,m,nu[0])\n",
    "        V_matrix[4*n+k, 4*m+k] = const*(int1+int2)\n",
    "      if k==1 or k==3:\n",
    "        int1 = v_0R/(2*np.sqrt(2*nu[0]+k_R))*gauss_hermite_integration(Hermite_product, n_nodes,k_R,n,m,nu[0])\n",
    "        int2 = -0.5*v_0t/(2*np.sqrt(2*nu[0]+k_t))*gauss_hermite_integration(Hermite_product, n_nodes,k_t,n,m,nu[0])\n",
    "        int3 = -0.5*v_0s/(2*np.sqrt(2*nu[0]+k_s))*gauss_hermite_integration(Hermite_product, n_nodes,k_s,n,m,nu[0])\n",
    "        V_matrix[4*n+k, 4*m+k] = const*(int1+int2+int3)\n",
    "      if k==1:\n",
    "        V_matrix[4*n+k, 4*m+2+k] = const*(int2-int3)\n",
    "        V_matrix[4*n+2+k, 4*m+k] = const*(int2-int3)\n",
    "\n"
   ]
  },
  {
   "cell_type": "code",
   "execution_count": 172,
   "metadata": {},
   "outputs": [
    {
     "data": {
      "image/png": "[encoded data removed]",
      "text/plain": [
       "<Figure size 640x480 with 2 Axes>"
      ]
     },
     "metadata": {},
     "output_type": "display_data"
    }
   ],
   "source": [
    "#Drawing Potential matrix\n",
    "draw_matrix(V_matrix)"
   ]
  },
  {
   "cell_type": "markdown",
   "metadata": {},
   "source": [
    "For the kinetic energy\n",
    "\\begin{align*}\n",
    "\\bra{mj} \\hat{K} \\ket{nk}   &= 4\\pi \\delta_{jk} \\int dr r^2 R_m \\left(-\\frac{\\hbar\n",
    "^2 \\nabla ^2 }{2\\mu} R_n\\right) \\nonumber \\\\ \n",
    "&= -\\frac{4\\pi \\hbar ^2}{2\\mu} \\delta_{jk} \\tilde{N}_m (\\nu) \\tilde{N}_n (\\nu) \\int\n",
    "dr e^{-\\nu r^2} H_{2m+1} (\\sqrt{2\\nu} r) \\frac{\\partial ^2}{\\partial r^2}\n",
    "\\left(e^{-\\nu r^2}H_{2n+1}(\\sqrt{2\\nu} r)\\right)\\nonumber \\\\ \n",
    "&= -\\frac{4\\pi \\hbar ^2}{\\mu} \\delta_{jk} \\tilde{N}_m (\\nu) \\tilde{N}_n (\\nu) \\int\n",
    "dr e^{-2\\nu r^2} H_{2m+1} (\\sqrt{2\\nu} r) \n",
    "\\left(\\left(x^2-1\\right)H_{2n+1} - 2x H_{2n+1}^\\prime + H_{2n+1}^{\\prime\\prime}\\right)\\nonumber \\\\ \n",
    "&= -\\frac{4\\pi \\hbar ^2}{\\mu} \\delta_{jk} \\tilde{N}_m \\tilde{N}_n \\int\n",
    "dr e^{-2\\nu r^2} H_{2m+1} \\left(x^2 H_{2n+1} - H_{2n+1} - 4(2n+1) xH_{2n} +\n",
    "4n\\left(2n+1\\right)H_{2n-1}\\right)\n",
    "\\end{align*} \n",
    "\n",
    "and use $2xH_n = H_{n+1} + 2n H_{n-1}$:\n",
    "\\begin{align*}\n",
    "      \\bra{mj} \\hat{K} \\ket{nk} &= \\frac{-4\\pi \\hbar ^2}{\\mu}\\delta_{jk}\\tilde{N}_n\\tilde{N}_m \\int dr e^{-2\\nu\n",
    "r^2}H_{2m+1} \\left(\\frac{1}{4}H_{2n+3} -\\frac{1}{2} \\left(4n+3\\right)H_{2n+1} -\n",
    "2n(n+1) H_{2n+1}\\right)\\nonumber \\\\ \n",
    "&= \\frac{-\\nu \\hbar ^2}{\\mu} \\delta_{jk} \\bra{m}\n",
    "\\left(\\frac{\\tilde{N}_n}{4\\tilde{N}_{n+1}}\\ket{n} -\n",
    "\\frac{1}{2}\\left(4n+3\\right)\\ket{n} - 2n(2n+1)\n",
    "\\frac{\\tilde{N}_n}{\\tilde{N}_{n-1}}\\ket{n-1} \\right)\n",
    "\\end{align*}\n",
    "or\n",
    "\\begin{align*}\n",
    "\\bra{mj} \\hat{K} \\ket{nk} &= \\frac{\\hbar^2 \\nu}{2\\mu}\\delta_{jk}\n",
    "\\left[\\left(4n+3\\right)\\delta_{mn} - \\sqrt{(2n+3)(2n+2)} \\delta_{n,m-1} -\n",
    "\\sqrt{2n(2n+1)}\\delta_{n,m+1} \\right]\n",
    "\\end{align*}\n"
   ]
  },
  {
   "cell_type": "code",
   "execution_count": 173,
   "metadata": {},
   "outputs": [
    {
     "name": "stdout",
     "output_type": "stream",
     "text": [
      "41.58398182328096\n"
     ]
    }
   ],
   "source": [
    "#Kinetic matrix\n",
    "\n",
    "K_matrix = np.zeros((4*n_max, 4*n_max))\n",
    "\n",
    "\n",
    "a = 1e-12* h_bar**2 *(c*1e15)**2/(2*mu) #1e-12 for conversion eV**2 -> MeV - 1e-15 for conversion m -> fm\n",
    "#allocation of the values in the matrix\n",
    "\n",
    "for n in range(n_max):\n",
    "    for m in range(n_max):\n",
    "        for k in range(4):\n",
    "            if m == n: #diagonal elements\n",
    "                K_matrix[4*n+k, 4*m+k] = a * nu[0] * (4*n+3)\n",
    "            elif m == n-1: #upper diagonal elements\n",
    "                K_matrix[4*n+k, 4*m+k] = - a * nu[0] * ((2*n+2)*(2*n+3))**(1/2)\n",
    "            elif m == n+1: #lower diagonal elements\n",
    "                K_matrix[4*n+k, 4*m+k] = - a * nu[0] * (2*n*(2*n+1))**(1/2)\n",
    "\n",
    "print(a)"
   ]
  },
  {
   "cell_type": "code",
   "execution_count": 174,
   "metadata": {},
   "outputs": [
    {
     "data": {
      "image/png": "[encoded data removed]",
      "text/plain": [
       "<Figure size 640x480 with 2 Axes>"
      ]
     },
     "metadata": {},
     "output_type": "display_data"
    }
   ],
   "source": [
    "# Drawing of the Kinetic Energy matrix\n",
    "draw_matrix(K_matrix)"
   ]
  },
  {
   "cell_type": "markdown",
   "metadata": {},
   "source": [
    "## Diagonalization"
   ]
  },
  {
   "cell_type": "code",
   "execution_count": 175,
   "metadata": {},
   "outputs": [
    {
     "name": "stdout",
     "output_type": "stream",
     "text": [
      "Eigenvalues of the Hamiltonian matrix are [-19.00548151 -19.00548151 -19.00548151 -19.00449473 -13.71256792\n",
      " -13.71256792 -13.71256792 -13.70761836  -5.1123908   -5.1123908\n",
      "  -5.1123908   -5.09669665   6.4843008    6.4843008    6.4843008\n",
      "   6.52548039  20.70826063  20.70826063  20.70826063  20.8013981\n",
      "  37.3064512   37.3064512   37.3064512   37.48118511  56.26982972\n",
      "  56.26982972  56.26982972  56.53655673  77.87417942  77.87417942\n",
      "  77.87417942  78.21384095 102.36617937 102.36617937 102.36617937\n",
      " 102.74693228 130.04474341 130.04474341 130.04474341 130.44866833\n",
      " 161.07229278 161.07229278 161.07229278 161.48050285 195.85009803\n",
      " 195.85009803 195.85009803 196.27585881 234.63334252 234.63334252\n",
      " 234.63334252 235.04975185 278.08998739 278.08998739 278.08998739\n",
      " 278.54682982 326.72675172 326.72675172 326.72675172 327.15239666\n",
      " 381.7170807  381.7170807  381.7170807  382.23739293 444.33786209\n",
      " 444.33786209 444.33786209 444.77578298 517.13738921 517.13738921\n",
      " 517.13738921 517.80052191 604.72808101 604.72808101 604.72808101\n",
      " 605.18360143 718.49650133 718.49650133 718.49650133 719.7342692 ]\n"
     ]
    },
    {
     "data": {
      "image/png": "[encoded data removed]",
      "text/plain": [
       "<Figure size 640x480 with 2 Axes>"
      ]
     },
     "metadata": {},
     "output_type": "display_data"
    },
    {
     "ename": "TypeError",
     "evalue": "Invalid shape (80,) for image data",
     "output_type": "error",
     "traceback": [
      "\u001b[0;31m---------------------------------------------------------------------------\u001b[0m",
      "\u001b[0;31mTypeError\u001b[0m                                 Traceback (most recent call last)",
      "\u001b[0;32m/var/folders/ds/l5tt9lyx5pl1c9t1ytlzxb7w0000gn/T/ipykernel_87250/1839914659.py\u001b[0m in \u001b[0;36m<module>\u001b[0;34m\u001b[0m\n\u001b[1;32m      6\u001b[0m \u001b[0mH_diag\u001b[0m \u001b[0;34m=\u001b[0m \u001b[0mnp\u001b[0m\u001b[0;34m.\u001b[0m\u001b[0mdiag\u001b[0m\u001b[0;34m(\u001b[0m\u001b[0mK_matrix\u001b[0m \u001b[0;34m+\u001b[0m \u001b[0mV_matrix\u001b[0m\u001b[0;34m)\u001b[0m \u001b[0;31m#diagonal matrix of the eigenvalues\u001b[0m\u001b[0;34m\u001b[0m\u001b[0;34m\u001b[0m\u001b[0m\n\u001b[1;32m      7\u001b[0m \u001b[0mdraw_matrix\u001b[0m\u001b[0;34m(\u001b[0m\u001b[0mK_matrix\u001b[0m \u001b[0;34m+\u001b[0m \u001b[0mV_matrix\u001b[0m\u001b[0;34m)\u001b[0m \u001b[0;31m#drawing the Hamiltonian matrix\u001b[0m\u001b[0;34m\u001b[0m\u001b[0;34m\u001b[0m\u001b[0m\n\u001b[0;32m----> 8\u001b[0;31m \u001b[0mdraw_matrix\u001b[0m\u001b[0;34m(\u001b[0m\u001b[0mH_diag\u001b[0m\u001b[0;34m)\u001b[0m \u001b[0;31m#drawing the diagonal matrix\u001b[0m\u001b[0;34m\u001b[0m\u001b[0;34m\u001b[0m\u001b[0m\n\u001b[0m",
      "\u001b[0;32m/var/folders/ds/l5tt9lyx5pl1c9t1ytlzxb7w0000gn/T/ipykernel_87250/81949198.py\u001b[0m in \u001b[0;36mdraw_matrix\u001b[0;34m(matrix)\u001b[0m\n\u001b[1;32m     16\u001b[0m \u001b[0;31m# Function that show graphically the elements of the matrix\u001b[0m\u001b[0;34m\u001b[0m\u001b[0;34m\u001b[0m\u001b[0;34m\u001b[0m\u001b[0m\n\u001b[1;32m     17\u001b[0m \u001b[0;32mdef\u001b[0m \u001b[0mdraw_matrix\u001b[0m\u001b[0;34m(\u001b[0m\u001b[0mmatrix\u001b[0m\u001b[0;34m)\u001b[0m\u001b[0;34m:\u001b[0m\u001b[0;34m\u001b[0m\u001b[0;34m\u001b[0m\u001b[0m\n\u001b[0;32m---> 18\u001b[0;31m     \u001b[0mplt\u001b[0m\u001b[0;34m.\u001b[0m\u001b[0mimshow\u001b[0m\u001b[0;34m(\u001b[0m\u001b[0mmatrix\u001b[0m\u001b[0;34m,\u001b[0m \u001b[0mcmap\u001b[0m\u001b[0;34m=\u001b[0m\u001b[0;34m'viridis'\u001b[0m\u001b[0;34m,\u001b[0m \u001b[0minterpolation\u001b[0m\u001b[0;34m=\u001b[0m\u001b[0;34m'nearest'\u001b[0m\u001b[0;34m)\u001b[0m\u001b[0;34m\u001b[0m\u001b[0;34m\u001b[0m\u001b[0m\n\u001b[0m\u001b[1;32m     19\u001b[0m     \u001b[0mplt\u001b[0m\u001b[0;34m.\u001b[0m\u001b[0mcolorbar\u001b[0m\u001b[0;34m(\u001b[0m\u001b[0;34m)\u001b[0m\u001b[0;34m\u001b[0m\u001b[0;34m\u001b[0m\u001b[0m\n\u001b[1;32m     20\u001b[0m     \u001b[0mplt\u001b[0m\u001b[0;34m.\u001b[0m\u001b[0mshow\u001b[0m\u001b[0;34m(\u001b[0m\u001b[0;34m)\u001b[0m\u001b[0;34m\u001b[0m\u001b[0;34m\u001b[0m\u001b[0m\n",
      "\u001b[0;32m/Library/Frameworks/Python.framework/Versions/3.7/lib/python3.7/site-packages/matplotlib/_api/deprecation.py\u001b[0m in \u001b[0;36mwrapper\u001b[0;34m(*args, **kwargs)\u001b[0m\n\u001b[1;32m    457\u001b[0m                 \u001b[0;34m\"parameter will become keyword-only %(removal)s.\"\u001b[0m\u001b[0;34m,\u001b[0m\u001b[0;34m\u001b[0m\u001b[0;34m\u001b[0m\u001b[0m\n\u001b[1;32m    458\u001b[0m                 name=name, obj_type=f\"parameter of {func.__name__}()\")\n\u001b[0;32m--> 459\u001b[0;31m         \u001b[0;32mreturn\u001b[0m \u001b[0mfunc\u001b[0m\u001b[0;34m(\u001b[0m\u001b[0;34m*\u001b[0m\u001b[0margs\u001b[0m\u001b[0;34m,\u001b[0m \u001b[0;34m**\u001b[0m\u001b[0mkwargs\u001b[0m\u001b[0;34m)\u001b[0m\u001b[0;34m\u001b[0m\u001b[0;34m\u001b[0m\u001b[0m\n\u001b[0m\u001b[1;32m    460\u001b[0m \u001b[0;34m\u001b[0m\u001b[0m\n\u001b[1;32m    461\u001b[0m     \u001b[0;31m# Don't modify *func*'s signature, as boilerplate.py needs it.\u001b[0m\u001b[0;34m\u001b[0m\u001b[0;34m\u001b[0m\u001b[0;34m\u001b[0m\u001b[0m\n",
      "\u001b[0;32m/Library/Frameworks/Python.framework/Versions/3.7/lib/python3.7/site-packages/matplotlib/pyplot.py\u001b[0m in \u001b[0;36mimshow\u001b[0;34m(X, cmap, norm, aspect, interpolation, alpha, vmin, vmax, origin, extent, interpolation_stage, filternorm, filterrad, resample, url, data, **kwargs)\u001b[0m\n\u001b[1;32m   2655\u001b[0m         \u001b[0mfilternorm\u001b[0m\u001b[0;34m=\u001b[0m\u001b[0mfilternorm\u001b[0m\u001b[0;34m,\u001b[0m \u001b[0mfilterrad\u001b[0m\u001b[0;34m=\u001b[0m\u001b[0mfilterrad\u001b[0m\u001b[0;34m,\u001b[0m \u001b[0mresample\u001b[0m\u001b[0;34m=\u001b[0m\u001b[0mresample\u001b[0m\u001b[0;34m,\u001b[0m\u001b[0;34m\u001b[0m\u001b[0;34m\u001b[0m\u001b[0m\n\u001b[1;32m   2656\u001b[0m         \u001b[0murl\u001b[0m\u001b[0;34m=\u001b[0m\u001b[0murl\u001b[0m\u001b[0;34m,\u001b[0m \u001b[0;34m**\u001b[0m\u001b[0;34m(\u001b[0m\u001b[0;34m{\u001b[0m\u001b[0;34m\"data\"\u001b[0m\u001b[0;34m:\u001b[0m \u001b[0mdata\u001b[0m\u001b[0;34m}\u001b[0m \u001b[0;32mif\u001b[0m \u001b[0mdata\u001b[0m \u001b[0;32mis\u001b[0m \u001b[0;32mnot\u001b[0m \u001b[0;32mNone\u001b[0m \u001b[0;32melse\u001b[0m \u001b[0;34m{\u001b[0m\u001b[0;34m}\u001b[0m\u001b[0;34m)\u001b[0m\u001b[0;34m,\u001b[0m\u001b[0;34m\u001b[0m\u001b[0;34m\u001b[0m\u001b[0m\n\u001b[0;32m-> 2657\u001b[0;31m         **kwargs)\n\u001b[0m\u001b[1;32m   2658\u001b[0m     \u001b[0msci\u001b[0m\u001b[0;34m(\u001b[0m\u001b[0m__ret\u001b[0m\u001b[0;34m)\u001b[0m\u001b[0;34m\u001b[0m\u001b[0;34m\u001b[0m\u001b[0m\n\u001b[1;32m   2659\u001b[0m     \u001b[0;32mreturn\u001b[0m \u001b[0m__ret\u001b[0m\u001b[0;34m\u001b[0m\u001b[0;34m\u001b[0m\u001b[0m\n",
      "\u001b[0;32m/Library/Frameworks/Python.framework/Versions/3.7/lib/python3.7/site-packages/matplotlib/_api/deprecation.py\u001b[0m in \u001b[0;36mwrapper\u001b[0;34m(*args, **kwargs)\u001b[0m\n\u001b[1;32m    457\u001b[0m                 \u001b[0;34m\"parameter will become keyword-only %(removal)s.\"\u001b[0m\u001b[0;34m,\u001b[0m\u001b[0;34m\u001b[0m\u001b[0;34m\u001b[0m\u001b[0m\n\u001b[1;32m    458\u001b[0m                 name=name, obj_type=f\"parameter of {func.__name__}()\")\n\u001b[0;32m--> 459\u001b[0;31m         \u001b[0;32mreturn\u001b[0m \u001b[0mfunc\u001b[0m\u001b[0;34m(\u001b[0m\u001b[0;34m*\u001b[0m\u001b[0margs\u001b[0m\u001b[0;34m,\u001b[0m \u001b[0;34m**\u001b[0m\u001b[0mkwargs\u001b[0m\u001b[0;34m)\u001b[0m\u001b[0;34m\u001b[0m\u001b[0;34m\u001b[0m\u001b[0m\n\u001b[0m\u001b[1;32m    460\u001b[0m \u001b[0;34m\u001b[0m\u001b[0m\n\u001b[1;32m    461\u001b[0m     \u001b[0;31m# Don't modify *func*'s signature, as boilerplate.py needs it.\u001b[0m\u001b[0;34m\u001b[0m\u001b[0;34m\u001b[0m\u001b[0;34m\u001b[0m\u001b[0m\n",
      "\u001b[0;32m/Library/Frameworks/Python.framework/Versions/3.7/lib/python3.7/site-packages/matplotlib/__init__.py\u001b[0m in \u001b[0;36minner\u001b[0;34m(ax, data, *args, **kwargs)\u001b[0m\n\u001b[1;32m   1412\u001b[0m     \u001b[0;32mdef\u001b[0m \u001b[0minner\u001b[0m\u001b[0;34m(\u001b[0m\u001b[0max\u001b[0m\u001b[0;34m,\u001b[0m \u001b[0;34m*\u001b[0m\u001b[0margs\u001b[0m\u001b[0;34m,\u001b[0m \u001b[0mdata\u001b[0m\u001b[0;34m=\u001b[0m\u001b[0;32mNone\u001b[0m\u001b[0;34m,\u001b[0m \u001b[0;34m**\u001b[0m\u001b[0mkwargs\u001b[0m\u001b[0;34m)\u001b[0m\u001b[0;34m:\u001b[0m\u001b[0;34m\u001b[0m\u001b[0;34m\u001b[0m\u001b[0m\n\u001b[1;32m   1413\u001b[0m         \u001b[0;32mif\u001b[0m \u001b[0mdata\u001b[0m \u001b[0;32mis\u001b[0m \u001b[0;32mNone\u001b[0m\u001b[0;34m:\u001b[0m\u001b[0;34m\u001b[0m\u001b[0;34m\u001b[0m\u001b[0m\n\u001b[0;32m-> 1414\u001b[0;31m             \u001b[0;32mreturn\u001b[0m \u001b[0mfunc\u001b[0m\u001b[0;34m(\u001b[0m\u001b[0max\u001b[0m\u001b[0;34m,\u001b[0m \u001b[0;34m*\u001b[0m\u001b[0mmap\u001b[0m\u001b[0;34m(\u001b[0m\u001b[0msanitize_sequence\u001b[0m\u001b[0;34m,\u001b[0m \u001b[0margs\u001b[0m\u001b[0;34m)\u001b[0m\u001b[0;34m,\u001b[0m \u001b[0;34m**\u001b[0m\u001b[0mkwargs\u001b[0m\u001b[0;34m)\u001b[0m\u001b[0;34m\u001b[0m\u001b[0;34m\u001b[0m\u001b[0m\n\u001b[0m\u001b[1;32m   1415\u001b[0m \u001b[0;34m\u001b[0m\u001b[0m\n\u001b[1;32m   1416\u001b[0m         \u001b[0mbound\u001b[0m \u001b[0;34m=\u001b[0m \u001b[0mnew_sig\u001b[0m\u001b[0;34m.\u001b[0m\u001b[0mbind\u001b[0m\u001b[0;34m(\u001b[0m\u001b[0max\u001b[0m\u001b[0;34m,\u001b[0m \u001b[0;34m*\u001b[0m\u001b[0margs\u001b[0m\u001b[0;34m,\u001b[0m \u001b[0;34m**\u001b[0m\u001b[0mkwargs\u001b[0m\u001b[0;34m)\u001b[0m\u001b[0;34m\u001b[0m\u001b[0;34m\u001b[0m\u001b[0m\n",
      "\u001b[0;32m/Library/Frameworks/Python.framework/Versions/3.7/lib/python3.7/site-packages/matplotlib/axes/_axes.py\u001b[0m in \u001b[0;36mimshow\u001b[0;34m(self, X, cmap, norm, aspect, interpolation, alpha, vmin, vmax, origin, extent, interpolation_stage, filternorm, filterrad, resample, url, **kwargs)\u001b[0m\n\u001b[1;32m   5485\u001b[0m                               **kwargs)\n\u001b[1;32m   5486\u001b[0m \u001b[0;34m\u001b[0m\u001b[0m\n\u001b[0;32m-> 5487\u001b[0;31m         \u001b[0mim\u001b[0m\u001b[0;34m.\u001b[0m\u001b[0mset_data\u001b[0m\u001b[0;34m(\u001b[0m\u001b[0mX\u001b[0m\u001b[0;34m)\u001b[0m\u001b[0;34m\u001b[0m\u001b[0;34m\u001b[0m\u001b[0m\n\u001b[0m\u001b[1;32m   5488\u001b[0m         \u001b[0mim\u001b[0m\u001b[0;34m.\u001b[0m\u001b[0mset_alpha\u001b[0m\u001b[0;34m(\u001b[0m\u001b[0malpha\u001b[0m\u001b[0;34m)\u001b[0m\u001b[0;34m\u001b[0m\u001b[0;34m\u001b[0m\u001b[0m\n\u001b[1;32m   5489\u001b[0m         \u001b[0;32mif\u001b[0m \u001b[0mim\u001b[0m\u001b[0;34m.\u001b[0m\u001b[0mget_clip_path\u001b[0m\u001b[0;34m(\u001b[0m\u001b[0;34m)\u001b[0m \u001b[0;32mis\u001b[0m \u001b[0;32mNone\u001b[0m\u001b[0;34m:\u001b[0m\u001b[0;34m\u001b[0m\u001b[0;34m\u001b[0m\u001b[0m\n",
      "\u001b[0;32m/Library/Frameworks/Python.framework/Versions/3.7/lib/python3.7/site-packages/matplotlib/image.py\u001b[0m in \u001b[0;36mset_data\u001b[0;34m(self, A)\u001b[0m\n\u001b[1;32m    714\u001b[0m                 or self._A.ndim == 3 and self._A.shape[-1] in [3, 4]):\n\u001b[1;32m    715\u001b[0m             raise TypeError(\"Invalid shape {} for image data\"\n\u001b[0;32m--> 716\u001b[0;31m                             .format(self._A.shape))\n\u001b[0m\u001b[1;32m    717\u001b[0m \u001b[0;34m\u001b[0m\u001b[0m\n\u001b[1;32m    718\u001b[0m         \u001b[0;32mif\u001b[0m \u001b[0mself\u001b[0m\u001b[0;34m.\u001b[0m\u001b[0m_A\u001b[0m\u001b[0;34m.\u001b[0m\u001b[0mndim\u001b[0m \u001b[0;34m==\u001b[0m \u001b[0;36m3\u001b[0m\u001b[0;34m:\u001b[0m\u001b[0;34m\u001b[0m\u001b[0;34m\u001b[0m\u001b[0m\n",
      "\u001b[0;31mTypeError\u001b[0m: Invalid shape (80,) for image data"
     ]
    },
    {
     "data": {
      "image/png": "[encoded data removed]",
      "text/plain": [
       "<Figure size 640x480 with 1 Axes>"
      ]
     },
     "metadata": {},
     "output_type": "display_data"
    }
   ],
   "source": [
    "H = K_matrix + V_matrix\n",
    "\n",
    "auto_values, auto_vectors = eigh(H) #eigenvalues and eigenvectors of the Hamiltonian matrix\n",
    "print(\"Eigenvalues of the Hamiltonian matrix are\",auto_values)\n",
    "\n",
    "H_diag = np.diag(K_matrix + V_matrix) #diagonal matrix of the eigenvalues\n",
    "draw_matrix(K_matrix + V_matrix) #drawing the Hamiltonian matrix\n",
    "draw_matrix(H_diag) #drawing the diagonal matrix"
   ]
  }
 ],
 "metadata": {
  "kernelspec": {
   "display_name": "Python 3",
   "language": "python",
   "name": "python3"
  },
  "language_info": {
   "codemirror_mode": {
    "name": "ipython",
    "version": 3
   },
   "file_extension": ".py",
   "mimetype": "text/x-python",
   "name": "python",
   "nbconvert_exporter": "python",
   "pygments_lexer": "ipython3",
   "version": "3.13.2"
  }
 },
 "nbformat": 4,
 "nbformat_minor": 2
}
