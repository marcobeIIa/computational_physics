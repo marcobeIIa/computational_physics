{
 "cells": [
  {
   "cell_type": "markdown",
   "metadata": {},
   "source": [
    "1. find the correct expression of the normalization constant in Eq. (8)"
   ]
  },
  {
   "cell_type": "code",
   "execution_count": 12,
   "metadata": {},
   "outputs": [],
   "source": [
    "import numpy as np\n",
    "import scipy\n",
    "import sys\n",
    "import math\n",
    "import scipy.special\n",
    "import scipy.constants as const\n",
    "from math import factorial\n",
    "from scipy.special import hermite\n",
    "import matplotlib.pyplot as plt"
   ]
  },
  {
   "cell_type": "code",
   "execution_count": 13,
   "metadata": {},
   "outputs": [
    {
     "name": "stdout",
     "output_type": "stream",
     "text": [
      "4.158398182328096\n"
     ]
    }
   ],
   "source": [
    "#constants\n",
    "\n",
    "v_0R = 200 #Mev\n",
    "v_0t = 178 #Mev\n",
    "v_0s = 91.85 #Mev\n",
    "\n",
    "k_R = 1.487 #fm^-2 should we change in A?\n",
    "k_t = 0.639 #fm^-2\n",
    "k_s = 0.465 #fm^-2\n",
    "\n",
    "# - Radial wavefunction parameters\n",
    "nu = [0.1] #fm^-2\n",
    "n_max = 20 #maximum value of the order of the radial part of the wavefunction\n",
    "\n",
    "m_p = 938.272 # mass of proton in MeV/c^2\n",
    "m_n = 939.565 # mass of neutron in MeV/c^2\n",
    "m_e = 0.511 # mass of electron in MeV/c^2\n",
    "mu = m_p*m_n/(m_p+m_n) #reduced mass in amu\n",
    "\n",
    "h_bar_Js = const.hbar #hbar in Js\n",
    "h_bar = h_bar_Js / (1.6e-19) # hbar in eVs\n",
    "c=const.c\n",
    "\n",
    "a = 1e-3 * h_bar**2 *(c*1e10)**2/(2*mu) #1e-3 for conversion meV, eV -> meV - 1e-10 for conversion m -> Å\n",
    "print(a) #eV*Angstrom^2, "
   ]
  },
  {
   "cell_type": "code",
   "execution_count": 14,
   "metadata": {},
   "outputs": [],
   "source": [
    "\n",
    "def norm_constant(n,nu):\n",
    "    '''\n",
    "    this function returns the normalisation constant for the n-th order radial wavefunction \n",
    "    '''\n",
    "    denom = 4*np.pi**(3/2) * 2**(2*n+1) / (2*nu)**0.5 * factorial(2*n+1)\n",
    "    return (2 / denom)**(1/2) #the factor sqrt 2 comes from hermites being even, and our given normalisation being between -inf and +inf\n",
    "\n",
    "def R_n(n,r,nu):\n",
    "    '''\n",
    "    this function returns the n-th order radial wf of eigenstates of 3d HO\n",
    "    '''\n",
    "    return norm_constant(n,nu)* np.exp(-nu*r**2)* hermite(2*n+1)((2*nu)**0.5*r) / r\n",
    "\n",
    "# Function that show graphically the elements of the matrix\n",
    "def draw_matrix(matrix):\n",
    "    plt.imshow(matrix, cmap='viridis', interpolation='nearest')\n",
    "    plt.colorbar()\n",
    "    plt.show()"
   ]
  },
  {
   "cell_type": "markdown",
   "metadata": {},
   "source": [
    "Normalizing our space states $\\psi_j(\\mathbf{r})$, namely $\\int d\\mathbf{r} |\\psi_j(\\mathbf{r})|^2=1$ we obtain the analytical expression for $\\tilde{N_n}$:\n",
    "$$\n",
    "\\tilde{N}_n= \\dfrac{(2\\nu)^{1/4}}{2\\pi^{3/4}\\sqrt{(2n+1)!}}2^{-n}\n",
    "$$."
   ]
  },
  {
   "cell_type": "markdown",
   "metadata": {},
   "source": [
    "Check normalisation, change n1 and n2 to see if the radial wf's are orthonormal"
   ]
  },
  {
   "cell_type": "code",
   "execution_count": 15,
   "metadata": {},
   "outputs": [
    {
     "name": "stdout",
     "output_type": "stream",
     "text": [
      "The scalar product between the 5 wavefunction and the 5 wavefunction is 0.9947270635579459\n"
     ]
    },
    {
     "name": "stderr",
     "output_type": "stream",
     "text": [
      "C:\\Users\\utente\\AppData\\Local\\Temp\\ipykernel_1840\\2689121568.py:12: DeprecationWarning: `trapz` is deprecated. Use `trapezoid` instead, or one of the numerical integration functions in `scipy.integrate`.\n",
      "  norm = np.trapz(integrand, r)\n"
     ]
    }
   ],
   "source": [
    "n1 = 5\n",
    "n2 = 5\n",
    "nu = 1\n",
    "\n",
    "r = np.linspace(0.1, 10, 1000)\n",
    "\n",
    "R1 = [R_n(n1, r, nu) for r in r]\n",
    "R2 = [R_n(n2, r, nu) for r in r]\n",
    "\n",
    "integrand = [4*np.pi*r1 * r2 * r**2 for r1, r2, r in zip(R1, R2, r)]\n",
    "\n",
    "norm = np.trapz(integrand, r)\n",
    "print(\"The scalar product between the\",n1, \"wavefunction and the\", n2, \"wavefunction is\",norm)"
   ]
  },
  {
   "cell_type": "markdown",
   "metadata": {},
   "source": [
    "## Matrix elements"
   ]
  },
  {
   "cell_type": "markdown",
   "metadata": {},
   "source": [
    "## Working on spin-isospin"
   ]
  },
  {
   "cell_type": "markdown",
   "metadata": {},
   "source": [
    "The four possible states of spin-isospin $\\Phi_j (\\sigma_1,\\tau_1,\\sigma_2, \\tau_2)$ of our system are \n",
    "\n",
    "\\begin{align*}\n",
    "|\\Phi_A \\rangle &= \\frac{1}{\\sqrt{2}} \\left( \\ket{\\uparrow \\uparrow \\uparrow \\downarrow} - \\ket{\\uparrow \\downarrow \\uparrow \\uparrow} \\right) \\\\\n",
    "|\\Phi_B \\rangle &= \\frac{1}{\\sqrt{2}} \\left( \\ket{\\uparrow \\uparrow \\downarrow \\downarrow} - \\ket{\\downarrow \\downarrow \\uparrow \\uparrow} \\right) \\\\\n",
    "|\\Phi_C \\rangle &= \\frac{1}{\\sqrt{2}} \\left( \\ket{\\downarrow \\uparrow \\downarrow \\downarrow} - \\ket{\\downarrow \\downarrow \\downarrow \\uparrow} \\right) \\\\\n",
    "|\\Phi_D \\rangle &= \\frac{1}{\\sqrt{2}} \\left( \\ket{\\downarrow \\uparrow \\uparrow \\downarrow} - \\ket{\\uparrow \\downarrow \\downarrow \\uparrow} \\right)\n",
    "\\end{align*}"
   ]
  },
  {
   "cell_type": "code",
   "execution_count": 16,
   "metadata": {},
   "outputs": [],
   "source": [
    "#DEFINING THE STATES\n",
    "up = 1\n",
    "down = -1\n",
    "prefactor = 1 / np.sqrt(2)\n",
    "# A = (|↑↑↑↓⟩ − |↑↓↑↑⟩)\n",
    "A = [ ((up, up, up, down), prefactor), ((up, down, up, up), -prefactor) ]\n",
    "\n",
    "# B = (|↑↑↓↓⟩ − |↓↓↑↑⟩)\n",
    "B = [ ((up, up, down, down), prefactor), ((down, down, up, up), -prefactor) ]\n",
    "\n",
    "# C = (|↓↑↓↓⟩ − |↓↓↓↑⟩)\n",
    "C = [ ((down, up, down, down), prefactor), ((down, down, down, up), -prefactor) ]\n",
    "\n",
    "# D = (|↓↑↑↓⟩ − |↑↓↓↑⟩)\n",
    "D = [ ((down, up, up, down), prefactor), ((up, down, down, up), -prefactor)] \n"
   ]
  },
  {
   "cell_type": "markdown",
   "metadata": {},
   "source": [
    "Spin-isopsin functions to evaluate 4x4 potential matrix"
   ]
  },
  {
   "cell_type": "code",
   "execution_count": 17,
   "metadata": {},
   "outputs": [],
   "source": [
    "# Compute inner product between two spin states\n",
    "\n",
    "def inner_product(state1, state2):\n",
    "    total = 0\n",
    "    for (s1, c1) in state1: #represent full basis states: s1 = (down, up, down, down) for example\n",
    "        for (s2, c2) in state2:\n",
    "                S1 = tuple(x for x in s1)  # multiply the coefficients with the spin states\n",
    "                S2 = tuple(x for x in s2)  # multiply the coefficients with the spin states\n",
    "                if S1 == S2:\n",
    "                    total += c1 * c2\n",
    "                    #print(total)\n",
    "    return total\n",
    "\n",
    "\n",
    "#check if it works\n",
    "#print(\"Inner product is\",inner_product(B,B))\n",
    "\n",
    "def spin_exchange(state):\n",
    "    exchanged_state = []\n",
    "    for spin, coeff in state:\n",
    "        a, b, c, d = spin  # Unpack the original spin tuple (safe and clean)\n",
    "        new_spin = (c, b, a, d)  # Swap the first three elements\n",
    "        exchanged_state.append((new_spin, coeff))\n",
    "    return exchanged_state\n",
    "\n",
    "#print(\"Inner product is\",inner_product(B,spin_exchange(D)))\n",
    "\n",
    "def V_R(r):\n",
    "    return v_0R * np.exp(-k_R*r**2) # MeV\n",
    "\n",
    "def V_t(r):\n",
    "    return v_0t * np.exp(-k_t*r**2) # MeV\n",
    "\n",
    "def V_s(r):\n",
    "    return v_0s * np.exp(-k_s*r**2) # MeV\n",
    "\n",
    "\n",
    "def V_matrix_elements(state1, state2, r):\n",
    "    '''\n",
    "    This function returns the potential energy between two states at a distance r.\n",
    "    '''\n",
    "    # Apply spin exchange to state2\n",
    "    exchanged_state2 = spin_exchange(state2)\n",
    "    \n",
    "    # Compute the two potential terms (you may need to adjust this depending on the context)\n",
    "    V_t_value = V_t(r)\n",
    "    V_s_value = V_s(r)\n",
    "    \n",
    "    Vij =  inner_product(state1,state2)\n",
    "    Vij_P = inner_product(state1, exchanged_state2)\n",
    "\n",
    "    return (0.5 * (Vij + Vij_P) * V_t_value + 0.5 * (Vij - Vij_P) * V_s_value) \n",
    "\n",
    "#r = 1.0  # radial distance in fm\n",
    "#print(\"The potential energy between A and B is\", V_matrix_elements(B,D,r))\n",
    "\n",
    "def V_matrix_elements_str(state1, state2):\n",
    "    \"\"\"\n",
    "    Returns the potential matrix element ⟨state1|V|state2⟩ as a string,\n",
    "    using symbolic expressions for V_t(r) and V_s(r) which will help us to built gauss-hermite integral's coefficients.\n",
    "    \"\"\"\n",
    "    # Apply spin exchange\n",
    "    exchanged_state2 = spin_exchange(state2)\n",
    "\n",
    "    # Inner products (assumed numeric)\n",
    "    Vij   = inner_product(state1, state2)\n",
    "    Vij_P = inner_product(state1, exchanged_state2)\n",
    "\n",
    "    # Build symbolic string\n",
    "    term_t = f\"(0.5*({Vij} + {Vij_P}))*V_t(r)\"\n",
    "    term_s = f\"(0.5*({Vij} - {Vij_P}))*V_s(r)\"\n",
    "\n",
    "    return f\"{term_t} + {term_s}\""
   ]
  },
  {
   "cell_type": "markdown",
   "metadata": {},
   "source": [
    "Showing results"
   ]
  },
  {
   "cell_type": "code",
   "execution_count": 18,
   "metadata": {},
   "outputs": [
    {
     "name": "stdout",
     "output_type": "stream",
     "text": [
      "Matrix elements ⟨X|V(r)|Y⟩ with r = 1.0 fm\n",
      "\n",
      "⟨A|V|A⟩ =  93.9520 MeV\n",
      "⟨A|V|B⟩ =  0.0000 MeV\n",
      "⟨A|V|C⟩ =  0.0000 MeV\n",
      "⟨A|V|D⟩ =  0.0000 MeV\n",
      "\n",
      "⟨B|V|A⟩ =  0.0000 MeV\n",
      "⟨B|V|B⟩ =  75.8231 MeV\n",
      "⟨B|V|C⟩ =  0.0000 MeV\n",
      "⟨B|V|D⟩ =  18.1289 MeV\n",
      "\n",
      "⟨C|V|A⟩ =  0.0000 MeV\n",
      "⟨C|V|B⟩ =  0.0000 MeV\n",
      "⟨C|V|C⟩ =  93.9520 MeV\n",
      "⟨C|V|D⟩ =  0.0000 MeV\n",
      "\n",
      "⟨D|V|A⟩ =  0.0000 MeV\n",
      "⟨D|V|B⟩ =  18.1289 MeV\n",
      "⟨D|V|C⟩ =  0.0000 MeV\n",
      "⟨D|V|D⟩ =  75.8231 MeV\n",
      "\n"
     ]
    }
   ],
   "source": [
    "states = [A, B, C, D]\n",
    "labels = [\"A\", \"B\", \"C\", \"D\"]\n",
    "\n",
    "r = 1.0  # radial distance in fm\n",
    "\n",
    "# Compute the full matrix\n",
    "matrix = np.zeros((4, 4))\n",
    "\n",
    "for i, state_i in enumerate(states):\n",
    "    for j, state_j in enumerate(states):\n",
    "        matrix[i, j] = V_matrix_elements(state_i, state_j,r)\n",
    "\n",
    "# Display results nicely\n",
    "print(\"Matrix elements ⟨X|V(r)|Y⟩ with r =\", r, \"fm\\n\")\n",
    "for i in range(4):\n",
    "    for j in range(4):\n",
    "        print(f\"⟨{labels[i]}|V|{labels[j]}⟩ = {matrix[i,j]: .4f} MeV\")\n",
    "    print()"
   ]
  },
  {
   "cell_type": "code",
   "execution_count": 19,
   "metadata": {},
   "outputs": [
    {
     "data": {
      "image/png": "[encoded data removed]",
      "text/plain": [
       "<Figure size 640x480 with 2 Axes>"
      ]
     },
     "metadata": {},
     "output_type": "display_data"
    }
   ],
   "source": [
    "# Drawing of the Potential matrix\n",
    "draw_matrix(matrix)"
   ]
  },
  {
   "cell_type": "markdown",
   "metadata": {},
   "source": [
    "By looking how the operator $\\hat{P}^{\\sigma}$ acts on our states:\n",
    "$$\n",
    " \\hat{P}^{\\sigma}|\\phi_A \\rangle = \\hat{P}^{\\sigma} \\frac{1}{\\sqrt{2}}(|\\uparrow \\uparrow \\uparrow \\downarrow \\rangle - |\\uparrow \\downarrow \\uparrow \\uparrow  \\rangle) = \\frac{1}{\\sqrt{2}}(|\\uparrow \\uparrow \\uparrow \\downarrow \\rangle - |\\uparrow \\downarrow \\uparrow \\uparrow  \\rangle) = |\\phi_A \\rangle\n",
    "$$\n",
    "$$\n",
    " \\hat{P}^{\\sigma}|\\phi_B \\rangle =  |\\phi_D \\rangle\n",
    "$$\n",
    "$$\n",
    " \\hat{P}^{\\sigma}|\\phi_C \\rangle =  |\\phi_C \\rangle\n",
    "$$\n",
    "$$\n",
    " \\hat{P}^{\\sigma}|\\phi_D \\rangle =  |\\phi_B \\rangle\n",
    "$$\n",
    "we see the code working well as we expect only B and D states to be coupled by the potential."
   ]
  },
  {
   "cell_type": "markdown",
   "metadata": {},
   "source": [
    "To evaluate the matrix elements of the operator \n",
    "$$\n",
    "\\hat{V}=V_{R}(r)+\\frac{1}{2}(1+\\hat{P}^{\\sigma})V_t(r)+\\frac{1}{2}(1-\\hat{P}^{\\sigma})V_s(r)\n",
    "$$\n",
    "on the full Hilbert space we have to first act with spin-isospin states and then integrate over the radial coordiante. \n",
    "$$\n",
    "\\langle mj |\\hat{V} |ni \\rangle =\n",
    "$$\n",
    "$$\n",
    "\\tilde{N}_m(\\nu) \\tilde{N}_n(\\nu) \\delta_{j,i} \\left[ \\int_{0}^{\\infty} dr v_{0r}e^{-(2 \\nu + k_R)r^2} H_{2n+1}(\\sqrt{2 \\nu} r) H_{2m+1}(\\sqrt{2 \\nu} r) + \\int_{0}^{\\infty} dr v_{0t}e^{-(2 \\nu + k_T)r^2} H_{2n+1}(\\sqrt{2 \\nu} r) H_{2m+1}(\\sqrt{2 \\nu} r) \\right]\n",
    "$$\n",
    "This integrals involve a product between Hermite polynomials times a gaussian, to solve them we use the Gauss-Hermite quadrature. By changing variable $((2 \\nu + k)r^2)=x^2$ we get the general form \n",
    "$$\n",
    "I=\\frac{1}{2 \\sqrt{2 \\nu + k}} \\int_{-\\infty}^{\\infty} dx  \\ v \\ e^{-x^2} H_{2n+1}\\left(x\\sqrt{\\frac{2 \\nu}{2 \\nu + k}}\\right) H_{2m+1}\\left(x\\sqrt{\\frac{2 \\nu}{2 \\nu + k}}\\right)\n",
    "$$\n",
    "The Gauss-Hermite quadrature states that\n",
    "$$\n",
    "I\\simeq \\frac{v}{2\\sqrt{2\\nu +k}}\\Sigma _{i=1} ^n w_i \\cdot H_{2n+1}\\left(x_i\\sqrt{\\frac{2 \\nu}{2 \\nu + k}}\\right)\\cdot H_{2m+1}\\left(x_i\\sqrt{\\frac{2 \\nu}{2 \\nu + k}}\\right),\n",
    "$$\n",
    "where $n$ is the number of points sampled used, $w_i= \\frac{2^{n-1}n!\\sqrt{\\pi}}{n^2 [H_{n-1}(x_i)]^2}$ and $x_i$ are the points of quadrature (controls accuracy; more = better)."
   ]
  },
  {
   "cell_type": "code",
   "execution_count": 20,
   "metadata": {},
   "outputs": [],
   "source": [
    "# Quadrature integrals\n",
    "def gauss_hermite_integration(func, n,k,i,j,nu):\n",
    "    # nodes and weights for the gaussian quadrature\n",
    "    nodes, weights = np.polynomial.hermite.hermgauss(n)\n",
    "\n",
    "    # evaluate the function in the nodes and do the sum\n",
    "    integral = np.sum(weights * func(nodes,k,i,j,nu))\n",
    "\n",
    "    return integral\n",
    "\n",
    "# Function to quadrature\n",
    "def Hermite_product(x,k,i,j,nu):\n",
    "  \"\"\"product of hermite polinomyals of order 2i+1 and 2j+1 evaluated in x*(expression that depends on nu and k), k depends on V_t or V_s\"\"\"\n",
    "  return hermite(2*i+1)(x*np.sqrt(2*nu/(2*nu+k)))*hermite(2*j+1)(x*np.sqrt(2*nu/(2*nu+k)))\n",
    "\n",
    "# Function that show graphically the elements of the matrix\n",
    "def draw_matrix(matrix):\n",
    "    plt.imshow(matrix, cmap='viridis', interpolation='nearest')\n",
    "    plt.colorbar()\n",
    "    plt.show()\n"
   ]
  },
  {
   "cell_type": "markdown",
   "metadata": {},
   "source": [
    "The following code section will help us evaluating the contributes of the radial potential after the smashing of spin-isospins states."
   ]
  },
  {
   "cell_type": "code",
   "execution_count": 21,
   "metadata": {},
   "outputs": [
    {
     "name": "stdout",
     "output_type": "stream",
     "text": [
      "Matrix elements ⟨X|V(r)|Y⟩\n",
      "\n",
      "⟨A|V|A⟩ = (0.5*(0.9999999999999998 + 0.9999999999999998))*V_t(r) + (0.5*(0.9999999999999998 - 0.9999999999999998))*V_s(r)\n",
      "⟨A|V|B⟩ = (0.5*(0 + 0))*V_t(r) + (0.5*(0 - 0))*V_s(r)\n",
      "⟨A|V|C⟩ = (0.5*(0 + 0))*V_t(r) + (0.5*(0 - 0))*V_s(r)\n",
      "⟨A|V|D⟩ = (0.5*(0 + 0))*V_t(r) + (0.5*(0 - 0))*V_s(r)\n",
      "\n",
      "⟨B|V|A⟩ = (0.5*(0 + 0))*V_t(r) + (0.5*(0 - 0))*V_s(r)\n",
      "⟨B|V|B⟩ = (0.5*(0.9999999999999998 + 0))*V_t(r) + (0.5*(0.9999999999999998 - 0))*V_s(r)\n",
      "⟨B|V|C⟩ = (0.5*(0 + 0))*V_t(r) + (0.5*(0 - 0))*V_s(r)\n",
      "⟨B|V|D⟩ = (0.5*(0 + 0.9999999999999998))*V_t(r) + (0.5*(0 - 0.9999999999999998))*V_s(r)\n",
      "\n",
      "⟨C|V|A⟩ = (0.5*(0 + 0))*V_t(r) + (0.5*(0 - 0))*V_s(r)\n",
      "⟨C|V|B⟩ = (0.5*(0 + 0))*V_t(r) + (0.5*(0 - 0))*V_s(r)\n",
      "⟨C|V|C⟩ = (0.5*(0.9999999999999998 + 0.9999999999999998))*V_t(r) + (0.5*(0.9999999999999998 - 0.9999999999999998))*V_s(r)\n",
      "⟨C|V|D⟩ = (0.5*(0 + 0))*V_t(r) + (0.5*(0 - 0))*V_s(r)\n",
      "\n",
      "⟨D|V|A⟩ = (0.5*(0 + 0))*V_t(r) + (0.5*(0 - 0))*V_s(r)\n",
      "⟨D|V|B⟩ = (0.5*(0 + 0.9999999999999998))*V_t(r) + (0.5*(0 - 0.9999999999999998))*V_s(r)\n",
      "⟨D|V|C⟩ = (0.5*(0 + 0))*V_t(r) + (0.5*(0 - 0))*V_s(r)\n",
      "⟨D|V|D⟩ = (0.5*(0.9999999999999998 + 0))*V_t(r) + (0.5*(0.9999999999999998 - 0))*V_s(r)\n",
      "\n"
     ]
    }
   ],
   "source": [
    "states = [A, B, C, D]\n",
    "labels = [\"A\", \"B\", \"C\", \"D\"]\n",
    "\n",
    "matrix = np.zeros((4, 4), dtype=object)\n",
    "\n",
    "for i, state_i in enumerate(states):\n",
    "    for j, state_j in enumerate(states):\n",
    "        matrix[i, j] = V_matrix_elements_str(state_i, state_j)\n",
    "\n",
    "print(f\"Matrix elements ⟨X|V(r)|Y⟩\\n\")\n",
    "\n",
    "for i in range(4):\n",
    "    for j in range(4):\n",
    "        print(f\"⟨{labels[i]}|V|{labels[j]}⟩ = {matrix[i, j]}\")\n",
    "    print()"
   ]
  },
  {
   "cell_type": "code",
   "execution_count": null,
   "metadata": {},
   "outputs": [],
   "source": [
    "# Potential Matrix\n",
    "\n",
    "V_matrix = np.zeros((n_max*4, n_max*4))\n",
    "\n",
    "nu = [0.1] #fm^-2 #I need to copy it here otherwise it doesn't work :)\n",
    "\n",
    "# Allocation of the values in the matrix\n",
    "for n in range(n_max):\n",
    "  for m in range(n_max):\n",
    "    N_nu_n = norm_constant(n,nu[0])\n",
    "    N_nu_m = norm_constant(m,nu[0])\n",
    "    const = N_nu_n*N_nu_m\n",
    "    n_nodes = 2*(2*n+1+2*m+1) #2*(the sum of the order of the Hermite polynomial)\n",
    "    for k in range(4):\n",
    "      if k==0 or k==2:\n",
    "        int1 = v_0R/(2*np.sqrt(2*nu[0]+k_R))*gauss_hermite_integration(Hermite_product, n_nodes,k_R,n,m,nu[0])\n",
    "        int2 = -v_0t/(2*np.sqrt(2*nu[0]+k_t))*gauss_hermite_integration(Hermite_product, n_nodes,k_t,n,m,nu[0])\n",
    "        V_matrix[4*n+k, 4*m+k] = const*(int1+int2)\n",
    "      if k==1 or k==3:\n",
    "        int1 = v_0R/(2*np.sqrt(2*nu[0]+k_R))*gauss_hermite_integration(Hermite_product, n_nodes,k_R,n,m,nu[0])\n",
    "        int2 = -0.5*v_0t/(2*np.sqrt(2*nu[0]+k_t))*gauss_hermite_integration(Hermite_product, n_nodes,k_t,n,m,nu[0])\n",
    "        int3 = -0.5*v_0s/(2*np.sqrt(2*nu[0]+k_s))*gauss_hermite_integration(Hermite_product, n_nodes,k_s,n,m,nu[0])\n",
    "        V_matrix[4*n+k, 4*m+k] = const*(int1+int2+int3)\n",
    "      if k==1:\n",
    "        V_matrix[4*n+k, 4*m+2+k] = const*(int2-int3)\n",
    "        V_matrix[4*n+2+k, 4*m+k] = const*(int2-int3)"
   ]
  },
  {
   "cell_type": "code",
   "execution_count": null,
   "metadata": {},
   "outputs": [
    {
     "data": {
      "image/png": "[encoded data removed]",
      "text/plain": [
       "<Figure size 640x480 with 2 Axes>"
      ]
     },
     "metadata": {},
     "output_type": "display_data"
    }
   ],
   "source": [
    "#Drawing Potential matrix\n",
    "draw_matrix(V_matrix)"
   ]
  },
  {
   "cell_type": "markdown",
   "metadata": {},
   "source": [
    "Now we focus on the radial component.\n",
    "We express the kinetic energy term in spherical coordinates \n",
    "$$\n",
    "\\hat{K}=-\\frac{\\hbar^2}{2\\mu}\\nabla^2 = -\\frac{\\hbar^2}{2\\mu} \\left[ \\frac{1}{r} \\frac{\\partial}{\\partial r^2} r + \\frac{1}{r^2 \\sin \\theta} \\frac{\\partial}{\\partial \\theta} \\left( \\sin \\theta \\frac{\\partial}{\\partial \\theta} \\right) + \\frac{1}{r^2 \\sin^2 \\theta} \\frac{\\partial^2}{\\partial \\phi^2} \\right]\n",
    "$$\n",
    "so that we can neglect the centrifugal terms because we are considering only states in an s-wave state $(l=0)$, which yields to $$\\hat{L}f(r,\\theta,\\phi)=\\hbar^2 l(l+1) f(r,\\theta,\\phi)=0$$\n",
    "To get the matrix elements regarading the kinetic energy we have to solve\n",
    "$$\n",
    "-\\frac{\\hbar^2}{2\\mu} \\frac{1}{r} \\frac{\\partial}{\\partial r^2} r  R_n (r)\n",
    "$$\n",
    "where $$R_n(r)=N_n(\\nu)\\frac{exp(-\\nu r^2)}{r} H_{2n+1}(\\sqrt{2\\pi}r)$$\n",
    "\n",
    "\n",
    "The result should be \n",
    "$$\n",
    "-\\frac{\\hbar^2}{2\\mu} \\frac{1}{r} \\frac{\\partial}{\\partial r^2} r N_n(\\nu)\\frac{exp(-\\nu r^2)}{r} H_{2n+1}(\\sqrt{2\\pi}r)\n",
    "$$\n",
    "$$\n",
    "\\frac{N_n(\\nu)}{r} \\left [\\right]\n",
    "$$\n",
    "\n",
    "\n",
    "Since the kinetic energy does not act on the spin-isospin states there is no mixing of them and thus we expect the matrix of $\\hat{K}$ to have equal diagonal elements in the sub-matrices 4x4 along the diagonal and mixing terms just outside."
   ]
  },
  {
   "cell_type": "code",
   "execution_count": null,
   "metadata": {},
   "outputs": [],
   "source": [
    "#Kinetic matrix\n",
    "\n",
    "K_matrix = np.zeros((n_max*4, n_max*4))\n",
    "\n",
    "#allocation of the values in the matrix\n",
    "\n",
    "for n in range(n_max):\n",
    "    for m in range(n_max):\n",
    "        for k in range(4):\n",
    "            if m == n: #diagonal elements\n",
    "                K_matrix[4*n+k, 4*m+k] = 0.0\n",
    "            if m == n+1: #upper diagonal elements\n",
    "                K_matrix[4*n+k, 4*m+k] = 0.0\n",
    "            if m == n-1: #lower diagonal elements\n",
    "                K_matrix[4*n+k, 4*m+k] = 0.0\n"
   ]
  },
  {
   "cell_type": "code",
   "execution_count": null,
   "metadata": {},
   "outputs": [],
   "source": [
    "# Drawing of the Kinetic Energy matrix\n",
    "draw_matrix(K_matrix)"
   ]
  },
  {
   "cell_type": "markdown",
   "metadata": {},
   "source": [
    "## Diagonalization"
   ]
  },
  {
   "cell_type": "code",
   "execution_count": null,
   "metadata": {},
   "outputs": [],
   "source": []
  }
 ],
 "metadata": {
  "kernelspec": {
   "display_name": "Python 3",
   "language": "python",
   "name": "python3"
  },
  "language_info": {
   "codemirror_mode": {
    "name": "ipython",
    "version": 3
   },
   "file_extension": ".py",
   "mimetype": "text/x-python",
   "name": "python",
   "nbconvert_exporter": "python",
   "pygments_lexer": "ipython3",
   "version": "3.13.2"
  }
 },
 "nbformat": 4,
 "nbformat_minor": 2
}
