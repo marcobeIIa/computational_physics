{
 "cells": [
  {
   "cell_type": "markdown",
   "metadata": {},
   "source": [
    "1. find the correct expression of the normalization constant in Eq. (8)"
   ]
  },
  {
   "cell_type": "code",
   "execution_count": 23,
   "metadata": {},
   "outputs": [],
   "source": [
    "import numpy as np\n",
    "import scipy\n",
    "import sys\n",
    "import math\n",
    "import scipy.special\n",
    "import scipy.constants as const\n",
    "from math import factorial\n",
    "from scipy.special import hermite\n",
    "import matplotlib.pyplot as plt\n",
    "from scipy.linalg import eigh"
   ]
  },
  {
   "cell_type": "code",
   "execution_count": 24,
   "metadata": {},
   "outputs": [
    {
     "name": "stdout",
     "output_type": "stream",
     "text": [
      "4.158398182328096\n"
     ]
    }
   ],
   "source": [
    "#constants\n",
    "\n",
    "v_0R = 200 #Mev\n",
    "v_0t = 178 #Mev\n",
    "v_0s = 91.85 #Mev\n",
    "\n",
    "k_R = 1.487 #fm^-2 should we change in A?\n",
    "k_t = 0.639 #fm^-2\n",
    "k_s = 0.465 #fm^-2\n",
    "\n",
    "# - Radial wavefunction parameters\n",
    "nu = 1/8 #fm^-2\n",
    "M = 20 #maximum value of the order of the radial part of the wavefunction\n",
    "\n",
    "m_p = 938.272 # mass of proton in MeV/c^2\n",
    "m_n = 939.565 # mass of neutron in MeV/c^2\n",
    "m_e = 0.511 # mass of electron in MeV/c^2\n",
    "mu = m_p*m_n/(m_p+m_n) #reduced mass in amu\n",
    "\n",
    "h_bar_Js = const.hbar #hbar in Js\n",
    "h_bar = h_bar_Js / (1.6e-19) # hbar in eVs\n",
    "c=const.c\n",
    "\n",
    "\n",
    "a = 1e-3 * h_bar**2 *(c*1e10)**2/(2*mu) #1e-3 for conversion meV, eV -> meV - 1e-10 for conversion m -> Å\n",
    "print(a) #eV*Angstrom^2, "
   ]
  },
  {
   "cell_type": "markdown",
   "metadata": {},
   "source": [
    "Normalizing our space states $\\psi_j(\\mathbf{r})$, namely $\\int d\\mathbf{r} |\\psi_j(\\mathbf{r})|^2=1$ we obtain the analytical expression for $\\tilde{N_n}$:\n",
    "$$\n",
    "\\tilde{N}_n= \\dfrac{(2\\nu)^{1/4}}{2\\pi^{3/4}\\sqrt{(2n+1)!}}2^{-n}\n",
    "$$."
   ]
  },
  {
   "cell_type": "code",
   "execution_count": 25,
   "metadata": {},
   "outputs": [],
   "source": [
    "\n",
    "def norm_constant(n,nu):\n",
    "    '''\n",
    "    this function returns the normalisation constant for the n-th order radial wavefunction \n",
    "    '''\n",
    "    return np.sqrt(np.sqrt(2*nu) * 2**(-2*n)/(4*np.pi**(3/2) * factorial(2*n+1)))\n",
    "\n",
    "def R_n(n,r,nu):\n",
    "    '''\n",
    "    this function returns the n-th order radial wf of eigenstates of 3d HO\n",
    "    '''\n",
    "    return norm_constant(n,nu)* np.exp(-nu*r**2)* hermite(2*n+1)(np.sqrt(2*nu)*r) / r\n",
    "\n"
   ]
  },
  {
   "cell_type": "markdown",
   "metadata": {},
   "source": [
    "Check normalisation, change n1 and n2 to see if the radial wf's are orthonormal"
   ]
  },
  {
   "cell_type": "code",
   "execution_count": 26,
   "metadata": {},
   "outputs": [
    {
     "name": "stdout",
     "output_type": "stream",
     "text": [
      "The scalar product between the 15 wavefunction and the 15 wavefunction is 0.9999987361604789\n"
     ]
    }
   ],
   "source": [
    "n1 = 15\n",
    "n2 = 15\n",
    "nu = 1/8\n",
    "\n",
    "r = np.linspace(0.01, 20, 1000)\n",
    "\n",
    "R1 = [R_n(n1, r, nu) for r in r]\n",
    "R2 = [R_n(n2, r, nu) for r in r]\n",
    "\n",
    "integrand = [4 * np.pi* r1 * r2 * r**2 for r1, r2, r in zip(R1, R2, r)]\n",
    "\n",
    "norm = np.trapz(integrand, r)\n",
    "print(\"The scalar product between the\",n1, \"wavefunction and the\", n2, \"wavefunction is\",norm)"
   ]
  },
  {
   "cell_type": "markdown",
   "metadata": {},
   "source": [
    "## Functions"
   ]
  },
  {
   "cell_type": "code",
   "execution_count": 27,
   "metadata": {},
   "outputs": [],
   "source": [
    "\n",
    "def V_R(r):\n",
    "    return v_0R * np.exp(-k_R*r**2) # MeV\n",
    "\n",
    "def V_t(r):\n",
    "    return v_0t * np.exp(-k_t*r**2) # MeV\n",
    "\n",
    "def V_s(r):\n",
    "    return v_0s * np.exp(-k_s*r**2) # MeV\n",
    "\n",
    "# Function that show graphically the elements of the matrix\n",
    "def draw_matrix(matrix):\n",
    "    plt.imshow(matrix, cmap='viridis', interpolation='nearest')\n",
    "    plt.colorbar()\n",
    "    plt.show()\n"
   ]
  },
  {
   "cell_type": "markdown",
   "metadata": {},
   "source": [
    "## Matrix elements"
   ]
  },
  {
   "cell_type": "markdown",
   "metadata": {},
   "source": [
    "## Working on spin-isospin"
   ]
  },
  {
   "cell_type": "markdown",
   "metadata": {},
   "source": [
    "The four possible states of spin-isospin $\\Phi_j (\\sigma_1,\\tau_1,\\sigma_2, \\tau_2)$ of our system are \n",
    "\n",
    "\\begin{align*}\n",
    "|\\Phi_A \\rangle &= \\frac{1}{\\sqrt{2}} \\left( \\ket{\\uparrow \\uparrow \\uparrow \\downarrow} - \\ket{\\uparrow \\downarrow \\uparrow \\uparrow} \\right) \\\\\n",
    "|\\Phi_B \\rangle &= \\frac{1}{\\sqrt{2}} \\left( \\ket{\\uparrow \\uparrow \\downarrow \\downarrow} - \\ket{\\downarrow \\downarrow \\uparrow \\uparrow} \\right) \\\\\n",
    "|\\Phi_C \\rangle &= \\frac{1}{\\sqrt{2}} \\left( \\ket{\\downarrow \\uparrow \\downarrow \\downarrow} - \\ket{\\downarrow \\downarrow \\downarrow \\uparrow} \\right) \\\\\n",
    "|\\Phi_D \\rangle &= \\frac{1}{\\sqrt{2}} \\left( \\ket{\\downarrow \\uparrow \\uparrow \\downarrow} - \\ket{\\uparrow \\downarrow \\downarrow \\uparrow} \\right)\n",
    "\\end{align*}"
   ]
  },
  {
   "cell_type": "code",
   "execution_count": 28,
   "metadata": {},
   "outputs": [],
   "source": [
    "#DEFINING THE STATES\n",
    "up = 1\n",
    "down = -1\n",
    "prefactor = 1 / np.sqrt(2)\n",
    "# A = (|↑↑↑↓⟩ − |↑↓↑↑⟩)\n",
    "A = [ ((up, up, up, down), prefactor), ((up, down, up, up), -prefactor) ]\n",
    "\n",
    "# B = (|↑↑↓↓⟩ − |↓↓↑↑⟩)\n",
    "B = [ ((up, up, down, down), prefactor), ((down, down, up, up), -prefactor) ]\n",
    "\n",
    "# C = (|↓↑↓↓⟩ − |↓↓↓↑⟩)\n",
    "C = [ ((down, up, down, down), prefactor), ((down, down, down, up), -prefactor) ]\n",
    "\n",
    "# D = (|↓↑↑↓⟩ − |↑↓↓↑⟩)\n",
    "D = [ ((down, up, up, down), prefactor), ((up, down, down, up), -prefactor)] \n"
   ]
  },
  {
   "cell_type": "markdown",
   "metadata": {},
   "source": [
    "Spin-isopsin functions to evaluate 4x4 potential matrix"
   ]
  },
  {
   "cell_type": "code",
   "execution_count": 29,
   "metadata": {},
   "outputs": [],
   "source": [
    "# Compute inner product between two spin states\n",
    "\n",
    "def inner_product(state1, state2):\n",
    "    total = 0\n",
    "    for (s1, c1) in state1: #represent full basis states: s1 = (down, up, down, down) for example\n",
    "        for (s2, c2) in state2:\n",
    "                S1 = tuple(x for x in s1)  # multiply the coefficients with the spin states\n",
    "                S2 = tuple(x for x in s2)  # multiply the coefficients with the spin states\n",
    "                if S1 == S2:\n",
    "                    total += c1 * c2\n",
    "                    #print(total)\n",
    "    return total\n",
    "\n",
    "\n",
    "#check if it works\n",
    "#print(\"Inner product is\",inner_product(B,B))\n",
    "\n",
    "def spin_exchange(state):\n",
    "    exchanged_state = []\n",
    "    for spin, coeff in state:\n",
    "        a, b, c, d = spin  # Unpack the original spin tuple (safe and clean)\n",
    "        new_spin = (c, b, a, d)  # Swap the first three elements\n",
    "        exchanged_state.append((new_spin, coeff))\n",
    "    return exchanged_state\n",
    "\n",
    "#print(\"Inner product is\",inner_product(B,spin_exchange(D)))\n",
    "\n",
    "def V_matrix_elements(state1, state2, r):\n",
    "    '''\n",
    "    This function returns the potential energy between two states at a distance r.\n",
    "    '''\n",
    "    # Apply spin exchange to state2\n",
    "    exchanged_state2 = spin_exchange(state2)\n",
    "    \n",
    "    # Compute the two potential terms (you may need to adjust this depending on the context)\n",
    "    V_t_value = V_t(r)\n",
    "    V_s_value = V_s(r)\n",
    "    \n",
    "    Vij =  inner_product(state1,state2)\n",
    "    Vij_P = inner_product(state1, exchanged_state2)\n",
    "\n",
    "    return (0.5 * (Vij + Vij_P) * V_t_value + 0.5 * (Vij - Vij_P) * V_s_value) \n",
    "\n",
    "#r = 1.0  # radial distance in fm\n",
    "#print(\"The potential energy between A and B is\", V_matrix_elements(B,D,r))\n",
    "\n",
    "def V_matrix_elements_str(state1, state2):\n",
    "    \"\"\"\n",
    "    Returns the potential matrix element ⟨state1|V|state2⟩ as a string,\n",
    "    using symbolic expressions for V_t(r) and V_s(r) which will help us to built gauss-hermite integral's coefficients.\n",
    "    \"\"\"\n",
    "    # Apply spin exchange\n",
    "    exchanged_state2 = spin_exchange(state2)\n",
    "\n",
    "    # Inner products (assumed numeric)\n",
    "    Vij   = inner_product(state1, state2)\n",
    "    Vij_P = inner_product(state1, exchanged_state2)\n",
    "\n",
    "    # Build symbolic string\n",
    "    term_t = f\"(0.5*({Vij} + {Vij_P}))*V_t(r)\"\n",
    "    term_s = f\"(0.5*({Vij} - {Vij_P}))*V_s(r)\"\n",
    "\n",
    "    return f\"{term_t} + {term_s}\""
   ]
  },
  {
   "cell_type": "markdown",
   "metadata": {},
   "source": [
    "Showing results"
   ]
  },
  {
   "cell_type": "code",
   "execution_count": 30,
   "metadata": {},
   "outputs": [
    {
     "name": "stdout",
     "output_type": "stream",
     "text": [
      "Matrix elements ⟨X|V(r)|Y⟩ with r = 1 fm\n",
      "\n",
      "⟨A|V|A⟩ =  93.9520 MeV\n",
      "⟨A|V|B⟩ =  0.0000 MeV\n",
      "⟨A|V|C⟩ =  0.0000 MeV\n",
      "⟨A|V|D⟩ =  0.0000 MeV\n",
      "\n",
      "⟨B|V|A⟩ =  0.0000 MeV\n",
      "⟨B|V|B⟩ =  75.8231 MeV\n",
      "⟨B|V|C⟩ =  0.0000 MeV\n",
      "⟨B|V|D⟩ =  18.1289 MeV\n",
      "\n",
      "⟨C|V|A⟩ =  0.0000 MeV\n",
      "⟨C|V|B⟩ =  0.0000 MeV\n",
      "⟨C|V|C⟩ =  93.9520 MeV\n",
      "⟨C|V|D⟩ =  0.0000 MeV\n",
      "\n",
      "⟨D|V|A⟩ =  0.0000 MeV\n",
      "⟨D|V|B⟩ =  18.1289 MeV\n",
      "⟨D|V|C⟩ =  0.0000 MeV\n",
      "⟨D|V|D⟩ =  75.8231 MeV\n",
      "\n"
     ]
    }
   ],
   "source": [
    "states = [A, B, C, D]\n",
    "labels = [\"A\", \"B\", \"C\", \"D\"]\n",
    "\n",
    "r = 1  # radial distance in fm\n",
    "\n",
    "# Compute the full matrix\n",
    "matrix = np.zeros((4, 4))\n",
    "\n",
    "for i, state_i in enumerate(states):\n",
    "    for j, state_j in enumerate(states):\n",
    "        matrix[i, j] = V_matrix_elements(state_i, state_j,r)\n",
    "\n",
    "# Display results nicely\n",
    "print(\"Matrix elements ⟨X|V(r)|Y⟩ with r =\", r, \"fm\\n\")\n",
    "for i in range(4):\n",
    "    for j in range(4):\n",
    "        print(f\"⟨{labels[i]}|V|{labels[j]}⟩ = {matrix[i,j]: .4f} MeV\")\n",
    "    print()"
   ]
  },
  {
   "cell_type": "code",
   "execution_count": 31,
   "metadata": {},
   "outputs": [
    {
     "data": {
      "image/png": "[encoded data removed]",
      "text/plain": [
       "<Figure size 640x480 with 2 Axes>"
      ]
     },
     "metadata": {},
     "output_type": "display_data"
    }
   ],
   "source": [
    "# Drawing of the Potential matrix\n",
    "draw_matrix(matrix)"
   ]
  },
  {
   "cell_type": "markdown",
   "metadata": {},
   "source": [
    "By looking how the operator $\\hat{P}^{\\sigma}$ acts on our states:\n",
    "$$\n",
    " \\hat{P}^{\\sigma}|\\phi_A \\rangle = \\hat{P}^{\\sigma} \\frac{1}{\\sqrt{2}}(|\\uparrow \\uparrow \\uparrow \\downarrow \\rangle - |\\uparrow \\downarrow \\uparrow \\uparrow  \\rangle) = \\frac{1}{\\sqrt{2}}(|\\uparrow \\uparrow \\uparrow \\downarrow \\rangle - |\\uparrow \\downarrow \\uparrow \\uparrow  \\rangle) = |\\phi_A \\rangle\n",
    "$$\n",
    "$$\n",
    " \\hat{P}^{\\sigma}|\\phi_B \\rangle =  |\\phi_D \\rangle\n",
    "$$\n",
    "$$\n",
    " \\hat{P}^{\\sigma}|\\phi_C \\rangle =  |\\phi_C \\rangle\n",
    "$$\n",
    "$$\n",
    " \\hat{P}^{\\sigma}|\\phi_D \\rangle =  |\\phi_B \\rangle\n",
    "$$\n",
    "we see the code working well as we expect only B and D states to be coupled by the potential."
   ]
  },
  {
   "cell_type": "markdown",
   "metadata": {},
   "source": [
    "To evaluate the matrix elements of the operator \n",
    "$$\n",
    "\\hat{V}=V_{R}(r)+\\frac{1}{2}(1+\\hat{P}^{\\sigma})V_t(r)+\\frac{1}{2}(1-\\hat{P}^{\\sigma})V_s(r)\n",
    "$$\n",
    "on the full Hilbert space we have to first act with spin-isospin states and then integrate over the radial coordiante. \n",
    "$$\n",
    "\\langle mj |\\hat{V} |ni \\rangle =\n",
    "$$\n",
    "$$\n",
    "\\tilde{N}_m(\\nu) \\tilde{N}_n(\\nu) \\delta_{j,i} \\left[ \\int_{0}^{\\infty} dr v_{0r}e^{-(2 \\nu + k_R)r^2} H_{2n+1}(\\sqrt{2 \\nu} r) H_{2m+1}(\\sqrt{2 \\nu} r) + \\int_{0}^{\\infty} dr v_{0t}e^{-(2 \\nu + k_T)r^2} H_{2n+1}(\\sqrt{2 \\nu} r) H_{2m+1}(\\sqrt{2 \\nu} r) \\right]\n",
    "$$\n",
    "This integrals involve a product between Hermite polynomials times a gaussian, to solve them we use the Gauss-Hermite quadrature. By changing variable $((2 \\nu + k)r^2)=x^2$ we get the general form \n",
    "$$\n",
    "I=\\frac{1}{2 \\sqrt{2 \\nu + k}} \\int_{-\\infty}^{\\infty} dx  \\ v \\ e^{-x^2} H_{2n+1}\\left(x\\sqrt{\\frac{2 \\nu}{2 \\nu + k}}\\right) H_{2m+1}\\left(x\\sqrt{\\frac{2 \\nu}{2 \\nu + k}}\\right)\n",
    "$$\n",
    "The Gauss-Hermite quadrature states that\n",
    "$$\n",
    "I\\simeq \\frac{v}{2\\sqrt{2\\nu +k}}\\Sigma _{i=1} ^n w_i \\cdot H_{2n+1}\\left(x_i\\sqrt{\\frac{2 \\nu}{2 \\nu + k}}\\right)\\cdot H_{2m+1}\\left(x_i\\sqrt{\\frac{2 \\nu}{2 \\nu + k}}\\right),\n",
    "$$\n",
    "where $n$ is the number of points sampled used, $w_i= \\frac{2^{n-1}n!\\sqrt{\\pi}}{n^2 [H_{n-1}(x_i)]^2}$ and $x_i$ are the points of quadrature (controls accuracy; more = better)."
   ]
  },
  {
   "cell_type": "code",
   "execution_count": 32,
   "metadata": {},
   "outputs": [],
   "source": [
    "# Quadrature integrals\n",
    "def gauss_hermite_integration(func, n,k,i,j,nu):\n",
    "    # nodes and weights for the gaussian quadrature\n",
    "    nodes, weights = np.polynomial.hermite.hermgauss(n)\n",
    "\n",
    "    # evaluate the function in the nodes and do the sum\n",
    "    integral = np.sum(weights * func(nodes,k,i,j,nu))\n",
    "\n",
    "    return integral\n",
    "\n",
    "# Function to quadrature\n",
    "def Hermite_product(x,k,i,j,nu):\n",
    "  \"\"\"product of hermite polinomyals of order 2i+1 and 2j+1 evaluated in x*(expression that depends on nu and k), k depends on V_t or V_s\"\"\"\n",
    "  return hermite(2*i+1)(x*np.sqrt(2*nu/(2*nu+k)))*hermite(2*j+1)(x*np.sqrt(2*nu/(2*nu+k)))\n",
    "\n",
    "# Function that show graphically the elements of the matrix\n",
    "def draw_matrix(matrix):\n",
    "    plt.imshow(matrix, cmap='viridis', interpolation='nearest')\n",
    "    plt.colorbar()\n",
    "    plt.show()\n"
   ]
  },
  {
   "cell_type": "markdown",
   "metadata": {},
   "source": [
    "The following code section will help us evaluating the contributes of the radial potential after the smashing of spin-isospins states."
   ]
  },
  {
   "cell_type": "code",
   "execution_count": 33,
   "metadata": {},
   "outputs": [
    {
     "name": "stdout",
     "output_type": "stream",
     "text": [
      "Matrix elements ⟨X|V(r)|Y⟩\n",
      "\n",
      "⟨A|V|A⟩ = (0.5*(0.9999999999999998 + 0.9999999999999998))*V_t(r) + (0.5*(0.9999999999999998 - 0.9999999999999998))*V_s(r)\n",
      "⟨A|V|B⟩ = (0.5*(0 + 0))*V_t(r) + (0.5*(0 - 0))*V_s(r)\n",
      "⟨A|V|C⟩ = (0.5*(0 + 0))*V_t(r) + (0.5*(0 - 0))*V_s(r)\n",
      "⟨A|V|D⟩ = (0.5*(0 + 0))*V_t(r) + (0.5*(0 - 0))*V_s(r)\n",
      "\n",
      "⟨B|V|A⟩ = (0.5*(0 + 0))*V_t(r) + (0.5*(0 - 0))*V_s(r)\n",
      "⟨B|V|B⟩ = (0.5*(0.9999999999999998 + 0))*V_t(r) + (0.5*(0.9999999999999998 - 0))*V_s(r)\n",
      "⟨B|V|C⟩ = (0.5*(0 + 0))*V_t(r) + (0.5*(0 - 0))*V_s(r)\n",
      "⟨B|V|D⟩ = (0.5*(0 + 0.9999999999999998))*V_t(r) + (0.5*(0 - 0.9999999999999998))*V_s(r)\n",
      "\n",
      "⟨C|V|A⟩ = (0.5*(0 + 0))*V_t(r) + (0.5*(0 - 0))*V_s(r)\n",
      "⟨C|V|B⟩ = (0.5*(0 + 0))*V_t(r) + (0.5*(0 - 0))*V_s(r)\n",
      "⟨C|V|C⟩ = (0.5*(0.9999999999999998 + 0.9999999999999998))*V_t(r) + (0.5*(0.9999999999999998 - 0.9999999999999998))*V_s(r)\n",
      "⟨C|V|D⟩ = (0.5*(0 + 0))*V_t(r) + (0.5*(0 - 0))*V_s(r)\n",
      "\n",
      "⟨D|V|A⟩ = (0.5*(0 + 0))*V_t(r) + (0.5*(0 - 0))*V_s(r)\n",
      "⟨D|V|B⟩ = (0.5*(0 + 0.9999999999999998))*V_t(r) + (0.5*(0 - 0.9999999999999998))*V_s(r)\n",
      "⟨D|V|C⟩ = (0.5*(0 + 0))*V_t(r) + (0.5*(0 - 0))*V_s(r)\n",
      "⟨D|V|D⟩ = (0.5*(0.9999999999999998 + 0))*V_t(r) + (0.5*(0.9999999999999998 - 0))*V_s(r)\n",
      "\n"
     ]
    }
   ],
   "source": [
    "states = [A, B, C, D]\n",
    "labels = [\"A\", \"B\", \"C\", \"D\"]\n",
    "\n",
    "matrix = np.zeros((4, 4), dtype=object)\n",
    "\n",
    "for i, state_i in enumerate(states):\n",
    "    for j, state_j in enumerate(states):\n",
    "        matrix[i, j] = V_matrix_elements_str(state_i, state_j)\n",
    "\n",
    "print(f\"Matrix elements ⟨X|V(r)|Y⟩\\n\")\n",
    "\n",
    "for i in range(4):\n",
    "    for j in range(4):\n",
    "        print(f\"⟨{labels[i]}|V|{labels[j]}⟩ = {matrix[i, j]}\")\n",
    "    print()"
   ]
  },
  {
   "cell_type": "code",
   "execution_count": 34,
   "metadata": {},
   "outputs": [],
   "source": [
    "def Potential_matrix(M,nu):\n",
    "  \"\"\"\n",
    "  This function returns the potential matrix for a given M and nu.\n",
    "  \"\"\"\n",
    "  V_matrix = np.zeros((4*M, 4*M))\n",
    "  # Allocation of the values in the matrix\n",
    "  for n in range(M):\n",
    "    for m in range(M):\n",
    "      #we need to multiply  the normalization consant by the square root of 4pi because we are integrating in spherical coordinates\n",
    "      N_nu_n = norm_constant(n,nu) * np.sqrt(4*np.pi)\n",
    "      N_nu_m = norm_constant(m,nu) * np.sqrt(4*np.pi)\n",
    "      const = N_nu_n*N_nu_m\n",
    "      n_nodes = 2*(2*n+1+2*m+1) #2*(the sum of the order of the Hermite polynomial)\n",
    "      for k in range(4):\n",
    "        if k==0 or k==2:\n",
    "          int1 = v_0R/(2*np.sqrt(2*nu+k_R))*gauss_hermite_integration(Hermite_product, n_nodes,k_R,n,m,nu)\n",
    "          int2 = -v_0t/(2*np.sqrt(2*nu+k_t))*gauss_hermite_integration(Hermite_product, n_nodes,k_t,n,m,nu)\n",
    "          V_matrix[4*n+k, 4*m+k] = const*(int1+int2)\n",
    "        if k==1 or k==3:\n",
    "          int1 = v_0R/(2*np.sqrt(2*nu+k_R))*gauss_hermite_integration(Hermite_product, n_nodes,k_R,n,m,nu)\n",
    "          int2 = -0.5*v_0t/(2*np.sqrt(2*nu+k_t))*gauss_hermite_integration(Hermite_product, n_nodes,k_t,n,m,nu)\n",
    "          int3 = -0.5*v_0s/(2*np.sqrt(2*nu+k_s))*gauss_hermite_integration(Hermite_product, n_nodes,k_s,n,m,nu)\n",
    "          V_matrix[4*n+k, 4*m+k] = const*(int1+int2+int3)\n",
    "        if k==1:\n",
    "          V_matrix[4*n+k, 4*m+2+k] = const*(int2-int3)\n",
    "          V_matrix[4*n+2+k, 4*m+k] = const*(int2-int3)\n",
    "\n",
    "  return V_matrix"
   ]
  },
  {
   "cell_type": "code",
   "execution_count": 35,
   "metadata": {},
   "outputs": [],
   "source": [
    "def Kinetic_matrix(M,nu):\n",
    "  \"\"\"\n",
    "  This function returns the potential matrix for a given M and nu.\n",
    "  \"\"\" \n",
    "  K_matrix = np.zeros((4*M, 4*M))\n",
    "  a = 1e-12* h_bar**2 *(c*1e15)**2/(2*mu) #1e-12 for conversion eV**2 -> MeV - 1e-15 for conversion m -> fm\n",
    "  #allocation of the values in the matrix\n",
    "  for n in range(M):\n",
    "      for m in range(M):\n",
    "          for k in range(4):\n",
    "              if m == n: #diagonal elements\n",
    "                  K_matrix[4*n+k, 4*m+k] = a * nu * (4*n+3)\n",
    "              elif n==m+1:\n",
    "                  K_matrix[4*n+k, 4*m+k] = -a*nu*np.sqrt(2*n*(2*n+1))\n",
    "              elif n+1==m:\n",
    "                  K_matrix[4*n+k, 4*m+k] = -a*nu*np.sqrt((2*n+2)*(2*n+3))\n",
    "\n",
    "  return K_matrix\n"
   ]
  },
  {
   "cell_type": "code",
   "execution_count": 36,
   "metadata": {},
   "outputs": [],
   "source": [
    "# Potential Matrix\n",
    "\n",
    "V_matrix = Potential_matrix(M,nu)"
   ]
  },
  {
   "cell_type": "code",
   "execution_count": 37,
   "metadata": {},
   "outputs": [
    {
     "data": {
      "image/png": "[encoded data removed]",
      "text/plain": [
       "<Figure size 640x480 with 2 Axes>"
      ]
     },
     "metadata": {},
     "output_type": "display_data"
    }
   ],
   "source": [
    "#Drawing Potential matrix\n",
    "draw_matrix(V_matrix)"
   ]
  },
  {
   "cell_type": "markdown",
   "metadata": {},
   "source": [
    "For the kinetic energy\n",
    "\\begin{align*}\n",
    "\\bra{mj} \\hat{K} \\ket{nk}   &= 4\\pi \\delta_{jk} \\int dr r^2 R_m \\left(-\\frac{\\hbar\n",
    "^2 \\nabla ^2 }{2\\mu} R_n\\right) \\nonumber \\\\ \n",
    "&= -\\frac{4\\pi \\hbar ^2}{2\\mu} \\delta_{jk} \\tilde{N}_m (\\nu) \\tilde{N}_n (\\nu) \\int\n",
    "dr e^{-\\nu r^2} H_{2m+1} (\\sqrt{2\\nu} r) \\frac{\\partial ^2}{\\partial r^2}\n",
    "\\left(e^{-\\nu r^2}H_{2n+1}(\\sqrt{2\\nu} r)\\right)\\nonumber \\\\ \n",
    "&= -\\frac{4\\pi \\hbar ^2}{\\mu} \\delta_{jk} \\tilde{N}_m (\\nu) \\tilde{N}_n (\\nu) \\int\n",
    "dr e^{-2\\nu r^2} H_{2m+1} (\\sqrt{2\\nu} r) \n",
    "\\left(\\left(x^2-1\\right)H_{2n+1} - 2x H_{2n+1}^\\prime + H_{2n+1}^{\\prime\\prime}\\right)\\nonumber \\\\ \n",
    "&= -\\frac{4\\pi \\hbar ^2}{\\mu} \\delta_{jk} \\tilde{N}_m \\tilde{N}_n \\int\n",
    "dr e^{-2\\nu r^2} H_{2m+1} \\left(x^2 H_{2n+1} - H_{2n+1} - 4(2n+1) xH_{2n} +\n",
    "4n\\left(2n+1\\right)H_{2n-1}\\right)\n",
    "\\end{align*} \n",
    "\n",
    "and use $2xH_n = H_{n+1} + 2n H_{n-1}$:\n",
    "\\begin{align*}\n",
    "      \\bra{mj} \\hat{K} \\ket{nk} &= \\frac{-4\\pi \\hbar ^2}{\\mu}\\delta_{jk}\\tilde{N}_n\\tilde{N}_m \\int dr e^{-2\\nu\n",
    "r^2}H_{2m+1} \\left(\\frac{1}{4}H_{2n+3} -\\frac{1}{2} \\left(4n+3\\right)H_{2n+1} -\n",
    "2n(n+1) H_{2n+1}\\right)\\nonumber \\\\ \n",
    "&= \\frac{-\\nu \\hbar ^2}{\\mu} \\delta_{jk} \\bra{m}\n",
    "\\left(\\frac{\\tilde{N}_n}{4\\tilde{N}_{n+1}}\\ket{n} -\n",
    "\\frac{1}{2}\\left(4n+3\\right)\\ket{n} - 2n(2n+1)\n",
    "\\frac{\\tilde{N}_n}{\\tilde{N}_{n-1}}\\ket{n-1} \\right)\n",
    "\\end{align*}\n",
    "or\n",
    "\\begin{align*}\n",
    "\\bra{mj} \\hat{K} \\ket{nk} &= \\frac{\\hbar^2 \\nu}{2\\mu}\\delta_{jk}\n",
    "\\left[\\left(4n+3\\right)\\delta_{mn} - \\sqrt{(2n+3)(2n+2)} \\delta_{n,m-1} -\n",
    "\\sqrt{2n(2n+1)}\\delta_{n,m+1} \\right]\n",
    "\\end{align*}\n"
   ]
  },
  {
   "cell_type": "code",
   "execution_count": 38,
   "metadata": {},
   "outputs": [],
   "source": [
    "#Kinetic matrix\n",
    "\n",
    "K_matrix = Kinetic_matrix(M,nu)"
   ]
  },
  {
   "cell_type": "code",
   "execution_count": 39,
   "metadata": {},
   "outputs": [
    {
     "data": {
      "image/png": "[encoded data removed]",
      "text/plain": [
       "<Figure size 640x480 with 2 Axes>"
      ]
     },
     "metadata": {},
     "output_type": "display_data"
    }
   ],
   "source": [
    "# Drawing of the Kinetic Energy matrix\n",
    "draw_matrix(K_matrix)"
   ]
  },
  {
   "cell_type": "markdown",
   "metadata": {},
   "source": [
    "## Diagonalization"
   ]
  },
  {
   "cell_type": "code",
   "execution_count": 40,
   "metadata": {},
   "outputs": [
    {
     "name": "stdout",
     "output_type": "stream",
     "text": [
      "The ground state energy is -2.1671668775882864 MeV\n"
     ]
    }
   ],
   "source": [
    "H = (K_matrix + V_matrix) #Hamiltonian matrix\n",
    "\n",
    "#draw_matrix(H) \n",
    "\n",
    "auto_values, auto_vectors = eigh(H) #eigenvalues and eigenvectors of the Hamiltonian matrix\n",
    "\n",
    "ground_state_energy =  auto_values[0] #ground state energy is the first eigenvalue  \n",
    "\n",
    "print(\"The ground state energy is\",ground_state_energy, \"MeV\")"
   ]
  },
  {
   "cell_type": "markdown",
   "metadata": {},
   "source": [
    "Now we check the convergence for different M"
   ]
  },
  {
   "cell_type": "code",
   "execution_count": 41,
   "metadata": {},
   "outputs": [
    {
     "name": "stdout",
     "output_type": "stream",
     "text": [
      "The ground state energy is -2.14160 MeV for M = 14\n",
      "The ground state energy is -2.15481 MeV for M = 16\n",
      "The ground state energy is -2.16263 MeV for M = 18\n",
      "The ground state energy is -2.16717 MeV for M = 20\n",
      "The ground state energy is -2.16977 MeV for M = 22\n",
      "The ground state energy is -2.17127 MeV for M = 24\n",
      "The ground state energy is -2.17213 MeV for M = 26\n",
      "The ground state energy is -2.17264 MeV for M = 28\n"
     ]
    }
   ],
   "source": [
    "M_test = [14,16,18,20,22,24,26,28,30]\n",
    "\n",
    "for M in M_test:\n",
    "    V_matrix = Potential_matrix(M,nu)\n",
    "    K_matrix = Kinetic_matrix(M,nu)\n",
    "    H = (K_matrix + V_matrix) \n",
    "    auto_values, auto_vectors = eigh(H) \n",
    "    ground_state_energy =  auto_values[0] #ground state energy is the first eigenvalue  \n",
    "    print(\"The ground state energy is\",f\"{ground_state_energy:.5f}\", \"MeV\", \"for M =\", M)"
   ]
  },
  {
   "cell_type": "markdown",
   "metadata": {},
   "source": [
    "We choose M=26"
   ]
  },
  {
   "cell_type": "code",
   "execution_count": null,
   "metadata": {},
   "outputs": [],
   "source": [
    "M=26"
   ]
  },
  {
   "cell_type": "markdown",
   "metadata": {},
   "source": [
    "Till now we aproximated our state as\n",
    "\\begin{equation}\n",
    "\\Psi_M(\\mathbf{r}, \\sigma_1,\\tau_1,\\sigma_2, \\tau_2) = \\sum_{m=0}^M \\sum_{j= \\{A,B,C,D \\} } c_{mj} R_{m}(r) \\Phi_j (\\sigma_1,\\tau_1,\\sigma_2, \\tau_2)\n",
    "\\end{equation}\n",
    "In the next cell we print the coefficents $c_{mj}$ so that we can get the value of the total spin and total isospin in the ground state."
   ]
  },
  {
   "cell_type": "code",
   "execution_count": 46,
   "metadata": {},
   "outputs": [
    {
     "name": "stdout",
     "output_type": "stream",
     "text": [
      "0.051002\t-0.381032\t0.658372\t-0.381032\t\n",
      "0.017753\t-0.132631\t0.229168\t-0.132631\t\n",
      "0.016041\t-0.119841\t0.207068\t-0.119841\t\n",
      "0.011608\t-0.086724\t0.149847\t-0.086724\t\n",
      "0.008671\t-0.064781\t0.111934\t-0.064781\t\n",
      "0.007823\t-0.058447\t0.100989\t-0.058447\t\n",
      "0.005690\t-0.042509\t0.073450\t-0.042509\t\n",
      "0.005472\t-0.040881\t0.070637\t-0.040881\t\n",
      "0.004080\t-0.030479\t0.052663\t-0.030479\t\n",
      "0.003951\t-0.029517\t0.051002\t-0.029517\t\n",
      "0.003055\t-0.022823\t0.039434\t-0.022823\t\n",
      "0.002922\t-0.021833\t0.037725\t-0.021833\t\n",
      "0.002337\t-0.017457\t0.030164\t-0.017457\t\n",
      "0.002197\t-0.016410\t0.028354\t-0.016410\t\n",
      "0.001802\t-0.013463\t0.023263\t-0.013463\t\n",
      "0.001663\t-0.012424\t0.021467\t-0.012424\t\n",
      "0.001387\t-0.010364\t0.017907\t-0.010364\t\n",
      "0.001256\t-0.009382\t0.016210\t-0.009382\t\n",
      "0.001054\t-0.007878\t0.013611\t-0.007878\t\n",
      "0.000934\t-0.006975\t0.012052\t-0.006975\t\n",
      "0.000780\t-0.005826\t0.010067\t-0.005826\t\n",
      "0.000670\t-0.005007\t0.008651\t-0.005007\t\n",
      "0.000547\t-0.004088\t0.007063\t-0.004088\t\n",
      "0.000448\t-0.003345\t0.005779\t-0.003345\t\n",
      "0.000345\t-0.002577\t0.004452\t-0.002577\t\n",
      "0.000254\t-0.001898\t0.003280\t-0.001898\t\n",
      "0.000165\t-0.001230\t0.002125\t-0.001230\t\n",
      "0.000081\t-0.000603\t0.001042\t-0.000603\t\n"
     ]
    }
   ],
   "source": [
    "for i in range(len(auto_vectors[:, 10])):\n",
    "    print(f\"{auto_vectors[i, 0]:.6f}\", end='\\t')  \n",
    "    if (i + 1) % 4 == 0:\n",
    "        print()  \n"
   ]
  },
  {
   "cell_type": "markdown",
   "metadata": {},
   "source": [
    "Now we compute\n",
    "$$\n",
    "<\\Psi_M(\\mathbf{r}, \\sigma_1,\\tau_1,\\sigma_2, \\tau_2)|\\Psi_M(\\mathbf{r}, \\sigma_1,\\tau_1,\\sigma_2, \\tau_2)>\n",
    "$$\n",
    "starting for the spatial coordiantes so that we are left with spin-isopsins states.\n",
    "\n",
    "To check partial wave percentage, we decompose our states onto a more appropriate basis:\n",
    "In terms of spin projections, the possible states are (considering fermionic statistics and $M_T = 0$):\n",
    "\\begin{align*}\n",
    "\\chi_{11}\\eta_{00} &= \\frac{1}{\\sqrt{2} }\\ket{\\uparrow\\uparrow} _S\n",
    "\\left(\\ket{\\uparrow\\downarrow} - \\ket{\\downarrow\\uparrow} \\right)_I\\nonumber \\\\ \n",
    "\\chi_{10}\\eta_{00}&= \\frac{1}{2}\\left(\\ket{\\uparrow\\uparrow} +\\ket{\\uparrow\\downarrow}\n",
    "\\right)_S \\left(\\ket{\\uparrow\\uparrow} -\\ket{\\uparrow\\downarrow} \\right)_I\\nonumber \\\\ \n",
    "\\chi_{1-1}\\eta_{00}&=\\frac{1}{\\sqrt{2} }\\ket{\\downarrow\\downarrow} _S\n",
    "\\left(\\ket{\\uparrow\\downarrow} -\\ket{\\downarrow\\uparrow} \\right)_I\\nonumber \\\\ \n",
    "\\chi_{00}\\eta_{10} &= \\frac{1}{2}\\left(\\ket{\\uparrow\\downarrow} -\\ket{\\downarrow\\uparrow}\n",
    "\\right)_S\\left(\\ket{\\uparrow\\downarrow} +\\ket{\\downarrow\\uparrow} \\right)_I\n",
    "\\end{align*}\n",
    "These states easily decompose into\n",
    "\\begin{align*}\n",
    " \\chi_{11}\\eta_{00} &= \\ket{\\phi_A} \\nonumber \\\\ \n",
    " \\chi_{10}\\eta_{00} &= \\frac{1}{\\sqrt{2} }\\left(\\ket{\\phi_B} + \\ket{\\phi_D} \\right)\\nonumber \\\\ \n",
    " \\chi_{00}\\eta_{10} &= \\frac{1}{\\sqrt{2} }\\left(\\ket{\\phi_B } - \\ket{\\phi_D} \\right)\\nonumber \\\\ \n",
    " \\chi_{1-1}\\eta_{00} &= \\ket{\\phi_C} .\n",
    "\\end{align*}\n",
    "This change of basis is implemented with the matrix\n",
    "\\begin{align*}\n",
    "    V = \\begin{bmatrix} 1 & 0 & 0&0\\\\\n",
    "                        0 & 1/\\sqrt{2}&0& 1 /\\sqrt{2} \\\\\n",
    "                        0& 0&1&0\\\\\n",
    "                        0 & 1 /\\sqrt{2} & 0&-1 / \\sqrt{2} \n",
    "                     \\end{bmatrix}\n",
    "\\end{align*}\n"
   ]
  },
  {
   "cell_type": "code",
   "execution_count": 66,
   "metadata": {},
   "outputs": [],
   "source": [
    "# we change basis\n",
    "def change_basis(M):\n",
    "    base_change_matrix =np.zeros((4*M, 4*M))\n",
    "    for n in range(M):\n",
    "        for m in range(M):\n",
    "            if n==m:\n",
    "                for k in range(4):\n",
    "                    if k==0 or k==2:\n",
    "                        base_change_matrix[4*n+k, 4*m+k] = 1\n",
    "                    if k==3:\n",
    "                        base_change_matrix[4*n+k, 4*m+k] = -1/np.sqrt(2)\n",
    "                    if k==1:\n",
    "                        base_change_matrix[4*n+k, 4*m+2+k] = 1/np.sqrt(2)\n",
    "                        base_change_matrix[4*n+2+k, 4*m+k] = 1/np.sqrt(2)\n",
    "                        base_change_matrix[4*n+k, 4*m+k] = 1/np.sqrt(2)\n",
    "    return base_change_matrix"
   ]
  },
  {
   "cell_type": "markdown",
   "metadata": {},
   "source": [
    "The change of basis turns the hamiltonian into \n",
    "\\begin{align}\n",
    "H \\to V^{-1} H V\n",
    "\\end{align}"
   ]
  },
  {
   "cell_type": "code",
   "execution_count": 87,
   "metadata": {},
   "outputs": [
    {
     "name": "stdout",
     "output_type": "stream",
     "text": [
      "The ground state energy is -2.1673400695747835 MeV\n"
     ]
    }
   ],
   "source": [
    "#change basis in the hamiltonian\n",
    "# Our Hamiltonian in the new basis\n",
    "change_basis_mat = change_basis(M)\n",
    "change_basis_inv = np.linalg.inv(change_basis_mat)\n",
    "H_newbasis=change_basis_inv @ H @ change_basis_mat\n",
    "\n",
    "\n",
    "#new diagonalisation\n",
    "\n",
    "auto_values_new_basis, auto_vectors_new_basis = eigh(H_newbasis) #eigenvalues and eigenvectors of the Hamiltonian matrix\n",
    "\n",
    "ground_state_energy_new =  auto_values_new_basis[0] #ground state energy is the first eigenvalue, check everything is ok\n",
    "\n",
    "print(\"The ground state energy is\",ground_state_energy_new, \"MeV\")"
   ]
  },
  {
   "cell_type": "code",
   "execution_count": 91,
   "metadata": {},
   "outputs": [
    {
     "name": "stdout",
     "output_type": "stream",
     "text": [
      "Total probability: 0.9999999999999998\n",
      "Probability to have the ground state in a singlet state : 0.00 %\n",
      "Probability to have the ground state in a triplet state : 100.00 %\n"
     ]
    }
   ],
   "source": [
    "\n",
    "Prob11=0\n",
    "Prob10=0\n",
    "Prob1minus1=0\n",
    "Prob00=0\n",
    "\n",
    "coeff = list(auto_vectors_new_basis[:, list(auto_values_new_basis).index(min(auto_values_new_basis))])\n",
    "#summing th eprobability to have the particle in the state A, B, C, D for several radial wavefunctions\n",
    "\n",
    "for i in range(4*M):\n",
    "    if i%4==0:\n",
    "        Prob11 += (auto_vectors_new_basis[i, 0])**2\n",
    "    if i%4==1:\n",
    "        Prob10 += (auto_vectors_new_basis[i, 0])**2\n",
    "    if i%4==2:\n",
    "        Prob1minus1 += (auto_vectors_new_basis[i, 0])**2\n",
    "    if i%4==3:\n",
    "        Prob00 += (auto_vectors_new_basis[i, 0])**2\n",
    "\n",
    "print(\"Total probability:\", Prob11 + Prob10 + Prob1minus1 + Prob00)\n",
    "\n",
    "\n",
    "print(\"Probability to have the ground state in a singlet state :\", f\"{(Prob00)*100:.2f}\", \"%\")\n",
    "print(\"Probability to have the ground state in a triplet state :\", f\"{(Prob11 + Prob10 + Prob1minus1)*100:.2f}\", \"%\")"
   ]
  },
  {
   "cell_type": "markdown",
   "metadata": {},
   "source": [
    "Our groundstate is wholly in the spin triplet & isospin singlet!\n",
    "\n"
   ]
  },
  {
   "cell_type": "markdown",
   "metadata": {},
   "source": [
    "## Varying $\\nu$"
   ]
  },
  {
   "cell_type": "code",
   "execution_count": 44,
   "metadata": {},
   "outputs": [],
   "source": [
    "nu_test = np.linspace(0.09,0.2,8) \n",
    "M = 26"
   ]
  },
  {
   "cell_type": "code",
   "execution_count": 45,
   "metadata": {},
   "outputs": [
    {
     "name": "stdout",
     "output_type": "stream",
     "text": [
      "The ground state energy is -2.170 MeV with nu = 0.090\n",
      "The ground state energy is -2.172 MeV with nu = 0.106\n",
      "The ground state energy is -2.173 MeV with nu = 0.121\n",
      "The ground state energy is -2.172 MeV with nu = 0.137\n",
      "The ground state energy is -2.172 MeV with nu = 0.153\n",
      "The ground state energy is -2.170 MeV with nu = 0.169\n",
      "The ground state energy is -2.169 MeV with nu = 0.184\n",
      "The ground state energy is -2.167 MeV with nu = 0.200\n"
     ]
    }
   ],
   "source": [
    "for i in range(len(nu_test)):\n",
    "    V_matrix = Potential_matrix(M,nu_test[i])\n",
    "    K_matrix = Kinetic_matrix(M,nu_test[i])\n",
    "\n",
    "    H = (K_matrix + V_matrix) #Hamiltonian matrix\n",
    "    \n",
    "    auto_values, auto_vectors = eigh(H) #eigenvalues and eigenvectors of the Hamiltonian matrix\n",
    "\n",
    "    ground_state_energy =  auto_values[0] #ground state energy is the first eigenvalue  \n",
    "\n",
    "    print(\"The ground state energy is\",f\"{ground_state_energy:.3f}\", \"MeV with nu =\",f\"{nu_test[i]:.3f}\")"
   ]
  }
 ],
 "metadata": {
  "kernelspec": {
   "display_name": "Python 3",
   "language": "python",
   "name": "python3"
  },
  "language_info": {
   "codemirror_mode": {
    "name": "ipython",
    "version": 3
   },
   "file_extension": ".py",
   "mimetype": "text/x-python",
   "name": "python",
   "nbconvert_exporter": "python",
   "pygments_lexer": "ipython3",
   "version": "3.7.1"
  }
 },
 "nbformat": 4,
 "nbformat_minor": 2
}
