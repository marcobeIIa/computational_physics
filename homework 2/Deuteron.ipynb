{
 "cells": [
  {
   "cell_type": "markdown",
   "metadata": {
    "id": "JpJj0PbLUdu0"
   },
   "source": [
    "# Ground State of the Deuteron"
   ]
  },
  {
   "cell_type": "markdown",
   "metadata": {
    "id": "c5WE4cG1G0BY"
   },
   "source": [
    "Bianco Enrico, Castagna Andrea, Vaia Marco \\\n",
    "29/04/2024 \\\n",
    "University of Trento, Department of Physics"
   ]
  },
  {
   "cell_type": "markdown",
   "metadata": {
    "id": "-FRv5O_ioh2b"
   },
   "source": [
    "This project aims to calculate the lowest energy state of the deuteron, which consists of a proton and a neutron, using numerical methods. Our analysis focuses on the relative position described by the coordinate\n",
    "$r$, along with considerations of total spin and isospin. We factorize the wave function into two distinct parts, one linked to the centre of mass motion and the other one regarding the relative motion. In absence of external force, the centre of mass wave function will be trivial, so we focus on studying the relative part.\n",
    "\n",
    "We want to obtain an extimate of the ground state of the system, exploiting the variational method, which provides an upper limit for the system's ground state energy.\n",
    "\n",
    "\n",
    "\n",
    "\n",
    "\n"
   ]
  },
  {
   "cell_type": "markdown",
   "metadata": {
    "id": "zftLma2gpv-C"
   },
   "source": [
    "In this work, the nuclear interaction is described by the Minnesota potential: the Hamiltonian $\\hat{H}$ is characterized by a kinetic energy term $\\hat{K}=-\\frac{\\hbar^2}{2\\mu}\\nabla^2$, where $\\mu$ is the reduced mass of the system, and a spin-dependent central potential:\n",
    "$$\\hat{V}(r)=V_R(r)+\\dfrac{1}{2}\\left(1+\\hat{P}^{\\sigma}\\right)V_t(r)+\\dfrac{1}{2}\\left(1-\\hat{P}^{\\sigma}\\right)V_s(r)\\,,$$\n",
    "where $\\hat{P}^{\\sigma}$ is the permutation operator over the spins, acting as $\\hat{P}^\\sigma|\\sigma_1\\,\\sigma_2\\rangle=|\\sigma_2\\,\\sigma_1\\rangle$.\n",
    "The spatial functions are $V_R(r)=v_{0_R}\\exp(-k_Rr^2)$, $V_t(r)=-v_{0_t}\\exp(-k_tr^2)$ and $V_s(r)=-v_{0_s}\\exp(-k_sr^2)$; all the numerical values are given in the text of the exercise."
   ]
  },
  {
   "cell_type": "code",
   "execution_count": 1,
   "metadata": {
    "executionInfo": {
     "elapsed": 1356,
     "status": "ok",
     "timestamp": 1715684765715,
     "user": {
      "displayName": "Andrea Castagna",
      "userId": "05556426570903964086"
     },
     "user_tz": -120
    },
    "id": "a_npo2KbF4_d"
   },
   "outputs": [],
   "source": [
    "import numpy as np\n",
    "import matplotlib.pyplot as plt\n",
    "import math\n",
    "from scipy.integrate import simps\n",
    "import scipy.constants as const\n",
    "import random\n",
    "import pandas as pd\n",
    "from scipy.signal import find_peaks\n",
    "from scipy.special import hermite"
   ]
  },
  {
   "cell_type": "markdown",
   "metadata": {
    "id": "0w82NNKHq8Ug"
   },
   "source": [
    "In the s-waves approximation, the relative component $\\Psi$ can be written in the following way, separating the spatial part and the spin-isospin part:\n",
    "$$\\Psi(\\mathbf{r},\\sigma_1,\\tau_1,\\sigma_2,\\tau_2)=\\sum_j\\psi_j(\\mathbf{r})\\Phi_j(\\sigma_1,\\tau_1,\\sigma_2,\\tau_2)\\,.$$"
   ]
  },
  {
   "cell_type": "markdown",
   "metadata": {
    "id": "nR1mRKZtrKhn"
   },
   "source": [
    "The spatial wave-functions $\\psi_j(\\mathbf{r})=R_n(r)/\\sqrt{4\\pi}$ are written in a basis spanned by eigenstates of the 3D harmonic oscillator $R_n(r)=N_ne^{-\\nu r^2}L_n^{1/2}(2\\nu r^2)$, where $N_n$ is a normalization factor, $\\nu=\\frac{\\mu\\omega}{2\\hbar}$ and $\\omega$ is the oscillatory frequency. We have chosen a $\\nu$ value in order to have a gaussian term with a spatial dimension of the deuteron nucleon $\\sim 2$ fm, which leads to $\\nu=1/8$ fm$^{-2}$.\n",
    "\n",
    "The Laguerre polynomials can be expressed through the Hermite polynomials as follows:\n",
    "$$L_n^{1/2}(x^2)=\\dfrac{(-1)^n}{2^{2n+1}n!x}H_{2n+1}(x).$$\n",
    "The spatial basis can thus be written as\n",
    "$$R_n(r)=\\tilde{N}_n\\dfrac{e^{-\\nu r^2}}{r}H_{2n+1}(\\sqrt{2\\nu}r).$$\n",
    "We implemented the Hermite polynomials using the recursive formula $H_{n+1}(x)=2xH_n(x)-2nH_{n-1}(x)$, with $H_0(x)=1$ and $H_1(x)=2x$."
   ]
  },
  {
   "cell_type": "markdown",
   "metadata": {
    "id": "VoWaIeJesUKJ"
   },
   "source": [
    "Due to the normalization of the $\\psi_j(\\mathbf{r})$, namely $\\int d\\mathbf{r} |\\psi_j(\\mathbf{r})|^2=1$, we can obtain the analytical expression for $\\tilde{N_n}$:\n",
    "\n",
    "$$\\tilde{N}_n= \\dfrac{(2\\nu)^{1/4}}{\\pi^{1/4}\\sqrt{(2n+1)!}}2^{-n}$$."
   ]
  },
  {
   "cell_type": "markdown",
   "metadata": {
    "id": "hi5NmYcpjIP6"
   },
   "source": [
    "## Functions"
   ]
  },
  {
   "cell_type": "code",
   "execution_count": 8,
   "metadata": {
    "executionInfo": {
     "elapsed": 371,
     "status": "ok",
     "timestamp": 1715684812160,
     "user": {
      "displayName": "Andrea Castagna",
      "userId": "05556426570903964086"
     },
     "user_tz": -120
    },
    "id": "W9-lzDebHYH3"
   },
   "outputs": [],
   "source": [
    "# Recursion formula for the Hermite polynomials\n",
    "def hermite_polynomial(x, n):\n",
    "  \"\"\" generate the Hermite polynomial of order n\"\"\"\n",
    "  if n == 0:\n",
    "        return np.ones_like(x)\n",
    "  elif n == 1:\n",
    "        return 2 * x\n",
    "  else:\n",
    "        return 2 * x * hermite_polynomial(x, n - 1) - 2 * (n - 1) * hermite_polynomial(x, n - 2)"
   ]
  },
  {
   "cell_type": "code",
   "execution_count": 9,
   "metadata": {
    "executionInfo": {
     "elapsed": 5,
     "status": "ok",
     "timestamp": 1715684812803,
     "user": {
      "displayName": "Andrea Castagna",
      "userId": "05556426570903964086"
     },
     "user_tz": -120
    },
    "id": "dlww2T5Im2cI"
   },
   "outputs": [],
   "source": [
    "# Quadrature integrals\n",
    "def gauss_hermite_integration(func, n,k,i,j,nu):\n",
    "    # nodes and weights for the gaussian quadrature\n",
    "    nodes, weights = np.polynomial.hermite.hermgauss(n)\n",
    "\n",
    "    # evaluate the function in the nodes and do the sum\n",
    "    integral = np.sum(weights * func(nodes,k,i,j,nu))\n",
    "\n",
    "    return integral"
   ]
  },
  {
   "cell_type": "code",
   "execution_count": 10,
   "metadata": {
    "executionInfo": {
     "elapsed": 5,
     "status": "ok",
     "timestamp": 1715684812804,
     "user": {
      "displayName": "Andrea Castagna",
      "userId": "05556426570903964086"
     },
     "user_tz": -120
    },
    "id": "4wfwPC5bgwlh"
   },
   "outputs": [],
   "source": [
    "# Function to quadrature\n",
    "def my_function(x,k,i,j,nu):\n",
    "  \"\"\"product of hermite polinomyals of order 2i+1 and 2j+1 evaluated in x*(expression that depends on nu and k)\"\"\"\n",
    "  return hermite(2*i+1)(x*np.sqrt(2*nu/(2*nu+k)))*hermite(2*j+1)(x*np.sqrt(2*nu/(2*nu+k)))"
   ]
  },
  {
   "cell_type": "code",
   "execution_count": 11,
   "metadata": {
    "executionInfo": {
     "elapsed": 4,
     "status": "ok",
     "timestamp": 1715684812804,
     "user": {
      "displayName": "Andrea Castagna",
      "userId": "05556426570903964086"
     },
     "user_tz": -120
    },
    "id": "9Qvhhm8klp9e"
   },
   "outputs": [],
   "source": [
    "# Function that show graphically the elements of the matrix\n",
    "def draw_matrix(matrix):\n",
    "    plt.imshow(matrix, cmap='viridis', interpolation='nearest')\n",
    "    plt.colorbar()\n",
    "    plt.show()"
   ]
  },
  {
   "cell_type": "markdown",
   "metadata": {
    "id": "MBp7zj01jSrn"
   },
   "source": [
    "## Hermite functions"
   ]
  },
  {
   "cell_type": "markdown",
   "metadata": {
    "id": "Mugc5Cf_XUsq"
   },
   "source": [
    "In the following figure, we compare the Hermite polynomials generated by our recursive function and the ones by scipy."
   ]
  },
  {
   "cell_type": "code",
   "execution_count": 12,
   "metadata": {
    "colab": {
     "base_uri": "https://localhost:8080/",
     "height": 0
    },
    "executionInfo": {
     "elapsed": 840,
     "status": "ok",
     "timestamp": 1715684814575,
     "user": {
      "displayName": "Andrea Castagna",
      "userId": "05556426570903964086"
     },
     "user_tz": -120
    },
    "id": "WFhvSOuwHY8A",
    "outputId": "54f096ca-df37-41dd-81f7-58f5048c97d6"
   },
   "outputs": [
    {
     "data": {
      "image/png": "[encoded data removed]",
      "text/plain": [
       "<Figure size 640x480 with 1 Axes>"
      ]
     },
     "metadata": {},
     "output_type": "display_data"
    }
   ],
   "source": [
    "# Plotting of the Hermite functions over a mesh, comparing it with the Scipy functions\n",
    "x = np.linspace(0, 3, 400)\n",
    "for n in range(3):\n",
    "    plt.plot(x, hermite_polynomial(x, n), label=f'$H_{n}$(x)')\n",
    "    plt.plot(x, hermite(n)(x), label=f'$H_{n}$(x),scipy')\n",
    "\n",
    "plt.title('Hermite polynomial')\n",
    "plt.xlabel('x')\n",
    "plt.ylabel('Hermite(x)')\n",
    "plt.legend()\n",
    "plt.grid(True)\n",
    "plt.show()"
   ]
  },
  {
   "cell_type": "markdown",
   "metadata": {
    "id": "ipGiRQVvnVgs"
   },
   "source": [
    "From the graph, it is possible to verify the accuracy of our Hermite polynomials compared with the Scipy's Hermite functions. Therefore from now on we will use the latter functions."
   ]
  },
  {
   "cell_type": "markdown",
   "metadata": {
    "id": "2zOraJIMjaSB"
   },
   "source": [
    "## Quantities related to the problem"
   ]
  },
  {
   "cell_type": "code",
   "execution_count": 13,
   "metadata": {
    "executionInfo": {
     "elapsed": 3,
     "status": "ok",
     "timestamp": 1715684815557,
     "user": {
      "displayName": "Andrea Castagna",
      "userId": "05556426570903964086"
     },
     "user_tz": -120
    },
    "id": "wYahWnM9HuAZ"
   },
   "outputs": [],
   "source": [
    "# - Minnesota potential parameters:\n",
    "v_0r = 200 #Mev\n",
    "v_0t = 178\n",
    "v_0s = 91.85\n",
    "\n",
    "k_R = 1.487 #fm^-2\n",
    "k_t = 0.639\n",
    "k_s = 0.465\n",
    "\n",
    "# - Radial wavefunction parameters\n",
    "nu = [1/8] #fm^-2\n",
    "M = 20 #maximum value of the order of the radial part of the wavefunction\n",
    "\n",
    "# - Masses:\n",
    "m = 938.28/2 #MeV/c^2      reduced mass (approx m_n = m_p)\n",
    "\n",
    "# - Costants:\n",
    "h_bar_Js = const.hbar #hbar in Js\n",
    "h_bar = h_bar_Js / (1.6e-19) # hbar in eVs\n",
    "c=const.c\n",
    "\n",
    "# - Useful quantities:\n",
    "a = 1e-12* h_bar**2 *(c*1e15)**2/(2*m) #1e-12 for conversion eV**2 -> MeV - 1e-15 for conversion m -> fm"
   ]
  },
  {
   "cell_type": "markdown",
   "metadata": {
    "id": "YkKUR2BLjhz_"
   },
   "source": [
    "## Costruction of the radial wavefunction"
   ]
  },
  {
   "cell_type": "markdown",
   "metadata": {
    "id": "hm-ihAKtXj43"
   },
   "source": [
    "In the next cells, we generated the radial part of the wavefunctions $R_n(r)$, for the first indexes $n$."
   ]
  },
  {
   "cell_type": "code",
   "execution_count": 14,
   "metadata": {
    "executionInfo": {
     "elapsed": 1058,
     "status": "ok",
     "timestamp": 1715684818975,
     "user": {
      "displayName": "Andrea Castagna",
      "userId": "05556426570903964086"
     },
     "user_tz": -120
    },
    "id": "gq4WECedRY7n"
   },
   "outputs": [],
   "source": [
    "# Radial part of the wavefunction over the mesh\n",
    "R=[]\n",
    "for m in range(0,5,1):\n",
    "  R_m=[]\n",
    "  N_nu = np.sqrt(np.sqrt(2*nu[0])/(np.sqrt(np.pi)*2**(2*m)*math.factorial(2*m+1)))\n",
    "  for i in range(len(x)):\n",
    "    R_m.append(N_nu*np.exp(-1*nu[0]*x[i]**2)*hermite_polynomial(np.sqrt(2*nu[0])*x[i],2*m+1)/np.sqrt(4*np.pi))\n",
    "  R.append(R_m)"
   ]
  },
  {
   "cell_type": "code",
   "execution_count": 15,
   "metadata": {
    "colab": {
     "base_uri": "https://localhost:8080/",
     "height": 430
    },
    "executionInfo": {
     "elapsed": 760,
     "status": "ok",
     "timestamp": 1715684823492,
     "user": {
      "displayName": "Andrea Castagna",
      "userId": "05556426570903964086"
     },
     "user_tz": -120
    },
    "id": "MJUxAtqgVdQz",
    "outputId": "ee17fa5d-e644-4df2-a10d-19a7a0a2ac84"
   },
   "outputs": [
    {
     "data": {
      "image/png": "[encoded data removed]",
      "text/plain": [
       "<Figure size 640x480 with 1 Axes>"
      ]
     },
     "metadata": {},
     "output_type": "display_data"
    }
   ],
   "source": [
    "# Plotting of the radial part of the wavefunction with different orders\n",
    "for i in range(len(R)):\n",
    "  plt.plot(x,R[i],label=f'{i}')\n",
    "\n",
    "plt.legend()\n",
    "plt.grid(True)"
   ]
  },
  {
   "cell_type": "markdown",
   "metadata": {
    "id": "wYLscaoNjoGI"
   },
   "source": [
    "## Evaluation of the matrices"
   ]
  },
  {
   "cell_type": "markdown",
   "metadata": {
    "id": "h3L3ljkIGmsJ"
   },
   "source": [
    "The relative state can be approximated as:\n",
    "\\begin{equation}\n",
    "\\Psi_M(\\mathbf{r}, \\sigma_1,\\tau_1,\\sigma_2, \\tau_2) = \\sum_{m=0}^M \\sum_{j= \\{A,B,C,D \\} } c_{mj} R_{m}(r) \\Phi_j (\\sigma_1,\\tau_1,\\sigma_2, \\tau_2)\n",
    "\\end{equation}\n",
    "with M detemining the size of the basis. \\\\\n",
    "The $\\rm 4M$ coefficients $c_{mj}$ can be obtained by solving for the lowest energy state of the $\\rm 4M \\ x \\ 4M$ matrix: $\\langle mj |\\hat{H} |nk\\rangle$. \\\\\n",
    "Let's first focus on the kinetic part: \\\\\n",
    "\\begin{equation}\n",
    "\\langle mj |\\hat{K} |nk\\rangle = \\nu  \\frac{\\hbar^2}{2 \\mu} \\left[ (4n+3)\\delta_{n,m} -\\sqrt{2n(2n+1)} \\delta_{n,m+1}-\\sqrt{\\frac{1}{(2n+2)(2n+3)}}(2n+3)(2n+2)\\delta_{n+1,m}\\right] \\delta_{j,k}\n",
    "\\end{equation}\n",
    "The Kinetic operator doesn't act on the spin and isospin space, so it doesn't create mixing between the different states $A,B,C$ and $D$."
   ]
  },
  {
   "cell_type": "code",
   "execution_count": null,
   "metadata": {
    "id": "x_-BrBYKWMxq"
   },
   "outputs": [],
   "source": [
    "# Kinetic Energy Matrix\n",
    "# Specification of the dimensions of the matrix\n",
    "num_rows = 4*M\n",
    "num_cols = 4*M\n",
    "\n",
    "# Creation of the matrix, it is inizializes with a series of 0\n",
    "kin_matrix = np.zeros((num_rows, num_cols))\n",
    "# Allocation of the values in the matrix\n",
    "for n in range(M):\n",
    "    for m in range(M):\n",
    "      for k in range(4):\n",
    "        if n==m:\n",
    "          kin_matrix[4*n+k, 4*m+k] = a*nu[0]*(4*n+3)\n",
    "        elif n==m+1:\n",
    "          kin_matrix[4*n+k, 4*m+k] = -a*nu[0]*np.sqrt(2*n*(2*n+1))\n",
    "        elif n+1==m:\n",
    "          kin_matrix[4*n+k, 4*m+k] = -a*nu[0]*np.sqrt((2*n+2)*(2*n+3))\n"
   ]
  },
  {
   "cell_type": "code",
   "execution_count": null,
   "metadata": {
    "colab": {
     "base_uri": "https://localhost:8080/",
     "height": 433
    },
    "executionInfo": {
     "elapsed": 533,
     "status": "ok",
     "timestamp": 1714403606892,
     "user": {
      "displayName": "Enrico Bianco",
      "userId": "00228789238758537751"
     },
     "user_tz": -120
    },
    "id": "HZzzjtbngjE2",
    "outputId": "149bd70c-756d-43c3-c4eb-ddaea66aefc5"
   },
   "outputs": [
    {
     "data": {
      "image/png": "[encoded data removed]",
      "text/plain": [
       "<Figure size 640x480 with 2 Axes>"
      ]
     },
     "metadata": {},
     "output_type": "display_data"
    }
   ],
   "source": [
    "# Drawing of the Kinetic Energy matrix\n",
    "draw_matrix(kin_matrix)"
   ]
  },
  {
   "cell_type": "markdown",
   "metadata": {
    "id": "JrHd05GqL98X"
   },
   "source": [
    "We now evaulate the average value of the Minnesota potential between the two states before: $\\langle mj | \\hat{V} | nk \\rangle$. \\\\\n",
    "Firstly, we evaluate the application of the operator $\\hat{P}^{\\sigma}$ on our states:\n",
    "\\begin{equation}\n",
    " \\hat{P}^{\\sigma}|\\phi_A \\rangle = \\hat{P}^{\\sigma} \\frac{1}{\\sqrt{2}}(|\\uparrow \\uparrow \\uparrow \\downarrow \\rangle - |\\uparrow \\downarrow \\uparrow \\uparrow  \\rangle) = \\frac{1}{\\sqrt{2}}(|\\uparrow \\uparrow \\uparrow \\downarrow \\rangle - |\\uparrow \\downarrow \\uparrow \\uparrow  \\rangle) = |\\phi_A \\rangle\n",
    "\\end{equation}\n",
    "\\begin{equation}\n",
    " \\hat{P}^{\\sigma}|\\phi_B \\rangle =  |\\phi_D \\rangle\n",
    "\\end{equation}\n",
    "\\begin{equation}\n",
    " \\hat{P}^{\\sigma}|\\phi_C \\rangle =  |\\phi_C \\rangle\n",
    "\\end{equation}\n",
    "\\begin{equation}\n",
    " \\hat{P}^{\\sigma}|\\phi_D \\rangle =  |\\phi_B \\rangle\n",
    "\\end{equation}\n",
    "The operator acts in same way on the state $A,C$ and $B,D$, so we calculate the matrix elements considering this two cases:\n",
    "- Case $k=A$:\n",
    "\\begin{equation}\n",
    " \\langle mj |\\hat{K} |nA \\rangle = \\tilde{N}_m(\\nu) \\tilde{N}_n(\\nu) \\delta_{j,A} \\left[ \\int_{0}^{\\infty} dr v_{0r}e^{-(2 \\nu + k_R)r^2} H_{2n+1}(\\sqrt{2 \\nu} r) H_{2m+1}(\\sqrt{2 \\nu} r) + \\int_{0}^{\\infty} dr v_{0t}e^{-(2 \\nu + k_T)r^2} H_{2n+1}(\\sqrt{2 \\nu} r) H_{2m+1}(\\sqrt{2 \\nu} r) \\right]\n",
    "\\end{equation}\n",
    "- Case $k=B$:\n",
    "\\begin{equation}\n",
    " \\langle mj |\\hat{K} |nB \\rangle = \\tilde{N}_m(\\nu) \\tilde{N}_n(\\nu)  \\left[ \\delta_{j,B}\\int_{0}^{\\infty} dr v_{0r}e^{-(2 \\nu + k_R)r^2} H_{2n+1}(\\sqrt{2 \\nu} r) H_{2m+1}(\\sqrt{2 \\nu} r) + \\frac{\\delta_{j,B} + \\delta_{j,D}}{2} \\int_{0}^{\\infty} dr v_{0t}e^{-(2 \\nu + k_T)r^2} H_{2n+1}(\\sqrt{2 \\nu} r) H_{2m+1}(\\sqrt{2 \\nu} r) + \\frac{\\delta_{j,B} - \\delta_{j,D}}{2} \\int_{0}^{\\infty} dr v_{0s}e^{-(2 \\nu + k_S)r^2} H_{2n+1}(\\sqrt{2 \\nu} r) H_{2m+1}(\\sqrt{2 \\nu} r)\\right ]\n",
    "\\end{equation}\n",
    "\n",
    "\n",
    "To evaluate these matrix elements, we have to resolve the integrals in which appears a product between Hermite polynomials and a gaussian; in order to do it, we exploit the Gauss-Hermite quadrature. We make a change of variable in order to reach the following form:\n",
    "\\begin{equation}\n",
    "I=\\frac{1}{2 \\sqrt{2 \\nu + k}} \\int_{-\\infty}^{\\infty} dx  \\ v \\ e^{-x^2} H_{2n+1}\\left(x\\sqrt{\\frac{2 \\nu}{2 \\nu + k}}\\right) H_{2m+1}\\left(x\\sqrt{\\frac{2 \\nu}{2 \\nu + k}}\\right)\n",
    "\\end{equation}\n",
    "Now the Gauss-Hermite quadrature states that\n",
    "\\begin{equation}\n",
    "I\\simeq \\frac{v}{2\\sqrt{2\\nu +k}}\\Sigma _{i=1} ^n w_i \\cdot H_{2n+1}\\left(x_i\\sqrt{\\frac{2 \\nu}{2 \\nu + k}}\\right)\\cdot H_{2m+1}\\left(x_i\\sqrt{\\frac{2 \\nu}{2 \\nu + k}}\\right),\n",
    "\\end{equation}\n",
    "where $n$ is the number of points sampled used, $w_i= \\frac{2^{n-1}n!\\sqrt{\\pi}}{n^2 [H_{n-1}(x_i)]^2}$ and $x_i$ are the points of quadrature."
   ]
  },
  {
   "cell_type": "code",
   "execution_count": null,
   "metadata": {
    "id": "V72nT2rkfa68"
   },
   "outputs": [],
   "source": [
    "# Potential Matrix\n",
    "# Specification of the dimensions of the matrix\n",
    "num_rows = 4*M\n",
    "num_cols = 4*M\n",
    "\n",
    "# Creation of the matrix, it is inizializes with a series of 0\n",
    "pot_matrix = np.zeros((num_rows, num_cols))\n",
    "\n",
    "# Allocation of the values in the matrix\n",
    "for n in range(M):\n",
    "  for m in range(M):\n",
    "    N_nu_n = np.sqrt(np.sqrt(2*nu[0])/(np.sqrt(np.pi)*2**(2*n)*math.factorial(2*n+1)))\n",
    "    N_nu_m = np.sqrt(np.sqrt(2*nu[0])/(np.sqrt(np.pi)*2**(2*m)*math.factorial(2*m+1)))\n",
    "    cost = N_nu_n*N_nu_m\n",
    "    n_nodes = 2*(2*n+1+2*m+1) #2*(the sum of the order of the Hermite polynomial)\n",
    "    for k in range(4):\n",
    "      if k==0 or k==2:\n",
    "        int1 = v_0r/(2*np.sqrt(2*nu[0]+k_R))*gauss_hermite_integration(my_function, n_nodes,k_R,n,m,nu[0])\n",
    "        int2 = -v_0t/(2*np.sqrt(2*nu[0]+k_t))*gauss_hermite_integration(my_function, n_nodes,k_t,n,m,nu[0])\n",
    "        pot_matrix[4*n+k, 4*m+k] = cost*(int1+int2)\n",
    "      if k==1 or k==3:\n",
    "        int1 = v_0r/(2*np.sqrt(2*nu[0]+k_R))*gauss_hermite_integration(my_function, n_nodes,k_R,n,m,nu[0])\n",
    "        int2 = -0.5*v_0t/(2*np.sqrt(2*nu[0]+k_t))*gauss_hermite_integration(my_function, n_nodes,k_t,n,m,nu[0])\n",
    "        int3 = -0.5*v_0s/(2*np.sqrt(2*nu[0]+k_s))*gauss_hermite_integration(my_function, n_nodes,k_s,n,m,nu[0])\n",
    "        pot_matrix[4*n+k, 4*m+k] = cost*(int1+int2+int3)\n",
    "      if k==1:\n",
    "        pot_matrix[4*n+k, 4*m+2+k] = cost*(int2-int3)\n",
    "        pot_matrix[4*n+2+k, 4*m+k] = cost*(int2-int3)"
   ]
  },
  {
   "cell_type": "code",
   "execution_count": null,
   "metadata": {
    "colab": {
     "base_uri": "https://localhost:8080/",
     "height": 433
    },
    "executionInfo": {
     "elapsed": 160,
     "status": "ok",
     "timestamp": 1714403649517,
     "user": {
      "displayName": "Enrico Bianco",
      "userId": "00228789238758537751"
     },
     "user_tz": -120
    },
    "id": "4REKUVFSgs9J",
    "outputId": "95b8d3fd-85bc-4db1-ef97-d84282ddcd7b"
   },
   "outputs": [
    {
     "data": {
      "image/png": "[encoded data removed]",
      "text/plain": [
       "<Figure size 640x480 with 2 Axes>"
      ]
     },
     "metadata": {},
     "output_type": "display_data"
    }
   ],
   "source": [
    "# Drawing of the Potential matrix\n",
    "draw_matrix(pot_matrix)"
   ]
  },
  {
   "cell_type": "code",
   "execution_count": null,
   "metadata": {
    "id": "wicy8uoPkTUY"
   },
   "outputs": [],
   "source": [
    "#Diagonalization of the Hamiltonian matrix\n",
    "evaH,U = np.linalg.eig(pot_matrix+kin_matrix) #U is the eigenvectors matrix\n",
    "diagonalH= np.diag(evaH)"
   ]
  },
  {
   "cell_type": "code",
   "execution_count": null,
   "metadata": {
    "colab": {
     "base_uri": "https://localhost:8080/"
    },
    "executionInfo": {
     "elapsed": 646,
     "status": "ok",
     "timestamp": 1714403650019,
     "user": {
      "displayName": "Enrico Bianco",
      "userId": "00228789238758537751"
     },
     "user_tz": -120
    },
    "id": "cGyjYHr2OMNR",
    "outputId": "719e5017-7486-4361-dfd9-4503c4089fed"
   },
   "outputs": [
    {
     "name": "stdout",
     "output_type": "stream",
     "text": [
      "-2.16 Mev\n"
     ]
    }
   ],
   "source": [
    "# Function to find the minimum eigenvalue\n",
    "print(f\"{round(min(evaH),3)} Mev\")"
   ]
  },
  {
   "cell_type": "markdown",
   "metadata": {
    "id": "-SvrrahZQt8H"
   },
   "source": [
    "The minimum eigenvalue of the energy takes a reasonable value (the expectation one is -2.225 MeV).\n",
    "The calculation is convergent with $M=20$."
   ]
  },
  {
   "cell_type": "code",
   "execution_count": null,
   "metadata": {
    "colab": {
     "base_uri": "https://localhost:8080/"
    },
    "executionInfo": {
     "elapsed": 149,
     "status": "ok",
     "timestamp": 1714403650020,
     "user": {
      "displayName": "Enrico Bianco",
      "userId": "00228789238758537751"
     },
     "user_tz": -120
    },
    "id": "R8cVOZ_4QDph",
    "outputId": "386124c6-a18e-428b-fd65-7954f0b53832"
   },
   "outputs": [
    {
     "data": {
      "text/plain": [
       "array([9.19591678e-01, 1.95047299e-04, 5.56010404e-04, 1.95047299e-04,\n",
       "       1.80943411e-01, 3.83784721e-05, 1.09403360e-04, 3.83784721e-05,\n",
       "       2.64295309e-01, 5.60575823e-05, 1.59800208e-04, 5.60575823e-05,\n",
       "       1.23771598e-01, 2.62522123e-05, 7.48357103e-05, 2.62522123e-05,\n",
       "       1.20771249e-01, 2.56158320e-05, 7.30216166e-05, 2.56158320e-05,\n",
       "       8.63557523e-02, 1.83162339e-05, 5.22130613e-05, 1.83162339e-05,\n",
       "       6.59992754e-02, 1.39985830e-05, 3.99049759e-05, 1.39985830e-05,\n",
       "       6.09862758e-02, 1.29353154e-05, 3.68739786e-05, 1.29353154e-05,\n",
       "       4.00382810e-02, 8.49220230e-06, 2.42082452e-05, 8.49220230e-06,\n",
       "       4.32999515e-02, 9.18400936e-06, 2.61803408e-05, 9.18400936e-06,\n",
       "       2.58434978e-02, 5.48145939e-06, 1.56256891e-05, 5.48145939e-06,\n",
       "       3.06602297e-02, 6.50309821e-06, 1.85380176e-05, 6.50309821e-06,\n",
       "       1.71216749e-02, 3.63154269e-06, 1.03522352e-05, 3.63154269e-06,\n",
       "       2.13841567e-02, 4.53562391e-06, 1.29294489e-05, 4.53562392e-06,\n",
       "       1.11792209e-02, 2.37113590e-06, 6.75926422e-06, 2.37113590e-06,\n",
       "       1.43656515e-02, 3.04698443e-06, 8.68586776e-06, 3.04698443e-06,\n",
       "       6.73714678e-03, 1.42896278e-06, 4.07346412e-06, 1.42896278e-06,\n",
       "       8.86279208e-03, 1.87981655e-06, 5.35868769e-06, 1.87981655e-06,\n",
       "       3.13406826e-03, 6.64742368e-07, 1.89494381e-06, 6.64742368e-07,\n",
       "       4.36862343e-03, 9.26594075e-07, 2.64138980e-06, 9.26594075e-07])"
      ]
     },
     "execution_count": 16,
     "metadata": {},
     "output_type": "execute_result"
    }
   ],
   "source": [
    "# List of c_mj coefficients of our ground state\n",
    "U[:, list(evaH).index(min(evaH))]"
   ]
  },
  {
   "cell_type": "markdown",
   "metadata": {
    "id": "xrMf7m2pRKuO"
   },
   "source": [
    "These are the coefficients $c_{mj}$ of the ground state in our calculation. We can notice that the second and forth columns, that are related to the spin isospin states $A$ and $D$, are equal."
   ]
  },
  {
   "cell_type": "markdown",
   "metadata": {
    "id": "XRwtoeSJl68u"
   },
   "source": [
    "## Change of basis $χ$"
   ]
  },
  {
   "cell_type": "markdown",
   "metadata": {
    "id": "Qi6DHkqkbSmz"
   },
   "source": [
    "We now want to evaluate the value of the total spin and total isospin in the ground state.\\\n",
    "To show it, we make a change of basis on the spin-isospin part of the wavefunction.\n",
    "\\begin{equation}\n",
    "U =\n",
    "\\begin{pmatrix}\n",
    "1 & 0 & 0 & 0 \\\\\n",
    "0 & \\frac{1}{\\sqrt{2}} & 0 & \\frac{1}{\\sqrt{2}} \\\\\n",
    "0 & 0 & 1 & 0 \\\\\n",
    "0 & \\frac{1}{\\sqrt{2}} & 0 & -\\frac{1}{\\sqrt{2}}\n",
    "\\end{pmatrix}\n",
    "\\end{equation}\n",
    "\n",
    "The total matrix of change of basis is formed by this block submatrix.\n",
    "\n",
    "The new basis set is:\n",
    "\\begin{equation}\n",
    "\\begin{aligned}\n",
    "& | \\chi_{1,1} \\rangle = | \\phi_A \\rangle = \\frac{1}{\\sqrt{2}}|\\uparrow \\uparrow  \\rangle_{spin} ( |\\uparrow \\downarrow \\rangle-|\\downarrow \\uparrow  \\rangle )_{isospin}\\\\\n",
    "&|\\chi_{1,-1} \\rangle = | \\phi_C \\rangle = \\frac{1}{\\sqrt{2}}|\\downarrow \\downarrow  \\rangle_{spin} ( |\\uparrow \\downarrow \\rangle-|\\downarrow \\uparrow  \\rangle )_{isospin}\\\\\n",
    "&| \\chi_{1,0} \\rangle = \\frac{1}{\\sqrt{2}} (| \\phi_B \\rangle+ | \\phi_D \\rangle)= \\frac{1}{\\sqrt{2}}(|\\uparrow \\downarrow  \\rangle + |\\downarrow \\uparrow  \\rangle)_{spin} ( |\\uparrow \\downarrow \\rangle-|\\downarrow \\uparrow  \\rangle )_{isospin}\\\\\n",
    "&| \\chi_{0,0} \\rangle = \\frac{1}{\\sqrt{2}} (| \\phi_B \\rangle - | \\phi_D \\rangle)= \\frac{1}{\\sqrt{2}}(|\\uparrow \\downarrow  \\rangle - |\\downarrow \\uparrow  \\rangle)_{spin} ( |\\uparrow \\downarrow \\rangle+|\\downarrow \\uparrow  \\rangle )_{isospin}\\\\\n",
    "\\end{aligned}\n",
    "\\end{equation}\n",
    "\n",
    "Each state has a specific value of total spin and total isospin, the first three states are triplet of the spin $S=1$ and singlet in the isospin $T=0$. While the last state is singlet in the spin $S=0$ and it is a state that belongs to the triplet of isospin $T=1$. Therefore, each spin-isospin state is antisymmetric in the exchange of the two particles."
   ]
  },
  {
   "cell_type": "code",
   "execution_count": null,
   "metadata": {
    "id": "dzzFzGkuQOzd"
   },
   "outputs": [],
   "source": [
    "# Costruction of the matrix of the change of basis\n",
    "ChangeBase=np.zeros((num_rows, num_cols))\n",
    "\n",
    "for n in range(M):\n",
    "  for m in range(M):\n",
    "    if n==m:\n",
    "      for k in range(4):\n",
    "        if k==0 or k==2:\n",
    "          ChangeBase[4*n+k, 4*m+k] = 1\n",
    "        if k==3:\n",
    "          ChangeBase[4*n+k, 4*m+k] = -1/np.sqrt(2)\n",
    "        if k==1:\n",
    "          ChangeBase[4*n+k, 4*m+2+k] = 1/np.sqrt(2)\n",
    "          ChangeBase[4*n+2+k, 4*m+k] = 1/np.sqrt(2)\n",
    "          ChangeBase[4*n+k, 4*m+k] = 1/np.sqrt(2)"
   ]
  },
  {
   "cell_type": "code",
   "execution_count": null,
   "metadata": {
    "colab": {
     "base_uri": "https://localhost:8080/",
     "height": 436
    },
    "executionInfo": {
     "elapsed": 141,
     "status": "ok",
     "timestamp": 1714403650020,
     "user": {
      "displayName": "Enrico Bianco",
      "userId": "00228789238758537751"
     },
     "user_tz": -120
    },
    "id": "8poH96q8TEyc",
    "outputId": "5026b488-e842-4b89-e948-85cd4b17511d"
   },
   "outputs": [
    {
     "data": {
      "image/png": "[encoded data removed]",
      "text/plain": [
       "<Figure size 640x480 with 2 Axes>"
      ]
     },
     "metadata": {},
     "output_type": "display_data"
    }
   ],
   "source": [
    "# Drawing of the matrix of change of basis\n",
    "draw_matrix(ChangeBase[:4, :4])"
   ]
  },
  {
   "cell_type": "code",
   "execution_count": null,
   "metadata": {
    "id": "8EWsBkuJTHoS"
   },
   "outputs": [],
   "source": [
    "# Our Hamiltonian\n",
    "Ham = pot_matrix+kin_matrix"
   ]
  },
  {
   "cell_type": "code",
   "execution_count": null,
   "metadata": {
    "id": "TO80cEIaURca"
   },
   "outputs": [],
   "source": [
    "# Inverse of our change of basis matrix\n",
    "ChangeBaseInv = np.linalg.inv(ChangeBase)"
   ]
  },
  {
   "cell_type": "code",
   "execution_count": null,
   "metadata": {
    "id": "_wLHRRedUhi3"
   },
   "outputs": [],
   "source": [
    "# Our Hamiltonian in the new basis\n",
    "Ham_newbase=ChangeBaseInv @ Ham @ ChangeBase"
   ]
  },
  {
   "cell_type": "code",
   "execution_count": null,
   "metadata": {
    "id": "qdaclYg9U1nF"
   },
   "outputs": [],
   "source": [
    "#Diagonalization of the Hamiltonian matrix\n",
    "evaHnew,Unew = np.linalg.eig(Ham_newbase)"
   ]
  },
  {
   "cell_type": "code",
   "execution_count": null,
   "metadata": {
    "colab": {
     "base_uri": "https://localhost:8080/"
    },
    "executionInfo": {
     "elapsed": 246,
     "status": "ok",
     "timestamp": 1714404057640,
     "user": {
      "displayName": "Enrico Bianco",
      "userId": "00228789238758537751"
     },
     "user_tz": -120
    },
    "id": "h122-MwQU7Kg",
    "outputId": "d9167ea7-2223-46f5-def7-efb4b433855c"
   },
   "outputs": [
    {
     "name": "stdout",
     "output_type": "stream",
     "text": [
      "-2.162 MeV\n"
     ]
    }
   ],
   "source": [
    "# Function to find the minimum eigenvalue\n",
    "print(f\"{round(min(evaHnew),3)} MeV\")"
   ]
  },
  {
   "cell_type": "markdown",
   "metadata": {
    "id": "l3w-eMeYR_7G"
   },
   "source": [
    "Following the same steps as before, the ground state energy is the same and acceptable."
   ]
  },
  {
   "cell_type": "code",
   "execution_count": null,
   "metadata": {
    "colab": {
     "base_uri": "https://localhost:8080/"
    },
    "executionInfo": {
     "elapsed": 47,
     "status": "ok",
     "timestamp": 1714403650347,
     "user": {
      "displayName": "Enrico Bianco",
      "userId": "00228789238758537751"
     },
     "user_tz": -120
    },
    "id": "-5wRY1CTVM-1",
    "outputId": "5028b070-792d-4a2a-b6b6-8059d604b8ce"
   },
   "outputs": [
    {
     "data": {
      "text/plain": [
       "array([-2.41634648e-01, -7.30094130e-01,  5.04206801e-01, -1.30134466e-15,\n",
       "       -4.75452295e-02, -1.43656935e-01,  9.92102262e-02, -5.60876364e-16,\n",
       "       -6.94470224e-02, -2.09832753e-01,  1.44911590e-01, -4.21950047e-16,\n",
       "       -3.25225938e-02, -9.82663498e-02,  6.78632519e-02, -3.61756994e-16,\n",
       "       -3.17342130e-02, -9.58842734e-02,  6.62181776e-02, -7.55145206e-16,\n",
       "       -2.26910946e-02, -6.85606768e-02,  4.73483597e-02, -1.09775301e-15,\n",
       "       -1.73421661e-02, -5.23989992e-02,  3.61870212e-02, -1.41944558e-15,\n",
       "       -1.60249354e-02, -4.84190136e-02,  3.34384224e-02, -1.55707084e-15,\n",
       "       -1.05205779e-02, -3.17877104e-02,  2.19527580e-02, -1.33497152e-15,\n",
       "       -1.13776242e-02, -3.43772580e-02,  2.37411131e-02, -1.29726623e-15,\n",
       "       -6.79071444e-03, -2.05180043e-02,  1.41698404e-02, -1.15219663e-15,\n",
       "       -8.05637327e-03, -2.43421665e-02,  1.68108267e-02, -1.16355113e-15,\n",
       "       -4.49894228e-03, -1.35934618e-02,  9.38771535e-03, -9.97484935e-16,\n",
       "       -5.61896470e-03, -1.69775865e-02,  1.17248095e-02, -8.54194277e-16,\n",
       "       -2.93748537e-03, -8.87555178e-03,  6.12950219e-03, -5.85451531e-16,\n",
       "       -3.77476137e-03, -1.14053640e-02,  7.87660368e-03, -4.07646830e-16,\n",
       "       -1.77027275e-03, -5.34884279e-03,  3.69393863e-03, -1.87975864e-16,\n",
       "       -2.32881364e-03, -7.03646263e-03,  4.85941766e-03, -7.86559559e-17,\n",
       "       -8.23517110e-04, -2.48824005e-03,  1.71839151e-03, -8.37938898e-18,\n",
       "       -1.14791250e-03, -3.46839407e-03,  2.39529097e-03, -9.14635676e-18])"
      ]
     },
     "execution_count": 24,
     "metadata": {},
     "output_type": "execute_result"
    }
   ],
   "source": [
    "# Coefficients relative to the ground state of our Hamiltonian\n",
    "coeff = list(Unew[:, list(evaHnew).index(min(evaHnew))])\n",
    "Unew[:, list(evaHnew).index(min(evaHnew))]"
   ]
  },
  {
   "cell_type": "markdown",
   "metadata": {
    "id": "rtULKeXXS8cT"
   },
   "source": [
    "The last column that corresponds to the spin isospin state $\\chi_{0,0}$ has coefficients that are almost zero. This means that we have almost zero probability for the ground state to be in that spin isospin configuration."
   ]
  },
  {
   "cell_type": "markdown",
   "metadata": {
    "id": "a9lTmhvgAAn7"
   },
   "source": [
    "Our ground states is now written in the new basis as:\n",
    "\\begin{equation}\n",
    "\\Psi_M(\\mathbf{r}, \\sigma_1,\\tau_1,\\sigma_2, \\tau_2) = \\sum_{m=0}^M \\sum_{j= \\{[1,1],[1,0],[1,-1],[0,0] \\} } \\tilde{c}_{mj} R_{m}(r) \\chi_j (\\sigma_1,\\tau_1,\\sigma_2, \\tau_2)\n",
    "\\end{equation}\n"
   ]
  },
  {
   "cell_type": "code",
   "execution_count": null,
   "metadata": {
    "id": "6G1NOl0_VUDd"
   },
   "outputs": [],
   "source": [
    "# Evaluation of the probabilities to find the ground state in the different state of spin-isospin\n",
    "prob=[]\n",
    "p1=0    #probability to have the state χ_(1,1)\n",
    "p2=0    #probability to have the state χ_(1,0)\n",
    "p3=0    #probability to have the state χ_(1,-1)\n",
    "p4=0    #probability to have the state χ_(0,0)\n",
    "\n",
    "for i in range(M):\n",
    "    if i %4==0:\n",
    "        p1+=coeff[i]**2\n",
    "    if i %4==1:\n",
    "        p2+=coeff[i]**2\n",
    "    if i %4==2:\n",
    "        p3+=coeff[i]**2\n",
    "    if i %4==3:\n",
    "        p4+=coeff[i]**2\n",
    "\n",
    "prob.append(p1)\n",
    "prob.append(p2)\n",
    "prob.append(p3)\n",
    "prob.append(p4)"
   ]
  },
  {
   "cell_type": "markdown",
   "metadata": {
    "id": "Cpx4La_xTXoY"
   },
   "source": [
    "Now we sum the probability of $\\chi_{1,-1}$, $\\chi_{1,0}$, $\\chi_{1,1}$ that is the total probability for the ground state to be in the spin triplet ($S=1$) and isospin singlet ($T=0$)."
   ]
  },
  {
   "cell_type": "code",
   "execution_count": null,
   "metadata": {
    "colab": {
     "base_uri": "https://localhost:8080/"
    },
    "executionInfo": {
     "elapsed": 34,
     "status": "ok",
     "timestamp": 1714403650348,
     "user": {
      "displayName": "Enrico Bianco",
      "userId": "00228789238758537751"
     },
     "user_tz": -120
    },
    "id": "SVPOsu7SWIIc",
    "outputId": "9ee2997a-ac4a-462c-d279-a8057a13d627"
   },
   "outputs": [
    {
     "name": "stdout",
     "output_type": "stream",
     "text": [
      "Triplet spin (S=1) and singlet isospin (T=0) state probability: 98.0 %\n"
     ]
    }
   ],
   "source": [
    "# Probability to find the ground state in the triplet of spin and singlet of isospin\n",
    "triplet_prob=p1+p2+p3\n",
    "print(f\"Triplet spin (S=1) and singlet isospin (T=0) state probability:\", round(triplet_prob, 2)*100, \"%\")"
   ]
  },
  {
   "cell_type": "markdown",
   "metadata": {
    "id": "1e2F-ETdBLPq"
   },
   "source": [
    "The result is in accordance what we will expect: the spin-isospin part of the wavefunction of the ground state is antisymmetric and the total value of the isospin is $T=0$, this is reasonable since we are considering deuteron, a bound state between proton and neutron, that are the same particle with a different value of the projection of the isospin along z-axis $T_{z,p} = \\frac{1}{2}$ and $T_{z,n} = -\\frac{1}{2}$.\\\n",
    "The total spin of the ground state is $S=1$."
   ]
  },
  {
   "cell_type": "markdown",
   "metadata": {
    "id": "19g7f-EsceXV"
   },
   "source": [
    "## Different $\\nu$"
   ]
  },
  {
   "cell_type": "markdown",
   "metadata": {
    "id": "iIlQZ036kPYO"
   },
   "source": [
    "## Useful functions for this generalization"
   ]
  },
  {
   "cell_type": "code",
   "execution_count": null,
   "metadata": {
    "id": "qloK_bebdVzn"
   },
   "outputs": [],
   "source": [
    "def kinetic(nu, M ,a):\n",
    "  num_rows = 4*M\n",
    "  num_cols = 4*M\n",
    "  # Creation of the matrix, it is inizializes with a series of 0\n",
    "  kin_matrix = np.zeros((num_rows, num_cols))\n",
    "\n",
    "  # Allocation of the values in the matrix\n",
    "  for n in range(M):\n",
    "      for m in range(M):\n",
    "        for k in range(4):\n",
    "          if n==m:\n",
    "            kin_matrix[4*n+k, 4*m+k] = a*nu*(4*n+3)\n",
    "          elif n==m+1:\n",
    "            kin_matrix[4*n+k, 4*m+k] = -a*nu*np.sqrt(2*n*(2*n+1))\n",
    "          elif n+1==m:\n",
    "            kin_matrix[4*n+k, 4*m+k] = -a*nu*np.sqrt((2*n+2)*(2*n+3))\n",
    "\n",
    "  return kin_matrix"
   ]
  },
  {
   "cell_type": "code",
   "execution_count": null,
   "metadata": {
    "id": "gj_DOFsZdm0S"
   },
   "outputs": [],
   "source": [
    "def potential(nu, M,a,v_0r,v_0s,v_0t,k_R,k_s,k_t):\n",
    "  num_rows = 4*M\n",
    "  num_cols = 4*M\n",
    "\n",
    "  # Creation of the matrix, it is inizializes with a series of 0\n",
    "  pot_matrix = np.zeros((num_rows, num_cols))\n",
    "\n",
    "  # Allocation of the values in the matrix\n",
    "  for n in range(M):\n",
    "    for m in range(M):\n",
    "      N_nu_n = np.sqrt(np.sqrt(2*nu)/(np.sqrt(np.pi)*2**(2*n)*math.factorial(2*n+1)))\n",
    "      N_nu_m = np.sqrt(np.sqrt(2*nu)/(np.sqrt(np.pi)*2**(2*m)*math.factorial(2*m+1)))\n",
    "      cost = N_nu_n*N_nu_m\n",
    "      n_nodes = 2*(2*n+1+2*m+1) #2* somma gradi pol Hermite\n",
    "      for k in range(4):\n",
    "        if k==0 or k==2:\n",
    "          int1 = v_0r/(2*np.sqrt(2*nu+k_R))*gauss_hermite_integration(my_function, n_nodes,k_R,n,m,nu)\n",
    "          int2 = -v_0t/(2*np.sqrt(2*nu+k_t))*gauss_hermite_integration(my_function, n_nodes,k_t,n,m,nu)\n",
    "          pot_matrix[4*n+k, 4*m+k] = cost*(int1+int2)\n",
    "        if k==1 or k==3:\n",
    "          int1 = v_0r/(2*np.sqrt(2*nu+k_R))*gauss_hermite_integration(my_function, n_nodes,k_R,n,m,nu)\n",
    "          int2 = -0.5*v_0t/(2*np.sqrt(2*nu+k_t))*gauss_hermite_integration(my_function, n_nodes,k_t,n,m,nu)\n",
    "          int3 = -0.5*v_0s/(2*np.sqrt(2*nu+k_s))*gauss_hermite_integration(my_function, n_nodes,k_s,n,m,nu)\n",
    "          pot_matrix[4*n+k, 4*m+k] = cost*(int1+int2+int3)\n",
    "        if k==1:\n",
    "          pot_matrix[4*n+k, 4*m+2+k] = cost*(int2-int3)\n",
    "          pot_matrix[4*n+2+k, 4*m+k] = cost*(int2-int3)\n",
    "  return pot_matrix"
   ]
  },
  {
   "cell_type": "code",
   "execution_count": null,
   "metadata": {
    "id": "RTdc6muKeQC3"
   },
   "outputs": [],
   "source": [
    "def basis_change(M):\n",
    "  num_rows = 4*M\n",
    "  num_cols = 4*M\n",
    "  ChangeBase=np.zeros((num_rows, num_cols))\n",
    "\n",
    "  for n in range(M):\n",
    "    for m in range(M):\n",
    "      if n==m:\n",
    "        for k in range(4):\n",
    "          if k==0 or k==2:\n",
    "            ChangeBase[4*n+k, 4*m+k] = 1\n",
    "          if k==3:\n",
    "            ChangeBase[4*n+k, 4*m+k] = -1/np.sqrt(2)\n",
    "          if k==1:\n",
    "            ChangeBase[4*n+k, 4*m+2+k] = 1/np.sqrt(2)\n",
    "            ChangeBase[4*n+2+k, 4*m+k] = 1/np.sqrt(2)\n",
    "            ChangeBase[4*n+k, 4*m+k] = 1/np.sqrt(2)\n",
    "  return ChangeBase"
   ]
  },
  {
   "cell_type": "markdown",
   "metadata": {
    "id": "hFwlotXKkWK4"
   },
   "source": [
    "## Ground state energies for different values of $\\nu$"
   ]
  },
  {
   "cell_type": "markdown",
   "metadata": {
    "id": "jVz25tuSxGbZ"
   },
   "source": [
    "Now we want to prove that for different values of $\\nu$ the ground state energy converges for a value of $M$ that is large enough. We chose a couple of values of $\\nu$ near the optimal value."
   ]
  },
  {
   "cell_type": "code",
   "execution_count": null,
   "metadata": {
    "id": "-WPY4wGrcjvh"
   },
   "outputs": [],
   "source": [
    "nu = [1/10, 1/9, 1/8, 1/7, 1/6]\n",
    "M=25"
   ]
  },
  {
   "cell_type": "code",
   "execution_count": null,
   "metadata": {
    "id": "bRkWdYlSeodA"
   },
   "outputs": [],
   "source": [
    "ground_state=[]\n",
    "for i in range(len(nu)):\n",
    "  kin_mat=kinetic(nu[i], M,a)\n",
    "  pot_mat=potential(nu[i], M,a,v_0r,v_0s,v_0t,k_R,k_s,k_t)\n",
    "  ham=kin_mat+pot_mat\n",
    "  change_mat = basis_change(M)\n",
    "  change_matinv = np.linalg.inv(change_mat)\n",
    "  ham_new=change_matinv @ ham @ change_mat\n",
    "  evaHnew,Unew = np.linalg.eig(ham_new)\n",
    "  ground_state.append(round(min(evaHnew),3))"
   ]
  },
  {
   "cell_type": "code",
   "execution_count": null,
   "metadata": {
    "colab": {
     "base_uri": "https://localhost:8080/"
    },
    "executionInfo": {
     "elapsed": 49,
     "status": "ok",
     "timestamp": 1714403889531,
     "user": {
      "displayName": "Enrico Bianco",
      "userId": "00228789238758537751"
     },
     "user_tz": -120
    },
    "id": "mORdd-RCftjv",
    "outputId": "16312d67-fe98-4459-8d02-171ab022da04"
   },
   "outputs": [
    {
     "name": "stdout",
     "output_type": "stream",
     "text": [
      "ν = 0.1 fm^(-2) unita di misura - ground state energy = -2.162 MeV\n",
      "ν = 0.111 fm^(-2) unita di misura - ground state energy = -2.164 MeV\n",
      "ν = 0.125 fm^(-2) unita di misura - ground state energy = -2.164 MeV\n",
      "ν = 0.143 fm^(-2) unita di misura - ground state energy = -2.164 MeV\n",
      "ν = 0.167 fm^(-2) unita di misura - ground state energy = -2.162 MeV\n"
     ]
    }
   ],
   "source": [
    "for i in range(len(nu)):\n",
    "  print(f'\\u03BD = {round(nu[i],3)} fm^(-2) unita di misura - ground state energy = {ground_state[i]} MeV')"
   ]
  },
  {
   "cell_type": "markdown",
   "metadata": {
    "id": "ZEUeD-Q2xfAC"
   },
   "source": [
    "We found out that the ground state energy calculation converges also for other values of $\\nu$ but it converges more slowly. Indeed we were forced to increase $M$ to reach the convergence for all $\\nu$. \\\n",
    "We can state that $\\nu$ is related to the velocity of the convergence of the ground state energy calculation: the best the parameter $\\nu$, the lower $M$."
   ]
  }
 ],
 "metadata": {
  "colab": {
   "collapsed_sections": [
    "hi5NmYcpjIP6",
    "MBp7zj01jSrn",
    "2zOraJIMjaSB",
    "YkKUR2BLjhz_",
    "19g7f-EsceXV"
   ],
   "provenance": []
  },
  "kernelspec": {
   "display_name": "Python 3",
   "name": "python3"
  },
  "language_info": {
   "name": "python"
  }
 },
 "nbformat": 4,
 "nbformat_minor": 0
}
