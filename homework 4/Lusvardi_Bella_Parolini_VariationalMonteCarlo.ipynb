{
 "cells": [
  {
   "cell_type": "code",
   "execution_count": 1,
   "metadata": {},
   "outputs": [
    {
     "name": "stdout",
     "output_type": "stream",
     "text": [
      "tiocfaidh ar la v5\n"
     ]
    }
   ],
   "source": [
    "import numpy as np\n",
    "import scipy\n",
    "import sys\n",
    "import math\n",
    "import scipy.special\n",
    "import scipy.constants as const\n",
    "from math import factorial\n",
    "from scipy.special import hermite\n",
    "import matplotlib.pyplot as plt\n",
    "import random\n",
    "\n",
    "print('tiocfaidh ar la v5')"
   ]
  },
  {
   "attachments": {},
   "cell_type": "markdown",
   "metadata": {},
   "source": [
    "In order to find the values of $\\alpha$ that satisfy the cusp condition we notice that\n",
    "$$lim_{r_{ij}\\rightarrow 0}\\frac{H\\Psi}{\\Psi}<\\infty$$\n",
    "where $H=H_0+V$ ,is equivalent to \n",
    "$$lim_{r_{ij}\\rightarrow 0}\\frac{\\Psi'}{\\Psi}=\\frac{1}{2}r_{ij}V$$\n",
    "having\n",
    "$$V=\\frac{1}{2}\\omega^2r_i^2+\\frac{1}{r_{ij}}$$\n",
    "Substituting in this condition the Jastrow function for antiparallel spins and Jastrow function multiplied by $r$ fo parallel spins we find \n",
    "$$\\alpha_{\\uparrow\\downarrow}=\\frac{1}{2}$$\n",
    "$$\\alpha_{\\uparrow\\uparrow}=\\frac{1}{4}$$\n",
    "\n",
    "\n",
    "\n",
    "\n",
    "Since we are interested in the cases up to $N=6$ let's consider only the lower eergy states in analitycal form, using the notation $\\phi_{nlm}$\n",
    "$$\\phi_{000}=\\frac{1}{\\sqrt{\\pi\\sigma^2}}e^{\\frac{r^2}{2\\sigma^2}}$$ \n",
    "$$\\phi_{01-1}=\\frac{1}{\\sqrt{\\pi\\sigma^2}}e^{\\frac{r^2}{2\\sigma^2}}\\left(\\frac{r}{\\sigma}\\right)e^{-i\\varphi}$$ \n",
    "$$\\phi_{011}=\\frac{1}{\\sqrt{\\pi\\sigma^2}}e^{\\frac{r^2}{2\\sigma^2}}\\left(\\frac{r}{\\sigma}\\right)e^{i\\varphi}$$ \n",
    "Now we can write \n",
    "$$e^{i\\varphi}=cos\\varphi+isin\\varphi=\\frac{x}{\\sqrt{x^2+y^2}}+i\\frac{y}{\\sqrt{x^2+y^2}}$$\n",
    "$$e^{-i\\varphi}=cos\\varphi-isin\\varphi=\\frac{x}{\\sqrt{x^2+y^2}}-i\\frac{y}{\\sqrt{x^2+y^2}}$$\n",
    "And so we find\n",
    "$$\\phi_{000}=\\frac{1}{\\sqrt{\\pi\\sigma^2}}e^{\\frac{x^2+y^2}{2\\sigma^2}}$$ \n",
    "$$\\phi_{01-1}=\\frac{1}{\\sqrt{\\pi\\sigma^2}}e^{\\frac{x^2+y^2}{2\\sigma^2}}\\left(\\frac{\\sqrt{x^2+y^2}}{\\sigma}\\right)\\left(\\frac{x}{\\sqrt{x^2+y^2}}-i\\frac{y}{\\sqrt{x^2+y^2}}\\right)=\\frac{1}{\\sqrt{\\pi\\sigma^2}}e^{\\frac{x^2+y^2}{2\\sigma^2}}\\left(\\frac{1}{\\sigma}\\right)\\left(x-iy\\right)$$ \n",
    "$$\\phi_{011}=\\frac{1}{\\sqrt{\\pi\\sigma^2}}e^{\\frac{x^2+y^2}{2\\sigma^2}}\\left(\\frac{\\sqrt{x^2+y^2}}{\\sigma}\\right)\\left(\\frac{x}{\\sqrt{x^2+y^2}}+i\\frac{y}{\\sqrt{x^2+y^2}}\\right)=\\frac{1}{\\sqrt{\\pi\\sigma^2}}e^{\\frac{x^2+y^2}{2\\sigma^2}}\\left(\\frac{1}{\\sigma}\\right)\\left(x+iy\\right)$$ \n",
    "\n",
    "In the end we can construct two new orbitals, namely\n",
    "$$\\chi_+=\\frac{\\phi_{011}+\\phi_{01-1}}{2}=\\frac{1}{\\sqrt{\\pi\\sigma^2}}e^{\\frac{x^2+y^2}{2\\sigma^2}}\\frac{x}{\\sigma}$$\n",
    "$$\\chi_-=\\frac{\\phi_{011}-\\phi_{01-1}}{2i}=\\frac{1}{\\sqrt{\\pi\\sigma^2}}e^{\\frac{x^2+y^2}{2\\sigma^2}}\\frac{y}{\\sigma}$$"
   ]
  },
  {
   "cell_type": "code",
   "execution_count": 2,
   "metadata": {},
   "outputs": [],
   "source": [
    "N=6\n",
    "omega=1"
   ]
  },
  {
   "cell_type": "code",
   "execution_count": 3,
   "metadata": {},
   "outputs": [],
   "source": [
    "def Slaterdet(N,s,x1,y1,x2,y2,x3,y3,phi,chip,chim):\n",
    "    A = [[(1/math.factorial(N))*phi(x1,y1,s), (1/math.factorial(N))*chip(x1,y1,s), (1/math.factorial(N))*chim(x1,y1,s)], \n",
    "         [(1/math.factorial(N))*phi(x2,y2,s), (1/math.factorial(N))*chip(x2,y2,s), (1/math.factorial(N))*chim(x2,y2,s)],\n",
    "         [(1/math.factorial(N))*phi(x3,y3,s), (1/math.factorial(N))*chip(x3,y3,s), (1/math.factorial(N))*chim(x3,y3,s)]] \n",
    "    return np.linalg.det(A)"
   ]
  },
  {
   "cell_type": "code",
   "execution_count": null,
   "metadata": {},
   "outputs": [],
   "source": []
  },
  {
   "cell_type": "code",
   "execution_count": 4,
   "metadata": {},
   "outputs": [],
   "source": [
    "def Slaterinv(N,s,x1,y1,x2,y2,x3,y3,phi,chip,chim):\n",
    "    A = [[(1/math.factorial(N))*phi(x1,y1,s), (1/math.factorial(N))*chip(x1,y1,s), (1/math.factorial(N))*chim(x1,y1,s)], \n",
    "         [(1/math.factorial(N))*phi(x2,y2,s), (1/math.factorial(N))*chip(x2,y2,s), (1/math.factorial(N))*chim(x2,y2,s)],\n",
    "         [(1/math.factorial(N))*phi(x3,y3,s), (1/math.factorial(N))*chip(x3,y3,s), (1/math.factorial(N))*chim(x3,y3,s)]] \n",
    "    \n",
    "    return np.linalg.inv(A)\n",
    "\n",
    "def safe_invert_matrix_mb(A, rcond=1e-15):\n",
    "    \"\"\"\n",
    "    Computes a pseudoinverse if A is near-singular.\n",
    "\n",
    "    Parameters:\n",
    "    - A : (N x N) NumPy array\n",
    "    - rcond : Regularization threshold\n",
    "\n",
    "    Returns:\n",
    "    - A_inv : Inverse or pseudoinverse of A\n",
    "    \"\"\"\n",
    "    try:\n",
    "        return np.linalg.inv(A)\n",
    "    except np.linalg.LinAlgError:\n",
    "        print(\"Matrix is singular or ill-conditioned. Using pseudoinverse.\")\n",
    "        return np.linalg.pinv(A, rcond=rcond)\n"
   ]
  },
  {
   "cell_type": "code",
   "execution_count": 5,
   "metadata": {},
   "outputs": [],
   "source": [
    "#Metropolis\n",
    "def Metropolis(x01,y01,x02,y02,x03,y03, delta, phi, chip, chim, s,counter, acc):\n",
    "    a1=random.uniform(0,1)\n",
    "    x1= x01+delta*(a1-0.5)\n",
    "    b1=random.uniform(0,1)\n",
    "    y1= y01+delta*(b1-0.5)\n",
    "    a2=random.uniform(0,1)\n",
    "    x2= x02+delta*(a2-0.5)\n",
    "    b2=random.uniform(0,1)\n",
    "    y2= y02+delta*(b2-0.5)\n",
    "    a3=random.uniform(0,1)\n",
    "    x3= x03+delta*(a3-0.5)\n",
    "    b3=random.uniform(0,1)\n",
    "    y3= y03+delta*(b3-0.5)\n",
    "    p=Slaterdet(N,s,x1,y1,x2,y2,x3,y3,phi,chip,chim)**2/Slaterdet(N,s,x01,y01,x02,y02,x03,y03,phi,chip,chim)**2\n",
    "    if p>1:\n",
    "        x01=x1\n",
    "        y01=y1\n",
    "        x02=x2\n",
    "        y02=y2\n",
    "        x03=x3\n",
    "        y03=y3\n",
    "        acc+=1\n",
    "    else:\n",
    "        xi=random.uniform(0,1)\n",
    "        if p>xi:\n",
    "            x01=x1\n",
    "            y01=y1\n",
    "            x02=x2\n",
    "            y02=y2\n",
    "            x03=x3\n",
    "            y03=y3\n",
    "            acc+=1\n",
    "\n",
    "    counter+=1\n",
    "    return x01,y01,x02,y02,x03,y03, acc, counter\n",
    "\n",
    "\n",
    "\n",
    "def adjust_delta(delta, acceptance_rate):\n",
    "    if acceptance_rate > 0.6:\n",
    "        delta *= 1.1  # Increase delta by 10%\n",
    "    elif acceptance_rate < 0.4:\n",
    "        delta *= 0.9  # Decrease delta by 10%\n",
    "    return delta\n",
    "\n",
    "\n",
    "def phi0(x, y, s):\n",
    "    return (1/np.sqrt(np.pi*s**2))*math.exp((x**2+y**2)/(2*s**2))\n",
    "\n",
    "def chiplus(x, y, s):\n",
    "    return (1/np.sqrt(np.pi*s**2))*math.exp((x**2+y**2)/(2*s**2))*x/s\n",
    "\n",
    "def chiminus(x, y, s):\n",
    "    return (1/np.sqrt(np.pi*s**2))*math.exp((x**2+y**2)/(2*s**2))*y/s\n",
    "\n",
    "def delta_choice(x01,y01,x02,y02,x03,y03,delta,s,N_delta,counter):\n",
    "  acc_rate=1\n",
    "  while acc_rate>0.6 or acc_rate<0.4:\n",
    "    acc,counter=0,0\n",
    "    for i in range(N_delta):\n",
    "      x01,y01,x02,y02,x03,y03, acc,counter = Metropolis(x01,y01,x02,y02,x03,y03, delta, phi0, chiplus,chiminus, s,counter, acc)\n",
    "    acc_rate=acc/counter\n",
    "    delta = adjust_delta(delta, acc_rate)\n",
    "\n",
    "  return delta"
   ]
  },
  {
   "cell_type": "markdown",
   "id": "4926af7e",
   "metadata": {
    "lines_to_next_cell": 2,
    "magic_args": "kinetic energy calculation"
   },
   "source": [
    "## kinetic energy calculation\n",
    "Using\n",
    "\\begin{align*}\n",
    "  \\nabla ^2 (fg) = \\left( \\nabla ^2 f    \\right) g + 2\\boldsymbol{\\nabla}f \\cdot \n",
    "  \\boldsymbol{\\nabla}g + f \\nabla ^2g\n",
    "\\end{align*}\n",
    "   The kinetic energy\n",
    "\\begin{align}\n",
    " \\nabla ^2 \\Psi &=  \\nabla ^2 \\left(F D_\\uparrow D_\\downarrow\\right)\n",
    "\\end{align}\n",
    "$$\n",
    "       \\nabla^2 \\Psi= \\sum_i \\left[   \\underbrace{\\left(\\nabla _i ^2F\\right)}_{\\text{1}}D_\\uparrow D_\\downarrow +\n",
    "       2\\underbrace{\\boldsymbol{\\nabla}_i F \\cdot  \\boldsymbol{\\nabla}_i (D_\\uparrow\n",
    "       D_\\downarrow)}_{\\text{2}} +\n",
    "       F(\n",
    "       \\underbrace{(\\nabla ^2_i D_\\uparrow) D_\\downarrow + D_\\uparrow \\nabla_i ^2\n",
    "       D_\\downarrow)}_{\\text{3}}\\right]\n",
    "$$\n",
    "The first term\n",
    "\\begin{align*}\n",
    "    (1) = \\prod_{i<j}\\left[\\frac{-2a_{ij}b_{ij}}{(1+b_{ij}r_{ij})^{3}} +\n",
    "    \\frac{a_{ij}^2}{(1+b_{ij}r_{ij})^{4}}+\n",
    "    \\frac{1}{r_{ij}}\\frac{a_{ij}}{(1+b_{ij}r_{ij})^2}\\right]e^{\\frac{a_{ij}r_{ij}}{1+b_{ij}r_{ij}}}\n",
    "\\end{align*}\n",
    "then \n",
    "\\begin{align*}\n",
    "    \\boldsymbol{\\nabla} F \\cdot \\boldsymbol{\\nabla} \\left(D_\\uparrow D_\\downarrow\\right)\n",
    "    &= 2\\prod_{i\\neq j}\\hat{\\textbf{x}}_{jk} \\frac{a_{ij}}{(1+b_{ij}r_{ij})^2} \\exp\\{...\\} \\cdot\n",
    "    \\boldsymbol{\\nabla}(D_\\uparrow D_\\downarrow)\n",
    "\\end{align*}\n",
    "and the gradient of Slater can be computed from known matrix calculus relations:\n",
    "\\begin{align*}\n",
    "\\frac{1}{\\left|D\\right|}\\boldsymbol{\\nabla}_i \\left|D(\\textbf{R})\\right|    &= \\sum _j\n",
    "\\boldsymbol{\\nabla}_i \\phi_j (\\textbf{r}_i) d_{ji}^{-1}(\\textbf{R})\\nonumber \\\\ \n",
    "\\frac{1}{\\left|D\\right|}\\nabla ^2_i \\left|D(\\textbf{R})\\right|    &= \\sum _j\n",
    "\\nabla^2_i \\phi_j (\\textbf{r}_i) d_{ji}^{-1}(\\textbf{R})\n",
    "\\end{align*}\n",
    "and the gradient of a single wavefunction\n",
    "\\begin{align*}\n",
    "    \\boldsymbol{\\nabla}_i \\phi_{000} (r_i)& = \\frac{\\textbf{r}_i}{\\sigma^2}\\phi_{000}\\nonumber \\\\ \n",
    "\\boldsymbol{\\nabla}_i \\phi_{01 \\pm } &= \\begin{bmatrix} x_i + \\sigma \\\\ y_i \\pm i\\sigma\n",
    "\\end{bmatrix} \\frac{1}{\\sigma^2} \\phi_{01 \\pm }\n",
    "\\end{align*}\n",
    "and the laplacians\n",
    "\\begin{align*}\n",
    "   \\nabla ^2 \\phi_{000} &= \\left(\\frac{2}{\\sigma^2} +\n",
    "   \\left(\\frac{r^2}{\\sigma^4}\\right)\\right)\\phi_{000}\\nonumber \\\\ \n",
    "   \\nabla ^2 \\phi_{01 \\pm }&= \\frac{1}{\\sqrt{\\pi \\sigma^2}} \\frac{1}{\\sigma^3}\\left[2 +\n",
    "   \\frac{x}{\\sigma^2} \\left(1+\\frac{x}{\\sigma^2}\\right) + \\frac{y}{\\sigma^2}\\left(\\pm i +\n",
    "   \\frac{y}{\\sigma^2}\\right)\\right]e^{\\frac{x^2+y^2}{2\\sigma^2}}\n",
    "\\end{align*}\n"
   ]
  },
  {
   "cell_type": "code",
   "execution_count": 66,
   "metadata": {
    "lines_to_next_cell": 2
   },
   "outputs": [
    {
     "name": "stderr",
     "output_type": "stream",
     "text": [
      "/Users/bellamarco01/uni/2_computational/computational_physics/homework4/kinetic_energy.py:455: SyntaxWarning: invalid escape sequence '\\s'\n"
     ]
    },
    {
     "name": "stdout",
     "output_type": "stream",
     "text": [
      "psi: 0.001408590175823231 term 1: 7.542577160580463e-14 term 2: -3.6747262554826903e-13 term 3: -0.019946775087070868\n",
      "psi: 0.001408590175823231 term 1: 7.542577160580463e-14 term 2: -3.6747262554826903e-13 term 3: -0.019946775087070868\n"
     ]
    },
    {
     "name": "stderr",
     "output_type": "stream",
     "text": [
      "/Users/bellamarco01/uni/2_computational/computational_physics/homework4/kinetic_energy.py:455: SyntaxWarning: invalid escape sequence '\\s'\n",
      "  - laplacian : float, estimate of \\sum_i \\nabla^2_i Psi(R)\n"
     ]
    },
    {
     "ename": "IndexError",
     "evalue": "index 2 is out of bounds for axis 0 with size 2",
     "output_type": "error",
     "traceback": [
      "\u001b[31m---------------------------------------------------------------------------\u001b[39m",
      "\u001b[31mIndexError\u001b[39m                                Traceback (most recent call last)",
      "\u001b[36mCell\u001b[39m\u001b[36m \u001b[39m\u001b[32mIn[66]\u001b[39m\u001b[32m, line 46\u001b[39m\n\u001b[32m     37\u001b[39m partial_wf = partial(kin.total_wf,\n\u001b[32m     38\u001b[39m                      N=N,\n\u001b[32m     39\u001b[39m                      N_up=N_up,\n\u001b[32m   (...)\u001b[39m\u001b[32m     43\u001b[39m                      use_chi=\u001b[38;5;28;01mTrue\u001b[39;00m,\n\u001b[32m     44\u001b[39m                      return_A=\u001b[38;5;28;01mTrue\u001b[39;00m)\n\u001b[32m     45\u001b[39m kinetic_energy_mine = kin.kinetic_energy_integrand(N, N_up,R, sigma, b_par, b_orth, omega, use_chi)\n\u001b[32m---> \u001b[39m\u001b[32m46\u001b[39m kinetic_energy_mine_2 = \u001b[43mkin\u001b[49m\u001b[43m.\u001b[49m\u001b[43mkinetic_energy_integrand_2\u001b[49m\u001b[43m(\u001b[49m\u001b[43mN\u001b[49m\u001b[43m,\u001b[49m\u001b[43m \u001b[49m\u001b[43mN_up\u001b[49m\u001b[43m,\u001b[49m\u001b[43mR\u001b[49m\u001b[43m,\u001b[49m\u001b[43m \u001b[49m\u001b[43msigma\u001b[49m\u001b[43m,\u001b[49m\u001b[43m \u001b[49m\u001b[43mb_par\u001b[49m\u001b[43m,\u001b[49m\u001b[43m \u001b[49m\u001b[43mb_orth\u001b[49m\u001b[43m,\u001b[49m\u001b[43m \u001b[49m\u001b[43momega\u001b[49m\u001b[43m,\u001b[49m\u001b[43m \u001b[49m\u001b[43muse_chi\u001b[49m\u001b[43m)\u001b[49m\n\u001b[32m     47\u001b[39m f = \u001b[38;5;28;01mlambda\u001b[39;00m r: partial_wf(R=r)[\u001b[32m0\u001b[39m]\n\u001b[32m     48\u001b[39m kinetic_energy_np = kin.numerical_integrand(f, R)\n",
      "\u001b[36mFile \u001b[39m\u001b[32m~/uni/2_computational/computational_physics/homework4/kinetic_energy.py:614\u001b[39m, in \u001b[36mkinetic_energy_integrand_2\u001b[39m\u001b[34m(N, N_up, R, sigma, b_par, b_orth, omega, use_chi)\u001b[39m\n\u001b[32m    606\u001b[39m \u001b[38;5;28;01mdef\u001b[39;00m\u001b[38;5;250m \u001b[39m\u001b[34mkinetic_energy_integrand_2\u001b[39m(N,N_up,R,sigma,b_par,b_orth,omega=\u001b[32m1\u001b[39m,use_chi=\u001b[38;5;28;01mTrue\u001b[39;00m): \n\u001b[32m    607\u001b[39m \u001b[38;5;250m    \u001b[39m\u001b[33;03m'''\u001b[39;00m\n\u001b[32m    608\u001b[39m \u001b[33;03m    second way of computing the kinetic energy, with\u001b[39;00m\n\u001b[32m    609\u001b[39m \u001b[33;03m    1/2 * (psi lapl psi -  nabla^2 psi / psi)\u001b[39;00m\n\u001b[32m   (...)\u001b[39m\u001b[32m    612\u001b[39m \u001b[33;03m    output: integrand of the kinetic energy operator, same as kinetic_energy_integrand\u001b[39;00m\n\u001b[32m    613\u001b[39m \u001b[33;03m    '''\u001b[39;00m\n\u001b[32m--> \u001b[39m\u001b[32m614\u001b[39m     \u001b[38;5;28;01mreturn\u001b[39;00m \u001b[32m1\u001b[39m/\u001b[32m2\u001b[39m * (kinetic_energy_integrand(N,N_up,R,sigma,b_par,b_orth,omega,use_chi) - \u001b[43mgradient_squared_full_term\u001b[49m\u001b[43m(\u001b[49m\u001b[43mN\u001b[49m\u001b[43m,\u001b[49m\u001b[43mN_up\u001b[49m\u001b[43m,\u001b[49m\u001b[43mR\u001b[49m\u001b[43m,\u001b[49m\u001b[43msigma\u001b[49m\u001b[43m,\u001b[49m\u001b[43mb_par\u001b[49m\u001b[43m,\u001b[49m\u001b[43mb_orth\u001b[49m\u001b[43m,\u001b[49m\u001b[43muse_chi\u001b[49m\u001b[43m)\u001b[49m)\n",
      "\u001b[36mFile \u001b[39m\u001b[32m~/uni/2_computational/computational_physics/homework4/kinetic_energy.py:603\u001b[39m, in \u001b[36mgradient_squared_full_term\u001b[39m\u001b[34m(N, N_up, R, sigma, b_par, b_orth, use_chi)\u001b[39m\n\u001b[32m    601\u001b[39m sl_gr_sr = slater_gradient_squared(N_up, R[:N_up], A_up, sigma, use_chi) + slater_gradient_squared(N-N_up, R[N_up:], A_down, sigma, use_chi)\n\u001b[32m    602\u001b[39m term_2 = sl_gr_sr * psi **\u001b[32m2\u001b[39m\n\u001b[32m--> \u001b[39m\u001b[32m603\u001b[39m term_3 = \u001b[43mcross_term\u001b[49m\u001b[43m(\u001b[49m\u001b[43mN\u001b[49m\u001b[43m,\u001b[49m\u001b[43mN_up\u001b[49m\u001b[43m,\u001b[49m\u001b[43mR\u001b[49m\u001b[43m,\u001b[49m\u001b[43mA_up\u001b[49m\u001b[43m,\u001b[49m\u001b[43mA_down\u001b[49m\u001b[43m,\u001b[49m\u001b[43msigma\u001b[49m\u001b[43m,\u001b[49m\u001b[43mb_par\u001b[49m\u001b[43m,\u001b[49m\u001b[43mb_orth\u001b[49m\u001b[43m)\u001b[49m * psi * det_up * det_down\n\u001b[32m    604\u001b[39m \u001b[38;5;28;01mreturn\u001b[39;00m term_1 + term_2 + term_3\n",
      "\u001b[36mFile \u001b[39m\u001b[32m~/uni/2_computational/computational_physics/homework4/kinetic_energy.py:576\u001b[39m, in \u001b[36mcross_term\u001b[39m\u001b[34m(N, N_up, R, A_inv_up, A_inv_down, sigma, b_par, b_orth)\u001b[39m\n\u001b[32m    574\u001b[39m     spin_v_factor = slater_gradient(N_up,R[:N_up],A_inv_up,i,sigma,use_chi=\u001b[38;5;28;01mTrue\u001b[39;00m) - slater_gradient(N-N_up,R[N_up:],A_inv_down,j,sigma,use_chi=\u001b[38;5;28;01mTrue\u001b[39;00m)\n\u001b[32m    575\u001b[39m \u001b[38;5;28;01melse\u001b[39;00m:\n\u001b[32m--> \u001b[39m\u001b[32m576\u001b[39m     spin_v_factor = slater_gradient(N-N_up,R[N_up:],A_inv_down,i,sigma,use_chi=\u001b[38;5;28;01mTrue\u001b[39;00m) - \u001b[43mslater_gradient\u001b[49m\u001b[43m(\u001b[49m\u001b[43mN\u001b[49m\u001b[43m-\u001b[49m\u001b[43mN_up\u001b[49m\u001b[43m,\u001b[49m\u001b[43mR\u001b[49m\u001b[43m[\u001b[49m\u001b[43mN_up\u001b[49m\u001b[43m:\u001b[49m\u001b[43m]\u001b[49m\u001b[43m,\u001b[49m\u001b[43mA_inv_down\u001b[49m\u001b[43m,\u001b[49m\u001b[43mj\u001b[49m\u001b[43m,\u001b[49m\u001b[43msigma\u001b[49m\u001b[43m,\u001b[49m\u001b[43muse_chi\u001b[49m\u001b[43m=\u001b[49m\u001b[38;5;28;43;01mTrue\u001b[39;49;00m\u001b[43m)\u001b[49m\n\u001b[32m    577\u001b[39m scalar_product = \u001b[32m0\u001b[39m\n\u001b[32m    578\u001b[39m \u001b[38;5;28;01mfor\u001b[39;00m l \u001b[38;5;129;01min\u001b[39;00m \u001b[38;5;28mrange\u001b[39m(\u001b[32m2\u001b[39m):\n",
      "\u001b[36mFile \u001b[39m\u001b[32m~/uni/2_computational/computational_physics/homework4/kinetic_energy.py:290\u001b[39m, in \u001b[36mslater_gradient\u001b[39m\u001b[34m(M, R, A_inv, i, sigma, use_chi)\u001b[39m\n\u001b[32m    287\u001b[39m out_2 = \u001b[32m0\u001b[39m\n\u001b[32m    288\u001b[39m \u001b[38;5;28;01mfor\u001b[39;00m j \u001b[38;5;129;01min\u001b[39;00m \u001b[38;5;28mrange\u001b[39m(M):\n\u001b[32m    289\u001b[39m     \u001b[38;5;66;03m#rint(i,j , \"run*\\n\", \"A_inv =\", A_inv, \"\\n alpha=\",alpha, \"\\n R = \",R)\u001b[39;00m\n\u001b[32m--> \u001b[39m\u001b[32m290\u001b[39m     out_1 += \u001b[43mA_inv\u001b[49m\u001b[43m[\u001b[49m\u001b[43mi\u001b[49m\u001b[43m]\u001b[49m[j] * gradient_single_particle_wf(alpha[j][\u001b[32m2\u001b[39m], R[i], sigma,use_chi=use_chi)\n\u001b[32m    291\u001b[39m     out_2 += A_inv[i][j] * gradient_single_particle_wf(alpha_alt[j][\u001b[32m2\u001b[39m], R[i], sigma,use_chi=use_chi)\n\u001b[32m    292\u001b[39m out = (out_1 + out_2) / \u001b[32m2\u001b[39m\n",
      "\u001b[31mIndexError\u001b[39m: index 2 is out of bounds for axis 0 with size 2"
     ]
    }
   ],
   "source": [
    "import importlib\n",
    "import kinetic_energy as kin\n",
    "import numpy as np\n",
    "importlib.reload(kin)\n",
    "# Parameters\n",
    "N = 5\n",
    "N_up = 3\n",
    "sigma = 1\n",
    "b_par = 1\n",
    "b_orth = 1\n",
    "omega = 1\n",
    "use_chi = True\n",
    "\n",
    "# Define a grid of positions (e.g., 3 particles in 2D)\n",
    "\n",
    "    \n",
    "box_size = 1\n",
    "R = np.random.uniform(0, box_size, size=(N, 2))\n",
    "#phi0 =  partial(kin.single_particle_wf, m=0, sigma = sigma, use_chi = use_chi)\n",
    "#phi_plus =  partial(kin.single_particle_wf, m=1, sigma = sigma, use_chi = use_chi)\n",
    "#phi_minus =  partial(kin.single_particle_wf, m=-1, sigma = sigma, use_chi=use_chi)\n",
    "\n",
    "#print(kin.gradient_phi([0,0,0], R[0], sigma))\n",
    "\n",
    "#det,A_up = kin.slater_det(N_up, R[:N_up], phi0, phi_plus, phi_minus,return_A = True)\n",
    "#A_inv_up = kin.safe_invert_matrix(A_up)\n",
    "#det,A_down = kin.slater_det(N-N_up, R[N_up:], phi0, phi_plus, phi_minus,return_A = True)\n",
    "#A_inv_down = kin.safe_invert_matrix(A_down)\n",
    "\n",
    "#up_slater = kin.slater_gradient(N_up, R[:N_up],A_inv_up,0,det,sigma)\n",
    "#down_slater = kin.slater_gradient(N-N_up, R[N_up:],A_inv_down,0,det,sigma)\n",
    "#print(\"up slater---------\\n\", up_slater)\n",
    "#print(\"down slater---------\\n\", down_slater)\n",
    "from functools import partial\n",
    "importlib.reload(kin)\n",
    "#wavefunction = kin.total_wf(N, N_up, R, sigma, b_par, b_orth, use_chi = use_chi, return_A=False)[0]\n",
    "partial_wf = partial(kin.total_wf,\n",
    "                     N=N,\n",
    "                     N_up=N_up,\n",
    "                     sigma=sigma,\n",
    "                     b_par=b_par,\n",
    "                     b_orth=b_orth,\n",
    "                     use_chi=True,\n",
    "                     return_A=True)\n",
    "kinetic_energy_mine = kin.kinetic_energy_integrand(N, N_up,R, sigma, b_par, b_orth, omega, use_chi)\n",
    "kinetic_energy_mine_2 = kin.kinetic_energy_integrand_2(N, N_up,R, sigma, b_par, b_orth, omega, use_chi)\n",
    "f = lambda r: partial_wf(R=r)[0]\n",
    "kinetic_energy_np = kin.numerical_integrand(f, R)\n",
    "print(\"Kinetic energy (mine):\", kinetic_energy_mine)\n",
    "print(\"Kinetic energy (mine):\", kinetic_energy_mine_2)\n",
    "print(\"Kinetic energy (numpy):\", kinetic_energy_np)"
   ]
  },
  {
   "cell_type": "markdown",
   "metadata": {},
   "source": []
  },
  {
   "cell_type": "code",
   "execution_count": 7,
   "metadata": {},
   "outputs": [],
   "source": [
    "acc, counter=0,0\n",
    "x01=random.uniform(0,1)\n",
    "y01=random.uniform(0,1)\n",
    "x02=random.uniform(0,1)\n",
    "y02=random.uniform(0,1)\n",
    "x03=random.uniform(0,1)\n",
    "y03=random.uniform(0,1)\n",
    "delta=1\n",
    "passi=10\n",
    "Neq=int(passi*1/50)\n",
    "N_delta=10000\n",
    "pos, acc_list=[],[]\n",
    "s=1"
   ]
  },
  {
   "cell_type": "code",
   "execution_count": 8,
   "metadata": {},
   "outputs": [
    {
     "name": "stderr",
     "output_type": "stream",
     "text": [
      "/var/folders/ds/l5tt9lyx5pl1c9t1ytlzxb7w0000gn/T/ipykernel_7979/2750777724.py:15: RuntimeWarning: overflow encountered in scalar power\n",
      "  p=Slaterdet(N,s,x1,y1,x2,y2,x3,y3,phi,chip,chim)**2/Slaterdet(N,s,x01,y01,x02,y02,x03,y03,phi,chip,chim)**2\n",
      "/var/folders/ds/l5tt9lyx5pl1c9t1ytlzxb7w0000gn/T/ipykernel_7979/2750777724.py:15: RuntimeWarning: invalid value encountered in scalar divide\n",
      "  p=Slaterdet(N,s,x1,y1,x2,y2,x3,y3,phi,chip,chim)**2/Slaterdet(N,s,x01,y01,x02,y02,x03,y03,phi,chip,chim)**2\n"
     ]
    },
    {
     "ename": "KeyboardInterrupt",
     "evalue": "",
     "output_type": "error",
     "traceback": [
      "\u001b[31m---------------------------------------------------------------------------\u001b[39m",
      "\u001b[31mKeyboardInterrupt\u001b[39m                         Traceback (most recent call last)",
      "\u001b[36mCell\u001b[39m\u001b[36m \u001b[39m\u001b[32mIn[8]\u001b[39m\u001b[32m, line 1\u001b[39m\n\u001b[32m----> \u001b[39m\u001b[32m1\u001b[39m delta = \u001b[43mdelta_choice\u001b[49m\u001b[43m(\u001b[49m\u001b[43mx01\u001b[49m\u001b[43m,\u001b[49m\u001b[43my01\u001b[49m\u001b[43m,\u001b[49m\u001b[43mx02\u001b[49m\u001b[43m,\u001b[49m\u001b[43my02\u001b[49m\u001b[43m,\u001b[49m\u001b[43mx03\u001b[49m\u001b[43m,\u001b[49m\u001b[43my03\u001b[49m\u001b[43m,\u001b[49m\u001b[43mdelta\u001b[49m\u001b[43m,\u001b[49m\u001b[43ms\u001b[49m\u001b[43m,\u001b[49m\u001b[43mN_delta\u001b[49m\u001b[43m,\u001b[49m\u001b[43mcounter\u001b[49m\u001b[43m)\u001b[49m\n\u001b[32m      3\u001b[39m \u001b[38;5;28;01mfor\u001b[39;00m i \u001b[38;5;129;01min\u001b[39;00m \u001b[38;5;28mrange\u001b[39m(passi):\n\u001b[32m      4\u001b[39m     x01,y01,x02,y02,x03,y03, acc,counter = Metropolis(x01,y01,x02,y02,x03,y03, delta, phi0, chiplus,chiminus, s,counter, acc)\n",
      "\u001b[36mCell\u001b[39m\u001b[36m \u001b[39m\u001b[32mIn[5]\u001b[39m\u001b[32m, line 62\u001b[39m, in \u001b[36mdelta_choice\u001b[39m\u001b[34m(x01, y01, x02, y02, x03, y03, delta, s, N_delta, counter)\u001b[39m\n\u001b[32m     60\u001b[39m acc,counter=\u001b[32m0\u001b[39m,\u001b[32m0\u001b[39m\n\u001b[32m     61\u001b[39m \u001b[38;5;28;01mfor\u001b[39;00m i \u001b[38;5;129;01min\u001b[39;00m \u001b[38;5;28mrange\u001b[39m(N_delta):\n\u001b[32m---> \u001b[39m\u001b[32m62\u001b[39m   x01,y01,x02,y02,x03,y03, acc,counter = \u001b[43mMetropolis\u001b[49m\u001b[43m(\u001b[49m\u001b[43mx01\u001b[49m\u001b[43m,\u001b[49m\u001b[43my01\u001b[49m\u001b[43m,\u001b[49m\u001b[43mx02\u001b[49m\u001b[43m,\u001b[49m\u001b[43my02\u001b[49m\u001b[43m,\u001b[49m\u001b[43mx03\u001b[49m\u001b[43m,\u001b[49m\u001b[43my03\u001b[49m\u001b[43m,\u001b[49m\u001b[43m \u001b[49m\u001b[43mdelta\u001b[49m\u001b[43m,\u001b[49m\u001b[43m \u001b[49m\u001b[43mphi0\u001b[49m\u001b[43m,\u001b[49m\u001b[43m \u001b[49m\u001b[43mchiplus\u001b[49m\u001b[43m,\u001b[49m\u001b[43mchiminus\u001b[49m\u001b[43m,\u001b[49m\u001b[43m \u001b[49m\u001b[43ms\u001b[49m\u001b[43m,\u001b[49m\u001b[43mcounter\u001b[49m\u001b[43m,\u001b[49m\u001b[43m \u001b[49m\u001b[43macc\u001b[49m\u001b[43m)\u001b[49m\n\u001b[32m     63\u001b[39m acc_rate=acc/counter\n\u001b[32m     64\u001b[39m delta = adjust_delta(delta, acc_rate)\n",
      "\u001b[36mCell\u001b[39m\u001b[36m \u001b[39m\u001b[32mIn[5]\u001b[39m\u001b[32m, line 25\u001b[39m, in \u001b[36mMetropolis\u001b[39m\u001b[34m(x01, y01, x02, y02, x03, y03, delta, phi, chip, chim, s, counter, acc)\u001b[39m\n\u001b[32m     23\u001b[39m     acc+=\u001b[32m1\u001b[39m\n\u001b[32m     24\u001b[39m \u001b[38;5;28;01melse\u001b[39;00m:\n\u001b[32m---> \u001b[39m\u001b[32m25\u001b[39m     xi=\u001b[43mrandom\u001b[49m\u001b[43m.\u001b[49m\u001b[43muniform\u001b[49m\u001b[43m(\u001b[49m\u001b[32;43m0\u001b[39;49m\u001b[43m,\u001b[49m\u001b[32;43m1\u001b[39;49m\u001b[43m)\u001b[49m\n\u001b[32m     26\u001b[39m     \u001b[38;5;28;01mif\u001b[39;00m p>xi:\n\u001b[32m     27\u001b[39m         x01=x1\n",
      "\u001b[36mFile \u001b[39m\u001b[32m~/.pyenv/versions/3.13.5/lib/python3.13/random.py:498\u001b[39m, in \u001b[36mRandom.uniform\u001b[39m\u001b[34m(self, a, b)\u001b[39m\n\u001b[32m    492\u001b[39m     \u001b[38;5;28;01mreturn\u001b[39;00m [population[bisect(cum_weights, random() * total, \u001b[32m0\u001b[39m, hi)]\n\u001b[32m    493\u001b[39m             \u001b[38;5;28;01mfor\u001b[39;00m i \u001b[38;5;129;01min\u001b[39;00m _repeat(\u001b[38;5;28;01mNone\u001b[39;00m, k)]\n\u001b[32m    496\u001b[39m \u001b[38;5;66;03m## -------------------- real-valued distributions  -------------------\u001b[39;00m\n\u001b[32m--> \u001b[39m\u001b[32m498\u001b[39m \u001b[38;5;28;01mdef\u001b[39;00m\u001b[38;5;250m \u001b[39m\u001b[34muniform\u001b[39m(\u001b[38;5;28mself\u001b[39m, a, b):\n\u001b[32m    499\u001b[39m \u001b[38;5;250m    \u001b[39m\u001b[33;03m\"\"\"Get a random number in the range [a, b) or [a, b] depending on rounding.\u001b[39;00m\n\u001b[32m    500\u001b[39m \n\u001b[32m    501\u001b[39m \u001b[33;03m    The mean (expected value) and variance of the random variable are:\u001b[39;00m\n\u001b[32m   (...)\u001b[39m\u001b[32m    505\u001b[39m \n\u001b[32m    506\u001b[39m \u001b[33;03m    \"\"\"\u001b[39;00m\n\u001b[32m    507\u001b[39m     \u001b[38;5;28;01mreturn\u001b[39;00m a + (b - a) * \u001b[38;5;28mself\u001b[39m.random()\n",
      "\u001b[31mKeyboardInterrupt\u001b[39m: "
     ]
    }
   ],
   "source": [
    "delta = delta_choice(x01,y01,x02,y02,x03,y03,delta,s,N_delta,counter)\n",
    "\n",
    "for i in range(passi):\n",
    "    x01,y01,x02,y02,x03,y03, acc,counter = Metropolis(x01,y01,x02,y02,x03,y03, delta, phi0, chiplus,chiminus, s,counter, acc)\n",
    "    #pos.append(x0)\n",
    "    acc_list.append(acc/counter)\n"
   ]
  }
 ],
 "metadata": {
  "jupytext": {
   "formats": "ipynb,py:light"
  },
  "kernelspec": {
   "display_name": "Python 3",
   "language": "python",
   "name": "python3"
  },
  "language_info": {
   "codemirror_mode": {
    "name": "ipython",
    "version": 3
   },
   "file_extension": ".py",
   "mimetype": "text/x-python",
   "name": "python",
   "nbconvert_exporter": "python",
   "pygments_lexer": "ipython3",
   "version": "3.13.5"
  }
 },
 "nbformat": 4,
 "nbformat_minor": 2
}
