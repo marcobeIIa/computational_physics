{
 "cells": [
  {
   "cell_type": "code",
   "execution_count": 1,
   "metadata": {},
   "outputs": [
    {
     "name": "stdout",
     "output_type": "stream",
     "text": [
      "tiocfaidh ar la v5\n"
     ]
    }
   ],
   "source": [
    "import numpy as np\n",
    "import scipy\n",
    "import sys\n",
    "import math\n",
    "import scipy.special\n",
    "import scipy.constants as const\n",
    "from math import factorial\n",
    "from scipy.special import hermite\n",
    "import matplotlib.pyplot as plt\n",
    "import random\n",
    "\n",
    "print('tiocfaidh ar la v5')"
   ]
  },
  {
   "attachments": {},
   "cell_type": "markdown",
   "metadata": {},
   "source": [
    "In order to find the values of $\\alpha$ that satisfy the cusp condition we notice that\n",
    "$$lim_{r_{ij}\\rightarrow 0}\\frac{H\\Psi}{\\Psi}<\\infty$$\n",
    "where $H=H_0+V$ ,is equivalent to \n",
    "$$lim_{r_{ij}\\rightarrow 0}\\frac{\\Psi'}{\\Psi}=\\frac{1}{2}r_{ij}V$$\n",
    "having\n",
    "$$V=\\frac{1}{2}\\omega^2r_i^2+\\frac{1}{r_{ij}}$$\n",
    "Substituting in this condition the Jastrow function for antiparallel spins and Jastrow function multiplied by $r$ fo parallel spins we find \n",
    "$$\\alpha_{\\uparrow\\downarrow}=\\frac{1}{2}$$\n",
    "$$\\alpha_{\\uparrow\\uparrow}=\\frac{1}{4}$$\n",
    "\n",
    "\n",
    "\n",
    "\n",
    "Since we are interested in the cases up to $N=6$ let's consider only the lower eergy states in analitycal form, using the notation $\\phi_{nlm}$\n",
    "$$\\phi_{000}=\\frac{1}{\\sqrt{\\pi\\sigma^2}}e^{\\frac{r^2}{2\\sigma^2}}$$ \n",
    "$$\\phi_{01-1}=\\frac{1}{\\sqrt{\\pi\\sigma^2}}e^{\\frac{r^2}{2\\sigma^2}}\\left(\\frac{r}{\\sigma}\\right)e^{-i\\varphi}$$ \n",
    "$$\\phi_{011}=\\frac{1}{\\sqrt{\\pi\\sigma^2}}e^{\\frac{r^2}{2\\sigma^2}}\\left(\\frac{r}{\\sigma}\\right)e^{i\\varphi}$$ \n",
    "Now we can write \n",
    "$$e^{i\\varphi}=cos\\varphi+isin\\varphi=\\frac{x}{\\sqrt{x^2+y^2}}+i\\frac{y}{\\sqrt{x^2+y^2}}$$\n",
    "$$e^{-i\\varphi}=cos\\varphi-isin\\varphi=\\frac{x}{\\sqrt{x^2+y^2}}-i\\frac{y}{\\sqrt{x^2+y^2}}$$\n",
    "And so we find\n",
    "$$\\phi_{000}=\\frac{1}{\\sqrt{\\pi\\sigma^2}}e^{\\frac{x^2+y^2}{2\\sigma^2}}$$ \n",
    "$$\\phi_{01-1}=\\frac{1}{\\sqrt{\\pi\\sigma^2}}e^{\\frac{x^2+y^2}{2\\sigma^2}}\\left(\\frac{\\sqrt{x^2+y^2}}{\\sigma}\\right)\\left(\\frac{x}{\\sqrt{x^2+y^2}}-i\\frac{y}{\\sqrt{x^2+y^2}}\\right)=\\frac{1}{\\sqrt{\\pi\\sigma^2}}e^{\\frac{x^2+y^2}{2\\sigma^2}}\\left(\\frac{1}{\\sigma}\\right)\\left(x-iy\\right)$$ \n",
    "$$\\phi_{011}=\\frac{1}{\\sqrt{\\pi\\sigma^2}}e^{\\frac{x^2+y^2}{2\\sigma^2}}\\left(\\frac{\\sqrt{x^2+y^2}}{\\sigma}\\right)\\left(\\frac{x}{\\sqrt{x^2+y^2}}+i\\frac{y}{\\sqrt{x^2+y^2}}\\right)=\\frac{1}{\\sqrt{\\pi\\sigma^2}}e^{\\frac{x^2+y^2}{2\\sigma^2}}\\left(\\frac{1}{\\sigma}\\right)\\left(x+iy\\right)$$ \n",
    "\n",
    "In the end we can construct two new orbitals, namely\n",
    "$$\\chi_+=\\frac{\\phi_{011}+\\phi_{01-1}}{2}=\\frac{1}{\\sqrt{\\pi\\sigma^2}}e^{\\frac{x^2+y^2}{2\\sigma^2}}\\frac{x}{\\sigma}$$\n",
    "$$\\chi_-=\\frac{\\phi_{011}-\\phi_{01-1}}{2i}=\\frac{1}{\\sqrt{\\pi\\sigma^2}}e^{\\frac{x^2+y^2}{2\\sigma^2}}\\frac{y}{\\sigma}$$"
   ]
  },
  {
   "cell_type": "code",
   "execution_count": 2,
   "metadata": {},
   "outputs": [],
   "source": [
    "N=6\n",
    "omega=1"
   ]
  },
  {
   "cell_type": "code",
   "execution_count": 3,
   "metadata": {},
   "outputs": [],
   "source": [
    "def Slaterdet(N,s,x1,y1,x2,y2,x3,y3,phi,chip,chim):\n",
    "    A = [[(1/math.factorial(N))*phi(x1,y1,s), (1/math.factorial(N))*chip(x1,y1,s), (1/math.factorial(N))*chim(x1,y1,s)], \n",
    "         [(1/math.factorial(N))*phi(x2,y2,s), (1/math.factorial(N))*chip(x2,y2,s), (1/math.factorial(N))*chim(x2,y2,s)],\n",
    "         [(1/math.factorial(N))*phi(x3,y3,s), (1/math.factorial(N))*chip(x3,y3,s), (1/math.factorial(N))*chim(x3,y3,s)]] \n",
    "    return np.linalg.det(A)"
   ]
  },
  {
   "cell_type": "code",
   "execution_count": null,
   "metadata": {},
   "outputs": [],
   "source": []
  },
  {
   "cell_type": "code",
   "execution_count": 4,
   "metadata": {},
   "outputs": [],
   "source": [
    "def Slaterinv(N,s,x1,y1,x2,y2,x3,y3,phi,chip,chim):\n",
    "    A = [[(1/math.factorial(N))*phi(x1,y1,s), (1/math.factorial(N))*chip(x1,y1,s), (1/math.factorial(N))*chim(x1,y1,s)], \n",
    "         [(1/math.factorial(N))*phi(x2,y2,s), (1/math.factorial(N))*chip(x2,y2,s), (1/math.factorial(N))*chim(x2,y2,s)],\n",
    "         [(1/math.factorial(N))*phi(x3,y3,s), (1/math.factorial(N))*chip(x3,y3,s), (1/math.factorial(N))*chim(x3,y3,s)]] \n",
    "    \n",
    "    return np.linalg.inv(A)\n",
    "\n",
    "def safe_invert_matrix_mb(A, rcond=1e-15):\n",
    "    \"\"\"\n",
    "    Computes a pseudoinverse if A is near-singular.\n",
    "\n",
    "    Parameters:\n",
    "    - A : (N x N) NumPy array\n",
    "    - rcond : Regularization threshold\n",
    "\n",
    "    Returns:\n",
    "    - A_inv : Inverse or pseudoinverse of A\n",
    "    \"\"\"\n",
    "    try:\n",
    "        return np.linalg.inv(A)\n",
    "    except np.linalg.LinAlgError:\n",
    "        print(\"Matrix is singular or ill-conditioned. Using pseudoinverse.\")\n",
    "        return np.linalg.pinv(A, rcond=rcond)\n"
   ]
  },
  {
   "cell_type": "code",
   "execution_count": 11,
   "metadata": {},
   "outputs": [],
   "source": [
    "#Metropolis\n",
    "def Metropolis(x01,y01,x02,y02,x03,y03, delta, phi, chip, chim, s,counter, acc):\n",
    "    a1=random.uniform(0,1)\n",
    "    x1= x01+delta*(a1-0.5)\n",
    "    b1=random.uniform(0,1)\n",
    "    y1= y01+delta*(b1-0.5)\n",
    "    a2=random.uniform(0,1)\n",
    "    x2= x02+delta*(a2-0.5)\n",
    "    b2=random.uniform(0,1)\n",
    "    y2= y02+delta*(b2-0.5)\n",
    "    a3=random.uniform(0,1)\n",
    "    x3= x03+delta*(a3-0.5)\n",
    "    b3=random.uniform(0,1)\n",
    "    y3= y03+delta*(b3-0.5)\n",
    "    p=Slaterdet(N,s,x1,y1,x2,y2,x3,y3,phi,chip,chim)**2/Slaterdet(N,s,x01,y01,x02,y02,x03,y03,phi,chip,chim)**2\n",
    "    if p>1:\n",
    "        x01=x1\n",
    "        y01=y1\n",
    "        x02=x2\n",
    "        y02=y2\n",
    "        x03=x3\n",
    "        y03=y3\n",
    "        acc+=1\n",
    "    else:\n",
    "        xi=random.uniform(0,1)\n",
    "        if p>xi:\n",
    "            x01=x1\n",
    "            y01=y1\n",
    "            x02=x2\n",
    "            y02=y2\n",
    "            x03=x3\n",
    "            y03=y3\n",
    "            acc+=1\n",
    "\n",
    "    counter+=1\n",
    "    return x01,y01,x02,y02,x03,y03, acc, counter\n",
    "\n",
    "\n",
    "\n",
    "def adjust_delta(delta, acceptance_rate):\n",
    "    if acceptance_rate > 0.6:\n",
    "        delta *= 1.1  # Increase delta by 10%\n",
    "    elif acceptance_rate < 0.4:\n",
    "        delta *= 0.9  # Decrease delta by 10%\n",
    "    return delta\n",
    "\n",
    "\n",
    "def phi0(x, y, s):\n",
    "    return (1/np.sqrt(np.pi*s**2))*math.exp((x**2+y**2)/(2*s**2))\n",
    "\n",
    "def chiplus(x, y, s):\n",
    "    return (1/np.sqrt(np.pi*s**2))*math.exp((x**2+y**2)/(2*s**2))*x/s\n",
    "\n",
    "def chiminus(x, y, s):\n",
    "    return (1/np.sqrt(np.pi*s**2))*math.exp((x**2+y**2)/(2*s**2))*y/s\n",
    "\n",
    "def delta_choice(x01,y01,x02,y02,x03,y03,delta,s,N_delta,counter):\n",
    "  acc_rate=1\n",
    "  while acc_rate>0.6 or acc_rate<0.4:\n",
    "    acc,counter=0,0\n",
    "    for i in range(N_delta):\n",
    "      x01,y01,x02,y02,x03,y03, acc,counter = Metropolis(x01,y01,x02,y02,x03,y03, delta, phi0, chiplus,chiminus, s,counter, acc)\n",
    "    acc_rate=acc/counter\n",
    "    delta = adjust_delta(delta, acc_rate)\n",
    "\n",
    "  return delta"
   ]
  },
  {
   "cell_type": "markdown",
   "id": "4926af7e",
   "metadata": {
    "lines_to_next_cell": 0,
    "magic_args": "kinetic energy calculation"
   },
   "source": [
    "## part 2: calculation of the kinetic energy\n",
    "\n",
    "Using\n",
    "\\begin{align*}\n",
    "  \\nabla ^2 (fg) = \\left( \\nabla ^2 f    \\right) g + 2\\boldsymbol{\\nabla}f \\cdot \n",
    "  \\boldsymbol{\\nabla}g + f \\nabla ^2g\n",
    "\\end{align*}\n",
    "   The kinetic energy\n",
    "\\begin{align*}\n",
    "       \\nabla ^2 \\Psi &=  \\nabla ^2 \\left(J D_\\uparrow D_\\downarrow\\right)\\nonumber \\\\ \n",
    "       &= \\sum_i \\left[   \\left(\\nabla _i ^2J\\right)D_\\uparrow D_\\downarrow +\n",
    "       2\\boldsymbol{\\nabla}_i J \\cdot  \\boldsymbol{\\nabla}_i (D_\\uparrow\n",
    "       D_\\downarrow) +\n",
    "       J((\\nabla ^2_i D_\\uparrow) D_\\downarrow + D_\\uparrow \\nabla_i ^2\n",
    "       D_\\downarrow)\\right]\n",
    "\\end{align*}\n",
    "The first term is computed as\n",
    "\\begin{align*}\n",
    "    \\nabla ^2_i J &= \\nabla ^2 _i \\prod_{j<k} e^{\\log f_{jk}}\\nonumber \\\\ \n",
    "    &=\\nabla_i ^2 \\exp \\sum_{j < k} f_{jk} = \\nabla _i ^2 \\exp \\left(\\frac{1}{2}\\sum_{i\\neq\n",
    "    k}f_{jk}\\right)\n",
    "\\end{align*}\n",
    "We exploit the identity\n",
    "\\begin{align*}\n",
    "    \\nabla^2 f(g(\\textbf{x})) &= f^{\\prime\\prime} (g(\\textbf{x}))\n",
    "   \\left|\\boldsymbol{\\nabla}g(x)\\right|^2  + f^\\prime (g(\\textbf{x})) \\nabla ^2 g.\n",
    "\\end{align*}\n",
    "(Skipping a few lines of algebra), I find\n",
    "\\begin{align*}\n",
    "    \\nabla _i ^2 J &= J \\left(\\left|\\sum_{k\\neq i}\\frac{f^\\prime\n",
    "    _{ki}}{f_{ki}}\\hat{\\textbf{x}}_{jk}\\right|^2 + \\sum_{k\\neq i}\\nabla _i ^2 \\log f_{ki}\\right)\n",
    "\\end{align*}\n",
    "where\n",
    "\\begin{align*}\n",
    "    \\nabla _i ^2 \\log f_{ki} &= \\frac{f^{\\prime\\prime}_{ki}}{f_{ki}} -\n",
    "    \\frac{(f_{ki}^\\prime )^2}{f_{ki}^2} + \\frac{1}{r_{ki}} \\frac{f_{ki}^\\prime }{f_{ki}}.\n",
    "\\end{align*}\n",
    "\n",
    "Then \n",
    "\\begin{align*}\n",
    "    \\boldsymbol{\\nabla} J \\cdot \\boldsymbol{\\nabla} \\left(D_\\uparrow D_\\downarrow\\right)\n",
    "    &= \\sum_{i} \\left(\\nabla _i J\\right)\\nabla _i\\left(D_\\uparrow D_\\downarrow\\right).\n",
    "\\end{align*}\n",
    "The gradient of Jastrow is\n",
    "\\begin{align*}\n",
    "    \\nabla _i J &= J \\nabla _i \\log J\\nonumber \\\\ \n",
    "    &= \\frac{1}{2}J \\nabla _i \\left(\\sum_{jk,j\\neq k} \\ln f_{jk}\\right)\\nonumber \\\\ \n",
    "    &= J\\sum_{k,k\\neq i} \\frac{f_{ik}^\\prime }{f_{ik}} \\hat{\\textbf{r}}_{ik}\n",
    "\\end{align*}\n",
    "where the $1 /2$ (coming from  $2\\sum_{j<k} = \\sum_{j\\neq k}$) is reabsorbed since we get\n",
    "two equal terms: one from $i=j$ and one from $i=k$.\n",
    "\n",
    "The gradient of Slater can be computed from known matrix calculus relations:\n",
    "\\begin{align*}\n",
    "\\frac{1}{\\left|D\\right|}\\boldsymbol{\\nabla}_i \\left|D(\\textbf{R})\\right|    &= \\sum _j\n",
    "\\boldsymbol{\\nabla}_i \\phi_j (\\textbf{r}_i) d_{ji}^{-1}(\\textbf{R})\n",
    "\\end{align*}\n",
    "and the gradient of a single wavefunction\n",
    "\\begin{align*}\n",
    "    \\boldsymbol{\\nabla}_i \\phi_{000} (r_i)& =\n",
    "    -\\frac{\\textbf{r}_i}{\\sigma^2}\\phi_{000}\\nonumber \\\\\n",
    "    \\boldsymbol{\\nabla}_i \\chi_{+} &= \\begin{bmatrix} 1- x_{i}^2/\\sigma^2 \\\\ -x_i y_i /\n",
    "    \\sigma^2\n",
    "\\\\\\end{bmatrix} \\frac{1}{\\sigma^2 \\sqrt{\\pi} } e^{- (x_{i}^2 +y_{i}^2) / 2 \\sigma^2}\\nonumber \\\\ \n",
    "    \\boldsymbol{\\nabla}_i \\chi_{-} &= \\begin{bmatrix} -x y/\\sigma^2 \\\\ 1 -y_i ^2 /\n",
    "    \\sigma^2\n",
    "\\\\\\end{bmatrix} \\frac{1}{\\sigma^2 \\sqrt{\\pi} } e^{- (x^2 +y^2) / 2 \\sigma^2}.\n",
    "\\end{align*}\n",
    "Finally for the Slater laplacian term, we employ a similar result:\n",
    "\\begin{align*}\n",
    "\\frac{1}{\\left|D\\right|}\\nabla ^2_i \\left|D(\\textbf{R})\\right|    &= \\sum _j\n",
    "\\nabla^2_i \\phi_j (\\textbf{r}_i) d_{ji}^{-1}(\\textbf{R})\n",
    "\\end{align*}\n",
    "where the single-particle laplacians are found via the equations of motion\n",
    "\\begin{align*}\n",
    "  \\left(  -\\frac{1}{2}\\nabla_i ^2 +\\frac{1}{2}\\omega^2 r_i^2\\right) \\phi_j (r_i) =\n",
    "  \\lambda_j \\phi_j\n",
    "  (r_i)\n",
    "\\end{align*}\n",
    "or \n",
    "\\begin{align*}\n",
    "    \\nabla_i ^2 \\phi_j (r_i) = \\left(\\omega^2 r_i^2 - 2\\lambda_j\\right)\\phi_j(r_i)\n",
    "\\end{align*}\n",
    "for \n",
    "\\begin{align*}\n",
    "    \\lambda_j = \\omega (2n + l + 1).\n",
    "\\end{align*}\n",
    "These calculations, put together, give us the first way of computing the integrand of the\n",
    "kinetic energy.\n",
    "\n",
    "For the second way of computing the kinetic energy, all the pieces are actually already there. We are lacking the\n",
    "\\begin{align}\n",
    "    \\frac{1}{4\\Psi ^2}\\left( \\sum_i \\nabla_i \\Psi \\right) ^2 = \\frac{1}{4} \\left[\\sum_i\\left(\\frac{\\nabla J}{J} + \\frac{\\nabla D_\\uparrow}{D_\\uparrow}+ \\frac{\\nabla D_\\downarrow}{D_\\downarrow}\\right) \\right]^2\n",
    "\\end{align}"
   ]
  },
  {
   "cell_type": "markdown",
   "metadata": {},
   "source": [
    "### sample run"
   ]
  },
  {
   "cell_type": "code",
   "execution_count": 63,
   "metadata": {
    "lines_to_next_cell": 0
   },
   "outputs": [
    {
     "name": "stdout",
     "output_type": "stream",
     "text": [
      "psi: 5.3176716941506725e-05 term 1: -2.250109150364548e-21 term 2: -1.0556179280766809e-69 term 3: -0.0009574210139771944\n",
      "-5.091250625411562e-08\n"
     ]
    }
   ],
   "source": [
    "import libraryMetropolis as lib\n",
    "\n",
    "N_test = 5\n",
    "R_test = np.random.uniform(0,2,(N_test,2))\n",
    "b_par = 1 \n",
    "b_anti = 1\n",
    "sigma = 1\n",
    "\n",
    "K_integrand = lib.kinetic_energy_integrand(N_test,lib.N_up_choice(N_test),R_test,sigma,b_par,b_anti,omega)\n",
    "print(K_integrand)"
   ]
  },
  {
   "cell_type": "markdown",
   "metadata": {},
   "source": []
  },
  {
   "cell_type": "code",
   "execution_count": 7,
   "metadata": {},
   "outputs": [],
   "source": [
    "acc, counter=0,0\n",
    "x01=random.uniform(0,1)\n",
    "y01=random.uniform(0,1)\n",
    "x02=random.uniform(0,1)\n",
    "y02=random.uniform(0,1)\n",
    "x03=random.uniform(0,1)\n",
    "y03=random.uniform(0,1)\n",
    "delta=1\n",
    "passi=10\n",
    "Neq=int(passi*1/50)\n",
    "N_delta=10000\n",
    "pos, acc_list=[],[]\n",
    "s=1"
   ]
  },
  {
   "cell_type": "code",
   "execution_count": 8,
   "metadata": {},
   "outputs": [
    {
     "name": "stderr",
     "output_type": "stream",
     "text": [
      "/var/folders/ds/l5tt9lyx5pl1c9t1ytlzxb7w0000gn/T/ipykernel_7979/2750777724.py:15: RuntimeWarning: overflow encountered in scalar power\n",
      "  p=Slaterdet(N,s,x1,y1,x2,y2,x3,y3,phi,chip,chim)**2/Slaterdet(N,s,x01,y01,x02,y02,x03,y03,phi,chip,chim)**2\n",
      "/var/folders/ds/l5tt9lyx5pl1c9t1ytlzxb7w0000gn/T/ipykernel_7979/2750777724.py:15: RuntimeWarning: invalid value encountered in scalar divide\n",
      "  p=Slaterdet(N,s,x1,y1,x2,y2,x3,y3,phi,chip,chim)**2/Slaterdet(N,s,x01,y01,x02,y02,x03,y03,phi,chip,chim)**2\n"
     ]
    },
    {
     "ename": "KeyboardInterrupt",
     "evalue": "",
     "output_type": "error",
     "traceback": [
      "\u001b[31m---------------------------------------------------------------------------\u001b[39m",
      "\u001b[31mKeyboardInterrupt\u001b[39m                         Traceback (most recent call last)",
      "\u001b[36mCell\u001b[39m\u001b[36m \u001b[39m\u001b[32mIn[8]\u001b[39m\u001b[32m, line 1\u001b[39m\n\u001b[32m----> \u001b[39m\u001b[32m1\u001b[39m delta = \u001b[43mdelta_choice\u001b[49m\u001b[43m(\u001b[49m\u001b[43mx01\u001b[49m\u001b[43m,\u001b[49m\u001b[43my01\u001b[49m\u001b[43m,\u001b[49m\u001b[43mx02\u001b[49m\u001b[43m,\u001b[49m\u001b[43my02\u001b[49m\u001b[43m,\u001b[49m\u001b[43mx03\u001b[49m\u001b[43m,\u001b[49m\u001b[43my03\u001b[49m\u001b[43m,\u001b[49m\u001b[43mdelta\u001b[49m\u001b[43m,\u001b[49m\u001b[43ms\u001b[49m\u001b[43m,\u001b[49m\u001b[43mN_delta\u001b[49m\u001b[43m,\u001b[49m\u001b[43mcounter\u001b[49m\u001b[43m)\u001b[49m\n\u001b[32m      3\u001b[39m \u001b[38;5;28;01mfor\u001b[39;00m i \u001b[38;5;129;01min\u001b[39;00m \u001b[38;5;28mrange\u001b[39m(passi):\n\u001b[32m      4\u001b[39m     x01,y01,x02,y02,x03,y03, acc,counter = Metropolis(x01,y01,x02,y02,x03,y03, delta, phi0, chiplus,chiminus, s,counter, acc)\n",
      "\u001b[36mCell\u001b[39m\u001b[36m \u001b[39m\u001b[32mIn[5]\u001b[39m\u001b[32m, line 62\u001b[39m, in \u001b[36mdelta_choice\u001b[39m\u001b[34m(x01, y01, x02, y02, x03, y03, delta, s, N_delta, counter)\u001b[39m\n\u001b[32m     60\u001b[39m acc,counter=\u001b[32m0\u001b[39m,\u001b[32m0\u001b[39m\n\u001b[32m     61\u001b[39m \u001b[38;5;28;01mfor\u001b[39;00m i \u001b[38;5;129;01min\u001b[39;00m \u001b[38;5;28mrange\u001b[39m(N_delta):\n\u001b[32m---> \u001b[39m\u001b[32m62\u001b[39m   x01,y01,x02,y02,x03,y03, acc,counter = \u001b[43mMetropolis\u001b[49m\u001b[43m(\u001b[49m\u001b[43mx01\u001b[49m\u001b[43m,\u001b[49m\u001b[43my01\u001b[49m\u001b[43m,\u001b[49m\u001b[43mx02\u001b[49m\u001b[43m,\u001b[49m\u001b[43my02\u001b[49m\u001b[43m,\u001b[49m\u001b[43mx03\u001b[49m\u001b[43m,\u001b[49m\u001b[43my03\u001b[49m\u001b[43m,\u001b[49m\u001b[43m \u001b[49m\u001b[43mdelta\u001b[49m\u001b[43m,\u001b[49m\u001b[43m \u001b[49m\u001b[43mphi0\u001b[49m\u001b[43m,\u001b[49m\u001b[43m \u001b[49m\u001b[43mchiplus\u001b[49m\u001b[43m,\u001b[49m\u001b[43mchiminus\u001b[49m\u001b[43m,\u001b[49m\u001b[43m \u001b[49m\u001b[43ms\u001b[49m\u001b[43m,\u001b[49m\u001b[43mcounter\u001b[49m\u001b[43m,\u001b[49m\u001b[43m \u001b[49m\u001b[43macc\u001b[49m\u001b[43m)\u001b[49m\n\u001b[32m     63\u001b[39m acc_rate=acc/counter\n\u001b[32m     64\u001b[39m delta = adjust_delta(delta, acc_rate)\n",
      "\u001b[36mCell\u001b[39m\u001b[36m \u001b[39m\u001b[32mIn[5]\u001b[39m\u001b[32m, line 25\u001b[39m, in \u001b[36mMetropolis\u001b[39m\u001b[34m(x01, y01, x02, y02, x03, y03, delta, phi, chip, chim, s, counter, acc)\u001b[39m\n\u001b[32m     23\u001b[39m     acc+=\u001b[32m1\u001b[39m\n\u001b[32m     24\u001b[39m \u001b[38;5;28;01melse\u001b[39;00m:\n\u001b[32m---> \u001b[39m\u001b[32m25\u001b[39m     xi=\u001b[43mrandom\u001b[49m\u001b[43m.\u001b[49m\u001b[43muniform\u001b[49m\u001b[43m(\u001b[49m\u001b[32;43m0\u001b[39;49m\u001b[43m,\u001b[49m\u001b[32;43m1\u001b[39;49m\u001b[43m)\u001b[49m\n\u001b[32m     26\u001b[39m     \u001b[38;5;28;01mif\u001b[39;00m p>xi:\n\u001b[32m     27\u001b[39m         x01=x1\n",
      "\u001b[36mFile \u001b[39m\u001b[32m~/.pyenv/versions/3.13.5/lib/python3.13/random.py:498\u001b[39m, in \u001b[36mRandom.uniform\u001b[39m\u001b[34m(self, a, b)\u001b[39m\n\u001b[32m    492\u001b[39m     \u001b[38;5;28;01mreturn\u001b[39;00m [population[bisect(cum_weights, random() * total, \u001b[32m0\u001b[39m, hi)]\n\u001b[32m    493\u001b[39m             \u001b[38;5;28;01mfor\u001b[39;00m i \u001b[38;5;129;01min\u001b[39;00m _repeat(\u001b[38;5;28;01mNone\u001b[39;00m, k)]\n\u001b[32m    496\u001b[39m \u001b[38;5;66;03m## -------------------- real-valued distributions  -------------------\u001b[39;00m\n\u001b[32m--> \u001b[39m\u001b[32m498\u001b[39m \u001b[38;5;28;01mdef\u001b[39;00m\u001b[38;5;250m \u001b[39m\u001b[34muniform\u001b[39m(\u001b[38;5;28mself\u001b[39m, a, b):\n\u001b[32m    499\u001b[39m \u001b[38;5;250m    \u001b[39m\u001b[33;03m\"\"\"Get a random number in the range [a, b) or [a, b] depending on rounding.\u001b[39;00m\n\u001b[32m    500\u001b[39m \n\u001b[32m    501\u001b[39m \u001b[33;03m    The mean (expected value) and variance of the random variable are:\u001b[39;00m\n\u001b[32m   (...)\u001b[39m\u001b[32m    505\u001b[39m \n\u001b[32m    506\u001b[39m \u001b[33;03m    \"\"\"\u001b[39;00m\n\u001b[32m    507\u001b[39m     \u001b[38;5;28;01mreturn\u001b[39;00m a + (b - a) * \u001b[38;5;28mself\u001b[39m.random()\n",
      "\u001b[31mKeyboardInterrupt\u001b[39m: "
     ]
    }
   ],
   "source": [
    "delta = delta_choice(x01,y01,x02,y02,x03,y03,delta,s,N_delta,counter)\n",
    "\n",
    "for i in range(passi):\n",
    "    x01,y01,x02,y02,x03,y03, acc,counter = Metropolis(x01,y01,x02,y02,x03,y03, delta, phi0, chiplus,chiminus, s,counter, acc)\n",
    "    #pos.append(x0)\n",
    "    acc_list.append(acc/counter)\n"
   ]
  }
 ],
 "metadata": {
  "jupytext": {
   "formats": "ipynb,py:light"
  },
  "kernelspec": {
   "display_name": "Python 3",
   "language": "python",
   "name": "python3"
  },
  "language_info": {
   "codemirror_mode": {
    "name": "ipython",
    "version": 3
   },
   "file_extension": ".py",
   "mimetype": "text/x-python",
   "name": "python",
   "nbconvert_exporter": "python",
   "pygments_lexer": "ipython3",
   "version": "3.13.5"
  }
 },
 "nbformat": 4,
 "nbformat_minor": 2
}
