{
 "cells": [
  {
   "cell_type": "markdown",
   "metadata": {},
   "source": [
    "# Man vs machine notebook\n",
    "this notebook is to check whether all the analytical calculations (which we use for the montecarlo algorithm) agree with less-computationally robust, but conceptually more trustworthy numerical calculations.\n",
    "\n",
    "idea: check numerical vs analytic calculations piece by piece\n"
   ]
  },
  {
   "cell_type": "markdown",
   "metadata": {},
   "source": [
    "# Jastrow factor"
   ]
  },
  {
   "cell_type": "code",
   "execution_count": 52,
   "metadata": {},
   "outputs": [
    {
     "data": {
      "text/plain": [
       "<matplotlib.legend.Legend at 0x110d24410>"
      ]
     },
     "execution_count": 52,
     "metadata": {},
     "output_type": "execute_result"
    },
    {
     "data": {
      "image/png": "[encoded data removed]",
      "text/plain": [
       "<Figure size 640x480 with 1 Axes>"
      ]
     },
     "metadata": {},
     "output_type": "display_data"
    }
   ],
   "source": [
    "\n",
    "\n",
    "import numpy as np\n",
    "#import kinetic_energy as kin\n",
    "import libraryMetropolis as kin\n",
    "import importlib\n",
    "import matplotlib.pyplot as plt\n",
    "\n",
    "importlib.reload(kin)\n",
    "\n",
    "\n",
    "\n",
    "box_size = 2 \n",
    "N = 2\n",
    "sigma = 1\n",
    "b1=1\n",
    "b2=1\n",
    "jastrow_J = lambda X: kin.jastrow(N, X, kin.N_up_choice(N), b_par=b1, b_anti=b2)\n",
    "R_test = np.random.uniform(0, box_size, size=(N,2))\n",
    "\n",
    "length = 20\n",
    "jastrow_array = np.zeros(length)\n",
    "jastrow_array_f = np.zeros(length)\n",
    "for i in range(length):\n",
    "    R_test[N-1][1]= R_test[N-1][1] + i/200  # Example positions for testing  \n",
    "    jastrow_array[i] =kin.jastrow(N, R_test, kin.N_up_choice(N), b_par = 1.0, b_anti = 1.0)\n",
    "plt.plot(np.arange(length), jastrow_array, label='Jastrow Factor',alpha=0.5)\n",
    "plt.legend()\n",
    "\n"
   ]
  },
  {
   "cell_type": "markdown",
   "metadata": {},
   "source": [
    "# Kinetic energy integrand"
   ]
  },
  {
   "cell_type": "markdown",
   "metadata": {},
   "source": [
    "## Total kinetic energy integrand"
   ]
  },
  {
   "cell_type": "code",
   "execution_count": 53,
   "metadata": {},
   "outputs": [
    {
     "name": "stdout",
     "output_type": "stream",
     "text": [
      "6.283582642394203 6.283582642394199\n",
      "Kinetic energy (mine): 1.3247279156696588\n",
      "Kinetic energy (avg): 1.324727977728775\n"
     ]
    }
   ],
   "source": [
    "import importlib\n",
    "import libraryMetropolis as kin\n",
    "import numpy as np\n",
    "importlib.reload(kin)\n",
    "# Parameters\n",
    "N = 3\n",
    "N_up = kin.N_up_choice(N)\n",
    "sigma = 1\n",
    "b_par = 1\n",
    "b_anti = 1\n",
    "omega = 1\n",
    "use_chi = True\n",
    "\n",
    "# Define a grid of positions (e.g., 3 particles in 2D)\n",
    "\n",
    "    \n",
    "box_size = 1\n",
    "R = np.random.uniform(0, box_size, size=(N, 2))\n",
    "#phi0 =  partial(kin.single_particle_wf, m=0, sigma = sigma, use_chi = use_chi)\n",
    "#phi_plus =  partial(kin.single_particle_wf, m=1, sigma = sigma, use_chi = use_chi)\n",
    "#phi_minus =  partial(kin.single_particle_wf, m=-1, sigma = sigma, use_chi=use_chi)\n",
    "\n",
    "#print(kin.gradient_phi([0,0,0], R[0], sigma))\n",
    "\n",
    "#det,A_up = kin.slater_det(N_up, R[:N_up], phi0, phi_plus, phi_minus,return_A = True)\n",
    "#A_inv_up = kin.safe_invert_matrix(A_up)\n",
    "#det,A_down = kin.slater_det(N-N_up, R[N_up:], phi0, phi_plus, phi_minus,return_A = True)\n",
    "#A_inv_down = kin.safe_invert_matrix(A_down)\n",
    "\n",
    "#up_slater = kin.slater_gradient(N_up, R[:N_up],A_inv_up,0,det,sigma)\n",
    "#down_slater = kin.slater_gradient(N-N_up, R[N_up:],A_inv_down,0,det,sigma)\n",
    "#print(\"up slater---------\\n\", up_slater)\n",
    "#print(\"down slater---------\\n\", down_slater)\n",
    "from functools import partial\n",
    "importlib.reload(kin)\n",
    "#wavefunction = kin.total_wf(N, N_up, R, sigma, b_par, b_anti, use_chi = use_chi, return_A=False)[0]\n",
    "partial_wf = partial(kin.total_wf,\n",
    "                     N=N,\n",
    "                     N_up=kin.N_up_choice(N),\n",
    "                     sigma=sigma,\n",
    "                     b_par=b1,\n",
    "                     b_anti=b2,\n",
    "                     use_chi=True,\n",
    "                     return_A=True)\n",
    "kinetic_energy_mine = kin.kinetic_energy_integrand(N, kin.N_up_choice(N),R, sigma, b_par=b1, b_anti=b2, omega=omega, use_chi=True)\n",
    "kinetic_energy_mine_2 = kin.kinetic_energy_integrand_2(N, kin.N_up_choice(N),R, sigma, b_par=b1, b_anti=b2, omega=omega, use_chi=True)\n",
    "#kinetic_energy_mine_2 = kin.kinetic_energy_integrand_2(N, kin.N_up_choice(N),R, sigma, b_par, b_anti, omega, use_chi)\n",
    "#kinetic_energy_mine_2 = kin.kinetic_energy_integrand_2(N, N_up,R, sigma, b_par, b_anti, omega, use_chi)\n",
    "f = lambda r: kin.total_wf(N, kin.N_up_choice(N), R=r, sigma=sigma, b_par=b1, b_anti=b2, use_chi=True, return_A=False)[0]\n",
    "f_alt = lambda r: kin.total_wf(N, kin.N_up_choice(N), R=r, sigma=sigma, b_par=b1, b_anti=b2, use_chi=True, return_A=False,return_A_alt=True)[0]\n",
    "\n",
    "kinetic_energy_np = kin.numerical_integrand(f, N,R)\n",
    "kinetic_energy_np_2 = kin.numerical_integrand(f_alt, N,R)\n",
    "print(\"Kinetic energy (mine):\", kinetic_energy_mine)\n",
    "#print(\"Kinetic energy (mine2):\", kinetic_energy_mine_2)\n",
    "#print(\"Kinetic energy (mine):\", kinetic_energy_mine_2)\n",
    "#print(\"Kinetic energy (numerical):\", kinetic_energy_np, kinetic_energy_np_2)\n",
    "print(\"Kinetic energy (avg):\", (kinetic_energy_np+ kinetic_energy_np_2)/2)\n"
   ]
  },
  {
   "cell_type": "markdown",
   "metadata": {},
   "source": [
    "## Jastrow laplacian (so called term_1 in kinetic_energy integrand)"
   ]
  },
  {
   "cell_type": "code",
   "execution_count": 54,
   "metadata": {},
   "outputs": [
    {
     "name": "stdout",
     "output_type": "stream",
     "text": [
      "Jastrow Laplacian (MB): 70.09007690912009\n",
      "Jastrow Laplacian (Comp): 70.09007720881755\n"
     ]
    }
   ],
   "source": [
    "importlib.reload(kin)\n",
    "importlib.reload(kin)\n",
    "import kinetic_energy as kin2\n",
    "N = 6\n",
    "R_test = np.random.uniform(0, box_size, size=(N,2))\n",
    "jastrow = kin.jastrow(N,R_test,kin.N_up_choice(N),b1,b2)\n",
    "jastrow_laplacian_mb = kin.jastrow_laplacian(N, kin2.N_up_choice(N),R_test, b_par =b1, b_anti =b2) * jastrow\n",
    "jastrow_laplacian_mb_old = kin.jastrow_laplacian(N, kin2.N_up_choice(N),R_test, b_par = b1, b_anti =b2)\n",
    "jastrow_laplacian_comp = kin.numerical_integrand(jastrow_J, N, R_test, return_laplacian = True)\n",
    "\n",
    "print(\"Jastrow Laplacian (MB):\", jastrow_laplacian_mb)\n",
    "print(\"Jastrow Laplacian (Comp):\", jastrow_laplacian_comp)"
   ]
  },
  {
   "cell_type": "markdown",
   "metadata": {},
   "source": [
    "is the numerical laplacian ill? check with a function whose analytical laplacian is more easily known, e.g."
   ]
  },
  {
   "cell_type": "code",
   "execution_count": 55,
   "metadata": {},
   "outputs": [
    {
     "name": "stdout",
     "output_type": "stream",
     "text": [
      "Numerical Laplacian: -0.5021058152587798\n",
      "Analytical Laplacian: -0.5021058170519297\n"
     ]
    }
   ],
   "source": [
    "def test_wavefunction(R, alpha=1.0):\n",
    "    r = R[0]\n",
    "    v = R[1]\n",
    "    x, y = r\n",
    "    z, w = v\n",
    "    return np.exp(-alpha * (x**2 + y**2)) * np.exp(-alpha * (z**2 + w**2))\n",
    "\n",
    "def analytical_laplacian(R, alpha=1.0):\n",
    "    r = R[0]\n",
    "    v = R[1]\n",
    "    x, y = r\n",
    "    z, w = v\n",
    "    psi = test_wavefunction(R, alpha)\n",
    "    return (4 * alpha**2 * (x**2 + y**2 + z**2 + w**2) - 8 * alpha) * psi\n",
    "\n",
    "R_test2 = np.random.uniform(0, box_size, size=(2, 2))  # Two particles in 2D\n",
    "numerical = kin.numerical_integrand(test_wavefunction, 2, R_test2, return_laplacian=True, h=1e-4)\n",
    "analytic = analytical_laplacian(R_test2, alpha=1.0)\n",
    "print(\"Numerical Laplacian:\", numerical)\n",
    "print(\"Analytical Laplacian:\", analytic)"
   ]
  },
  {
   "cell_type": "markdown",
   "metadata": {},
   "source": [
    "## Second bit- gradient gradient term"
   ]
  },
  {
   "cell_type": "code",
   "execution_count": 56,
   "metadata": {},
   "outputs": [
    {
     "name": "stdout",
     "output_type": "stream",
     "text": [
      "Gradient gradient term, numeric: -0.0015494472174751423\n",
      "Gradient gradient term, mine: -0.0015494472152246623\n"
     ]
    }
   ],
   "source": [
    "import numpy as np\n",
    "importlib.reload(kin)\n",
    "\n",
    "def numerical_gradient_i(f, R, i, h=1e-5):\n",
    "    \"\"\"\n",
    "    Compute gradient ∇_i f(R) w.r.t. particle i's coordinates in R (shape 2xN).\n",
    "\n",
    "    Parameters:\n",
    "    - f : callable, scalar function of R (shape (2,N))\n",
    "    - R : np.ndarray, shape (N,2), positions of particles\n",
    "    - i : int, index of the particle to differentiate with respect to\n",
    "    - h : float, finite difference step\n",
    "\n",
    "    Returns:\n",
    "    - grad_i : np.ndarray of shape (2,), [∂f/∂x_i, ∂f/∂y_i]\n",
    "    \"\"\"\n",
    "    grad_i = np.zeros(2)\n",
    "    \n",
    "    for dim in range(2):  # 0 for x, 1 for y\n",
    "        R_forward = R.copy()\n",
    "        R_backward = R.copy()\n",
    "        \n",
    "        R_forward[i,dim] += h\n",
    "        R_backward[i,dim] -= h\n",
    "\n",
    "        grad_i[dim] = (f(R_forward) - f(R_backward)) / (2 * h)\n",
    "\n",
    "    return grad_i\n",
    "\n",
    "sigma = 2.\n",
    "\n",
    "jastrow_J = lambda X: kin.jastrow(N, X, kin.N_up_choice(N), b_par=b1, b_anti=b2)\n",
    "def grad_prod(R):\n",
    "    return kin.total_wf(N,kin.N_up_choice(N),R,sigma,b_par=b1,b_anti=b2,return_A=False,jj=False)[0]\n",
    "\n",
    "\n",
    "\n",
    "grad_J = lambda R,i: numerical_gradient_i(jastrow_J,R,i)\n",
    "grad_det = lambda R,i: numerical_gradient_i(grad_prod,R,i)\n",
    "N=3\n",
    "R_test = np.random.uniform(0, box_size, size=(N,2))\n",
    "\n",
    "grad_grad_term = 0\n",
    "\n",
    "psi, det_up, det_down, A_up, A_down = kin.total_wf(N,kin.N_up_choice(N),R_test,sigma,b_par=b1,b_anti=b2,return_A=True,jj=True)\n",
    "A_up_inv = kin.safe_invert_matrix(A_up)\n",
    "A_down_inv = kin.safe_invert_matrix(A_down)\n",
    "for i in range(N):\n",
    "    grad_J_eval = grad_J(R_test,i)\n",
    "    grad_det_eval = grad_det(R_test,i)\n",
    "    grad_grad_term += np.dot(grad_J_eval, grad_det_eval)\n",
    "grad_grad_term_mb = psi*kin.gradient_gradient_term(N, kin.N_up_choice(N), R_test,A_up_inv,A_down_inv, b_par=b1, b_anti=b2,sigma=sigma)\n",
    "\n",
    "print(\"Gradient gradient term, numeric:\", 2*grad_grad_term)\n",
    "print(\"Gradient gradient term, mine:\", grad_grad_term_mb)\n",
    "\n"
   ]
  },
  {
   "cell_type": "markdown",
   "metadata": {},
   "source": [
    "more in detail, gradient of slaters"
   ]
  },
  {
   "cell_type": "code",
   "execution_count": 57,
   "metadata": {},
   "outputs": [
    {
     "name": "stdout",
     "output_type": "stream",
     "text": [
      "Slater gradient term, numeric: [0.0002407  0.00019319]\n",
      "Slater gradient term, analytic: [0.0002407  0.00019319]\n"
     ]
    }
   ],
   "source": [
    "# stephy curry step back & see if at least the slater gradients agree :c\n",
    "importlib.reload(kin)\n",
    "det_up_f = lambda R: kin.total_wf(N,kin.N_up_choice(N),R,sigma,b_par=1,b_anti=0.5,return_A=True,jj=True)[1]\n",
    "\n",
    "det_up_g = lambda R,i: numerical_gradient_i(det_up_f, R,i)\n",
    "\n",
    "N=5\n",
    "R_test = np.random.uniform(0, box_size, size=(N,2))\n",
    "N_up = kin.N_up_choice(N)\n",
    "psi, det_up, det_down, A_up, A_down = kin.total_wf(N,kin.N_up_choice(N),R_test,sigma,b_par=1,b_anti=0.5,return_A=True,jj=True)\n",
    "A_up_inv = kin.safe_invert_matrix(A_up)\n",
    "A_down_inv = kin.safe_invert_matrix(A_down)\n",
    "grad_det_up_tot = np.zeros(2)\n",
    "grad_det_up_tot_mb = np.zeros(2)\n",
    "grad_det_up_tot_mb_2 = np.zeros(2)\n",
    "for i in range(N_up):\n",
    "    det_up_value = det_up_g(R_test,i)\n",
    "    det_up_value_mb = det_up*kin.slater_gradient(N_up, R_test[:N_up],A_up_inv, i, sigma)\n",
    "    grad_det_up_tot += det_up_value\n",
    "    grad_det_up_tot_mb += det_up_value_mb\n",
    "    #print(\"Particle\", i, \"det_up value:\", det_up_value)\n",
    "    #print(\"particle\", i, \"det_up value an:\", det_up_value_mb)\n",
    "\n",
    "print(\"Slater gradient term, numeric:\", grad_det_up_tot)\n",
    "print(\"Slater gradient term, analytic:\", grad_det_up_tot_mb)\n"
   ]
  },
  {
   "cell_type": "markdown",
   "metadata": {},
   "source": [
    "More in detail, gradient of jastrow"
   ]
  },
  {
   "cell_type": "code",
   "execution_count": 58,
   "metadata": {},
   "outputs": [
    {
     "name": "stdout",
     "output_type": "stream",
     "text": [
      "Particle 0: Numerical grad = [-1.21473512 -0.7824555 ], Analytical grad = [-1.21473512 -0.7824555 ]\n",
      "Particle 1: Numerical grad = [ 1.70894482 -0.43357977], Analytical grad = [ 1.70894482 -0.43357977]\n",
      "Particle 2: Numerical grad = [0.13234332 0.21015193], Analytical grad = [0.13234332 0.21015193]\n",
      "Particle 3: Numerical grad = [ 0.24586474 -1.53933345], Analytical grad = [ 0.24586474 -1.53933345]\n",
      "Particle 4: Numerical grad = [-0.87241776  2.54521678], Analytical grad = [-0.87241776  2.54521678]\n",
      "0= [-3.33067018e-10 -1.55430779e-10]\n",
      "0= [-2.22044605e-16 -4.44089210e-16]\n"
     ]
    }
   ],
   "source": [
    "# see if it is the goddamn Jastrow fucktor\n",
    "N=5\n",
    "R_test = np.random.uniform(0, box_size, size=(N,2))\n",
    "N_up = kin.N_up_choice(N)\n",
    "jastrow_factor = lambda R: kin.jastrow(N,R,N_up,b1,b2)\n",
    "\n",
    "\n",
    "def jastrow_grad_anal(R,i):\n",
    "    jastrow_grad_piece = np.zeros(2)\n",
    "    for j in range(N):\n",
    "        if i == j:\n",
    "            continue\n",
    "        else:\n",
    "            rij = np.linalg.norm(R[i] - R[j])\n",
    "            spin_alignment = 1 if (i < N_up and j < N_up) or (i >= N_up and j >= N_up) else 0\n",
    "            aij = kin.a_ij(spin_alignment)\n",
    "            bij = kin.b_ij(spin_alignment, b1, b2)\n",
    "            x = 1+bij*rij\n",
    "            jastrow_prefactor = aij/ x**2 \n",
    "            jastrow_grad_piece += jastrow_prefactor* (R[i]-R[j])/rij #this guy should be a vector\n",
    "    return jastrow_grad_piece \n",
    "\n",
    "jastrow_grad = np.zeros(2)\n",
    "jastrow_grad2 = np.zeros(2)\n",
    "jastrow_grad_mb = np.zeros(2)\n",
    "for i in range(N):\n",
    "    num_grad = numerical_gradient_i(jastrow_factor, R_test, i)\n",
    "    anal_grad = jastrow_grad_anal(R_test, i) * jastrow_factor(R_test)\n",
    "    jastrow_grad[0] += num_grad[0]\n",
    "    jastrow_grad[1] += num_grad[1]\n",
    "    jastrow_grad_mb[0] += anal_grad[0]\n",
    "    jastrow_grad_mb[1] += anal_grad[1]\n",
    "    print(f\"Particle {i}: Numerical grad = {num_grad}, Analytical grad = {anal_grad}\")\n",
    "#sanity check: the gradients should sum to zero\n",
    "print(\"0=\",jastrow_grad)\n",
    "print(\"0=\", jastrow_grad_mb)\n",
    "# the analytic calculation should (will) fare better!!! At last my efforts were not in vain"
   ]
  },
  {
   "cell_type": "markdown",
   "metadata": {},
   "source": [
    "detailed, gradient of single-particle wavefunctions"
   ]
  },
  {
   "cell_type": "code",
   "execution_count": 59,
   "metadata": {},
   "outputs": [
    {
     "name": "stdout",
     "output_type": "stream",
     "text": [
      "Single particle wf gradient, num [-0.0004294  0.1186993]\n",
      "Single particle wf gradient, mb [-0.0004294  0.1186993]\n"
     ]
    }
   ],
   "source": [
    "# single particle wf gradients\n",
    "importlib.reload(kin)\n",
    "sigma= 2\n",
    "phi = lambda m,R: kin.single_particle_wf(m,R,sigma=1)\n",
    "\n",
    "import numpy as np\n",
    "\n",
    "def gradient_phi_n(m, R, h=1e-6):\n",
    "    \"\"\"\n",
    "    Compute the gradient of the single-particle wavefunction ψ_m at position R.\n",
    "\n",
    "    Parameters:\n",
    "        m (int): angular momentum quantum number\n",
    "        R (np.ndarray): array of shape (2,) = [x, y]\n",
    "        sigma (float): Gaussian width parameter\n",
    "        h (float): step size for finite difference\n",
    "\n",
    "    Returns:\n",
    "        np.ndarray: gradient vector of shape (2,), possibly complex\n",
    "    \"\"\"\n",
    "    x, y = R\n",
    "\n",
    "    # Central difference in x\n",
    "    R_x_plus = np.array([x + h, y])\n",
    "    R_x_minus = np.array([x - h, y])\n",
    "    dψ_dx = (kin.single_particle_wf(m, R_x_plus, sigma) - kin.single_particle_wf(m, R_x_minus, sigma)) / (2 * h)\n",
    "\n",
    "    # Central difference in y\n",
    "    R_y_plus = np.array([x, y + h])\n",
    "    R_y_minus = np.array([x, y - h])\n",
    "    dψ_dy = (kin.single_particle_wf(m, R_y_plus, sigma) - kin.single_particle_wf(m, R_y_minus, sigma)) / (2 * h)\n",
    "\n",
    "    return np.array([dψ_dx, dψ_dy])\n",
    "\n",
    "r = np.random.uniform(0, box_size, size=(2,))\n",
    "m=-1\n",
    "print(\"Single particle wf gradient, num\", gradient_phi_n(m, r, h=1e-6))\n",
    "print(\"Single particle wf gradient, mb\", kin.gradient_single_particle_wf(m, r, sigma=sigma))\n"
   ]
  },
  {
   "cell_type": "markdown",
   "metadata": {},
   "source": [
    "## Alternative computation of the kinetic energy\n",
    "first strategy: numerical computation of the gradient"
   ]
  },
  {
   "cell_type": "code",
   "execution_count": 87,
   "metadata": {},
   "outputs": [
    {
     "name": "stdout",
     "output_type": "stream",
     "text": [
      "grad_grad 0.0011580658800692907 0.0010401713107415444\n",
      "grad_grad 69.46598389720046\n",
      "second try 66.66354132852521\n"
     ]
    }
   ],
   "source": [
    "import libraryMetropolis as kin\n",
    "importlib.reload(kin)\n",
    "def numerical_gradient_i(f, R, i, h=1e-5):\n",
    "    \"\"\"\n",
    "    Compute gradient ∇_i f(R) w.r.t. particle i's coordinates in R (shape 2xN).\n",
    "\n",
    "    Parameters:\n",
    "    - f : callable, scalar function of R (shape (2,N))\n",
    "    - R : np.ndarray, shape (N,2), positions of particles\n",
    "    - i : int, index of the particle to differentiate with respect to\n",
    "    - h : float, finite difference step\n",
    "\n",
    "    Returns:\n",
    "    - grad_i : np.ndarray of shape (2,), [∂f/∂x_i, ∂f/∂y_i]\n",
    "    \"\"\"\n",
    "    grad_i = np.zeros(2)\n",
    "    \n",
    "    for dim in range(2):  # 0 for x, 1 for y\n",
    "        R_forward = R.copy()\n",
    "        R_backward = R.copy()\n",
    "        \n",
    "        R_forward[i,dim] += h\n",
    "        R_backward[i,dim] -= h\n",
    "\n",
    "        grad_i[dim] = (f(R_forward) - f(R_backward)) / (2 * h)\n",
    "\n",
    "    return grad_i\n",
    "\n",
    "\n",
    "b_par = 1\n",
    "b_anti = 1\n",
    "sigma=1\n",
    "N=5\n",
    "R_test = np.random.uniform(0, box_size, size=(N,2))\n",
    "N_up = kin.N_up_choice(N)\n",
    "f = lambda r: kin.total_wf(N, kin.N_up_choice(N), R=r, sigma=sigma, b_par=b1, b_anti=b2, use_chi=True, return_A=False)[0]\n",
    "f_alt = lambda r: kin.total_wf(N, kin.N_up_choice(N), R=r, sigma=sigma, b_par=b1, b_anti=b2, use_chi=True, return_A=False,return_A_alt=True)[0]\n",
    "\n",
    "grad_grad_piece = 0\n",
    "for i in range(N):\n",
    "    grad = numerical_gradient_i(f, R_test, i,h=1e-3)\n",
    "    grad_grad_piece+= np.dot(grad,grad)\n",
    "grad_grad_piece_a = 0\n",
    "for i in range(N):\n",
    "    grad_a = numerical_gradient_i(f_alt, R_test, i,h=1e-3)\n",
    "    grad_grad_piece_a+= np.dot(grad_a,grad_a)\n",
    "\n",
    "kin_energy = kin.kinetic_energy_integrand(N, kin.N_up_choice(N), R_test, b_par=b1, b_anti=b2, sigma=sigma, use_chi=True)\n",
    "#goddamn2 = kin.numerical_integrand(psi, N,R_test) \n",
    "#out_2 =1/2* (kin.kinetic_energy_integrand(N, kin.N_up_choice(N), R_test, sigma, b_par, b_anti, omega=1, use_chi=True)-grad_grad_piece)\n",
    "\n",
    "#print(\"out1\", goddamn) \n",
    "#print(\"out1_n\", goddamn2) \n",
    "grad_term_n = .5*(grad_grad_piece/(f(R_test))**2+grad_grad_piece_a/(f_alt(R_test))**2)\n",
    "\n",
    "print(\"grad_grad\", grad_grad_piece,grad_grad_piece_a)\n",
    "print(\"grad_grad\", 0.5* kin_energy +0.25* grad_term_n)\n",
    "#print(\"out2:\", out_2) \n",
    "print(\"second try\", kin.kinetic_energy_integrand_3(N, kin.N_up_choice(N), R_test, b_par=b1, b_anti=b2, sigma=sigma))"
   ]
  }
 ],
 "metadata": {
  "kernelspec": {
   "display_name": "Python 3",
   "language": "python",
   "name": "python3"
  },
  "language_info": {
   "codemirror_mode": {
    "name": "ipython",
    "version": 3
   },
   "file_extension": ".py",
   "mimetype": "text/x-python",
   "name": "python",
   "nbconvert_exporter": "python",
   "pygments_lexer": "ipython3",
   "version": "3.13.5"
  }
 },
 "nbformat": 4,
 "nbformat_minor": 2
}
