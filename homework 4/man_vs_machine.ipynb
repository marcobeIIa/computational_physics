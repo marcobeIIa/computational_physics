{
 "cells": [
  {
   "cell_type": "code",
   "execution_count": 216,
   "metadata": {},
   "outputs": [
    {
     "name": "stderr",
     "output_type": "stream",
     "text": [
      "/Users/bellamarco01/uni/2_computational/computational_physics/homework 4/kinetic_energy.py:511: SyntaxWarning: invalid escape sequence '\\s'\n",
      "  laplacian = 0.0\n"
     ]
    },
    {
     "data": {
      "text/plain": [
       "<matplotlib.legend.Legend at 0x11536c690>"
      ]
     },
     "execution_count": 216,
     "metadata": {},
     "output_type": "execute_result"
    },
    {
     "data": {
      "image/png": "[encoded data removed]",
      "text/plain": [
       "<Figure size 640x480 with 1 Axes>"
      ]
     },
     "metadata": {},
     "output_type": "display_data"
    }
   ],
   "source": [
    "# idea: check numerical vs analytic calculations piece by piece\n",
    "\n",
    "import numpy as np\n",
    "import kinetic_energy as kin\n",
    "import libraryMetropolis as kin2\n",
    "import importlib\n",
    "import matplotlib.pyplot as plt\n",
    "\n",
    "importlib.reload(kin)\n",
    "\n",
    "def jastrow(N,R,N_up,b_par,b_orth):\n",
    "    jastrow_log = 0.\n",
    "    for i in range(N):\n",
    "        for j in range(i+1, N):\n",
    "            r_ij = np.linalg.norm(R[i] - R[j])\n",
    "    #         print(\"mb rij\",r_ij)\n",
    "            spin_alignment = 1 if (i < N_up and j < N_up) or (i >= N_up and j >= N_up) else 0\n",
    "    #         print(\"spin alignment mb\",spin_alignment)\n",
    "            bij = kin.b_ij(spin_alignment, b_par, b_orth)\n",
    "            aij = kin.a_ij(spin_alignment)\n",
    "            jastrow_log += aij * r_ij / (1 + bij * r_ij)\n",
    "    jastrow_factor = np.exp(jastrow_log)\n",
    "    return jastrow_factor\n",
    "\n",
    "box_size = 2 \n",
    "N = 2\n",
    "sigma = 1\n",
    "b1=1\n",
    "b2=1\n",
    "jastrow_J = lambda X: jastrow(N, X, kin.N_up_choice(N), b_par=b1, b_orth=b2)\n",
    "R_test = np.random.uniform(0, box_size, size=(N,2))\n",
    "\n",
    "length = 20\n",
    "jastrow_array = np.zeros(length)\n",
    "jastrow_array_f = np.zeros(length)\n",
    "for i in range(length):\n",
    "    R_test[N-1][1]= R_test[N-1][1] + i/200  # Example positions for testing  \n",
    "    jastrow_array[i] = jastrow(N, R_test, kin.N_up_choice(N), b_par = 1.0, b_orth = 1.0)\n",
    "plt.plot(np.arange(length), jastrow_array, label='Jastrow Factor',alpha=0.5)\n",
    "plt.legend()\n",
    "\n"
   ]
  },
  {
   "cell_type": "code",
   "execution_count": 3,
   "metadata": {},
   "outputs": [
    {
     "name": "stdout",
     "output_type": "stream",
     "text": [
      "Jastrow Laplacian (MB): 443.85942594869374\n",
      "Jastrow Laplacian (Comp): 443.8586415744794\n"
     ]
    }
   ],
   "source": [
    "importlib.reload(kin)\n",
    "importlib.reload(kin2)\n",
    "N = 6\n",
    "R_test = np.random.uniform(0, box_size, size=(N,2))\n",
    "jastrow_laplacian_mb = kin.jastrow_laplacian(N, kin.N_up_choice(N),R_test, b_par = 1.0, b_orth =1.0)\n",
    "jastrow_laplacian_mb_old = kin2.jastrow_laplacian(N, kin.N_up_choice(N),R_test, b_par = 1.0, b_orth =1.0)\n",
    "jastrow_laplacian_comp = kin.numerical_integrand(jastrow_J, N, R_test, return_laplacian = True)\n",
    "\n",
    "print(\"Jastrow Laplacian (MB):\", jastrow_laplacian_mb)\n",
    "print(\"Jastrow Laplacian (Comp):\", jastrow_laplacian_comp)"
   ]
  },
  {
   "cell_type": "markdown",
   "metadata": {},
   "source": [
    "is the numerical laplacian ill?"
   ]
  },
  {
   "cell_type": "code",
   "execution_count": 4,
   "metadata": {},
   "outputs": [
    {
     "name": "stdout",
     "output_type": "stream",
     "text": [
      "Numerical Laplacian: 0.05297437041980324\n",
      "Analytical Laplacian: 0.05297436987262432\n"
     ]
    }
   ],
   "source": [
    "def test_wavefunction(R, alpha=1.0):\n",
    "    r = R[0]\n",
    "    v = R[1]\n",
    "    x, y = r\n",
    "    z, w = v\n",
    "    return np.exp(-alpha * (x**2 + y**2)) * np.exp(-alpha * (z**2 + w**2))\n",
    "\n",
    "def analytical_laplacian(R, alpha=1.0):\n",
    "    r = R[0]\n",
    "    v = R[1]\n",
    "    x, y = r\n",
    "    z, w = v\n",
    "    psi = test_wavefunction(R, alpha)\n",
    "    return (4 * alpha**2 * (x**2 + y**2 + z**2 + w**2) - 8 * alpha) * psi\n",
    "\n",
    "R_test2 = np.random.uniform(0, box_size, size=(2, 2))  # Two particles in 2D\n",
    "numerical = kin.numerical_integrand(test_wavefunction, 2, R_test2, return_laplacian=True, h=1e-4)\n",
    "analytic = analytical_laplacian(R_test2, alpha=1.0)\n",
    "print(\"Numerical Laplacian:\", numerical)\n",
    "print(\"Analytical Laplacian:\", analytic)"
   ]
  },
  {
   "cell_type": "markdown",
   "metadata": {},
   "source": [
    "Second bit- gradient gradient term, check with numerics"
   ]
  },
  {
   "cell_type": "code",
   "execution_count": 419,
   "metadata": {},
   "outputs": [
    {
     "name": "stdout",
     "output_type": "stream",
     "text": [
      "Gradient gradient term, numeric: -1.9581991001300238e-05\n",
      "Gradient gradient term, gangsta: -1.958199100228118e-05\n"
     ]
    }
   ],
   "source": [
    "import numpy as np\n",
    "importlib.reload(kin)\n",
    "\n",
    "def numerical_gradient_i(f, R, i, h=1e-5):\n",
    "    \"\"\"\n",
    "    Compute gradient ∇_i f(R) w.r.t. particle i's coordinates in R (shape 2xN).\n",
    "\n",
    "    Parameters:\n",
    "    - f : callable, scalar function of R (shape (2,N))\n",
    "    - R : np.ndarray, shape (N,2), positions of particles\n",
    "    - i : int, index of the particle to differentiate with respect to\n",
    "    - h : float, finite difference step\n",
    "\n",
    "    Returns:\n",
    "    - grad_i : np.ndarray of shape (2,), [∂f/∂x_i, ∂f/∂y_i]\n",
    "    \"\"\"\n",
    "    grad_i = np.zeros(2)\n",
    "    \n",
    "    for dim in range(2):  # 0 for x, 1 for y\n",
    "        R_forward = R.copy()\n",
    "        R_backward = R.copy()\n",
    "        \n",
    "        R_forward[i,dim] += h\n",
    "        R_backward[i,dim] -= h\n",
    "\n",
    "        grad_i[dim] = (f(R_forward) - f(R_backward)) / (2 * h)\n",
    "\n",
    "    return grad_i\n",
    "\n",
    "sigma = 2.\n",
    "b1 = 2.\n",
    "b2 = 2 \n",
    "jastrow_J = lambda X: jastrow(N, X, kin.N_up_choice(N), b_par=b1, b_orth=b2)\n",
    "def grad_prod(R):\n",
    "    return kin2.total_wf(N,kin.N_up_choice(N),R,sigma,b_par=b1,b_orth=b2,return_A=False,jj=False)[0]\n",
    "\n",
    "\n",
    "\n",
    "grad_J = lambda R,i: numerical_gradient_i(jastrow_J,R,i)\n",
    "grad_det = lambda R,i: numerical_gradient_i(grad_prod,R,i)\n",
    "N=6\n",
    "R_test = np.random.uniform(0, box_size, size=(N,2))\n",
    "\n",
    "grad_grad_term = 0\n",
    "\n",
    "psi, det_up, det_down, A_up, A_down = kin2.total_wf(N,kin.N_up_choice(N),R_test,sigma,b_par=b1,b_orth=b2,return_A=True,jj=True)\n",
    "A_up_inv = kin.safe_invert_matrix(A_up)\n",
    "A_down_inv = kin.safe_invert_matrix(A_down)\n",
    "for i in range(N):\n",
    "    grad_J_eval = grad_J(R_test,i)\n",
    "    grad_det_eval = grad_det(R_test,i)\n",
    "    grad_grad_term += np.dot(grad_J_eval, grad_det_eval)\n",
    "grad_grad_term_mb = psi*kin.gradient_gradient_term(N, kin.N_up_choice(N), R_test,A_up_inv,A_down_inv, b_par=b1, b_orth=b2,sigma=sigma)\n",
    "\n",
    "print(\"Gradient gradient term, numeric:\", 2*grad_grad_term)\n",
    "print(\"Gradient gradient term, gangsta:\", grad_grad_term_mb)\n",
    "\n"
   ]
  },
  {
   "cell_type": "code",
   "execution_count": null,
   "metadata": {},
   "outputs": [],
   "source": []
  },
  {
   "cell_type": "code",
   "execution_count": 382,
   "metadata": {},
   "outputs": [
    {
     "name": "stdout",
     "output_type": "stream",
     "text": [
      "Particle 0 det_up value: [-0.0029437   0.00060825]\n",
      "particle 0 det_up value mb: [-0.0029437   0.00060825]\n",
      "particle 0 det_up value mb2: [-0.00048987 -0.00200608]\n",
      "Particle 1 det_up value: [-0.0027877 -0.005524 ]\n",
      "particle 1 det_up value mb: [-0.0027877 -0.005524 ]\n",
      "particle 1 det_up value mb2: [-0.00960975 -0.00480732]\n",
      "Particle 2 det_up value: [-0.00164853  0.00274174]\n",
      "particle 2 det_up value mb: [-0.00164853  0.00274174]\n",
      "particle 2 det_up value mb2: [0.00836559 0.00507937]\n",
      "Slater gradient term, numeric: [-0.00737992 -0.00217401]\n",
      "Slater gradient term, gangsta: [-0.00737992 -0.00217401]\n",
      "Slater gradient term, gangsta2: [-0.00173403 -0.00173403]\n"
     ]
    }
   ],
   "source": [
    "# stephy curry step back & see if at least the slater gradients agree :c\n",
    "importlib.reload(kin)\n",
    "det_up_f = lambda R: kin2.total_wf(N,kin.N_up_choice(N),R,sigma,b_par=1,b_orth=0.5,return_A=True,jj=True)[1]\n",
    "\n",
    "det_up_g = lambda R,i: numerical_gradient_i(det_up_f, R,i)\n",
    "\n",
    "N=5\n",
    "R_test = np.random.uniform(0, box_size, size=(N,2))\n",
    "N_up = kin.N_up_choice(N)\n",
    "psi, det_up, det_down, A_up, A_down = kin2.total_wf(N,kin.N_up_choice(N),R_test,sigma,b_par=1,b_orth=0.5,return_A=True,jj=True)\n",
    "A_up_inv = kin.safe_invert_matrix(A_up)\n",
    "A_down_inv = kin.safe_invert_matrix(A_down)\n",
    "grad_det_up_tot = np.zeros(2)\n",
    "grad_det_up_tot_mb = np.zeros(2)\n",
    "grad_det_up_tot_mb_2 = np.zeros(2)\n",
    "for i in range(N_up):\n",
    "    det_up_value = det_up_g(R_test,i)\n",
    "    det_up_value_mb = det_up*kin.slater_gradient(N_up, R_test[:N_up],A_up_inv, i, sigma)\n",
    "    det_up_value_mb_2 = det_up*kin3.slater_gradient(N_up, R_test[:N_up], i, sigma)\n",
    "    grad_det_up_tot += det_up_value\n",
    "    grad_det_up_tot_mb += det_up_value_mb\n",
    "    grad_det_up_tot_mb_2 += det_up_value_mb_2\n",
    "    print(\"Particle\", i, \"det_up value:\", det_up_value)\n",
    "    print(\"particle\", i, \"det_up value mb:\", det_up_value_mb)\n",
    "    print(\"particle\", i, \"det_up value mb2:\", det_up_value_mb_2)\n",
    "\n",
    "print(\"Slater gradient term, numeric:\", grad_det_up_tot)\n",
    "print(\"Slater gradient term, gangsta:\", grad_det_up_tot_mb)\n",
    "print(\"Slater gradient term, gangsta2:\", grad_det_up_tot_mb_2)\n"
   ]
  },
  {
   "cell_type": "code",
   "execution_count": 392,
   "metadata": {},
   "outputs": [
    {
     "name": "stdout",
     "output_type": "stream",
     "text": [
      "Particle 0: Numerical grad = [0.39000475 1.18514306], Analytical grad = [0.39000475 1.18514306]\n",
      "Particle 1: Numerical grad = [ 0.34058336 -2.12309627], Analytical grad = [ 0.34058336 -2.12309627]\n",
      "Particle 2: Numerical grad = [-0.9232479  -0.93831999], Analytical grad = [-0.9232479  -0.93831999]\n",
      "Particle 3: Numerical grad = [-2.36589444  1.43781175], Analytical grad = [-2.36589444  1.43781175]\n",
      "Particle 4: Numerical grad = [2.55855422 0.43846146], Analytical grad = [2.55855422 0.43846146]\n",
      "jastrow_grad [ 1.77635684e-10 -8.88181195e-11]\n",
      "jastrow_grad [3.10862447e-09 2.22044605e-09]\n",
      "jastrow_grad_mb [-4.44089210e-16 -1.11022302e-16]\n"
     ]
    }
   ],
   "source": [
    "# see if it is the goddamn Jastrow fucktor\n",
    "b_par = 1\n",
    "b_orth = 1\n",
    "N=5\n",
    "R_test = np.random.uniform(0, box_size, size=(N,2))\n",
    "N_up = kin.N_up_choice(N)\n",
    "jastrow_factor = lambda R: jastrow(N,R,N_up,b_par,b_orth)\n",
    "\n",
    "\n",
    "def jastrow_grad_anal(R,i):\n",
    "    jastrow_grad_piece = np.zeros(2)\n",
    "    for j in range(N):\n",
    "        if i == j:\n",
    "            continue\n",
    "        else:\n",
    "            rij = np.linalg.norm(R[i] - R[j])\n",
    "            spin_alignment = 1 if (i < N_up and j < N_up) or (i >= N_up and j >= N_up) else 0\n",
    "            aij = kin.a_ij(spin_alignment)\n",
    "            bij = kin.b_ij(spin_alignment, b_par, b_orth)\n",
    "            x = 1+bij*rij\n",
    "            jastrow_prefactor = aij/ x**2 \n",
    "            jastrow_grad_piece += jastrow_prefactor* (R[i]-R[j])/rij #this guy should be a vector\n",
    "    return jastrow_grad_piece \n",
    "\n",
    "jastrow_grad = np.zeros(2)\n",
    "jastrow_grad2 = np.zeros(2)\n",
    "jastrow_grad_mb = np.zeros(2)\n",
    "for i in range(N):\n",
    "    num_grad = numerical_gradient_i(jastrow_factor, R_test, i,h=1e-5)\n",
    "    num_grad2 = numerical_gradient_i(jastrow_factor, R_test, i,h=1e-6)\n",
    "    anal_grad = jastrow_grad_anal(R_test, i) * jastrow_factor(R_test)\n",
    "    jastrow_grad[0] += num_grad[0]\n",
    "    jastrow_grad[1] += num_grad[1]\n",
    "    jastrow_grad2[0] += num_grad2[0]\n",
    "    jastrow_grad2[1] += num_grad2[1]\n",
    "    jastrow_grad_mb[0] += anal_grad[0]\n",
    "    jastrow_grad_mb[1] += anal_grad[1]\n",
    "    print(f\"Particle {i}: Numerical grad = {num_grad}, Analytical grad = {anal_grad}\")\n",
    "\n",
    "print(\"jastrow_grad\",jastrow_grad)\n",
    "print(\"jastrow_grad\",jastrow_grad2)\n",
    "print(\"jastrow_grad_mb\", jastrow_grad_mb)"
   ]
  },
  {
   "cell_type": "code",
   "execution_count": 345,
   "metadata": {},
   "outputs": [
    {
     "name": "stdout",
     "output_type": "stream",
     "text": [
      "Single particle wf gradient, num [-0.03611185  0.01902281]\n",
      "Single particle wf gradient, mb [-0.03611185  0.01902281]\n"
     ]
    }
   ],
   "source": [
    "# single particle wf gradients\n",
    "importlib.reload(kin)\n",
    "sigma= 2\n",
    "phi = lambda m,R: kin.single_particle_wf(m,R,sigma=1)\n",
    "\n",
    "import numpy as np\n",
    "\n",
    "def gradient_phi_n(m, R, h=1e-6):\n",
    "    \"\"\"\n",
    "    Compute the gradient of the single-particle wavefunction ψ_m at position R.\n",
    "\n",
    "    Parameters:\n",
    "        m (int): angular momentum quantum number\n",
    "        R (np.ndarray): array of shape (2,) = [x, y]\n",
    "        sigma (float): Gaussian width parameter\n",
    "        h (float): step size for finite difference\n",
    "\n",
    "    Returns:\n",
    "        np.ndarray: gradient vector of shape (2,), possibly complex\n",
    "    \"\"\"\n",
    "    x, y = R\n",
    "\n",
    "    # Central difference in x\n",
    "    R_x_plus = np.array([x + h, y])\n",
    "    R_x_minus = np.array([x - h, y])\n",
    "    dψ_dx = (kin.single_particle_wf(m, R_x_plus, sigma) - kin.single_particle_wf(m, R_x_minus, sigma)) / (2 * h)\n",
    "\n",
    "    # Central difference in y\n",
    "    R_y_plus = np.array([x, y + h])\n",
    "    R_y_minus = np.array([x, y - h])\n",
    "    dψ_dy = (kin.single_particle_wf(m, R_y_plus, sigma) - kin.single_particle_wf(m, R_y_minus, sigma)) / (2 * h)\n",
    "\n",
    "    return np.array([dψ_dx, dψ_dy])\n",
    "\n",
    "r = np.random.uniform(0, box_size, size=(2,))\n",
    "m=-1\n",
    "print(\"Single particle wf gradient, num\", gradient_phi_n(m, r, h=1e-6))\n",
    "print(\"Single particle wf gradient, mb\", kin.gradient_single_particle_wf(m, r, sigma=sigma))\n"
   ]
  },
  {
   "cell_type": "code",
   "execution_count": null,
   "metadata": {},
   "outputs": [],
   "source": []
  }
 ],
 "metadata": {
  "kernelspec": {
   "display_name": "Python 3",
   "language": "python",
   "name": "python3"
  },
  "language_info": {
   "codemirror_mode": {
    "name": "ipython",
    "version": 3
   },
   "file_extension": ".py",
   "mimetype": "text/x-python",
   "name": "python",
   "nbconvert_exporter": "python",
   "pygments_lexer": "ipython3",
   "version": "3.13.5"
  }
 },
 "nbformat": 4,
 "nbformat_minor": 2
}
