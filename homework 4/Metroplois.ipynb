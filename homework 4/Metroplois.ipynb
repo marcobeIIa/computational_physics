{
 "cells": [
  {
   "cell_type": "code",
   "execution_count": 1,
   "id": "d4389115",
   "metadata": {},
   "outputs": [
    {
     "name": "stderr",
     "output_type": "stream",
     "text": [
      "/home/pippo/Università/Magistrale/Computational/Homework4/libraryMetropolis.py:454: SyntaxWarning: invalid escape sequence '\\s'\n",
      "  \"\"\"\n"
     ]
    }
   ],
   "source": [
    "import numpy as np\n",
    "import scipy\n",
    "import sys\n",
    "import math\n",
    "import scipy.special\n",
    "import scipy.constants as const\n",
    "from math import factorial\n",
    "from scipy.special import hermite\n",
    "import matplotlib.pyplot as plt\n",
    "import random\n",
    "\n",
    "from libraryMetropolis import delta_choice\n",
    "from libraryMetropolis import Metropolis\n"
   ]
  },
  {
   "cell_type": "code",
   "execution_count": 7,
   "id": "01277ad3",
   "metadata": {},
   "outputs": [],
   "source": [
    "sigma=1\n",
    "N=3\n",
    "N_up=1\n",
    "R = np.zeros((N,2))\n",
    "acc, counter=0,0\n",
    "for i in range(len(R)):\n",
    "    for j in range(len(R[0])):\n",
    "        R[i][j]=random.uniform(0,1)   #r[x o y][particella]\n",
    "        \n",
    "delta=1\n",
    "b_par = 1\n",
    "b_orth = 1\n",
    "jj= False       # use or not Jastrow\n",
    "moves=1000000\n",
    "Neq=int(moves*1/50)\n",
    "N_delta=10000\n",
    "acc_list = []\n",
    "\n"
   ]
  },
  {
   "cell_type": "code",
   "execution_count": 8,
   "id": "8a31db36",
   "metadata": {},
   "outputs": [
    {
     "name": "stdout",
     "output_type": "stream",
     "text": [
      "b=1,Δ=1.1\n"
     ]
    }
   ],
   "source": [
    "delta = delta_choice(N, N_up, R, sigma, b_par, b_orth, delta, counter, acc,N_delta,jj)\n",
    "\n",
    "for i in range(moves):\n",
    "    r,acc, counter = Metropolis(N, N_up, R, sigma, b_par, b_orth, delta, counter, acc ,jj)\n",
    "    \n",
    "\n",
    "    acc_list.append(acc/counter)\n",
    "\n",
    "\n",
    "print(f'b={sigma},\\u0394={round(delta,3)}')\n"
   ]
  },
  {
   "cell_type": "code",
   "execution_count": 9,
   "id": "d663fd1b",
   "metadata": {},
   "outputs": [
    {
     "data": {
      "text/plain": [
       "Text(0.5, 1.0, 'Acceptance rate')"
      ]
     },
     "execution_count": 9,
     "metadata": {},
     "output_type": "execute_result"
    },
    {
     "data": {
      "image/png": "[encoded data removed]",
      "text/plain": [
       "<Figure size 640x480 with 1 Axes>"
      ]
     },
     "metadata": {},
     "output_type": "display_data"
    }
   ],
   "source": [
    "plt.plot(np.array(range(moves)),acc_list)\n",
    "plt.title('Acceptance rate')"
   ]
  }
 ],
 "metadata": {
  "kernelspec": {
   "display_name": "Python 3",
   "language": "python",
   "name": "python3"
  },
  "language_info": {
   "codemirror_mode": {
    "name": "ipython",
    "version": 3
   },
   "file_extension": ".py",
   "mimetype": "text/x-python",
   "name": "python",
   "nbconvert_exporter": "python",
   "pygments_lexer": "ipython3",
   "version": "3.12.7"
  }
 },
 "nbformat": 4,
 "nbformat_minor": 5
}
