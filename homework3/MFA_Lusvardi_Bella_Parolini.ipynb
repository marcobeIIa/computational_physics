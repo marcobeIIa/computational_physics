{
 "cells": [
  {
   "cell_type": "code",
   "execution_count": 309,
   "id": "b8d34ed5",
   "metadata": {},
   "outputs": [],
   "source": [
    "import numpy as np\n",
    "import matplotlib.pyplot as plt\n",
    "import math\n",
    "from scipy.integrate import simpson"
   ]
  },
  {
   "cell_type": "markdown",
   "id": "14dd2420",
   "metadata": {},
   "source": [
    "The following cell is just to make timed calls of functions to see where we are wasting computational time"
   ]
  },
  {
   "cell_type": "code",
   "execution_count": 310,
   "id": "4551696d",
   "metadata": {},
   "outputs": [],
   "source": [
    "import time\n",
    "def timed_call(label, func, *args):\n",
    "    '''input:\n",
    "    label: str, label for the function being timed,\n",
    "    func: callable, function to be timed,\n",
    "    *args: positional arguments for the function,\n",
    "    '''\n",
    "    start = time.time()\n",
    "    result = func(*args)\n",
    "    print(f\"{label} took {time.time() - start:.6f} seconds\")\n",
    "    return result"
   ]
  },
  {
   "cell_type": "markdown",
   "id": "7e72a2fb",
   "metadata": {},
   "source": [
    "## MEAN FIELD METHOD"
   ]
  },
  {
   "cell_type": "markdown",
   "id": "a81bee24",
   "metadata": {},
   "source": [
    "In this relation we want to compute some ground state properties of a system of N particles described by the generic Hamiltonian:\n",
    "$$\n",
    "\\hat{H} = \\sum_{i=1}^{N} \\left( \\frac{-\\hbar^2}{2m} \\nabla^2_i + V_{\\text{ext}}(\\mathbf{r}_i) \\right) + \\frac{1}{2} \\sum_{i\\neq j} v(\\mathbf{r}_i, \\mathbf{r}_j)\n",
    "$$\n",
    "where $\\vec{r}_1 ... \\vec{r}_N$ are the coordinates of our N particles, $V_{ext}=\\frac{1}{2}m\\omega^2r^2$ is an harmonic external field and $v$ is the interaction potential which we suppose being\n",
    "$$\n",
    "v\\left( \\mathbf{r}, \\mathbf{r'} \\right) = 4\\pi \\frac{\\hbar^2}{m} a  \\delta(\\mathbf{r} - \\mathbf{r'})\n",
    "$$\n",
    "In the mean field approximation we assume that the wave function can be written as a product of single particle functions:\n",
    "$$\n",
    "\\Psi(\\mathbf{r}_1 \\dots \\mathbf{r}_N) = \\hat{P}_{s,a} \\phi_1(\\mathbf{r}_1) \\phi_2(\\mathbf{r}_2) \\dots \\phi_N(\\mathbf{r}_N)   \\quad\\quad\\quad  \\phi(\\mathbf{r})=\\frac{\\phi(r)}{r}\\frac{1}{\\sqrt{4 \\pi}}\n",
    "$$\n",
    "and since we want to model a boson system the permutation operator has the form\n",
    "$$\n",
    "\\hat{P}_s = \\frac{1}{\\sqrt{N!}} \\sum_{\\hat{P}} \\hat{P}\n",
    "$$\n",
    "To minimize the expectation value we use the variational method which, with the assumption of single particle wave function normalize to 1, leads to the Gross-Pitaevskij equation (GP):\n",
    "$$\n",
    "-\\dfrac{1}{2}\\dfrac{d^2}{dr^2}\\phi(r)+\\dfrac{1}{2}r^2\\phi(r)-\\dfrac{1}{2}\\dfrac{\\ell(\\ell+1)}{r^2}\\phi(r)+Na\\left(\\dfrac{\\phi(r)}{r}\\right)^2\\phi(r)=\\mu\\phi(r)\n",
    "$$\n",
    "where energies are expressed in units of $\\hbar\\omega$ and lengths are expressed in units of the harmonic oscillator length $a_{ho}=\\sqrt{\\frac{\\hbar}{m\\omega}}$. $\\phi(r)$ is the radial solution of the signle particle wave function.\n",
    "Since we are interested in the energy of the ground state we assume the particles in the s-wave state only (l=0) so that we have to solve\n",
    "$$\n",
    "-\\dfrac{1}{2}\\dfrac{d^2}{dr^2}\\phi(r)+\\dfrac{1}{2}r^2\\phi(r)+Na\\left(\\dfrac{\\phi(r)}{r}\\right)^2\\phi(r)=\\mu\\phi(r)\n",
    "$$\n",
    "By defyning $k^2=2\\mu-r^2-2Na\\left(\\dfrac{\\phi(r)}{r}\\right)^2$ we can recast the last equation as\n",
    "$$\n",
    "\\dfrac{d^2}{dr^2}\\phi(r)+k^2 \\phi(r)=0\n",
    "$$\n",
    "which can be solved using Numerov algorithm."
   ]
  },
  {
   "cell_type": "markdown",
   "id": "f45734b2",
   "metadata": {},
   "source": [
    "# Numerov algorithm and matching"
   ]
  },
  {
   "cell_type": "code",
   "execution_count": 311,
   "id": "07e652ce",
   "metadata": {},
   "outputs": [],
   "source": [
    "# Numerov algorithm\n",
    "def numerov(psi_p, psi_c, i, k, h):\n",
    "    '''Input: previous wavefunction value psi_p, current wavefunction value psi_c, index, K array, step size h'''\n",
    "    psi_next = (-psi_p*(1+h**2/12*k[i-1])+2*psi_c*(1-(5*h**2)/12*k[i]))/((1+h**2/12*k[i+1]))\n",
    "    return psi_next\n",
    "\n",
    "from numba import njit  # Import the Numba JIT compiler\n",
    "\n",
    "@njit(fastmath=True)\n",
    "#do not use numerov_fast. it is much slower than normal numerov despite the name ^_^\n",
    "def numerov_fast(psi_p, psi_c, i, k, h):\n",
    "    \"\"\"\n",
    "    Input: Same as original\n",
    "    \"\"\"\n",
    "    h12 = h**2 / 12  # Pre-compute constant\n",
    "    k_im1 = k[i-1]    # Load values once\n",
    "    k_i = k[i]\n",
    "    k_ip1 = k[i+1]\n",
    "    \n",
    "    numerator = (-psi_p * (1 + h12 * k_im1) + \n",
    "                 2 * psi_c * (1 - 5 * h12 * k_i))\n",
    "    denominator = (1 + h12 * k_ip1)\n",
    "    \n",
    "    return numerator / denominator"
   ]
  },
  {
   "cell_type": "code",
   "execution_count": 312,
   "id": "d03a28d9",
   "metadata": {},
   "outputs": [],
   "source": [
    "#wavwfunction normalization\n",
    "def normalization(psi, h):\n",
    "    '''Input: wavefunction psi, step size h''' \n",
    "    psi_squared_integrated = np.sum(np.abs(psi)**2) * h # integrate |psi|^2 over the range\n",
    "    normalization_constant = 1/np.sqrt(psi_squared_integrated) # normalization factor\n",
    "    return np.array(psi)*normalization_constant # normalized wavefunction"
   ]
  },
  {
   "cell_type": "markdown",
   "id": "a7f13f32",
   "metadata": {},
   "source": [
    "For computational stability we decide to implement Numerov's algorithm only for $R(r)^{n\\ell}$ (in the previous paragraph $\\phi(r)$), the radial part of the wavefunction \n",
    "$$\n",
    "\\psi(r, \\theta, \\phi) = \\frac{R(r)^{n\\ell}}{r} Y_{\\ell m}(\\theta,\\phi)\n",
    "$$\n",
    "When the total wavefunction is required we will simpli divide by $r$"
   ]
  },
  {
   "cell_type": "code",
   "execution_count": 313,
   "id": "28fde0ff",
   "metadata": {},
   "outputs": [],
   "source": [
    "# Finding the solution forward\n",
    "def forward_solution(r,E,N,v,h):\n",
    "  '''Input: r array, energy E, number of points N, potential v array, step size h'''\n",
    "  #energy E is a scalar\n",
    "  phi=[]\n",
    "  phi.append(0)\n",
    "  phi.append(h)\n",
    "\n",
    "  K=[]\n",
    "  for j in range(N):\n",
    "    K.append(2*E-r[j]**2-v[j])\n",
    "\n",
    "  for i in range(1,N-1,1):\n",
    "    phi.append(numerov(phi[i-1],phi[i],i,K,h))\n",
    "\n",
    "  return phi\n",
    "\n",
    "#Findind the solution backward\n",
    "def backward_solution(r,E,N,v,h):\n",
    "  '''Input: r array, energy E, number of points N, potential v array, step size h'''\n",
    "  #energy E is a scalar\n",
    "  \n",
    "  #To find the solution backward, we need to reverse the order of the r and psi arrays to use the Numerov algorithm\n",
    "  r = r[::-1]\n",
    "  phi_=[]\n",
    "\n",
    "  phi=[] #initializing the tail\n",
    "  phi.append(math.exp(-0.5*(r[0])**2))\n",
    "  phi.append(math.exp(-0.5*(r[1])**2))\n",
    "\n",
    "  K=[]\n",
    "  for j in range(N):\n",
    "    K.append(2*E-r[j]**2-v[j])\n",
    "\n",
    "  for i in range(1,N-1,1):\n",
    "    phi.append(numerov(phi[i-1],phi[i],i,K,h))\n",
    "\n",
    "  phi_.append(phi[::-1])\n",
    "  return phi_"
   ]
  },
  {
   "cell_type": "code",
   "execution_count": 314,
   "id": "ea68c732",
   "metadata": {},
   "outputs": [],
   "source": [
    "# Testing the Numerov algorithm\n",
    "N_test = 5000\n",
    "L_test = 5\n",
    "numerov_test_h = L_test/N_test\n",
    "\n",
    "numerov_test_E = 1.5 # forward_solution and backward_solution read energy as a scalar\n",
    "numerov_test_E_array = [1.5] # forward_solution and backward_solution read energy as a scalar\n",
    "#Na = 0\n",
    "\n",
    "r_test = np.linspace(0.0001, L_test, N_test) # r values from 0 to L with N points\n",
    "\n",
    "numerov_test_v = np.zeros(N_test)\n",
    "numerov_test_psi = np.zeros(N_test) # initialize the wavefunction array\n",
    "#for j in range(N):\n",
    "    #v.append(2*Na*(psi[j]**2/r[j]**2))"
   ]
  },
  {
   "cell_type": "code",
   "execution_count": 315,
   "id": "e13e94e0",
   "metadata": {},
   "outputs": [
    {
     "data": {
      "text/plain": [
       "<matplotlib.legend.Legend at 0x7ff6c9f5f710>"
      ]
     },
     "execution_count": 315,
     "metadata": {},
     "output_type": "execute_result"
    },
    {
     "data": {
      "image/png": "[encoded data removed]",
      "text/plain": [
       "<Figure size 640x480 with 1 Axes>"
      ]
     },
     "metadata": {},
     "output_type": "display_data"
    }
   ],
   "source": [
    "plt.plot(r_test,normalization(forward_solution(r_test,numerov_test_E,N_test,numerov_test_v,numerov_test_h),numerov_test_h),label='Numerov forward solution')\n",
    "plt.plot(r_test,normalization(backward_solution(r_test,numerov_test_E,N_test,numerov_test_v,numerov_test_h)[0],numerov_test_h),label='Numerov backward solution')\n",
    "plt.legend()"
   ]
  },
  {
   "cell_type": "markdown",
   "id": "8566c0f6",
   "metadata": {},
   "source": [
    "We do see how the how the solution obtained with the forward procedure diverges, a matching is required.\n",
    "We choose the classical inversion point for an harmonic potential which is the coordinate that satisfy $V(r)=E$. It can be proven that we are in a zone where the solution is smooth with no nodes."
   ]
  },
  {
   "cell_type": "code",
   "execution_count": 316,
   "id": "b4795b0c",
   "metadata": {},
   "outputs": [],
   "source": [
    "def index_inversion_point(r,r_inversion):\n",
    "    '''Input: r array, inversion point r_inversion'''\n",
    "    difference = np.abs(r - r_inversion)\n",
    "    index = np.argmin(difference)\n",
    "    return index\n",
    "    \n",
    "def log_der(left_psi,right_psi,index):\n",
    "    '''Input: left wavefunction, right wavefunction, index of the inversion point'''\n",
    "    left_der = np.gradient(left_psi,h)[index]\n",
    "    right_der = np.gradient(right_psi,h)[index]\n",
    "    value = left_der / left_psi[index] - right_der / right_psi[index]\n",
    "    return value    "
   ]
  },
  {
   "cell_type": "markdown",
   "id": "4b46f88e",
   "metadata": {},
   "source": [
    "The potential is"
   ]
  },
  {
   "cell_type": "code",
   "execution_count": 317,
   "id": "1cc8747c",
   "metadata": {},
   "outputs": [],
   "source": [
    "def interaction(r, Na, phi): #interaction potential\n",
    "    if Na == 0:\n",
    "        return np.zeros(len(r))\n",
    "    else:\n",
    "        return (2*Na*(np.array(phi)**2/np.array(r)**2))\n",
    "\n",
    "def mixing(v_old,v_new,alpha): #mixing function (for later use)\n",
    "    v_old = np.array(v_old)\n",
    "    v_new = np.array(v_new)\n",
    "    return alpha*v_new + (1-alpha)*v_old"
   ]
  },
  {
   "cell_type": "code",
   "execution_count": 318,
   "id": "84e72261",
   "metadata": {},
   "outputs": [],
   "source": [
    "def matching(E, r, N, h, Na,phi=None):\n",
    "    '''Input: energy E, r array, initial wavefunction phi_guess, number of points N, Na, step size h'''\n",
    "    #here the energy has to be an array!\n",
    "    if Na == 0:\n",
    "        v = np.zeros(N) \n",
    "    elif Na != 0 and phi is None:\n",
    "        raise ValueError(\"Argument 'phi' is required when Na != 0\")\n",
    "    else:\n",
    "        v = interaction(r, Na, phi) #potential array\n",
    "    \n",
    "    xi = [] #here we save the mismatch values\n",
    "    phi_normalized = [] #here we save the normalized wavefunctions\n",
    "\n",
    "    for x in range(len(E)): #for each energy we calculate the matching\n",
    "\n",
    "        energy = E[x] #savign the value of the energy\n",
    "        r_k = np.sqrt(2*energy) #ideal inversion point\n",
    "\n",
    "        left_phi = forward_solution(r,energy,N,v,h)\n",
    "        right_phi = backward_solution(r,energy,N,v,h)[0]\n",
    "        index = index_inversion_point(r,r_k)\n",
    "        value = log_der(left_phi,right_phi,index)\n",
    "        xi.append(value)\n",
    "\n",
    "        #ratio of the wavefunctions at the inversion point to match amplitudes\n",
    "        ratio = left_phi[index] / right_phi[index] \n",
    "        \n",
    "        #wavefunction might have different signs \n",
    "        if left_phi[index] / right_phi[index] < 0: \n",
    "            ratio = -ratio\n",
    "            right_phi = ratio * np.array(right_phi)\n",
    "        else:\n",
    "            right_phi = ratio * np.array(right_phi)\n",
    "\n",
    "        #matching the wavefunctions\n",
    "        phi= []\n",
    "        phi.append(left_phi[:index])\n",
    "        phi.append(right_phi[index:])\n",
    "        phi = np.concatenate(phi)\n",
    "\n",
    "        phi_normalized = normalization(phi, h)\n",
    "\n",
    "\n",
    "    return phi_normalized , xi"
   ]
  },
  {
   "cell_type": "code",
   "execution_count": 341,
   "id": "d269d69d",
   "metadata": {},
   "outputs": [
    {
     "name": "stdout",
     "output_type": "stream",
     "text": [
      "Normalization of the wavefunction:  0.999999999999999\n"
     ]
    },
    {
     "data": {
      "image/png": "[encoded data removed]",
      "text/plain": [
       "<Figure size 640x480 with 1 Axes>"
      ]
     },
     "metadata": {},
     "output_type": "display_data"
    }
   ],
   "source": [
    "numerov_test_E_array = [1.5] # forward_solution and backward_solution read energy as a scalar\n",
    "\n",
    "plt.plot(r_test,matching(numerov_test_E_array, r_test, N_test, numerov_test_h, 0)[0],label='Combined solution')\n",
    "plt.plot(r_test,np.pi**(-0.25)*np.exp(-0.5*np.array(r_test)**2)*2*np.array(r_test),label='Analytic result')\n",
    "plt.legend()\n",
    "print(\"Normalization of the wavefunction: \", sum(np.abs(matching(numerov_test_E_array, r_test, N_test, numerov_test_h,0)[0])**2 * numerov_test_h))"
   ]
  },
  {
   "cell_type": "markdown",
   "id": "d38540b3",
   "metadata": {},
   "source": [
    "# Solving GP \n",
    "We can now proceed to find the ground state of a gas of cold atoms (ℓ=0) "
   ]
  },
  {
   "cell_type": "code",
   "execution_count": 320,
   "id": "f15eff1f",
   "metadata": {},
   "outputs": [],
   "source": [
    "def GP(E,r,N,h,Na, phi=None):\n",
    "    '''Input: E = array of trial energies'''\n",
    "    eigenvalue = []\n",
    "    eigenfunction = []\n",
    "\n",
    "    xi= matching(E, r, N, h, Na, phi)[1]\n",
    "\n",
    "    eigenvalue = []\n",
    "    eigenfunction = []\n",
    "\n",
    "    for i in range(len(E) - 1):\n",
    "        if xi[i] * xi[i+1] < 0:\n",
    "            energies = np.linspace(E[i], E[i+1], 100)\n",
    "            finer_xi = matching(energies, r, N, h, Na, phi)[1]\n",
    "            \n",
    "            for j in range(1, len(energies)):\n",
    "                if finer_xi[j-1] * finer_xi[j] < 0:\n",
    "                    eigenvalue.append(energies[j])\n",
    "                    eigenfunction.append(matching([energies[j-1]], r, N, h,Na,phi)[0])\n",
    "                    break  # break inner loop\n",
    "            break  # break outer loop\n",
    "\n",
    "    return eigenvalue, eigenfunction"
   ]
  },
  {
   "cell_type": "code",
   "execution_count": 321,
   "id": "c1fe15c7",
   "metadata": {},
   "outputs": [],
   "source": [
    "E_array_serious = np.linspace(0.1, 5, 100)\n",
    "\n",
    "eigenvalue0, eigenfunction0 = GP(E_array_serious,r_test,N_test,numerov_test_h,0)"
   ]
  },
  {
   "cell_type": "code",
   "execution_count": 322,
   "id": "5aeb9fe6",
   "metadata": {},
   "outputs": [
    {
     "name": "stdout",
     "output_type": "stream",
     "text": [
      "Eigenvalue: 1.5008570554\n"
     ]
    }
   ],
   "source": [
    "print(f\"Eigenvalue: {float(eigenvalue0[0]):.10f}\")"
   ]
  },
  {
   "cell_type": "code",
   "execution_count": 323,
   "id": "944c26a7",
   "metadata": {},
   "outputs": [
    {
     "data": {
      "text/plain": [
       "Text(0.5, 1.0, 'Harmonic Oscillator ground state wavefunction')"
      ]
     },
     "execution_count": 323,
     "metadata": {},
     "output_type": "execute_result"
    },
    {
     "data": {
      "image/png": "[encoded data removed]",
      "text/plain": [
       "<Figure size 640x480 with 1 Axes>"
      ]
     },
     "metadata": {},
     "output_type": "display_data"
    }
   ],
   "source": [
    "plt.plot(r_test,normalization(eigenfunction0[0]/r_test,numerov_test_h),label=f\"E={float(eigenvalue0[0]):.4f}, Numerov\") #still normalized??\n",
    "plt.xlim(0.05,5)\n",
    "plt.legend()\n",
    "plt.title('Harmonic Oscillator ground state wavefunction')"
   ]
  },
  {
   "cell_type": "markdown",
   "id": "d21d3710",
   "metadata": {},
   "source": [
    "We plot now the density of the system for $N_A$ particles"
   ]
  },
  {
   "cell_type": "code",
   "execution_count": 324,
   "id": "71250fba",
   "metadata": {},
   "outputs": [],
   "source": [
    "N_A = 6.02214076e23\n",
    "\n",
    "rho = N_A * eigenfunction0[0]**2 / np.array(r_test)**2"
   ]
  },
  {
   "cell_type": "code",
   "execution_count": 325,
   "id": "74c0fdfd",
   "metadata": {},
   "outputs": [
    {
     "data": {
      "text/plain": [
       "<matplotlib.legend.Legend at 0x7ff6c9946cf8>"
      ]
     },
     "execution_count": 325,
     "metadata": {},
     "output_type": "execute_result"
    },
    {
     "data": {
      "image/png": "[encoded data removed]",
      "text/plain": [
       "<Figure size 640x480 with 1 Axes>"
      ]
     },
     "metadata": {},
     "output_type": "display_data"
    }
   ],
   "source": [
    "plt.plot(r_test,rho,label='Density')\n",
    "plt.xlim(0.01,3)\n",
    "plt.legend()"
   ]
  },
  {
   "cell_type": "markdown",
   "id": "d15c8ffe",
   "metadata": {},
   "source": [
    "## Flowchart for the self-consistent solution of the mean field equations (both GP and HF)\n",
    "\n",
    "1) Guess initial reasonable function $\\phi$\n",
    "2) Evaluate the effective potential $v$ ,which contains both the terms $V_{ext}(\\vec{r})$ and $v(\\vec{r},\\vec{r}')$, and if this is not the first step combine it with the one of th eprevious iteration as $v_{new}=\\alpha v_{new}+(1-\\alpha)v_{old}$\n",
    "3) Solve HF-GP and get a $\\phi_{new}$ to calculate the energy\n",
    "4) If the energy satisfy convergence criteria stop, otherwise go back to 2. and solve the potential with $\\phi_{new}$ to get a new effective potential $v_{new}$"
   ]
  },
  {
   "cell_type": "markdown",
   "id": "8b8bfca2",
   "metadata": {},
   "source": [
    "Since now we are goign to set $Na\\neq 0$ another term will enter the potential and phi_guess starts to be fundamental.\n",
    "To test the convergence we choose a threshold $\\epsilon = 0.0001$, thus the self-consistent iteration will proceed until $\\Delta E < \\epsilon$.\n",
    "We need now to discuss how to evaluate the energy at each step. There are two possible ways.\n",
    "\n",
    "The first way to evaluating the energy is through the evaluation of the energy functional:\n",
    "$$ \\frac{E[\\phi]}{N}=-\\dfrac{1}{2}∫ ϕ(r)\\left(\\dfrac{d^2}{dr^2}\\phi(r)\\right) dr + \\dfrac{1}{2}∫|ϕ(r)|^2 r^2 dr+ \\dfrac{1}{2}Na\\int|\\phi(r)|^2\\left(\\dfrac{\\phi(r)}{r}\\right)^2 dr\n",
    "$$\n",
    "\n",
    "The second one comes from the meaning of the eigenvalue $\\mu$, thus:\n",
    "$$\\frac{E_{\\mu}}{N}=\\mu-E_{int}=\\mu-\\dfrac{1}{2}Na\\int_0^{\\infty}|\\phi(r)|^2\\left(\\dfrac{\\phi(r)}{r}\\right)^2\\,dr\\,.$$\n",
    "where $\\phi$ is the radial part of the wavefunction, obtained in the solution of the GP equation."
   ]
  },
  {
   "cell_type": "code",
   "execution_count": 326,
   "metadata": {},
   "outputs": [
    {
     "name": "stdout",
     "output_type": "stream",
     "text": [
      "Total energy: 1.5006524049\n"
     ]
    }
   ],
   "source": [
    "def total_energy(r_0,psi,h,Na):\n",
    "    A = np.array(psi)  \n",
    "    r = np.array(r_0) \n",
    "\n",
    "    #first and second derivatives\n",
    "    A_prime = np.gradient(A, h)\n",
    "    A_second = np.gradient(A_prime, h)\n",
    "\n",
    "    #calculating the functionqal energy\n",
    "    functional_energy = -0.5*simpson(A*A_second,r,dx=h) + 0.5*simpson(A**2*r**2,r,dx=h) + 0.5*Na*simpson(A**4/r**2,r,dx=h)\n",
    "\n",
    "    return functional_energy\n",
    "\n",
    "total_energy_eval = total_energy(r_test,eigenfunction0[0],numerov_test_h,0)\n",
    "print(f\"Total energy: {total_energy_eval:.10f}\")"
   ]
  },
  {
   "cell_type": "code",
   "execution_count": 327,
   "id": "c9ef69d8",
   "metadata": {},
   "outputs": [
    {
     "name": "stdout",
     "output_type": "stream",
     "text": [
      "Total energy: 1.5008570554025102\n"
     ]
    }
   ],
   "source": [
    "def total_energy_mu(r,psi,h,eigenvalue,Na):\n",
    "    A = np.array(psi)  \n",
    "    r = np.array(r) \n",
    "\n",
    "    total_energy = eigenvalue -  0.5*Na*simpson(A**4/r**2,r,dx=h)\n",
    "\n",
    "    return total_energy\n",
    "\n",
    "total_energy1 = total_energy_mu(r_test,eigenfunction0[0],numerov_test_h,eigenvalue0[0],0)\n",
    "print(f\"Total energy: {total_energy1}\")\n"
   ]
  },
  {
   "cell_type": "markdown",
   "id": "0ea53efc",
   "metadata": {},
   "source": [
    "Now we add the potential"
   ]
  },
  {
   "cell_type": "code",
   "execution_count": 289,
   "id": "bafa636f",
   "metadata": {},
   "outputs": [],
   "source": []
  },
  {
   "cell_type": "code",
   "execution_count": 343,
   "id": "dc2b8111",
   "metadata": {},
   "outputs": [],
   "source": [
    "def GP_recursion(Na,alpha, N, r,h, eigenfunction): \n",
    "\n",
    "    DeltaEnergy = 10\n",
    "    DeltaEnergyPrevious = 10\n",
    "    threshold = 0.0001\n",
    "\n",
    "    E = np.linspace(1,3,100)\n",
    "    energy = []\n",
    "\n",
    "    phi_old = eigenfunction[0]\n",
    "    phi_new = []\n",
    "\n",
    "    \n",
    "    #evaluatong the energy\n",
    "    energy.append(total_energy(r,eigenfunction[0],h,Na))\n",
    "\n",
    "    count = 1 #keep track of the eigenvalues to determine DeltaEnergy\n",
    "\n",
    "    while DeltaEnergy > threshold or np.abs(DeltaEnergy-DeltaEnergyPrevious) > threshold:\n",
    "\n",
    "        phi_new = GP(E,r,N,h,Na,phi_old)[1][0]\n",
    "\n",
    "        v_old = interaction(r,Na,phi_old)\n",
    "        v_new = interaction(r,Na,phi_new)\n",
    "\n",
    "        v = mixing(v_old,v_new,alpha)\n",
    "\n",
    "        energy.append(total_energy(r,phi_new,h,Na))\n",
    "\n",
    "        DeltaEnergy = np.abs(energy[count] - energy[count-1])\n",
    "        #DeltaEnergy = np.abs(energy[count] - energy_mu[count])\n",
    "        DeltaEnergyPrevious = np.abs(energy[count-1] - energy[count-2])\n",
    "        #DeltaEnergyPrevious = np.abs(energy[count] - energy_mu[count])\n",
    "\n",
    "\n",
    "        #print(eigenvalues[count],DeltaEnergy)     functional_energy[count]\n",
    "\n",
    "        print(energy[count],DeltaEnergy) \n",
    "        \n",
    "        phi_old = np.array(phi_new)\n",
    "        count += 1\n",
    "    return phi_new, energy, count"
   ]
  },
  {
   "cell_type": "code",
   "execution_count": 344,
   "id": "e4306cc9",
   "metadata": {},
   "outputs": [],
   "source": [
    "L = 10\n",
    "N = 500\n",
    "\n",
    "h = L/N\n",
    "\n",
    "r = np.linspace(0.0000001, L, N) # r values from 0 to L with N points"
   ]
  },
  {
   "cell_type": "code",
   "execution_count": 345,
   "id": "fdf97368",
   "metadata": {},
   "outputs": [
    {
     "name": "stdout",
     "output_type": "stream",
     "text": [
      "1.8423483217600702 0.06266203780329804\n",
      "1.8256507206591008 0.016697601100969406\n",
      "1.8205191711420783 0.005131549517022549\n",
      "1.8184075117964258 0.0021116593456524946\n",
      "1.8179611049575948 0.00044640683883101495\n",
      "1.8176515380214768 0.0003095669361179443\n",
      "1.8176486628571682 2.875164308635547e-06\n",
      "1.8175874589390848 6.120391808339676e-05\n",
      "[0.00000000e+00 2.26555073e-02 4.52961982e-02 6.79072607e-02\n",
      " 9.04738903e-02 1.12981295e-01 1.35414698e-01 1.57759343e-01\n",
      " 1.80000499e-01 2.02123465e-01 2.24113572e-01 2.45956193e-01\n",
      " 2.67636744e-01 2.89140693e-01 3.10453564e-01 3.31560946e-01\n",
      " 3.52448496e-01 3.73101951e-01 3.93507136e-01 4.13649966e-01\n",
      " 4.33516464e-01 4.53092766e-01 4.72365130e-01 4.91319951e-01\n",
      " 5.09943771e-01 5.28223290e-01 5.46145382e-01 5.63697104e-01\n",
      " 5.80865717e-01 5.97638697e-01 6.14003749e-01 6.29948831e-01\n",
      " 6.45462164e-01 6.60532252e-01 6.75147903e-01 6.89298248e-01\n",
      " 7.02972756e-01 7.16161261e-01 7.28853979e-01 7.41041528e-01\n",
      " 7.52714953e-01 7.63865748e-01 7.74485872e-01 7.84567778e-01\n",
      " 7.94104431e-01 8.03089331e-01 8.11516536e-01 8.19380678e-01\n",
      " 8.26676991e-01 8.33401325e-01 8.39550169e-01 8.45120668e-01\n",
      " 8.50110639e-01 8.54518592e-01 8.58343738e-01 8.61586009e-01\n",
      " 8.64246066e-01 8.66325312e-01 8.67825897e-01 8.68750729e-01\n",
      " 8.69103475e-01 8.68888565e-01 8.68111194e-01 8.66777316e-01\n",
      " 8.64893645e-01 8.62467642e-01 8.59507513e-01 8.56022193e-01\n",
      " 8.52021332e-01 8.47515281e-01 8.42515075e-01 8.37032404e-01\n",
      " 8.31079601e-01 8.24669607e-01 8.17815949e-01 8.10532707e-01\n",
      " 8.02834486e-01 7.94736379e-01 7.86253935e-01 7.77403120e-01\n",
      " 7.68200282e-01 7.58662112e-01 7.48805599e-01 7.38647998e-01\n",
      " 7.28206781e-01 7.17499598e-01 7.06544238e-01 6.95358584e-01\n",
      " 6.83960569e-01 6.72368142e-01 6.60599217e-01 6.48671643e-01\n",
      " 6.36603158e-01 6.24411350e-01 6.12113626e-01 5.99727170e-01\n",
      " 5.87268911e-01 5.74755490e-01 5.62203228e-01 5.49628099e-01\n",
      " 5.37045698e-01 5.24471219e-01 5.11894408e-01 4.99328604e-01\n",
      " 4.86789978e-01 4.74294033e-01 4.61855595e-01 4.49488810e-01\n",
      " 4.37207136e-01 4.25023348e-01 4.12949532e-01 4.00997090e-01\n",
      " 3.89176745e-01 3.77498543e-01 3.65971861e-01 3.54605419e-01\n",
      " 3.43407283e-01 3.32384881e-01 3.21545013e-01 3.10893864e-01\n",
      " 3.00437019e-01 2.90179477e-01 2.80125667e-01 2.70279465e-01\n",
      " 2.60644212e-01 2.51222729e-01 2.42017338e-01 2.33029880e-01\n",
      " 2.24261732e-01 2.15713829e-01 2.07386683e-01 1.99280401e-01\n",
      " 1.91394705e-01 1.83728954e-01 1.76282159e-01 1.69053008e-01\n",
      " 1.62039881e-01 1.55240871e-01 1.48653803e-01 1.42276252e-01\n",
      " 1.36105560e-01 1.30138856e-01 1.24373074e-01 1.18804966e-01\n",
      " 1.13431122e-01 1.08247987e-01 1.03251871e-01 9.84389705e-02\n",
      " 9.38053794e-02 8.93471037e-02 8.50600746e-02 8.09401618e-02\n",
      " 7.69831855e-02 7.31849279e-02 6.95411447e-02 6.60475750e-02\n",
      " 6.26999518e-02 5.94940110e-02 5.64255002e-02 5.34901873e-02\n",
      " 5.06838678e-02 4.80023722e-02 4.54415725e-02 4.29973883e-02\n",
      " 4.06657928e-02 3.84428175e-02 3.63245571e-02 3.43071737e-02\n",
      " 3.23869007e-02 3.05600461e-02 2.88229954e-02 2.71722142e-02\n",
      " 2.56042506e-02 2.41157371e-02 2.27033918e-02 2.13640199e-02\n",
      " 2.00945147e-02 1.88918580e-02 1.77531207e-02 1.66754627e-02\n",
      " 1.56561333e-02 1.46924701e-02 1.37818994e-02 1.29219346e-02\n",
      " 1.21101762e-02 1.13443100e-02 1.06221067e-02 9.94141991e-03\n",
      " 9.30018514e-03 8.69641826e-03 8.12821381e-03 7.59374336e-03\n",
      " 7.09125378e-03 6.61906539e-03 6.17557011e-03 5.75922959e-03\n",
      " 5.36857323e-03 5.00219625e-03 4.65875771e-03 4.33697852e-03\n",
      " 4.03563944e-03 3.75357910e-03 3.48969202e-03 3.24292665e-03\n",
      " 3.01228338e-03 2.79681268e-03 2.59561313e-03 2.40782956e-03\n",
      " 2.23265126e-03 2.06931008e-03 1.91707875e-03 1.77526910e-03\n",
      " 1.64323036e-03 1.52034757e-03 1.40603990e-03 1.29975916e-03\n",
      " 1.20098825e-03 1.10923972e-03 1.02405430e-03 9.44999604e-04\n",
      " 8.71668748e-04 8.03679094e-04 7.40671018e-04 6.82306724e-04\n",
      " 6.28269104e-04 5.78260649e-04 5.32002398e-04 4.89232930e-04\n",
      " 4.49707407e-04 4.13196650e-04 3.79486262e-04 3.48375784e-04\n",
      " 3.19677901e-04 2.93217673e-04 2.68831812e-04 2.46367989e-04\n",
      " 2.25684178e-04 2.06648033e-04 1.89136295e-04 1.73034229e-04\n",
      " 1.58235098e-04 1.44639655e-04 1.32155669e-04 1.20697475e-04\n",
      " 1.10185549e-04 1.00546108e-04 9.17107306e-05 8.36160039e-05\n",
      " 7.62031853e-05 6.94178885e-05 6.32097868e-05 5.75323343e-05\n",
      " 5.23425048e-05 4.76005460e-05 4.32697498e-05 3.93162365e-05\n",
      " 3.57087531e-05 3.24184847e-05 2.94188778e-05 2.66854752e-05\n",
      " 2.41957624e-05 2.19290236e-05 1.98662078e-05 1.79898039e-05\n",
      " 1.62837243e-05 1.47331966e-05 1.33246631e-05 1.20456872e-05\n",
      " 1.08848660e-05 9.83175006e-06 8.87676833e-06 8.01115854e-06\n",
      " 7.22690299e-06 6.51666885e-06 5.87375300e-06 5.29203097e-06\n",
      " 4.76590973e-06 4.29028413e-06 3.86049657e-06 3.47229991e-06\n",
      " 3.12182313e-06 2.80553979e-06 2.52023888e-06 2.26299807e-06\n",
      " 2.03115901e-06 1.82230468e-06 1.63423853e-06 1.46496534e-06\n",
      " 1.31267364e-06 1.17571958e-06 1.05261211e-06 9.41999485e-07\n",
      " 8.42656766e-07 7.53474505e-07 6.73448316e-07 6.01669361e-07\n",
      " 5.37315653e-07 4.79644109e-07 4.27983294e-07 3.81726802e-07\n",
      " 3.40327214e-07 3.03290594e-07 2.70171478e-07 2.40568299e-07\n",
      " 2.14119240e-07 1.90498444e-07 1.69412584e-07 1.50597737e-07\n",
      " 1.33816547e-07 1.18855650e-07 1.05523342e-07 9.36474548e-08\n",
      " 8.30734417e-08 7.36626365e-08 6.52906798e-08 5.78460946e-08\n",
      " 5.12289982e-08 4.53499375e-08 4.01288374e-08 3.54940503e-08\n",
      " 3.13814989e-08 2.77339029e-08 2.45000811e-08 2.16343234e-08\n",
      " 1.90958248e-08 1.68481753e-08 1.48589018e-08 1.30990553e-08\n",
      " 1.15428408e-08 1.01672835e-08 8.95193056e-09 7.87858186e-09\n",
      " 6.93104966e-09 6.09494257e-09 5.35747197e-09 4.70727872e-09\n",
      " 4.13427794e-09 3.62952012e-09 3.18506691e-09 2.79388005e-09\n",
      " 2.44972215e-09 2.14706802e-09 1.88102561e-09 1.64726539e-09\n",
      " 1.44195737e-09 1.26171503e-09 1.10354530e-09 9.64804026e-10\n",
      " 8.43156364e-10 7.36541515e-10 6.43141375e-10 5.61352673e-10\n",
      " 4.89762220e-10 4.27124927e-10 3.72344307e-10 3.24455161e-10\n",
      " 2.82608248e-10 2.46056678e-10 2.14143877e-10 1.86292916e-10\n",
      " 1.61997083e-10 1.40811529e-10 1.22345890e-10 1.06257770e-10\n",
      " 9.22469742e-11 8.00504286e-11 6.94376906e-11 6.02069904e-11\n",
      " 5.21817428e-11 4.52074710e-11 3.91490993e-11 3.38885679e-11\n",
      " 2.93227357e-11 2.53615344e-11 2.19263462e-11 1.89485790e-11\n",
      " 1.63684133e-11 1.41337041e-11 1.21990159e-11 1.05247768e-11\n",
      " 9.07653698e-12 7.82431908e-12 6.74204881e-12 5.80705684e-12\n",
      " 4.99964280e-12 4.30269395e-12 3.70135183e-12 3.18272094e-12\n",
      " 2.73561437e-12 2.35033164e-12 2.01846487e-12 1.73272978e-12\n",
      " 1.48681828e-12 1.27527003e-12 1.09336060e-12 9.37004071e-13\n",
      " 8.02668293e-13 6.87301170e-13 5.88266569e-13 5.03288629e-13\n",
      " 4.30403390e-13 3.67916786e-13 3.14368203e-13 2.68498858e-13\n",
      " 2.29224385e-13 1.95611080e-13 1.66855322e-13 1.42265752e-13\n",
      " 1.21247853e-13 1.03290611e-13 8.79549809e-14 7.48639142e-14\n",
      " 6.36937505e-14 5.41667793e-14 4.60448226e-14 3.91236978e-14\n",
      " 3.32284430e-14 2.82092018e-14 2.39376782e-14 2.03040833e-14\n",
      " 1.72145076e-14 1.45886600e-14 1.23579239e-14 1.04636856e-14\n",
      " 8.85589901e-15 7.49185202e-15 6.33510850e-15 5.35460002e-15\n",
      " 4.52384709e-15 3.82029152e-15 3.22472448e-15 2.72079661e-15\n",
      " 2.29459867e-15 1.93430277e-15 1.62985549e-15 1.37271560e-15\n",
      " 1.15562988e-15 9.72441771e-16 8.17927929e-16 6.87658816e-16\n",
      " 5.77879798e-16 4.85409778e-16 4.07554835e-16 3.42034667e-16\n",
      " 2.86919983e-16 2.40579224e-16 2.01633264e-16 1.68916890e-16\n",
      " 1.41446082e-16 1.18390226e-16 9.90485239e-17 8.28299820e-17\n",
      " 6.92364368e-17 5.78481711e-17 4.83117261e-17 4.03295804e-17\n",
      " 3.36514146e-17 2.80667212e-17 2.33985552e-17 1.94982528e-17\n",
      " 1.62409693e-17 1.35219119e-17 1.12531599e-17 9.36098275e-18\n",
      " 7.78357856e-18 6.46916833e-18 5.37439060e-18 4.46294993e-18\n",
      " 3.70447953e-18 3.07358460e-18 2.54903812e-18 2.11310502e-18\n",
      " 1.75097457e-18 1.45028387e-18 1.20071805e-18 9.93674923e-19\n",
      " 8.21983912e-19 6.79670518e-19 5.61759081e-19 4.64107679e-19\n",
      " 3.83269986e-19 3.16379754e-19 2.61054251e-19 2.15313589e-19\n",
      " 1.77513354e-19 1.46288376e-19 1.20505815e-19 9.92260402e-20\n",
      " 8.16700223e-20 6.71921694e-20 5.52577046e-20 4.54238367e-20\n",
      " 3.73240959e-20 3.06553068e-20 2.51667604e-20 2.06512173e-20\n",
      " 1.69374365e-20 1.38839721e-20 1.13740261e-20 9.31040269e-21]\n"
     ]
    }
   ],
   "source": [
    "Na_array = [0.01,0.1,1,10,100]\n",
    "\n",
    "new_eigenvalue0, new_eigenfunction0 = GP(E_array_serious,r,N,h,0)\n",
    "phi_new, energy, count = GP_recursion(1,0.1,N,r,h,new_eigenfunction0)\n",
    "print(phi_new)"
   ]
  },
  {
   "cell_type": "code",
   "execution_count": 346,
   "metadata": {},
   "outputs": [
    {
     "data": {
      "text/plain": [
       "[<matplotlib.lines.Line2D at 0x7ff6cbd7e710>]"
      ]
     },
     "execution_count": 346,
     "metadata": {},
     "output_type": "execute_result"
    },
    {
     "data": {
      "image/png": "[encoded data removed]",
      "text/plain": [
       "<Figure size 640x480 with 1 Axes>"
      ]
     },
     "metadata": {},
     "output_type": "display_data"
    }
   ],
   "source": [
    "delta_energy_array = [np.abs(energy[i] - energy[i-1]) for i in range(1, len(energy))]\n",
    "\n",
    "plt.plot(delta_energy_array[::])"
   ]
  }
 ],
 "metadata": {
  "kernelspec": {
   "display_name": "Python 3",
   "language": "python",
   "name": "python3"
  },
  "language_info": {
   "codemirror_mode": {
    "name": "ipython",
    "version": 3
   },
   "file_extension": ".py",
   "mimetype": "text/x-python",
   "name": "python",
   "nbconvert_exporter": "python",
   "pygments_lexer": "ipython3",
   "version": "3.7.1"
  }
 },
 "nbformat": 4,
 "nbformat_minor": 5
}
