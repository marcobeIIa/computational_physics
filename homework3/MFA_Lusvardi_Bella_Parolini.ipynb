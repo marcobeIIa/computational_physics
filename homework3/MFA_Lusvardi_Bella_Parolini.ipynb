{
 "cells": [
  {
   "cell_type": "code",
   "execution_count": 32,
   "id": "b8d34ed5",
   "metadata": {},
   "outputs": [],
   "source": [
    "import numpy as np\n",
    "import matplotlib.pyplot as plt\n",
    "import math\n",
    "from scipy.integrate import simpson"
   ]
  },
  {
   "cell_type": "markdown",
   "id": "7e72a2fb",
   "metadata": {},
   "source": [
    "## MEAN FIELD METHOD"
   ]
  },
  {
   "cell_type": "markdown",
   "id": "a81bee24",
   "metadata": {},
   "source": [
    "In this relation we want to compute some ground state properties of a system of N particles described by the generic Hamiltonian:\n",
    "$$\n",
    "\\hat{H} = \\sum_{i=1}^{N} \\left( \\frac{-\\hbar^2}{2m} \\nabla^2_i + V_{\\text{ext}}(\\mathbf{r}_i) \\right) + \\frac{1}{2} \\sum_{i\\neq j} v(\\mathbf{r}_i, \\mathbf{r}_j)\n",
    "$$\n",
    "where $\\vec{r}_1 ... \\vec{r}_N$ are the coordinates of our N particles, $V_{ext}=\\frac{1}{2}m\\omega^2r^2$ is an harmonic external field and $v$ is the interaction potential which we suppose being\n",
    "$$\n",
    "v\\left( \\mathbf{r}, \\mathbf{r'} \\right) = 4\\pi \\frac{\\hbar^2}{m} a  \\delta(\\mathbf{r} - \\mathbf{r'})\n",
    "$$\n",
    "In the mean field approximation we assume that the wave function can be written as a product of single particle functions:\n",
    "$$\n",
    "\\Psi(\\mathbf{r}_1 \\dots \\mathbf{r}_N) = \\hat{P}_{s,a} \\phi_1(\\mathbf{r}_1) \\phi_2(\\mathbf{r}_2) \\dots \\phi_N(\\mathbf{r}_N)   \\quad\\quad\\quad  \\phi(\\mathbf{r})=\\frac{\\phi(r)}{r}\\frac{1}{\\sqrt{4 \\pi}}\n",
    "$$\n",
    "and since we want to model a boson system the permutation operator has the form\n",
    "$$\n",
    "\\hat{P}_s = \\frac{1}{\\sqrt{N!}} \\sum_{\\hat{P}} \\hat{P}\n",
    "$$\n",
    "To minimize the expectation value we use the variational method which, with the assumption of single particle wave function normalize to 1, leads to the Gross-Pitaevskij equation (GP):\n",
    "$$\n",
    "-\\dfrac{1}{2}\\dfrac{d^2}{dr^2}\\phi(r)+\\dfrac{1}{2}r^2\\phi(r)-\\dfrac{1}{2}\\dfrac{\\ell(\\ell+1)}{r^2}\\phi(r)+Na\\left(\\dfrac{\\phi(r)}{r}\\right)^2\\phi(r)=\\mu\\phi(r)\n",
    "$$\n",
    "where energies are expressed in units of $\\hbar\\omega$ and lengths are expressed in units of the harmonic oscillator length $a_{ho}=\\sqrt{\\frac{\\hbar}{m\\omega}}$. $\\phi(r)$ is the radial solution of the signle particle wave function.\n",
    "Since we are interested in the energy of the ground state we assume the particles in the s-wave state only (l=0) so that we have to solve\n",
    "$$\n",
    "-\\dfrac{1}{2}\\dfrac{d^2}{dr^2}\\phi(r)+\\dfrac{1}{2}r^2\\phi(r)+Na\\left(\\dfrac{\\phi(r)}{r}\\right)^2\\phi(r)=\\mu\\phi(r)\n",
    "$$\n",
    "By defyning $k^2=2\\mu-r^2-2Na\\left(\\dfrac{\\phi(r)}{r}\\right)^2$ we can recast the last equation as\n",
    "$$\n",
    "\\dfrac{d^2}{dr^2}\\phi(r)+k^2 \\phi(r)=0\n",
    "$$\n",
    "which can be solved using Numerov algorithm."
   ]
  },
  {
   "cell_type": "markdown",
   "id": "f45734b2",
   "metadata": {},
   "source": [
    "# Numerov algorithm and matching"
   ]
  },
  {
   "cell_type": "code",
   "execution_count": 33,
   "id": "07e652ce",
   "metadata": {},
   "outputs": [],
   "source": [
    "# Numerov algorithm\n",
    "def numerov(psi_p, psi_c, i, k, h):\n",
    "    '''Input: previous wavefunction value psi_p, current wavefunction value psi_c, index, K array, step size h'''\n",
    "    psi_next = (-psi_p*(1+h**2/12*k[i-1])+2*psi_c*(1-(5*h**2)/12*k[i]))/((1+h**2/12*k[i+1]))\n",
    "    return psi_next\n"
   ]
  },
  {
   "cell_type": "code",
   "execution_count": 34,
   "id": "d03a28d9",
   "metadata": {},
   "outputs": [],
   "source": [
    "#wavwfunction normalization\n",
    "def normalization(psi, h):\n",
    "    '''Input: wavefunction psi, step size h''' \n",
    "    psi_squared_integrated = np.sum(np.abs(psi)**2) * h # integrate |psi|^2 over the range\n",
    "    normalization_constant = 1/np.sqrt(psi_squared_integrated) # normalization factor\n",
    "    return np.array(psi)*normalization_constant # normalized wavefunction"
   ]
  },
  {
   "cell_type": "markdown",
   "id": "a7f13f32",
   "metadata": {},
   "source": [
    "For computational stability we decide to implement Numerov's algorithm only for $R(r)^{n\\ell}$ (in the previous paragraph $\\phi(r)$), the radial part of the wavefunction \n",
    "$$\n",
    "\\psi(r, \\theta, \\phi) = \\frac{R(r)^{n\\ell}}{r} Y_{\\ell m}(\\theta,\\phi)\n",
    "$$\n",
    "When the total wavefunction is required we will simpli divide by $r$"
   ]
  },
  {
   "cell_type": "code",
   "execution_count": 35,
   "id": "28fde0ff",
   "metadata": {},
   "outputs": [],
   "source": [
    "# Finding the solution forward\n",
    "def forward_solution(r,E,N,v,h):\n",
    "  '''Input: r array, energy E, number of points N, potential v array, step size h'''\n",
    "  #energy E is a scalar\n",
    "  phi=[]\n",
    "  phi.append(0)\n",
    "  phi.append(h)\n",
    "\n",
    "  K=[]\n",
    "  for j in range(N):\n",
    "    K.append(2*E-r[j]**2-v[j])\n",
    "\n",
    "  for i in range(1,N-1,1):\n",
    "    phi.append(numerov(phi[i-1],phi[i],i,K,h))\n",
    "\n",
    "  return phi\n",
    "\n",
    "#Findind the solution backward\n",
    "def backward_solution(r,E,N,v,h):\n",
    "  '''Input: r array, energy E, number of points N, potential v array, step size h'''\n",
    "  #energy E is a scalar\n",
    "  \n",
    "  #To find the solution backward, we need to reverse the order of the r and psi arrays to use the Numerov algorithm\n",
    "  r = r[::-1]\n",
    "  phi_=[]\n",
    "\n",
    "  phi=[] #initializing the tail\n",
    "  phi.append(math.exp(-0.5*(r[0])**2))\n",
    "  phi.append(math.exp(-0.5*(r[1])**2))\n",
    "\n",
    "  K=[]\n",
    "  for j in range(N):\n",
    "    K.append(2*E-r[j]**2-v[j])\n",
    "\n",
    "  for i in range(1,N-1,1):\n",
    "    phi.append(numerov(phi[i-1],phi[i],i,K,h))\n",
    "\n",
    "  phi_.append(phi[::-1])\n",
    "  return phi_"
   ]
  },
  {
   "cell_type": "code",
   "execution_count": 36,
   "id": "ea68c732",
   "metadata": {},
   "outputs": [],
   "source": [
    "# Testing the Numerov algorithm\n",
    "N = 5000\n",
    "L = 5\n",
    "h = L/N\n",
    "\n",
    "E = 1.5 # forward_solution and backward_solution read energy as a scalar\n",
    "Na = 0\n",
    "\n",
    "r = np.linspace(0.0001, L, N) # r values from 0 to L with N points\n",
    "\n",
    "v = []\n",
    "psi = np.zeros(N) # initialize the wavefunction array\n",
    "for j in range(N):\n",
    "    v.append(2*Na*(psi[j]**2/r[j]**2))"
   ]
  },
  {
   "cell_type": "code",
   "execution_count": 37,
   "id": "e13e94e0",
   "metadata": {},
   "outputs": [
    {
     "data": {
      "text/plain": [
       "<matplotlib.legend.Legend at 0x15e79ebcf50>"
      ]
     },
     "execution_count": 37,
     "metadata": {},
     "output_type": "execute_result"
    },
    {
     "data": {
      "image/png": "[encoded data removed]",
      "text/plain": [
       "<Figure size 640x480 with 1 Axes>"
      ]
     },
     "metadata": {},
     "output_type": "display_data"
    }
   ],
   "source": [
    "plt.plot(r,normalization(forward_solution(r,E,N,v,h),h),label='Numerov forward solution')\n",
    "plt.plot(r,normalization(backward_solution(r,E,N,v,h)[0],h),label='Numerov backward solution')\n",
    "plt.legend()"
   ]
  },
  {
   "cell_type": "markdown",
   "id": "8566c0f6",
   "metadata": {},
   "source": [
    "We do see how the how the solution obtained with the forward procedure diverges, a matching is required.\n",
    "We choose the classical inversion point for an harmonic potential which is the coordinate that satisfy $V(r)=E$. It can be proven that we are in a zone where the solution is smooth with no nodes."
   ]
  },
  {
   "cell_type": "code",
   "execution_count": 38,
   "id": "b4795b0c",
   "metadata": {},
   "outputs": [],
   "source": [
    "def index_inversion_point(r,r_inversion):\n",
    "    '''Input: r array, inversion point r_inversion'''\n",
    "    difference = np.abs(r - r_inversion)\n",
    "    index = np.argmin(difference)\n",
    "    return index\n",
    "    \n",
    "def log_der(left_psi,right_psi,index):\n",
    "    '''Input: left wavefunction, right wavefunction, index of the inversion point'''\n",
    "    left_der = np.gradient(left_psi,h)[index]\n",
    "    right_der = np.gradient(right_psi,h)[index]\n",
    "    value = left_der / left_psi[index] - right_der / right_psi[index]\n",
    "    return value    "
   ]
  },
  {
   "cell_type": "code",
   "execution_count": 39,
   "id": "2e947dd6",
   "metadata": {},
   "outputs": [],
   "source": [
    "def matching(E, r, N, v, h):  \n",
    "    '''Input: energy E, r array, initial wavefunction phi_guess, number of points N, Na, step size h'''\n",
    "    #here the energy has to be an array!\n",
    "    \n",
    "    xi = [] #here we save the mismatch values\n",
    "    phi_normalized = [] #here we save the normalized wavefunctions\n",
    "\n",
    "    for x in range(len(E)): #for each energy we calculate the matching\n",
    "\n",
    "        energy = E[x] #savign the value of the energy\n",
    "        r_k = np.sqrt(2*energy) #ideal inversion point\n",
    "\n",
    "        left_phi = forward_solution(r,energy,N,v,h)\n",
    "        right_phi = backward_solution(r,energy,N,v,h)[0]\n",
    "        index = index_inversion_point(r,r_k)\n",
    "        value = log_der(left_phi,right_phi,index)\n",
    "        xi.append(value)\n",
    "\n",
    "        #ratio of the wavefunctions at the inversion point to match amplitudes\n",
    "        ratio = left_phi[index] / right_phi[index] \n",
    "        \n",
    "        #wavefunction might have different signs \n",
    "        if left_phi[index] / right_phi[index] < 0: \n",
    "            ratio = -ratio\n",
    "            right_phi = ratio * np.array(right_phi)\n",
    "        else:\n",
    "            right_phi = ratio * np.array(right_phi)\n",
    "\n",
    "        #matching the wavefunctions\n",
    "        phi= []\n",
    "        phi.append(left_phi[:index])\n",
    "        phi.append(right_phi[index:])\n",
    "        phi = np.concatenate(phi)\n",
    "\n",
    "        phi_normalized = normalization(phi, h)\n",
    "\n",
    "\n",
    "    return phi_normalized , xi"
   ]
  },
  {
   "cell_type": "code",
   "execution_count": 40,
   "id": "21ab84cb",
   "metadata": {},
   "outputs": [],
   "source": [
    "# Testing the Numerov algorithm with longer radius\n",
    "N = 10000\n",
    "L = 10\n",
    "h = L/N\n",
    "\n",
    "E = [1.5]\n",
    "Na = 0\n",
    "\n",
    "r = np.linspace(0.0000001, L, N) # r values from 0 to L with N points\n",
    "\n",
    "v = []\n",
    "phi = np.zeros(N) # initialize the wavefunction array\n",
    "for j in range(N):\n",
    "    v.append(2*Na*(phi[j]**2/r[j]**2))"
   ]
  },
  {
   "cell_type": "code",
   "execution_count": 41,
   "id": "d269d69d",
   "metadata": {},
   "outputs": [
    {
     "name": "stdout",
     "output_type": "stream",
     "text": [
      "Normalization of the wavefunction:  0.9999999999999976\n"
     ]
    },
    {
     "data": {
      "image/png": "[encoded data removed]",
      "text/plain": [
       "<Figure size 640x480 with 1 Axes>"
      ]
     },
     "metadata": {},
     "output_type": "display_data"
    }
   ],
   "source": [
    "plt.plot(r,matching(E, r, N,  v, h)[0],label='Combined solution')\n",
    "plt.plot(r,np.pi**(-0.25)*np.exp(-0.5*np.array(r)**2)*2*np.array(r),label='Analytic result')\n",
    "plt.legend()\n",
    "print(\"Normalization of the wavefunction: \", sum(np.abs(matching(E, r, N, v, h)[0])**2 * h))"
   ]
  },
  {
   "cell_type": "markdown",
   "id": "d38540b3",
   "metadata": {},
   "source": [
    "# Solving GP \n",
    "We can now proceed to find the ground state of a gas of cold atoms (ℓ=0) "
   ]
  },
  {
   "cell_type": "code",
   "execution_count": 42,
   "id": "f15eff1f",
   "metadata": {},
   "outputs": [],
   "source": [
    "def GP(E,r,N,v,h):\n",
    "    '''Input: E = array of trial energies'''\n",
    "    eigenvalue = []\n",
    "    eigenfunction = []\n",
    "\n",
    "    xi= matching(E, r, N,  v, h)[1]\n",
    "\n",
    "    eigenvalue = []\n",
    "    eigenfunction = []\n",
    "\n",
    "    count = 0\n",
    "    for i in range(len(E) - 1):\n",
    "        if count > 0:\n",
    "            break\n",
    "        if xi[i] * xi[i+1] < 0:\n",
    "            # Zone where the sign changes, we restrict the interval\n",
    "            energies = np.linspace(E[i],E[i+1],100)\n",
    "            # New finer matching in the restricted interval\n",
    "            finer_xi = matching(E, r, N, v, h)[1]\n",
    "\n",
    "            for j in range(1,len(energies)):\n",
    "                if finer_xi[j-1] * finer_xi[j] < 0:\n",
    "                    eigenvalue.append(energies[j])\n",
    "                    eigenfunction.append(matching([energies[j-1]], r, N,  v, h)[0])\n",
    "                    #energies[j] is in square bracketrs beacuse matching function needs array\n",
    "                    count += 1\n",
    "                    break  \n",
    "\n",
    "    return eigenvalue, eigenfunction"
   ]
  },
  {
   "cell_type": "code",
   "execution_count": 43,
   "id": "c1fe15c7",
   "metadata": {},
   "outputs": [],
   "source": [
    "E = np.linspace(0.1, 5, 100)\n",
    "\n",
    "eigenvalue, eigenfunction = GP(E,r,N,v,h)"
   ]
  },
  {
   "cell_type": "code",
   "execution_count": 44,
   "id": "5aeb9fe6",
   "metadata": {},
   "outputs": [
    {
     "name": "stdout",
     "output_type": "stream",
     "text": [
      "Eigenvalue: 1.5003571064\n",
      "Normalization of the wavefunction:  0.9999999999999962\n",
      "Normalization of the wavefunction:  0.9999999999999988\n"
     ]
    }
   ],
   "source": [
    "print(f\"Eigenvalue: {float(eigenvalues[0]):.10f}\")\n",
    "print(\"Normalization of the wavefunction: \", sum(np.abs(eigenfunction[0])**2 * h))\n",
    "print(\"Normalization of the wavefunction: \", sum(np.abs(normalization(eigenfunction[0]/(r),h)**2 * h)))"
   ]
  },
  {
   "cell_type": "code",
   "execution_count": 45,
   "id": "944c26a7",
   "metadata": {},
   "outputs": [
    {
     "data": {
      "text/plain": [
       "Text(0.5, 1.0, 'Harmonic Oscillator ground state wavefunction')"
      ]
     },
     "execution_count": 45,
     "metadata": {},
     "output_type": "execute_result"
    },
    {
     "data": {
      "image/png": "[encoded data removed]",
      "text/plain": [
       "<Figure size 640x480 with 1 Axes>"
      ]
     },
     "metadata": {},
     "output_type": "display_data"
    }
   ],
   "source": [
    "plt.plot(r,np.pi**(-0.25)*normalization(eigenfunction[0]/r,h),label=f\"E={float(eigenvalues[0]):.4f}, Numerov\") #still normalized??\n",
    "plt.plot(r,np.pi**(-0.25)*np.exp(-0.5*np.array(r)**2),label='Analytic result for the ground state')\n",
    "plt.xlim(0.05,5)\n",
    "plt.legend()\n",
    "plt.title('Harmonic Oscillator ground state wavefunction')"
   ]
  },
  {
   "cell_type": "markdown",
   "id": "d21d3710",
   "metadata": {},
   "source": [
    "We plot now the density of the system for $N_A$ particles"
   ]
  },
  {
   "cell_type": "code",
   "execution_count": 46,
   "id": "71250fba",
   "metadata": {},
   "outputs": [],
   "source": [
    "N_A = 6.02214076e23\n",
    "\n",
    "rho = N_A * eigenfunction[0]**2 / np.array(r)**2"
   ]
  },
  {
   "cell_type": "code",
   "execution_count": 47,
   "id": "74c0fdfd",
   "metadata": {},
   "outputs": [
    {
     "data": {
      "text/plain": [
       "<matplotlib.legend.Legend at 0x15e7a131950>"
      ]
     },
     "execution_count": 47,
     "metadata": {},
     "output_type": "execute_result"
    },
    {
     "data": {
      "image/png": "[encoded data removed]",
      "text/plain": [
       "<Figure size 640x480 with 1 Axes>"
      ]
     },
     "metadata": {},
     "output_type": "display_data"
    }
   ],
   "source": [
    "plt.plot(r,rho,label='Density')\n",
    "plt.xlim(0.01,3)\n",
    "plt.legend()"
   ]
  },
  {
   "cell_type": "markdown",
   "id": "d15c8ffe",
   "metadata": {},
   "source": [
    "## Flowchart for the self-consistent solution of the mean field equations (both GP and HF)\n",
    "\n",
    "1) Guess initial reasonable function $\\phi$\n",
    "2) Evaluate the effective potential $v$ ,which contains both the terms $V_{ext}(\\vec{r})$ and $v(\\vec{r},\\vec{r}')$, and if this is not the first step combine it with the one of th eprevious iteration as $v_{new}=\\alpha v_{new}+(1-\\alpha)v_{old}$\n",
    "3) Solve HF-GP and get a $\\phi_{new}$ to calculate the energy\n",
    "4) If the energy satisfy convergence criteria stop, otherwise go back to 2. and solve the potential with $\\phi_{new}$ to get a new effective potential $v_{new}$"
   ]
  },
  {
   "cell_type": "markdown",
   "id": "8b8bfca2",
   "metadata": {},
   "source": [
    "Since now we are goign to set $Na\\neq 0$ another term will enter the potential and phi_guess starts to be fundamental.\n",
    "To test the convergence we choose a threshold $\\epsilon = 0.0001$, thus the self-consistent iteration will proceed until $\\Delta E < \\epsilon$.\n",
    "We need now to discuss how to evaluate the energy at each step. There are two possible ways.\n",
    "\n",
    "The first way to evaluating the energy is through the evaluation of the energy functional:\n",
    "$$ \\frac{E[\\phi]}{N}=-\\dfrac{1}{2}∫ ϕ(r)\\left(\\dfrac{d^2}{dr^2}\\phi(r)\\right)^2 dr + \\dfrac{1}{2}∫|ϕ(r)|^2 r^2 dr+ \\dfrac{1}{2}Na\\int|\\phi(r)|^2\\left(\\dfrac{\\phi(r)}{r}\\right)^2 dr\n",
    "$$\n",
    "\n",
    "The second one comes from the meaning of the eigenvalue $\\mu$, thus:\n",
    "$$\\frac{E_{\\mu}}{N}=\\mu-E_{int}=\\mu-\\dfrac{1}{2}Na\\int_0^{\\infty}|\\phi(r)|^2\\left(\\dfrac{\\phi(r)}{r}\\right)^2\\,dr\\,.$$\n",
    "where $\\phi$ is the radial part of the wavefunction, obtained in the solution of the GP equation."
   ]
  },
  {
   "cell_type": "code",
   "execution_count": 51,
   "id": "ced4368b",
   "metadata": {},
   "outputs": [
    {
     "name": "stdout",
     "output_type": "stream",
     "text": [
      "Functional Energy: 1.5011305173149248\n"
     ]
    }
   ],
   "source": [
    "#first way to evaluate the energy\n",
    "A = np.array(eigenfunction[0])  \n",
    "r = np.array(r) \n",
    "\n",
    "#first and second derivatives\n",
    "A_prime = np.gradient(A, h)\n",
    "A_second = np.gradient(A_prime, h)\n",
    "\n",
    "#calculating the functionqal energy\n",
    "functional_energy = -0.5*simpson(A*A_second,r,dx=h) + 0.5*simpson(A**2*r**2,r,dx=h) + 0.5*Na*simpson(A**4/r**2,r,dx=h)\n",
    "\n",
    "print(f\"Functional Energy: {functional_energy}\")"
   ]
  },
  {
   "cell_type": "code",
   "execution_count": 49,
   "id": "c9ef69d8",
   "metadata": {},
   "outputs": [],
   "source": [
    "# Evaluation of the energy through the eigenvalue mu\n",
    "eigenvalue_energy = eigenvalue[0] -  0.5*Na*simpson(A**4/r**2,r,dx=h)\n",
    "\n",
    "print(f\"Energy through the eigenvalue mu: {eigenvalue_energy}\")"
   ]
  },
  {
   "cell_type": "code",
   "execution_count": 128,
   "id": "9d11b68f",
   "metadata": {},
   "outputs": [],
   "source": [
    "Na = 1\n",
    "alpha = 0.1"
   ]
  },
  {
   "cell_type": "code",
   "execution_count": 129,
   "id": "7acd6dec",
   "metadata": {},
   "outputs": [],
   "source": [
    "N = 10000\n",
    "L = 10\n",
    "h = L/N\n",
    "\n",
    "r = np.linspace(0.0000001, L, N) # r values from 0 to L with N points"
   ]
  },
  {
   "cell_type": "code",
   "execution_count": 130,
   "id": "bafa636f",
   "metadata": {},
   "outputs": [],
   "source": [
    "def interaction(r,phi,Na):\n",
    "    return (2*Na*(np.array(phi)**2/np.array(r)**2))\n",
    "\n",
    "def mixing(v_old,v_new,alpha):\n",
    "    v_old = np.array(v_old)\n",
    "    v_new = np.array(v_new)\n",
    "    return alpha*v_new + (1-alpha)*v_old"
   ]
  },
  {
   "cell_type": "code",
   "execution_count": null,
   "id": "d925ac9b",
   "metadata": {},
   "outputs": [
    {
     "name": "stdout",
     "output_type": "stream",
     "text": [
      "2.150086725844302 0.6497296194265891\n",
      "2.150086725844302 0.0\n",
      "1.9939802061014182 0.1561065197428837\n",
      "2.011325374961739 0.01734516886032056\n",
      "2.0980512192633407 0.0867258443016019\n",
      "2.08070605040302 0.01734516886032056\n",
      "2.0460157126823795 0.034690337720640674\n",
      "2.0633608815426996 0.017345168860320115\n",
      "2.0633608815426996 0.0\n",
      "2.0633608815426996 0.0\n"
     ]
    }
   ],
   "source": [
    "DeltaEnergy = 10\n",
    "DeltaEnergyPrevious = 10\n",
    "threshold = 0.00001\n",
    "\n",
    "E = np.linspace(1,3,100)\n",
    "eigenvalues = []\n",
    "eigenfunctions =[]\n",
    "\n",
    "phi_old = eigenfunction[0]\n",
    "phi_new = []\n",
    "\n",
    "\n",
    "v = interaction(r,phi_old,Na) #potential for the first iteration  \n",
    "\n",
    "eigenvalues.append(eigenvalue[0]) #defining the first energy of the system\n",
    "\n",
    "count = 1 #keep track of the eigenvalues to determine DeltaEnergy\n",
    "\n",
    "while DeltaEnergy > threshold or np.abs(DeltaEnergy-DeltaEnergyPrevious) > threshold:\n",
    "\n",
    "    eigenvalues.append(GP(E,r,N,v,h)[0][0])\n",
    "    phi_new = (GP(E,r,N,v,h))[1]\n",
    "    phi_new = phi_new[0]\n",
    "    v_old = interaction(r,phi_old,Na)\n",
    "    v_new = interaction(r,phi_new,Na)\n",
    "\n",
    "    v = mixing(v_old,v_new,alpha)\n",
    "\n",
    "    phi_old = np.array(phi_new)\n",
    "\n",
    "    DeltaEnergy = np.abs(eigenvalues[count] - eigenvalues[count-1])\n",
    "\n",
    "    DeltaEnergyPrevious = np.abs(eigenvalues[count-1] - eigenvalues[count-2])\n",
    "\n",
    "    print(eigenvalues[count],DeltaEnergy)\n",
    "\n",
    "    count += 1\n",
    "\n"
   ]
  },
  {
   "cell_type": "code",
   "execution_count": null,
   "id": "dc2b8111",
   "metadata": {},
   "outputs": [],
   "source": [
    "DeltaEnergy = 10\n",
    "DeltaEnergyPrevious = 10\n",
    "threshold = 0.00001\n",
    "\n",
    "E = np.linspace(1,3,100)\n",
    "eigenvalues = []\n",
    "eigenfunctions =[]\n",
    "\n",
    "phi_old = eigenfunction[0]\n",
    "phi_new = []\n",
    "\n",
    "\n",
    "v = interaction(r,phi_old,Na) #potential for the first iteration  \n",
    "\n",
    "eigenvalues.append(eigenvalue[0]) #defining the first energy of the system\n",
    "\n",
    "count = 1 #keep track of the eigenvalues to determine DeltaEnergy\n",
    "\n",
    "while DeltaEnergy > threshold or np.abs(DeltaEnergy-DeltaEnergyPrevious) > threshold:\n",
    "\n",
    "    eigenvalues.append(GP(E,r,N,v,h)[0][0])\n",
    "    phi_new = (GP(E,r,N,v,h))[1]\n",
    "    phi_new = phi_new[0]\n",
    "    v_old = interaction(r,phi_old,Na)\n",
    "    v_new = interaction(r,phi_new,Na)\n",
    "\n",
    "    v = mixing(v_old,v_new,alpha)\n",
    "\n",
    "    phi_old = np.array(phi_new)\n",
    "\n",
    "    #first way to evaluate the energy\n",
    "    A = np.array(eigenfunction[0])  \n",
    "    r = np.array(r) \n",
    "\n",
    "    #first and second derivatives\n",
    "    A_prime = np.gradient(A, h)\n",
    "    A_second = np.gradient(A_prime, h)\n",
    "\n",
    "    #calculating the functionqal energy\n",
    "    functional_energy = -0.5*simpson(A*A_second,r,dx=h) + 0.5*simpson(A**2*r**2,r,dx=h) + 0.5*Na*simpson(A**4/r**2,r,dx=h)\n",
    "\n",
    "    print(f\"Functional Energy: {functional_energy}\")\n",
    "\n",
    "    DeltaEnergy = np.abs(eigenvalues[count] - eigenvalues[count-1])\n",
    "\n",
    "    DeltaEnergyPrevious = np.abs(eigenvalues[count-1] - eigenvalues[count-2])\n",
    "\n",
    "    print(eigenvalues[count],DeltaEnergy)\n",
    "\n",
    "    count += 1"
   ]
  }
 ],
 "metadata": {
  "kernelspec": {
   "display_name": "Python 3",
   "language": "python",
   "name": "python3"
  },
  "language_info": {
   "codemirror_mode": {
    "name": "ipython",
    "version": 3
   },
   "file_extension": ".py",
   "mimetype": "text/x-python",
   "name": "python",
   "nbconvert_exporter": "python",
   "pygments_lexer": "ipython3",
   "version": "3.13.2"
  }
 },
 "nbformat": 4,
 "nbformat_minor": 5
}
